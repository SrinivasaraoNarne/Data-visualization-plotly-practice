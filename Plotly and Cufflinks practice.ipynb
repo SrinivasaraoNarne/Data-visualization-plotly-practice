{
 "cells": [
  {
   "cell_type": "code",
   "execution_count": 1,
   "metadata": {},
   "outputs": [],
   "source": [
    "import pandas as pd\n",
    "import numpy as np\n",
    "%matplotlib inline"
   ]
  },
  {
   "cell_type": "code",
   "execution_count": 2,
   "metadata": {},
   "outputs": [
    {
     "name": "stdout",
     "output_type": "stream",
     "text": [
      "5.9.0\n"
     ]
    }
   ],
   "source": [
    "from plotly import __version__\n",
    "from plotly.offline import download_plotlyjs, init_notebook_mode, plot, iplot\n",
    "\n",
    "print(__version__)"
   ]
  },
  {
   "cell_type": "code",
   "execution_count": 3,
   "metadata": {},
   "outputs": [],
   "source": [
    "import cufflinks as cf"
   ]
  },
  {
   "cell_type": "code",
   "execution_count": 4,
   "metadata": {},
   "outputs": [
    {
     "data": {
      "text/html": [
       "        <script type=\"text/javascript\">\n",
       "        window.PlotlyConfig = {MathJaxConfig: 'local'};\n",
       "        if (window.MathJax && window.MathJax.Hub && window.MathJax.Hub.Config) {window.MathJax.Hub.Config({SVG: {font: \"STIX-Web\"}});}\n",
       "        if (typeof require !== 'undefined') {\n",
       "        require.undef(\"plotly\");\n",
       "        requirejs.config({\n",
       "            paths: {\n",
       "                'plotly': ['https://cdn.plot.ly/plotly-2.12.1.min']\n",
       "            }\n",
       "        });\n",
       "        require(['plotly'], function(Plotly) {\n",
       "            window._Plotly = Plotly;\n",
       "        });\n",
       "        }\n",
       "        </script>\n",
       "        "
      ]
     },
     "metadata": {},
     "output_type": "display_data"
    }
   ],
   "source": [
    "# For Notebooks\n",
    "init_notebook_mode(connected=True)"
   ]
  },
  {
   "cell_type": "code",
   "execution_count": 5,
   "metadata": {},
   "outputs": [
    {
     "data": {
      "text/html": [
       "        <script type=\"text/javascript\">\n",
       "        window.PlotlyConfig = {MathJaxConfig: 'local'};\n",
       "        if (window.MathJax && window.MathJax.Hub && window.MathJax.Hub.Config) {window.MathJax.Hub.Config({SVG: {font: \"STIX-Web\"}});}\n",
       "        if (typeof require !== 'undefined') {\n",
       "        require.undef(\"plotly\");\n",
       "        requirejs.config({\n",
       "            paths: {\n",
       "                'plotly': ['https://cdn.plot.ly/plotly-2.12.1.min']\n",
       "            }\n",
       "        });\n",
       "        require(['plotly'], function(Plotly) {\n",
       "            window._Plotly = Plotly;\n",
       "        });\n",
       "        }\n",
       "        </script>\n",
       "        "
      ]
     },
     "metadata": {},
     "output_type": "display_data"
    }
   ],
   "source": [
    "# For offline use\n",
    "cf.go_offline()"
   ]
  },
  {
   "cell_type": "code",
   "execution_count": 6,
   "metadata": {},
   "outputs": [],
   "source": [
    "df = pd.DataFrame(np.random.randn(100,4),columns='A B C D'.split())"
   ]
  },
  {
   "cell_type": "code",
   "execution_count": 7,
   "metadata": {},
   "outputs": [
    {
     "data": {
      "text/html": [
       "<div>\n",
       "<style scoped>\n",
       "    .dataframe tbody tr th:only-of-type {\n",
       "        vertical-align: middle;\n",
       "    }\n",
       "\n",
       "    .dataframe tbody tr th {\n",
       "        vertical-align: top;\n",
       "    }\n",
       "\n",
       "    .dataframe thead th {\n",
       "        text-align: right;\n",
       "    }\n",
       "</style>\n",
       "<table border=\"1\" class=\"dataframe\">\n",
       "  <thead>\n",
       "    <tr style=\"text-align: right;\">\n",
       "      <th></th>\n",
       "      <th>A</th>\n",
       "      <th>B</th>\n",
       "      <th>C</th>\n",
       "      <th>D</th>\n",
       "    </tr>\n",
       "  </thead>\n",
       "  <tbody>\n",
       "    <tr>\n",
       "      <th>0</th>\n",
       "      <td>-0.610735</td>\n",
       "      <td>-0.751585</td>\n",
       "      <td>1.510109</td>\n",
       "      <td>2.389889</td>\n",
       "    </tr>\n",
       "    <tr>\n",
       "      <th>1</th>\n",
       "      <td>0.420161</td>\n",
       "      <td>-1.350119</td>\n",
       "      <td>0.159306</td>\n",
       "      <td>-1.346186</td>\n",
       "    </tr>\n",
       "    <tr>\n",
       "      <th>2</th>\n",
       "      <td>-0.296052</td>\n",
       "      <td>0.160778</td>\n",
       "      <td>-0.629952</td>\n",
       "      <td>0.392700</td>\n",
       "    </tr>\n",
       "    <tr>\n",
       "      <th>3</th>\n",
       "      <td>-0.603857</td>\n",
       "      <td>1.097242</td>\n",
       "      <td>0.379581</td>\n",
       "      <td>-0.959979</td>\n",
       "    </tr>\n",
       "    <tr>\n",
       "      <th>4</th>\n",
       "      <td>-0.349926</td>\n",
       "      <td>-1.555162</td>\n",
       "      <td>-0.195495</td>\n",
       "      <td>2.145636</td>\n",
       "    </tr>\n",
       "  </tbody>\n",
       "</table>\n",
       "</div>"
      ],
      "text/plain": [
       "          A         B         C         D\n",
       "0 -0.610735 -0.751585  1.510109  2.389889\n",
       "1  0.420161 -1.350119  0.159306 -1.346186\n",
       "2 -0.296052  0.160778 -0.629952  0.392700\n",
       "3 -0.603857  1.097242  0.379581 -0.959979\n",
       "4 -0.349926 -1.555162 -0.195495  2.145636"
      ]
     },
     "execution_count": 7,
     "metadata": {},
     "output_type": "execute_result"
    }
   ],
   "source": [
    "df.head()"
   ]
  },
  {
   "cell_type": "code",
   "execution_count": 8,
   "metadata": {},
   "outputs": [],
   "source": [
    "df2 = pd.DataFrame({'Category':['A','B','C'],'Values':[32,43,50]})"
   ]
  },
  {
   "cell_type": "code",
   "execution_count": 9,
   "metadata": {},
   "outputs": [
    {
     "data": {
      "text/html": [
       "<div>\n",
       "<style scoped>\n",
       "    .dataframe tbody tr th:only-of-type {\n",
       "        vertical-align: middle;\n",
       "    }\n",
       "\n",
       "    .dataframe tbody tr th {\n",
       "        vertical-align: top;\n",
       "    }\n",
       "\n",
       "    .dataframe thead th {\n",
       "        text-align: right;\n",
       "    }\n",
       "</style>\n",
       "<table border=\"1\" class=\"dataframe\">\n",
       "  <thead>\n",
       "    <tr style=\"text-align: right;\">\n",
       "      <th></th>\n",
       "      <th>Category</th>\n",
       "      <th>Values</th>\n",
       "    </tr>\n",
       "  </thead>\n",
       "  <tbody>\n",
       "    <tr>\n",
       "      <th>0</th>\n",
       "      <td>A</td>\n",
       "      <td>32</td>\n",
       "    </tr>\n",
       "    <tr>\n",
       "      <th>1</th>\n",
       "      <td>B</td>\n",
       "      <td>43</td>\n",
       "    </tr>\n",
       "    <tr>\n",
       "      <th>2</th>\n",
       "      <td>C</td>\n",
       "      <td>50</td>\n",
       "    </tr>\n",
       "  </tbody>\n",
       "</table>\n",
       "</div>"
      ],
      "text/plain": [
       "  Category  Values\n",
       "0        A      32\n",
       "1        B      43\n",
       "2        C      50"
      ]
     },
     "execution_count": 9,
     "metadata": {},
     "output_type": "execute_result"
    }
   ],
   "source": [
    "df2.head()"
   ]
  },
  {
   "cell_type": "code",
   "execution_count": 10,
   "metadata": {},
   "outputs": [
    {
     "data": {
      "application/vnd.plotly.v1+json": {
       "config": {
        "linkText": "Export to plot.ly",
        "plotlyServerURL": "https://plot.ly",
        "showLink": true
       },
       "data": [
        {
         "line": {
          "color": "rgba(255, 153, 51, 1.0)",
          "dash": "solid",
          "shape": "linear",
          "width": 1.3
         },
         "marker": {
          "size": 10,
          "symbol": "circle"
         },
         "mode": "markers",
         "name": "B",
         "text": "",
         "type": "scatter",
         "x": [
          -0.6107347761616178,
          0.4201614153496461,
          -0.29605152886844865,
          -0.603856601378769,
          -0.34992557814699554,
          0.5068350913538099,
          1.4993263879906027,
          -2.334241991002616,
          -0.756289536182581,
          0.029039928572972565,
          -0.06418705977340332,
          0.9316899277347028,
          0.6315071913942684,
          -0.8448886098897598,
          0.17075138231478665,
          -0.46156067536114953,
          0.7665613566497056,
          -0.4836983678082965,
          0.16642518180746108,
          1.4564782581774924,
          0.9606524678241097,
          0.8542978329522262,
          -0.675314325805229,
          0.195511600271729,
          -1.7488760698587718,
          0.7124539851075085,
          2.0468217852064288,
          1.6248644217502146,
          -0.5286160896870696,
          -1.6561743116422956,
          1.0753782176872302,
          -0.4697669545323898,
          -0.009018585905509479,
          -0.541569847684211,
          1.6913214206556852,
          -1.788246523479366,
          0.522833167186685,
          -0.9934573505043022,
          1.6399751744524727,
          0.3374694500440057,
          -2.193678870035607,
          -1.017633199473239,
          0.3679345306105512,
          -1.3036150063236591,
          0.7462578429627574,
          -0.506156177257477,
          1.7176523623457138,
          1.7793863386202,
          0.07923784823916726,
          1.6723340011782664,
          0.026694156864108736,
          0.4857432640720413,
          -1.4103267776792288,
          -1.1830495094733648,
          -0.1792308752387724,
          -0.22071995812812675,
          -1.3270964256209172,
          -0.43120218142331274,
          -0.6256456712456581,
          -0.29497815162776525,
          1.467718648245481,
          -0.9304178622442733,
          -0.11510147301732727,
          -0.3767284928261818,
          0.478108904510788,
          3.7525358111818345,
          -0.03242175767615414,
          -0.3640156611750831,
          0.018466623262912058,
          -0.2434299789991597,
          -0.11500724514530727,
          -2.0214049601657518,
          0.690130295394509,
          0.2532383016783365,
          1.5331578664393732,
          -0.8853998372881371,
          -1.4352841075731064,
          0.2598125345509629,
          0.5956194819973099,
          0.22788031283148957,
          -0.13797830670137154,
          -1.4183777937548996,
          -0.07232292085057175,
          1.156608410254206,
          0.7622513100528217,
          -1.906380748783229,
          0.7045019662098876,
          3.1287391387449923,
          0.12687249379699703,
          0.10233161108321426,
          -0.793703598152564,
          0.5962107888831366,
          -0.5230777107716984,
          -1.4983543424046748,
          -1.474001813667417,
          1.1806612185186167,
          -0.9268646615012716,
          0.03494592384986443,
          0.936911761668089,
          -1.5336897066452815
         ],
         "y": [
          -0.7515845289098267,
          -1.3501185693636415,
          0.16077795108916015,
          1.0972421667024326,
          -1.5551617340524697,
          0.36473435593692705,
          -1.0305068105461639,
          -1.1324253826988833,
          -0.6873504943516671,
          0.1069282354870738,
          -1.695536516849996,
          0.2425816618019362,
          1.2687297380945173,
          0.020225855520632312,
          0.2892120761545208,
          0.1297778773904678,
          -0.7374435068199338,
          -1.4400098572821194,
          0.0032000310074377443,
          2.3156191209106116,
          -2.104552277645811,
          -0.22379452958198373,
          0.9883500188308598,
          1.3851046302259347,
          -1.0928793648108472,
          0.2912452071491476,
          -0.4106886803289102,
          -0.7209245389511091,
          -0.07317020772918818,
          0.2694790571470932,
          1.375091364288301,
          -0.23046375294234592,
          -0.05784828915091585,
          -0.4026832249574582,
          1.3880505778741024,
          1.0770560109162644,
          -1.6785547624603565,
          0.8704258254204967,
          1.2192626939395739,
          -0.11185202419003015,
          -0.763588692976187,
          1.490195261649367,
          2.1775088878872806,
          0.7277948316579071,
          -0.49372189274523937,
          -0.2338324822911922,
          -0.3379344582705307,
          0.4704751985297546,
          -0.7631725910562722,
          -1.305388313612196,
          0.19336190533982603,
          0.7328086527251998,
          0.7706362653881076,
          -1.2925763526257745,
          -0.8104937348956527,
          -0.5563194360896363,
          -1.972197874409348,
          -0.1932211683793346,
          0.24658648621738297,
          -0.27580446480575443,
          -0.04910140696994737,
          0.902700698539591,
          -0.06394334025850491,
          0.044784293824225885,
          0.6038793255782594,
          1.1287050189302426,
          -0.5778578018120689,
          -0.10347513287249659,
          1.5211159073742107,
          -0.9286680897045665,
          -0.24014144423313558,
          2.478875929720434,
          -1.7514335396591265,
          0.19996871943196137,
          0.6321232809455622,
          1.9589895318338868,
          -0.8238855966095642,
          0.12473054236890199,
          1.7645917749679907,
          -0.6231437672773471,
          -1.1610423310897395,
          -1.9156473976700872,
          -1.6126019221487324,
          1.7382721048015093,
          0.05761002640626352,
          3.1060553929808754,
          1.2978766991775879,
          2.379727283652175,
          -0.38706280385902053,
          -0.14276694931792414,
          0.9865472939839993,
          -0.658203460481953,
          -0.6939476238479197,
          0.4663609204522567,
          -0.9611668389082888,
          -0.3286381457693652,
          -0.47002996096212685,
          -0.09953330550484732,
          -0.5157759703517617,
          0.17564907964270188
         ]
        }
       ],
       "layout": {
        "legend": {
         "bgcolor": "#F5F6F9",
         "font": {
          "color": "#4D5663"
         }
        },
        "paper_bgcolor": "#F5F6F9",
        "plot_bgcolor": "#F5F6F9",
        "template": {
         "data": {
          "bar": [
           {
            "error_x": {
             "color": "#2a3f5f"
            },
            "error_y": {
             "color": "#2a3f5f"
            },
            "marker": {
             "line": {
              "color": "#E5ECF6",
              "width": 0.5
             },
             "pattern": {
              "fillmode": "overlay",
              "size": 10,
              "solidity": 0.2
             }
            },
            "type": "bar"
           }
          ],
          "barpolar": [
           {
            "marker": {
             "line": {
              "color": "#E5ECF6",
              "width": 0.5
             },
             "pattern": {
              "fillmode": "overlay",
              "size": 10,
              "solidity": 0.2
             }
            },
            "type": "barpolar"
           }
          ],
          "carpet": [
           {
            "aaxis": {
             "endlinecolor": "#2a3f5f",
             "gridcolor": "white",
             "linecolor": "white",
             "minorgridcolor": "white",
             "startlinecolor": "#2a3f5f"
            },
            "baxis": {
             "endlinecolor": "#2a3f5f",
             "gridcolor": "white",
             "linecolor": "white",
             "minorgridcolor": "white",
             "startlinecolor": "#2a3f5f"
            },
            "type": "carpet"
           }
          ],
          "choropleth": [
           {
            "colorbar": {
             "outlinewidth": 0,
             "ticks": ""
            },
            "type": "choropleth"
           }
          ],
          "contour": [
           {
            "colorbar": {
             "outlinewidth": 0,
             "ticks": ""
            },
            "colorscale": [
             [
              0,
              "#0d0887"
             ],
             [
              0.1111111111111111,
              "#46039f"
             ],
             [
              0.2222222222222222,
              "#7201a8"
             ],
             [
              0.3333333333333333,
              "#9c179e"
             ],
             [
              0.4444444444444444,
              "#bd3786"
             ],
             [
              0.5555555555555556,
              "#d8576b"
             ],
             [
              0.6666666666666666,
              "#ed7953"
             ],
             [
              0.7777777777777778,
              "#fb9f3a"
             ],
             [
              0.8888888888888888,
              "#fdca26"
             ],
             [
              1,
              "#f0f921"
             ]
            ],
            "type": "contour"
           }
          ],
          "contourcarpet": [
           {
            "colorbar": {
             "outlinewidth": 0,
             "ticks": ""
            },
            "type": "contourcarpet"
           }
          ],
          "heatmap": [
           {
            "colorbar": {
             "outlinewidth": 0,
             "ticks": ""
            },
            "colorscale": [
             [
              0,
              "#0d0887"
             ],
             [
              0.1111111111111111,
              "#46039f"
             ],
             [
              0.2222222222222222,
              "#7201a8"
             ],
             [
              0.3333333333333333,
              "#9c179e"
             ],
             [
              0.4444444444444444,
              "#bd3786"
             ],
             [
              0.5555555555555556,
              "#d8576b"
             ],
             [
              0.6666666666666666,
              "#ed7953"
             ],
             [
              0.7777777777777778,
              "#fb9f3a"
             ],
             [
              0.8888888888888888,
              "#fdca26"
             ],
             [
              1,
              "#f0f921"
             ]
            ],
            "type": "heatmap"
           }
          ],
          "heatmapgl": [
           {
            "colorbar": {
             "outlinewidth": 0,
             "ticks": ""
            },
            "colorscale": [
             [
              0,
              "#0d0887"
             ],
             [
              0.1111111111111111,
              "#46039f"
             ],
             [
              0.2222222222222222,
              "#7201a8"
             ],
             [
              0.3333333333333333,
              "#9c179e"
             ],
             [
              0.4444444444444444,
              "#bd3786"
             ],
             [
              0.5555555555555556,
              "#d8576b"
             ],
             [
              0.6666666666666666,
              "#ed7953"
             ],
             [
              0.7777777777777778,
              "#fb9f3a"
             ],
             [
              0.8888888888888888,
              "#fdca26"
             ],
             [
              1,
              "#f0f921"
             ]
            ],
            "type": "heatmapgl"
           }
          ],
          "histogram": [
           {
            "marker": {
             "pattern": {
              "fillmode": "overlay",
              "size": 10,
              "solidity": 0.2
             }
            },
            "type": "histogram"
           }
          ],
          "histogram2d": [
           {
            "colorbar": {
             "outlinewidth": 0,
             "ticks": ""
            },
            "colorscale": [
             [
              0,
              "#0d0887"
             ],
             [
              0.1111111111111111,
              "#46039f"
             ],
             [
              0.2222222222222222,
              "#7201a8"
             ],
             [
              0.3333333333333333,
              "#9c179e"
             ],
             [
              0.4444444444444444,
              "#bd3786"
             ],
             [
              0.5555555555555556,
              "#d8576b"
             ],
             [
              0.6666666666666666,
              "#ed7953"
             ],
             [
              0.7777777777777778,
              "#fb9f3a"
             ],
             [
              0.8888888888888888,
              "#fdca26"
             ],
             [
              1,
              "#f0f921"
             ]
            ],
            "type": "histogram2d"
           }
          ],
          "histogram2dcontour": [
           {
            "colorbar": {
             "outlinewidth": 0,
             "ticks": ""
            },
            "colorscale": [
             [
              0,
              "#0d0887"
             ],
             [
              0.1111111111111111,
              "#46039f"
             ],
             [
              0.2222222222222222,
              "#7201a8"
             ],
             [
              0.3333333333333333,
              "#9c179e"
             ],
             [
              0.4444444444444444,
              "#bd3786"
             ],
             [
              0.5555555555555556,
              "#d8576b"
             ],
             [
              0.6666666666666666,
              "#ed7953"
             ],
             [
              0.7777777777777778,
              "#fb9f3a"
             ],
             [
              0.8888888888888888,
              "#fdca26"
             ],
             [
              1,
              "#f0f921"
             ]
            ],
            "type": "histogram2dcontour"
           }
          ],
          "mesh3d": [
           {
            "colorbar": {
             "outlinewidth": 0,
             "ticks": ""
            },
            "type": "mesh3d"
           }
          ],
          "parcoords": [
           {
            "line": {
             "colorbar": {
              "outlinewidth": 0,
              "ticks": ""
             }
            },
            "type": "parcoords"
           }
          ],
          "pie": [
           {
            "automargin": true,
            "type": "pie"
           }
          ],
          "scatter": [
           {
            "fillpattern": {
             "fillmode": "overlay",
             "size": 10,
             "solidity": 0.2
            },
            "type": "scatter"
           }
          ],
          "scatter3d": [
           {
            "line": {
             "colorbar": {
              "outlinewidth": 0,
              "ticks": ""
             }
            },
            "marker": {
             "colorbar": {
              "outlinewidth": 0,
              "ticks": ""
             }
            },
            "type": "scatter3d"
           }
          ],
          "scattercarpet": [
           {
            "marker": {
             "colorbar": {
              "outlinewidth": 0,
              "ticks": ""
             }
            },
            "type": "scattercarpet"
           }
          ],
          "scattergeo": [
           {
            "marker": {
             "colorbar": {
              "outlinewidth": 0,
              "ticks": ""
             }
            },
            "type": "scattergeo"
           }
          ],
          "scattergl": [
           {
            "marker": {
             "colorbar": {
              "outlinewidth": 0,
              "ticks": ""
             }
            },
            "type": "scattergl"
           }
          ],
          "scattermapbox": [
           {
            "marker": {
             "colorbar": {
              "outlinewidth": 0,
              "ticks": ""
             }
            },
            "type": "scattermapbox"
           }
          ],
          "scatterpolar": [
           {
            "marker": {
             "colorbar": {
              "outlinewidth": 0,
              "ticks": ""
             }
            },
            "type": "scatterpolar"
           }
          ],
          "scatterpolargl": [
           {
            "marker": {
             "colorbar": {
              "outlinewidth": 0,
              "ticks": ""
             }
            },
            "type": "scatterpolargl"
           }
          ],
          "scatterternary": [
           {
            "marker": {
             "colorbar": {
              "outlinewidth": 0,
              "ticks": ""
             }
            },
            "type": "scatterternary"
           }
          ],
          "surface": [
           {
            "colorbar": {
             "outlinewidth": 0,
             "ticks": ""
            },
            "colorscale": [
             [
              0,
              "#0d0887"
             ],
             [
              0.1111111111111111,
              "#46039f"
             ],
             [
              0.2222222222222222,
              "#7201a8"
             ],
             [
              0.3333333333333333,
              "#9c179e"
             ],
             [
              0.4444444444444444,
              "#bd3786"
             ],
             [
              0.5555555555555556,
              "#d8576b"
             ],
             [
              0.6666666666666666,
              "#ed7953"
             ],
             [
              0.7777777777777778,
              "#fb9f3a"
             ],
             [
              0.8888888888888888,
              "#fdca26"
             ],
             [
              1,
              "#f0f921"
             ]
            ],
            "type": "surface"
           }
          ],
          "table": [
           {
            "cells": {
             "fill": {
              "color": "#EBF0F8"
             },
             "line": {
              "color": "white"
             }
            },
            "header": {
             "fill": {
              "color": "#C8D4E3"
             },
             "line": {
              "color": "white"
             }
            },
            "type": "table"
           }
          ]
         },
         "layout": {
          "annotationdefaults": {
           "arrowcolor": "#2a3f5f",
           "arrowhead": 0,
           "arrowwidth": 1
          },
          "autotypenumbers": "strict",
          "coloraxis": {
           "colorbar": {
            "outlinewidth": 0,
            "ticks": ""
           }
          },
          "colorscale": {
           "diverging": [
            [
             0,
             "#8e0152"
            ],
            [
             0.1,
             "#c51b7d"
            ],
            [
             0.2,
             "#de77ae"
            ],
            [
             0.3,
             "#f1b6da"
            ],
            [
             0.4,
             "#fde0ef"
            ],
            [
             0.5,
             "#f7f7f7"
            ],
            [
             0.6,
             "#e6f5d0"
            ],
            [
             0.7,
             "#b8e186"
            ],
            [
             0.8,
             "#7fbc41"
            ],
            [
             0.9,
             "#4d9221"
            ],
            [
             1,
             "#276419"
            ]
           ],
           "sequential": [
            [
             0,
             "#0d0887"
            ],
            [
             0.1111111111111111,
             "#46039f"
            ],
            [
             0.2222222222222222,
             "#7201a8"
            ],
            [
             0.3333333333333333,
             "#9c179e"
            ],
            [
             0.4444444444444444,
             "#bd3786"
            ],
            [
             0.5555555555555556,
             "#d8576b"
            ],
            [
             0.6666666666666666,
             "#ed7953"
            ],
            [
             0.7777777777777778,
             "#fb9f3a"
            ],
            [
             0.8888888888888888,
             "#fdca26"
            ],
            [
             1,
             "#f0f921"
            ]
           ],
           "sequentialminus": [
            [
             0,
             "#0d0887"
            ],
            [
             0.1111111111111111,
             "#46039f"
            ],
            [
             0.2222222222222222,
             "#7201a8"
            ],
            [
             0.3333333333333333,
             "#9c179e"
            ],
            [
             0.4444444444444444,
             "#bd3786"
            ],
            [
             0.5555555555555556,
             "#d8576b"
            ],
            [
             0.6666666666666666,
             "#ed7953"
            ],
            [
             0.7777777777777778,
             "#fb9f3a"
            ],
            [
             0.8888888888888888,
             "#fdca26"
            ],
            [
             1,
             "#f0f921"
            ]
           ]
          },
          "colorway": [
           "#636efa",
           "#EF553B",
           "#00cc96",
           "#ab63fa",
           "#FFA15A",
           "#19d3f3",
           "#FF6692",
           "#B6E880",
           "#FF97FF",
           "#FECB52"
          ],
          "font": {
           "color": "#2a3f5f"
          },
          "geo": {
           "bgcolor": "white",
           "lakecolor": "white",
           "landcolor": "#E5ECF6",
           "showlakes": true,
           "showland": true,
           "subunitcolor": "white"
          },
          "hoverlabel": {
           "align": "left"
          },
          "hovermode": "closest",
          "mapbox": {
           "style": "light"
          },
          "paper_bgcolor": "white",
          "plot_bgcolor": "#E5ECF6",
          "polar": {
           "angularaxis": {
            "gridcolor": "white",
            "linecolor": "white",
            "ticks": ""
           },
           "bgcolor": "#E5ECF6",
           "radialaxis": {
            "gridcolor": "white",
            "linecolor": "white",
            "ticks": ""
           }
          },
          "scene": {
           "xaxis": {
            "backgroundcolor": "#E5ECF6",
            "gridcolor": "white",
            "gridwidth": 2,
            "linecolor": "white",
            "showbackground": true,
            "ticks": "",
            "zerolinecolor": "white"
           },
           "yaxis": {
            "backgroundcolor": "#E5ECF6",
            "gridcolor": "white",
            "gridwidth": 2,
            "linecolor": "white",
            "showbackground": true,
            "ticks": "",
            "zerolinecolor": "white"
           },
           "zaxis": {
            "backgroundcolor": "#E5ECF6",
            "gridcolor": "white",
            "gridwidth": 2,
            "linecolor": "white",
            "showbackground": true,
            "ticks": "",
            "zerolinecolor": "white"
           }
          },
          "shapedefaults": {
           "line": {
            "color": "#2a3f5f"
           }
          },
          "ternary": {
           "aaxis": {
            "gridcolor": "white",
            "linecolor": "white",
            "ticks": ""
           },
           "baxis": {
            "gridcolor": "white",
            "linecolor": "white",
            "ticks": ""
           },
           "bgcolor": "#E5ECF6",
           "caxis": {
            "gridcolor": "white",
            "linecolor": "white",
            "ticks": ""
           }
          },
          "title": {
           "x": 0.05
          },
          "xaxis": {
           "automargin": true,
           "gridcolor": "white",
           "linecolor": "white",
           "ticks": "",
           "title": {
            "standoff": 15
           },
           "zerolinecolor": "white",
           "zerolinewidth": 2
          },
          "yaxis": {
           "automargin": true,
           "gridcolor": "white",
           "linecolor": "white",
           "ticks": "",
           "title": {
            "standoff": 15
           },
           "zerolinecolor": "white",
           "zerolinewidth": 2
          }
         }
        },
        "title": {
         "font": {
          "color": "#4D5663"
         }
        },
        "xaxis": {
         "gridcolor": "#E1E5ED",
         "showgrid": true,
         "tickfont": {
          "color": "#4D5663"
         },
         "title": {
          "font": {
           "color": "#4D5663"
          },
          "text": ""
         },
         "zerolinecolor": "#E1E5ED"
        },
        "yaxis": {
         "gridcolor": "#E1E5ED",
         "showgrid": true,
         "tickfont": {
          "color": "#4D5663"
         },
         "title": {
          "font": {
           "color": "#4D5663"
          },
          "text": ""
         },
         "zerolinecolor": "#E1E5ED"
        }
       }
      },
      "text/html": [
       "<div>                            <div id=\"74d12a88-07bf-4698-9b2a-0cb4a39ec748\" class=\"plotly-graph-div\" style=\"height:525px; width:100%;\"></div>            <script type=\"text/javascript\">                require([\"plotly\"], function(Plotly) {                    window.PLOTLYENV=window.PLOTLYENV || {};\n",
       "                    window.PLOTLYENV.BASE_URL='https://plot.ly';                                    if (document.getElementById(\"74d12a88-07bf-4698-9b2a-0cb4a39ec748\")) {                    Plotly.newPlot(                        \"74d12a88-07bf-4698-9b2a-0cb4a39ec748\",                        [{\"line\":{\"color\":\"rgba(255, 153, 51, 1.0)\",\"dash\":\"solid\",\"shape\":\"linear\",\"width\":1.3},\"marker\":{\"size\":10,\"symbol\":\"circle\"},\"mode\":\"markers\",\"name\":\"B\",\"text\":\"\",\"x\":[-0.6107347761616178,0.4201614153496461,-0.29605152886844865,-0.603856601378769,-0.34992557814699554,0.5068350913538099,1.4993263879906027,-2.334241991002616,-0.756289536182581,0.029039928572972565,-0.06418705977340332,0.9316899277347028,0.6315071913942684,-0.8448886098897598,0.17075138231478665,-0.46156067536114953,0.7665613566497056,-0.4836983678082965,0.16642518180746108,1.4564782581774924,0.9606524678241097,0.8542978329522262,-0.675314325805229,0.195511600271729,-1.7488760698587718,0.7124539851075085,2.0468217852064288,1.6248644217502146,-0.5286160896870696,-1.6561743116422956,1.0753782176872302,-0.4697669545323898,-0.009018585905509479,-0.541569847684211,1.6913214206556852,-1.788246523479366,0.522833167186685,-0.9934573505043022,1.6399751744524727,0.3374694500440057,-2.193678870035607,-1.017633199473239,0.3679345306105512,-1.3036150063236591,0.7462578429627574,-0.506156177257477,1.7176523623457138,1.7793863386202,0.07923784823916726,1.6723340011782664,0.026694156864108736,0.4857432640720413,-1.4103267776792288,-1.1830495094733648,-0.1792308752387724,-0.22071995812812675,-1.3270964256209172,-0.43120218142331274,-0.6256456712456581,-0.29497815162776525,1.467718648245481,-0.9304178622442733,-0.11510147301732727,-0.3767284928261818,0.478108904510788,3.7525358111818345,-0.03242175767615414,-0.3640156611750831,0.018466623262912058,-0.2434299789991597,-0.11500724514530727,-2.0214049601657518,0.690130295394509,0.2532383016783365,1.5331578664393732,-0.8853998372881371,-1.4352841075731064,0.2598125345509629,0.5956194819973099,0.22788031283148957,-0.13797830670137154,-1.4183777937548996,-0.07232292085057175,1.156608410254206,0.7622513100528217,-1.906380748783229,0.7045019662098876,3.1287391387449923,0.12687249379699703,0.10233161108321426,-0.793703598152564,0.5962107888831366,-0.5230777107716984,-1.4983543424046748,-1.474001813667417,1.1806612185186167,-0.9268646615012716,0.03494592384986443,0.936911761668089,-1.5336897066452815],\"y\":[-0.7515845289098267,-1.3501185693636415,0.16077795108916015,1.0972421667024326,-1.5551617340524697,0.36473435593692705,-1.0305068105461639,-1.1324253826988833,-0.6873504943516671,0.1069282354870738,-1.695536516849996,0.2425816618019362,1.2687297380945173,0.020225855520632312,0.2892120761545208,0.1297778773904678,-0.7374435068199338,-1.4400098572821194,0.0032000310074377443,2.3156191209106116,-2.104552277645811,-0.22379452958198373,0.9883500188308598,1.3851046302259347,-1.0928793648108472,0.2912452071491476,-0.4106886803289102,-0.7209245389511091,-0.07317020772918818,0.2694790571470932,1.375091364288301,-0.23046375294234592,-0.05784828915091585,-0.4026832249574582,1.3880505778741024,1.0770560109162644,-1.6785547624603565,0.8704258254204967,1.2192626939395739,-0.11185202419003015,-0.763588692976187,1.490195261649367,2.1775088878872806,0.7277948316579071,-0.49372189274523937,-0.2338324822911922,-0.3379344582705307,0.4704751985297546,-0.7631725910562722,-1.305388313612196,0.19336190533982603,0.7328086527251998,0.7706362653881076,-1.2925763526257745,-0.8104937348956527,-0.5563194360896363,-1.972197874409348,-0.1932211683793346,0.24658648621738297,-0.27580446480575443,-0.04910140696994737,0.902700698539591,-0.06394334025850491,0.044784293824225885,0.6038793255782594,1.1287050189302426,-0.5778578018120689,-0.10347513287249659,1.5211159073742107,-0.9286680897045665,-0.24014144423313558,2.478875929720434,-1.7514335396591265,0.19996871943196137,0.6321232809455622,1.9589895318338868,-0.8238855966095642,0.12473054236890199,1.7645917749679907,-0.6231437672773471,-1.1610423310897395,-1.9156473976700872,-1.6126019221487324,1.7382721048015093,0.05761002640626352,3.1060553929808754,1.2978766991775879,2.379727283652175,-0.38706280385902053,-0.14276694931792414,0.9865472939839993,-0.658203460481953,-0.6939476238479197,0.4663609204522567,-0.9611668389082888,-0.3286381457693652,-0.47002996096212685,-0.09953330550484732,-0.5157759703517617,0.17564907964270188],\"type\":\"scatter\"}],                        {\"legend\":{\"bgcolor\":\"#F5F6F9\",\"font\":{\"color\":\"#4D5663\"}},\"paper_bgcolor\":\"#F5F6F9\",\"plot_bgcolor\":\"#F5F6F9\",\"template\":{\"data\":{\"barpolar\":[{\"marker\":{\"line\":{\"color\":\"#E5ECF6\",\"width\":0.5},\"pattern\":{\"fillmode\":\"overlay\",\"size\":10,\"solidity\":0.2}},\"type\":\"barpolar\"}],\"bar\":[{\"error_x\":{\"color\":\"#2a3f5f\"},\"error_y\":{\"color\":\"#2a3f5f\"},\"marker\":{\"line\":{\"color\":\"#E5ECF6\",\"width\":0.5},\"pattern\":{\"fillmode\":\"overlay\",\"size\":10,\"solidity\":0.2}},\"type\":\"bar\"}],\"carpet\":[{\"aaxis\":{\"endlinecolor\":\"#2a3f5f\",\"gridcolor\":\"white\",\"linecolor\":\"white\",\"minorgridcolor\":\"white\",\"startlinecolor\":\"#2a3f5f\"},\"baxis\":{\"endlinecolor\":\"#2a3f5f\",\"gridcolor\":\"white\",\"linecolor\":\"white\",\"minorgridcolor\":\"white\",\"startlinecolor\":\"#2a3f5f\"},\"type\":\"carpet\"}],\"choropleth\":[{\"colorbar\":{\"outlinewidth\":0,\"ticks\":\"\"},\"type\":\"choropleth\"}],\"contourcarpet\":[{\"colorbar\":{\"outlinewidth\":0,\"ticks\":\"\"},\"type\":\"contourcarpet\"}],\"contour\":[{\"colorbar\":{\"outlinewidth\":0,\"ticks\":\"\"},\"colorscale\":[[0.0,\"#0d0887\"],[0.1111111111111111,\"#46039f\"],[0.2222222222222222,\"#7201a8\"],[0.3333333333333333,\"#9c179e\"],[0.4444444444444444,\"#bd3786\"],[0.5555555555555556,\"#d8576b\"],[0.6666666666666666,\"#ed7953\"],[0.7777777777777778,\"#fb9f3a\"],[0.8888888888888888,\"#fdca26\"],[1.0,\"#f0f921\"]],\"type\":\"contour\"}],\"heatmapgl\":[{\"colorbar\":{\"outlinewidth\":0,\"ticks\":\"\"},\"colorscale\":[[0.0,\"#0d0887\"],[0.1111111111111111,\"#46039f\"],[0.2222222222222222,\"#7201a8\"],[0.3333333333333333,\"#9c179e\"],[0.4444444444444444,\"#bd3786\"],[0.5555555555555556,\"#d8576b\"],[0.6666666666666666,\"#ed7953\"],[0.7777777777777778,\"#fb9f3a\"],[0.8888888888888888,\"#fdca26\"],[1.0,\"#f0f921\"]],\"type\":\"heatmapgl\"}],\"heatmap\":[{\"colorbar\":{\"outlinewidth\":0,\"ticks\":\"\"},\"colorscale\":[[0.0,\"#0d0887\"],[0.1111111111111111,\"#46039f\"],[0.2222222222222222,\"#7201a8\"],[0.3333333333333333,\"#9c179e\"],[0.4444444444444444,\"#bd3786\"],[0.5555555555555556,\"#d8576b\"],[0.6666666666666666,\"#ed7953\"],[0.7777777777777778,\"#fb9f3a\"],[0.8888888888888888,\"#fdca26\"],[1.0,\"#f0f921\"]],\"type\":\"heatmap\"}],\"histogram2dcontour\":[{\"colorbar\":{\"outlinewidth\":0,\"ticks\":\"\"},\"colorscale\":[[0.0,\"#0d0887\"],[0.1111111111111111,\"#46039f\"],[0.2222222222222222,\"#7201a8\"],[0.3333333333333333,\"#9c179e\"],[0.4444444444444444,\"#bd3786\"],[0.5555555555555556,\"#d8576b\"],[0.6666666666666666,\"#ed7953\"],[0.7777777777777778,\"#fb9f3a\"],[0.8888888888888888,\"#fdca26\"],[1.0,\"#f0f921\"]],\"type\":\"histogram2dcontour\"}],\"histogram2d\":[{\"colorbar\":{\"outlinewidth\":0,\"ticks\":\"\"},\"colorscale\":[[0.0,\"#0d0887\"],[0.1111111111111111,\"#46039f\"],[0.2222222222222222,\"#7201a8\"],[0.3333333333333333,\"#9c179e\"],[0.4444444444444444,\"#bd3786\"],[0.5555555555555556,\"#d8576b\"],[0.6666666666666666,\"#ed7953\"],[0.7777777777777778,\"#fb9f3a\"],[0.8888888888888888,\"#fdca26\"],[1.0,\"#f0f921\"]],\"type\":\"histogram2d\"}],\"histogram\":[{\"marker\":{\"pattern\":{\"fillmode\":\"overlay\",\"size\":10,\"solidity\":0.2}},\"type\":\"histogram\"}],\"mesh3d\":[{\"colorbar\":{\"outlinewidth\":0,\"ticks\":\"\"},\"type\":\"mesh3d\"}],\"parcoords\":[{\"line\":{\"colorbar\":{\"outlinewidth\":0,\"ticks\":\"\"}},\"type\":\"parcoords\"}],\"pie\":[{\"automargin\":true,\"type\":\"pie\"}],\"scatter3d\":[{\"line\":{\"colorbar\":{\"outlinewidth\":0,\"ticks\":\"\"}},\"marker\":{\"colorbar\":{\"outlinewidth\":0,\"ticks\":\"\"}},\"type\":\"scatter3d\"}],\"scattercarpet\":[{\"marker\":{\"colorbar\":{\"outlinewidth\":0,\"ticks\":\"\"}},\"type\":\"scattercarpet\"}],\"scattergeo\":[{\"marker\":{\"colorbar\":{\"outlinewidth\":0,\"ticks\":\"\"}},\"type\":\"scattergeo\"}],\"scattergl\":[{\"marker\":{\"colorbar\":{\"outlinewidth\":0,\"ticks\":\"\"}},\"type\":\"scattergl\"}],\"scattermapbox\":[{\"marker\":{\"colorbar\":{\"outlinewidth\":0,\"ticks\":\"\"}},\"type\":\"scattermapbox\"}],\"scatterpolargl\":[{\"marker\":{\"colorbar\":{\"outlinewidth\":0,\"ticks\":\"\"}},\"type\":\"scatterpolargl\"}],\"scatterpolar\":[{\"marker\":{\"colorbar\":{\"outlinewidth\":0,\"ticks\":\"\"}},\"type\":\"scatterpolar\"}],\"scatter\":[{\"fillpattern\":{\"fillmode\":\"overlay\",\"size\":10,\"solidity\":0.2},\"type\":\"scatter\"}],\"scatterternary\":[{\"marker\":{\"colorbar\":{\"outlinewidth\":0,\"ticks\":\"\"}},\"type\":\"scatterternary\"}],\"surface\":[{\"colorbar\":{\"outlinewidth\":0,\"ticks\":\"\"},\"colorscale\":[[0.0,\"#0d0887\"],[0.1111111111111111,\"#46039f\"],[0.2222222222222222,\"#7201a8\"],[0.3333333333333333,\"#9c179e\"],[0.4444444444444444,\"#bd3786\"],[0.5555555555555556,\"#d8576b\"],[0.6666666666666666,\"#ed7953\"],[0.7777777777777778,\"#fb9f3a\"],[0.8888888888888888,\"#fdca26\"],[1.0,\"#f0f921\"]],\"type\":\"surface\"}],\"table\":[{\"cells\":{\"fill\":{\"color\":\"#EBF0F8\"},\"line\":{\"color\":\"white\"}},\"header\":{\"fill\":{\"color\":\"#C8D4E3\"},\"line\":{\"color\":\"white\"}},\"type\":\"table\"}]},\"layout\":{\"annotationdefaults\":{\"arrowcolor\":\"#2a3f5f\",\"arrowhead\":0,\"arrowwidth\":1},\"autotypenumbers\":\"strict\",\"coloraxis\":{\"colorbar\":{\"outlinewidth\":0,\"ticks\":\"\"}},\"colorscale\":{\"diverging\":[[0,\"#8e0152\"],[0.1,\"#c51b7d\"],[0.2,\"#de77ae\"],[0.3,\"#f1b6da\"],[0.4,\"#fde0ef\"],[0.5,\"#f7f7f7\"],[0.6,\"#e6f5d0\"],[0.7,\"#b8e186\"],[0.8,\"#7fbc41\"],[0.9,\"#4d9221\"],[1,\"#276419\"]],\"sequential\":[[0.0,\"#0d0887\"],[0.1111111111111111,\"#46039f\"],[0.2222222222222222,\"#7201a8\"],[0.3333333333333333,\"#9c179e\"],[0.4444444444444444,\"#bd3786\"],[0.5555555555555556,\"#d8576b\"],[0.6666666666666666,\"#ed7953\"],[0.7777777777777778,\"#fb9f3a\"],[0.8888888888888888,\"#fdca26\"],[1.0,\"#f0f921\"]],\"sequentialminus\":[[0.0,\"#0d0887\"],[0.1111111111111111,\"#46039f\"],[0.2222222222222222,\"#7201a8\"],[0.3333333333333333,\"#9c179e\"],[0.4444444444444444,\"#bd3786\"],[0.5555555555555556,\"#d8576b\"],[0.6666666666666666,\"#ed7953\"],[0.7777777777777778,\"#fb9f3a\"],[0.8888888888888888,\"#fdca26\"],[1.0,\"#f0f921\"]]},\"colorway\":[\"#636efa\",\"#EF553B\",\"#00cc96\",\"#ab63fa\",\"#FFA15A\",\"#19d3f3\",\"#FF6692\",\"#B6E880\",\"#FF97FF\",\"#FECB52\"],\"font\":{\"color\":\"#2a3f5f\"},\"geo\":{\"bgcolor\":\"white\",\"lakecolor\":\"white\",\"landcolor\":\"#E5ECF6\",\"showlakes\":true,\"showland\":true,\"subunitcolor\":\"white\"},\"hoverlabel\":{\"align\":\"left\"},\"hovermode\":\"closest\",\"mapbox\":{\"style\":\"light\"},\"paper_bgcolor\":\"white\",\"plot_bgcolor\":\"#E5ECF6\",\"polar\":{\"angularaxis\":{\"gridcolor\":\"white\",\"linecolor\":\"white\",\"ticks\":\"\"},\"bgcolor\":\"#E5ECF6\",\"radialaxis\":{\"gridcolor\":\"white\",\"linecolor\":\"white\",\"ticks\":\"\"}},\"scene\":{\"xaxis\":{\"backgroundcolor\":\"#E5ECF6\",\"gridcolor\":\"white\",\"gridwidth\":2,\"linecolor\":\"white\",\"showbackground\":true,\"ticks\":\"\",\"zerolinecolor\":\"white\"},\"yaxis\":{\"backgroundcolor\":\"#E5ECF6\",\"gridcolor\":\"white\",\"gridwidth\":2,\"linecolor\":\"white\",\"showbackground\":true,\"ticks\":\"\",\"zerolinecolor\":\"white\"},\"zaxis\":{\"backgroundcolor\":\"#E5ECF6\",\"gridcolor\":\"white\",\"gridwidth\":2,\"linecolor\":\"white\",\"showbackground\":true,\"ticks\":\"\",\"zerolinecolor\":\"white\"}},\"shapedefaults\":{\"line\":{\"color\":\"#2a3f5f\"}},\"ternary\":{\"aaxis\":{\"gridcolor\":\"white\",\"linecolor\":\"white\",\"ticks\":\"\"},\"baxis\":{\"gridcolor\":\"white\",\"linecolor\":\"white\",\"ticks\":\"\"},\"bgcolor\":\"#E5ECF6\",\"caxis\":{\"gridcolor\":\"white\",\"linecolor\":\"white\",\"ticks\":\"\"}},\"title\":{\"x\":0.05},\"xaxis\":{\"automargin\":true,\"gridcolor\":\"white\",\"linecolor\":\"white\",\"ticks\":\"\",\"title\":{\"standoff\":15},\"zerolinecolor\":\"white\",\"zerolinewidth\":2},\"yaxis\":{\"automargin\":true,\"gridcolor\":\"white\",\"linecolor\":\"white\",\"ticks\":\"\",\"title\":{\"standoff\":15},\"zerolinecolor\":\"white\",\"zerolinewidth\":2}}},\"title\":{\"font\":{\"color\":\"#4D5663\"}},\"xaxis\":{\"gridcolor\":\"#E1E5ED\",\"showgrid\":true,\"tickfont\":{\"color\":\"#4D5663\"},\"title\":{\"font\":{\"color\":\"#4D5663\"},\"text\":\"\"},\"zerolinecolor\":\"#E1E5ED\"},\"yaxis\":{\"gridcolor\":\"#E1E5ED\",\"showgrid\":true,\"tickfont\":{\"color\":\"#4D5663\"},\"title\":{\"font\":{\"color\":\"#4D5663\"},\"text\":\"\"},\"zerolinecolor\":\"#E1E5ED\"}},                        {\"showLink\": true, \"linkText\": \"Export to plot.ly\", \"plotlyServerURL\": \"https://plot.ly\", \"responsive\": true}                    ).then(function(){\n",
       "                            \n",
       "var gd = document.getElementById('74d12a88-07bf-4698-9b2a-0cb4a39ec748');\n",
       "var x = new MutationObserver(function (mutations, observer) {{\n",
       "        var display = window.getComputedStyle(gd).display;\n",
       "        if (!display || display === 'none') {{\n",
       "            console.log([gd, 'removed!']);\n",
       "            Plotly.purge(gd);\n",
       "            observer.disconnect();\n",
       "        }}\n",
       "}});\n",
       "\n",
       "// Listen for the removal of the full notebook cells\n",
       "var notebookContainer = gd.closest('#notebook-container');\n",
       "if (notebookContainer) {{\n",
       "    x.observe(notebookContainer, {childList: true});\n",
       "}}\n",
       "\n",
       "// Listen for the clearing of the current output cell\n",
       "var outputEl = gd.closest('.output');\n",
       "if (outputEl) {{\n",
       "    x.observe(outputEl, {childList: true});\n",
       "}}\n",
       "\n",
       "                        })                };                });            </script>        </div>"
      ]
     },
     "metadata": {},
     "output_type": "display_data"
    }
   ],
   "source": [
    "df.iplot(kind='scatter',x='A',y='B',mode='markers',size=10)"
   ]
  },
  {
   "cell_type": "code",
   "execution_count": 11,
   "metadata": {},
   "outputs": [
    {
     "data": {
      "application/vnd.plotly.v1+json": {
       "config": {
        "linkText": "Export to plot.ly",
        "plotlyServerURL": "https://plot.ly",
        "showLink": true
       },
       "data": [
        {
         "marker": {
          "color": "rgba(255, 153, 51, 0.6)",
          "line": {
           "color": "rgba(255, 153, 51, 1.0)",
           "width": 1
          }
         },
         "name": "Values",
         "orientation": "v",
         "text": "",
         "type": "bar",
         "x": [
          "A",
          "B",
          "C"
         ],
         "y": [
          32,
          43,
          50
         ]
        }
       ],
       "layout": {
        "legend": {
         "bgcolor": "#F5F6F9",
         "font": {
          "color": "#4D5663"
         }
        },
        "paper_bgcolor": "#F5F6F9",
        "plot_bgcolor": "#F5F6F9",
        "template": {
         "data": {
          "bar": [
           {
            "error_x": {
             "color": "#2a3f5f"
            },
            "error_y": {
             "color": "#2a3f5f"
            },
            "marker": {
             "line": {
              "color": "#E5ECF6",
              "width": 0.5
             },
             "pattern": {
              "fillmode": "overlay",
              "size": 10,
              "solidity": 0.2
             }
            },
            "type": "bar"
           }
          ],
          "barpolar": [
           {
            "marker": {
             "line": {
              "color": "#E5ECF6",
              "width": 0.5
             },
             "pattern": {
              "fillmode": "overlay",
              "size": 10,
              "solidity": 0.2
             }
            },
            "type": "barpolar"
           }
          ],
          "carpet": [
           {
            "aaxis": {
             "endlinecolor": "#2a3f5f",
             "gridcolor": "white",
             "linecolor": "white",
             "minorgridcolor": "white",
             "startlinecolor": "#2a3f5f"
            },
            "baxis": {
             "endlinecolor": "#2a3f5f",
             "gridcolor": "white",
             "linecolor": "white",
             "minorgridcolor": "white",
             "startlinecolor": "#2a3f5f"
            },
            "type": "carpet"
           }
          ],
          "choropleth": [
           {
            "colorbar": {
             "outlinewidth": 0,
             "ticks": ""
            },
            "type": "choropleth"
           }
          ],
          "contour": [
           {
            "colorbar": {
             "outlinewidth": 0,
             "ticks": ""
            },
            "colorscale": [
             [
              0,
              "#0d0887"
             ],
             [
              0.1111111111111111,
              "#46039f"
             ],
             [
              0.2222222222222222,
              "#7201a8"
             ],
             [
              0.3333333333333333,
              "#9c179e"
             ],
             [
              0.4444444444444444,
              "#bd3786"
             ],
             [
              0.5555555555555556,
              "#d8576b"
             ],
             [
              0.6666666666666666,
              "#ed7953"
             ],
             [
              0.7777777777777778,
              "#fb9f3a"
             ],
             [
              0.8888888888888888,
              "#fdca26"
             ],
             [
              1,
              "#f0f921"
             ]
            ],
            "type": "contour"
           }
          ],
          "contourcarpet": [
           {
            "colorbar": {
             "outlinewidth": 0,
             "ticks": ""
            },
            "type": "contourcarpet"
           }
          ],
          "heatmap": [
           {
            "colorbar": {
             "outlinewidth": 0,
             "ticks": ""
            },
            "colorscale": [
             [
              0,
              "#0d0887"
             ],
             [
              0.1111111111111111,
              "#46039f"
             ],
             [
              0.2222222222222222,
              "#7201a8"
             ],
             [
              0.3333333333333333,
              "#9c179e"
             ],
             [
              0.4444444444444444,
              "#bd3786"
             ],
             [
              0.5555555555555556,
              "#d8576b"
             ],
             [
              0.6666666666666666,
              "#ed7953"
             ],
             [
              0.7777777777777778,
              "#fb9f3a"
             ],
             [
              0.8888888888888888,
              "#fdca26"
             ],
             [
              1,
              "#f0f921"
             ]
            ],
            "type": "heatmap"
           }
          ],
          "heatmapgl": [
           {
            "colorbar": {
             "outlinewidth": 0,
             "ticks": ""
            },
            "colorscale": [
             [
              0,
              "#0d0887"
             ],
             [
              0.1111111111111111,
              "#46039f"
             ],
             [
              0.2222222222222222,
              "#7201a8"
             ],
             [
              0.3333333333333333,
              "#9c179e"
             ],
             [
              0.4444444444444444,
              "#bd3786"
             ],
             [
              0.5555555555555556,
              "#d8576b"
             ],
             [
              0.6666666666666666,
              "#ed7953"
             ],
             [
              0.7777777777777778,
              "#fb9f3a"
             ],
             [
              0.8888888888888888,
              "#fdca26"
             ],
             [
              1,
              "#f0f921"
             ]
            ],
            "type": "heatmapgl"
           }
          ],
          "histogram": [
           {
            "marker": {
             "pattern": {
              "fillmode": "overlay",
              "size": 10,
              "solidity": 0.2
             }
            },
            "type": "histogram"
           }
          ],
          "histogram2d": [
           {
            "colorbar": {
             "outlinewidth": 0,
             "ticks": ""
            },
            "colorscale": [
             [
              0,
              "#0d0887"
             ],
             [
              0.1111111111111111,
              "#46039f"
             ],
             [
              0.2222222222222222,
              "#7201a8"
             ],
             [
              0.3333333333333333,
              "#9c179e"
             ],
             [
              0.4444444444444444,
              "#bd3786"
             ],
             [
              0.5555555555555556,
              "#d8576b"
             ],
             [
              0.6666666666666666,
              "#ed7953"
             ],
             [
              0.7777777777777778,
              "#fb9f3a"
             ],
             [
              0.8888888888888888,
              "#fdca26"
             ],
             [
              1,
              "#f0f921"
             ]
            ],
            "type": "histogram2d"
           }
          ],
          "histogram2dcontour": [
           {
            "colorbar": {
             "outlinewidth": 0,
             "ticks": ""
            },
            "colorscale": [
             [
              0,
              "#0d0887"
             ],
             [
              0.1111111111111111,
              "#46039f"
             ],
             [
              0.2222222222222222,
              "#7201a8"
             ],
             [
              0.3333333333333333,
              "#9c179e"
             ],
             [
              0.4444444444444444,
              "#bd3786"
             ],
             [
              0.5555555555555556,
              "#d8576b"
             ],
             [
              0.6666666666666666,
              "#ed7953"
             ],
             [
              0.7777777777777778,
              "#fb9f3a"
             ],
             [
              0.8888888888888888,
              "#fdca26"
             ],
             [
              1,
              "#f0f921"
             ]
            ],
            "type": "histogram2dcontour"
           }
          ],
          "mesh3d": [
           {
            "colorbar": {
             "outlinewidth": 0,
             "ticks": ""
            },
            "type": "mesh3d"
           }
          ],
          "parcoords": [
           {
            "line": {
             "colorbar": {
              "outlinewidth": 0,
              "ticks": ""
             }
            },
            "type": "parcoords"
           }
          ],
          "pie": [
           {
            "automargin": true,
            "type": "pie"
           }
          ],
          "scatter": [
           {
            "fillpattern": {
             "fillmode": "overlay",
             "size": 10,
             "solidity": 0.2
            },
            "type": "scatter"
           }
          ],
          "scatter3d": [
           {
            "line": {
             "colorbar": {
              "outlinewidth": 0,
              "ticks": ""
             }
            },
            "marker": {
             "colorbar": {
              "outlinewidth": 0,
              "ticks": ""
             }
            },
            "type": "scatter3d"
           }
          ],
          "scattercarpet": [
           {
            "marker": {
             "colorbar": {
              "outlinewidth": 0,
              "ticks": ""
             }
            },
            "type": "scattercarpet"
           }
          ],
          "scattergeo": [
           {
            "marker": {
             "colorbar": {
              "outlinewidth": 0,
              "ticks": ""
             }
            },
            "type": "scattergeo"
           }
          ],
          "scattergl": [
           {
            "marker": {
             "colorbar": {
              "outlinewidth": 0,
              "ticks": ""
             }
            },
            "type": "scattergl"
           }
          ],
          "scattermapbox": [
           {
            "marker": {
             "colorbar": {
              "outlinewidth": 0,
              "ticks": ""
             }
            },
            "type": "scattermapbox"
           }
          ],
          "scatterpolar": [
           {
            "marker": {
             "colorbar": {
              "outlinewidth": 0,
              "ticks": ""
             }
            },
            "type": "scatterpolar"
           }
          ],
          "scatterpolargl": [
           {
            "marker": {
             "colorbar": {
              "outlinewidth": 0,
              "ticks": ""
             }
            },
            "type": "scatterpolargl"
           }
          ],
          "scatterternary": [
           {
            "marker": {
             "colorbar": {
              "outlinewidth": 0,
              "ticks": ""
             }
            },
            "type": "scatterternary"
           }
          ],
          "surface": [
           {
            "colorbar": {
             "outlinewidth": 0,
             "ticks": ""
            },
            "colorscale": [
             [
              0,
              "#0d0887"
             ],
             [
              0.1111111111111111,
              "#46039f"
             ],
             [
              0.2222222222222222,
              "#7201a8"
             ],
             [
              0.3333333333333333,
              "#9c179e"
             ],
             [
              0.4444444444444444,
              "#bd3786"
             ],
             [
              0.5555555555555556,
              "#d8576b"
             ],
             [
              0.6666666666666666,
              "#ed7953"
             ],
             [
              0.7777777777777778,
              "#fb9f3a"
             ],
             [
              0.8888888888888888,
              "#fdca26"
             ],
             [
              1,
              "#f0f921"
             ]
            ],
            "type": "surface"
           }
          ],
          "table": [
           {
            "cells": {
             "fill": {
              "color": "#EBF0F8"
             },
             "line": {
              "color": "white"
             }
            },
            "header": {
             "fill": {
              "color": "#C8D4E3"
             },
             "line": {
              "color": "white"
             }
            },
            "type": "table"
           }
          ]
         },
         "layout": {
          "annotationdefaults": {
           "arrowcolor": "#2a3f5f",
           "arrowhead": 0,
           "arrowwidth": 1
          },
          "autotypenumbers": "strict",
          "coloraxis": {
           "colorbar": {
            "outlinewidth": 0,
            "ticks": ""
           }
          },
          "colorscale": {
           "diverging": [
            [
             0,
             "#8e0152"
            ],
            [
             0.1,
             "#c51b7d"
            ],
            [
             0.2,
             "#de77ae"
            ],
            [
             0.3,
             "#f1b6da"
            ],
            [
             0.4,
             "#fde0ef"
            ],
            [
             0.5,
             "#f7f7f7"
            ],
            [
             0.6,
             "#e6f5d0"
            ],
            [
             0.7,
             "#b8e186"
            ],
            [
             0.8,
             "#7fbc41"
            ],
            [
             0.9,
             "#4d9221"
            ],
            [
             1,
             "#276419"
            ]
           ],
           "sequential": [
            [
             0,
             "#0d0887"
            ],
            [
             0.1111111111111111,
             "#46039f"
            ],
            [
             0.2222222222222222,
             "#7201a8"
            ],
            [
             0.3333333333333333,
             "#9c179e"
            ],
            [
             0.4444444444444444,
             "#bd3786"
            ],
            [
             0.5555555555555556,
             "#d8576b"
            ],
            [
             0.6666666666666666,
             "#ed7953"
            ],
            [
             0.7777777777777778,
             "#fb9f3a"
            ],
            [
             0.8888888888888888,
             "#fdca26"
            ],
            [
             1,
             "#f0f921"
            ]
           ],
           "sequentialminus": [
            [
             0,
             "#0d0887"
            ],
            [
             0.1111111111111111,
             "#46039f"
            ],
            [
             0.2222222222222222,
             "#7201a8"
            ],
            [
             0.3333333333333333,
             "#9c179e"
            ],
            [
             0.4444444444444444,
             "#bd3786"
            ],
            [
             0.5555555555555556,
             "#d8576b"
            ],
            [
             0.6666666666666666,
             "#ed7953"
            ],
            [
             0.7777777777777778,
             "#fb9f3a"
            ],
            [
             0.8888888888888888,
             "#fdca26"
            ],
            [
             1,
             "#f0f921"
            ]
           ]
          },
          "colorway": [
           "#636efa",
           "#EF553B",
           "#00cc96",
           "#ab63fa",
           "#FFA15A",
           "#19d3f3",
           "#FF6692",
           "#B6E880",
           "#FF97FF",
           "#FECB52"
          ],
          "font": {
           "color": "#2a3f5f"
          },
          "geo": {
           "bgcolor": "white",
           "lakecolor": "white",
           "landcolor": "#E5ECF6",
           "showlakes": true,
           "showland": true,
           "subunitcolor": "white"
          },
          "hoverlabel": {
           "align": "left"
          },
          "hovermode": "closest",
          "mapbox": {
           "style": "light"
          },
          "paper_bgcolor": "white",
          "plot_bgcolor": "#E5ECF6",
          "polar": {
           "angularaxis": {
            "gridcolor": "white",
            "linecolor": "white",
            "ticks": ""
           },
           "bgcolor": "#E5ECF6",
           "radialaxis": {
            "gridcolor": "white",
            "linecolor": "white",
            "ticks": ""
           }
          },
          "scene": {
           "xaxis": {
            "backgroundcolor": "#E5ECF6",
            "gridcolor": "white",
            "gridwidth": 2,
            "linecolor": "white",
            "showbackground": true,
            "ticks": "",
            "zerolinecolor": "white"
           },
           "yaxis": {
            "backgroundcolor": "#E5ECF6",
            "gridcolor": "white",
            "gridwidth": 2,
            "linecolor": "white",
            "showbackground": true,
            "ticks": "",
            "zerolinecolor": "white"
           },
           "zaxis": {
            "backgroundcolor": "#E5ECF6",
            "gridcolor": "white",
            "gridwidth": 2,
            "linecolor": "white",
            "showbackground": true,
            "ticks": "",
            "zerolinecolor": "white"
           }
          },
          "shapedefaults": {
           "line": {
            "color": "#2a3f5f"
           }
          },
          "ternary": {
           "aaxis": {
            "gridcolor": "white",
            "linecolor": "white",
            "ticks": ""
           },
           "baxis": {
            "gridcolor": "white",
            "linecolor": "white",
            "ticks": ""
           },
           "bgcolor": "#E5ECF6",
           "caxis": {
            "gridcolor": "white",
            "linecolor": "white",
            "ticks": ""
           }
          },
          "title": {
           "x": 0.05
          },
          "xaxis": {
           "automargin": true,
           "gridcolor": "white",
           "linecolor": "white",
           "ticks": "",
           "title": {
            "standoff": 15
           },
           "zerolinecolor": "white",
           "zerolinewidth": 2
          },
          "yaxis": {
           "automargin": true,
           "gridcolor": "white",
           "linecolor": "white",
           "ticks": "",
           "title": {
            "standoff": 15
           },
           "zerolinecolor": "white",
           "zerolinewidth": 2
          }
         }
        },
        "title": {
         "font": {
          "color": "#4D5663"
         }
        },
        "xaxis": {
         "gridcolor": "#E1E5ED",
         "showgrid": true,
         "tickfont": {
          "color": "#4D5663"
         },
         "title": {
          "font": {
           "color": "#4D5663"
          },
          "text": ""
         },
         "zerolinecolor": "#E1E5ED"
        },
        "yaxis": {
         "gridcolor": "#E1E5ED",
         "showgrid": true,
         "tickfont": {
          "color": "#4D5663"
         },
         "title": {
          "font": {
           "color": "#4D5663"
          },
          "text": ""
         },
         "zerolinecolor": "#E1E5ED"
        }
       }
      },
      "text/html": [
       "<div>                            <div id=\"a55cd709-3816-4111-b10b-b897a5939818\" class=\"plotly-graph-div\" style=\"height:525px; width:100%;\"></div>            <script type=\"text/javascript\">                require([\"plotly\"], function(Plotly) {                    window.PLOTLYENV=window.PLOTLYENV || {};\n",
       "                    window.PLOTLYENV.BASE_URL='https://plot.ly';                                    if (document.getElementById(\"a55cd709-3816-4111-b10b-b897a5939818\")) {                    Plotly.newPlot(                        \"a55cd709-3816-4111-b10b-b897a5939818\",                        [{\"marker\":{\"color\":\"rgba(255, 153, 51, 0.6)\",\"line\":{\"color\":\"rgba(255, 153, 51, 1.0)\",\"width\":1}},\"name\":\"Values\",\"orientation\":\"v\",\"text\":\"\",\"x\":[\"A\",\"B\",\"C\"],\"y\":[32,43,50],\"type\":\"bar\"}],                        {\"legend\":{\"bgcolor\":\"#F5F6F9\",\"font\":{\"color\":\"#4D5663\"}},\"paper_bgcolor\":\"#F5F6F9\",\"plot_bgcolor\":\"#F5F6F9\",\"template\":{\"data\":{\"barpolar\":[{\"marker\":{\"line\":{\"color\":\"#E5ECF6\",\"width\":0.5},\"pattern\":{\"fillmode\":\"overlay\",\"size\":10,\"solidity\":0.2}},\"type\":\"barpolar\"}],\"bar\":[{\"error_x\":{\"color\":\"#2a3f5f\"},\"error_y\":{\"color\":\"#2a3f5f\"},\"marker\":{\"line\":{\"color\":\"#E5ECF6\",\"width\":0.5},\"pattern\":{\"fillmode\":\"overlay\",\"size\":10,\"solidity\":0.2}},\"type\":\"bar\"}],\"carpet\":[{\"aaxis\":{\"endlinecolor\":\"#2a3f5f\",\"gridcolor\":\"white\",\"linecolor\":\"white\",\"minorgridcolor\":\"white\",\"startlinecolor\":\"#2a3f5f\"},\"baxis\":{\"endlinecolor\":\"#2a3f5f\",\"gridcolor\":\"white\",\"linecolor\":\"white\",\"minorgridcolor\":\"white\",\"startlinecolor\":\"#2a3f5f\"},\"type\":\"carpet\"}],\"choropleth\":[{\"colorbar\":{\"outlinewidth\":0,\"ticks\":\"\"},\"type\":\"choropleth\"}],\"contourcarpet\":[{\"colorbar\":{\"outlinewidth\":0,\"ticks\":\"\"},\"type\":\"contourcarpet\"}],\"contour\":[{\"colorbar\":{\"outlinewidth\":0,\"ticks\":\"\"},\"colorscale\":[[0.0,\"#0d0887\"],[0.1111111111111111,\"#46039f\"],[0.2222222222222222,\"#7201a8\"],[0.3333333333333333,\"#9c179e\"],[0.4444444444444444,\"#bd3786\"],[0.5555555555555556,\"#d8576b\"],[0.6666666666666666,\"#ed7953\"],[0.7777777777777778,\"#fb9f3a\"],[0.8888888888888888,\"#fdca26\"],[1.0,\"#f0f921\"]],\"type\":\"contour\"}],\"heatmapgl\":[{\"colorbar\":{\"outlinewidth\":0,\"ticks\":\"\"},\"colorscale\":[[0.0,\"#0d0887\"],[0.1111111111111111,\"#46039f\"],[0.2222222222222222,\"#7201a8\"],[0.3333333333333333,\"#9c179e\"],[0.4444444444444444,\"#bd3786\"],[0.5555555555555556,\"#d8576b\"],[0.6666666666666666,\"#ed7953\"],[0.7777777777777778,\"#fb9f3a\"],[0.8888888888888888,\"#fdca26\"],[1.0,\"#f0f921\"]],\"type\":\"heatmapgl\"}],\"heatmap\":[{\"colorbar\":{\"outlinewidth\":0,\"ticks\":\"\"},\"colorscale\":[[0.0,\"#0d0887\"],[0.1111111111111111,\"#46039f\"],[0.2222222222222222,\"#7201a8\"],[0.3333333333333333,\"#9c179e\"],[0.4444444444444444,\"#bd3786\"],[0.5555555555555556,\"#d8576b\"],[0.6666666666666666,\"#ed7953\"],[0.7777777777777778,\"#fb9f3a\"],[0.8888888888888888,\"#fdca26\"],[1.0,\"#f0f921\"]],\"type\":\"heatmap\"}],\"histogram2dcontour\":[{\"colorbar\":{\"outlinewidth\":0,\"ticks\":\"\"},\"colorscale\":[[0.0,\"#0d0887\"],[0.1111111111111111,\"#46039f\"],[0.2222222222222222,\"#7201a8\"],[0.3333333333333333,\"#9c179e\"],[0.4444444444444444,\"#bd3786\"],[0.5555555555555556,\"#d8576b\"],[0.6666666666666666,\"#ed7953\"],[0.7777777777777778,\"#fb9f3a\"],[0.8888888888888888,\"#fdca26\"],[1.0,\"#f0f921\"]],\"type\":\"histogram2dcontour\"}],\"histogram2d\":[{\"colorbar\":{\"outlinewidth\":0,\"ticks\":\"\"},\"colorscale\":[[0.0,\"#0d0887\"],[0.1111111111111111,\"#46039f\"],[0.2222222222222222,\"#7201a8\"],[0.3333333333333333,\"#9c179e\"],[0.4444444444444444,\"#bd3786\"],[0.5555555555555556,\"#d8576b\"],[0.6666666666666666,\"#ed7953\"],[0.7777777777777778,\"#fb9f3a\"],[0.8888888888888888,\"#fdca26\"],[1.0,\"#f0f921\"]],\"type\":\"histogram2d\"}],\"histogram\":[{\"marker\":{\"pattern\":{\"fillmode\":\"overlay\",\"size\":10,\"solidity\":0.2}},\"type\":\"histogram\"}],\"mesh3d\":[{\"colorbar\":{\"outlinewidth\":0,\"ticks\":\"\"},\"type\":\"mesh3d\"}],\"parcoords\":[{\"line\":{\"colorbar\":{\"outlinewidth\":0,\"ticks\":\"\"}},\"type\":\"parcoords\"}],\"pie\":[{\"automargin\":true,\"type\":\"pie\"}],\"scatter3d\":[{\"line\":{\"colorbar\":{\"outlinewidth\":0,\"ticks\":\"\"}},\"marker\":{\"colorbar\":{\"outlinewidth\":0,\"ticks\":\"\"}},\"type\":\"scatter3d\"}],\"scattercarpet\":[{\"marker\":{\"colorbar\":{\"outlinewidth\":0,\"ticks\":\"\"}},\"type\":\"scattercarpet\"}],\"scattergeo\":[{\"marker\":{\"colorbar\":{\"outlinewidth\":0,\"ticks\":\"\"}},\"type\":\"scattergeo\"}],\"scattergl\":[{\"marker\":{\"colorbar\":{\"outlinewidth\":0,\"ticks\":\"\"}},\"type\":\"scattergl\"}],\"scattermapbox\":[{\"marker\":{\"colorbar\":{\"outlinewidth\":0,\"ticks\":\"\"}},\"type\":\"scattermapbox\"}],\"scatterpolargl\":[{\"marker\":{\"colorbar\":{\"outlinewidth\":0,\"ticks\":\"\"}},\"type\":\"scatterpolargl\"}],\"scatterpolar\":[{\"marker\":{\"colorbar\":{\"outlinewidth\":0,\"ticks\":\"\"}},\"type\":\"scatterpolar\"}],\"scatter\":[{\"fillpattern\":{\"fillmode\":\"overlay\",\"size\":10,\"solidity\":0.2},\"type\":\"scatter\"}],\"scatterternary\":[{\"marker\":{\"colorbar\":{\"outlinewidth\":0,\"ticks\":\"\"}},\"type\":\"scatterternary\"}],\"surface\":[{\"colorbar\":{\"outlinewidth\":0,\"ticks\":\"\"},\"colorscale\":[[0.0,\"#0d0887\"],[0.1111111111111111,\"#46039f\"],[0.2222222222222222,\"#7201a8\"],[0.3333333333333333,\"#9c179e\"],[0.4444444444444444,\"#bd3786\"],[0.5555555555555556,\"#d8576b\"],[0.6666666666666666,\"#ed7953\"],[0.7777777777777778,\"#fb9f3a\"],[0.8888888888888888,\"#fdca26\"],[1.0,\"#f0f921\"]],\"type\":\"surface\"}],\"table\":[{\"cells\":{\"fill\":{\"color\":\"#EBF0F8\"},\"line\":{\"color\":\"white\"}},\"header\":{\"fill\":{\"color\":\"#C8D4E3\"},\"line\":{\"color\":\"white\"}},\"type\":\"table\"}]},\"layout\":{\"annotationdefaults\":{\"arrowcolor\":\"#2a3f5f\",\"arrowhead\":0,\"arrowwidth\":1},\"autotypenumbers\":\"strict\",\"coloraxis\":{\"colorbar\":{\"outlinewidth\":0,\"ticks\":\"\"}},\"colorscale\":{\"diverging\":[[0,\"#8e0152\"],[0.1,\"#c51b7d\"],[0.2,\"#de77ae\"],[0.3,\"#f1b6da\"],[0.4,\"#fde0ef\"],[0.5,\"#f7f7f7\"],[0.6,\"#e6f5d0\"],[0.7,\"#b8e186\"],[0.8,\"#7fbc41\"],[0.9,\"#4d9221\"],[1,\"#276419\"]],\"sequential\":[[0.0,\"#0d0887\"],[0.1111111111111111,\"#46039f\"],[0.2222222222222222,\"#7201a8\"],[0.3333333333333333,\"#9c179e\"],[0.4444444444444444,\"#bd3786\"],[0.5555555555555556,\"#d8576b\"],[0.6666666666666666,\"#ed7953\"],[0.7777777777777778,\"#fb9f3a\"],[0.8888888888888888,\"#fdca26\"],[1.0,\"#f0f921\"]],\"sequentialminus\":[[0.0,\"#0d0887\"],[0.1111111111111111,\"#46039f\"],[0.2222222222222222,\"#7201a8\"],[0.3333333333333333,\"#9c179e\"],[0.4444444444444444,\"#bd3786\"],[0.5555555555555556,\"#d8576b\"],[0.6666666666666666,\"#ed7953\"],[0.7777777777777778,\"#fb9f3a\"],[0.8888888888888888,\"#fdca26\"],[1.0,\"#f0f921\"]]},\"colorway\":[\"#636efa\",\"#EF553B\",\"#00cc96\",\"#ab63fa\",\"#FFA15A\",\"#19d3f3\",\"#FF6692\",\"#B6E880\",\"#FF97FF\",\"#FECB52\"],\"font\":{\"color\":\"#2a3f5f\"},\"geo\":{\"bgcolor\":\"white\",\"lakecolor\":\"white\",\"landcolor\":\"#E5ECF6\",\"showlakes\":true,\"showland\":true,\"subunitcolor\":\"white\"},\"hoverlabel\":{\"align\":\"left\"},\"hovermode\":\"closest\",\"mapbox\":{\"style\":\"light\"},\"paper_bgcolor\":\"white\",\"plot_bgcolor\":\"#E5ECF6\",\"polar\":{\"angularaxis\":{\"gridcolor\":\"white\",\"linecolor\":\"white\",\"ticks\":\"\"},\"bgcolor\":\"#E5ECF6\",\"radialaxis\":{\"gridcolor\":\"white\",\"linecolor\":\"white\",\"ticks\":\"\"}},\"scene\":{\"xaxis\":{\"backgroundcolor\":\"#E5ECF6\",\"gridcolor\":\"white\",\"gridwidth\":2,\"linecolor\":\"white\",\"showbackground\":true,\"ticks\":\"\",\"zerolinecolor\":\"white\"},\"yaxis\":{\"backgroundcolor\":\"#E5ECF6\",\"gridcolor\":\"white\",\"gridwidth\":2,\"linecolor\":\"white\",\"showbackground\":true,\"ticks\":\"\",\"zerolinecolor\":\"white\"},\"zaxis\":{\"backgroundcolor\":\"#E5ECF6\",\"gridcolor\":\"white\",\"gridwidth\":2,\"linecolor\":\"white\",\"showbackground\":true,\"ticks\":\"\",\"zerolinecolor\":\"white\"}},\"shapedefaults\":{\"line\":{\"color\":\"#2a3f5f\"}},\"ternary\":{\"aaxis\":{\"gridcolor\":\"white\",\"linecolor\":\"white\",\"ticks\":\"\"},\"baxis\":{\"gridcolor\":\"white\",\"linecolor\":\"white\",\"ticks\":\"\"},\"bgcolor\":\"#E5ECF6\",\"caxis\":{\"gridcolor\":\"white\",\"linecolor\":\"white\",\"ticks\":\"\"}},\"title\":{\"x\":0.05},\"xaxis\":{\"automargin\":true,\"gridcolor\":\"white\",\"linecolor\":\"white\",\"ticks\":\"\",\"title\":{\"standoff\":15},\"zerolinecolor\":\"white\",\"zerolinewidth\":2},\"yaxis\":{\"automargin\":true,\"gridcolor\":\"white\",\"linecolor\":\"white\",\"ticks\":\"\",\"title\":{\"standoff\":15},\"zerolinecolor\":\"white\",\"zerolinewidth\":2}}},\"title\":{\"font\":{\"color\":\"#4D5663\"}},\"xaxis\":{\"gridcolor\":\"#E1E5ED\",\"showgrid\":true,\"tickfont\":{\"color\":\"#4D5663\"},\"title\":{\"font\":{\"color\":\"#4D5663\"},\"text\":\"\"},\"zerolinecolor\":\"#E1E5ED\"},\"yaxis\":{\"gridcolor\":\"#E1E5ED\",\"showgrid\":true,\"tickfont\":{\"color\":\"#4D5663\"},\"title\":{\"font\":{\"color\":\"#4D5663\"},\"text\":\"\"},\"zerolinecolor\":\"#E1E5ED\"}},                        {\"showLink\": true, \"linkText\": \"Export to plot.ly\", \"plotlyServerURL\": \"https://plot.ly\", \"responsive\": true}                    ).then(function(){\n",
       "                            \n",
       "var gd = document.getElementById('a55cd709-3816-4111-b10b-b897a5939818');\n",
       "var x = new MutationObserver(function (mutations, observer) {{\n",
       "        var display = window.getComputedStyle(gd).display;\n",
       "        if (!display || display === 'none') {{\n",
       "            console.log([gd, 'removed!']);\n",
       "            Plotly.purge(gd);\n",
       "            observer.disconnect();\n",
       "        }}\n",
       "}});\n",
       "\n",
       "// Listen for the removal of the full notebook cells\n",
       "var notebookContainer = gd.closest('#notebook-container');\n",
       "if (notebookContainer) {{\n",
       "    x.observe(notebookContainer, {childList: true});\n",
       "}}\n",
       "\n",
       "// Listen for the clearing of the current output cell\n",
       "var outputEl = gd.closest('.output');\n",
       "if (outputEl) {{\n",
       "    x.observe(outputEl, {childList: true});\n",
       "}}\n",
       "\n",
       "                        })                };                });            </script>        </div>"
      ]
     },
     "metadata": {},
     "output_type": "display_data"
    }
   ],
   "source": [
    "df2.iplot(kind='bar',x='Category',y='Values')"
   ]
  },
  {
   "cell_type": "code",
   "execution_count": 12,
   "metadata": {},
   "outputs": [
    {
     "data": {
      "application/vnd.plotly.v1+json": {
       "config": {
        "linkText": "Export to plot.ly",
        "plotlyServerURL": "https://plot.ly",
        "showLink": true
       },
       "data": [
        {
         "marker": {
          "color": "rgba(255, 153, 51, 0.6)",
          "line": {
           "color": "rgba(255, 153, 51, 1.0)",
           "width": 1
          }
         },
         "name": "None",
         "orientation": "v",
         "text": "",
         "type": "bar",
         "x": [
          "A",
          "B",
          "C",
          "D"
         ],
         "y": [
          100,
          100,
          100,
          100
         ]
        }
       ],
       "layout": {
        "legend": {
         "bgcolor": "#F5F6F9",
         "font": {
          "color": "#4D5663"
         }
        },
        "paper_bgcolor": "#F5F6F9",
        "plot_bgcolor": "#F5F6F9",
        "template": {
         "data": {
          "bar": [
           {
            "error_x": {
             "color": "#2a3f5f"
            },
            "error_y": {
             "color": "#2a3f5f"
            },
            "marker": {
             "line": {
              "color": "#E5ECF6",
              "width": 0.5
             },
             "pattern": {
              "fillmode": "overlay",
              "size": 10,
              "solidity": 0.2
             }
            },
            "type": "bar"
           }
          ],
          "barpolar": [
           {
            "marker": {
             "line": {
              "color": "#E5ECF6",
              "width": 0.5
             },
             "pattern": {
              "fillmode": "overlay",
              "size": 10,
              "solidity": 0.2
             }
            },
            "type": "barpolar"
           }
          ],
          "carpet": [
           {
            "aaxis": {
             "endlinecolor": "#2a3f5f",
             "gridcolor": "white",
             "linecolor": "white",
             "minorgridcolor": "white",
             "startlinecolor": "#2a3f5f"
            },
            "baxis": {
             "endlinecolor": "#2a3f5f",
             "gridcolor": "white",
             "linecolor": "white",
             "minorgridcolor": "white",
             "startlinecolor": "#2a3f5f"
            },
            "type": "carpet"
           }
          ],
          "choropleth": [
           {
            "colorbar": {
             "outlinewidth": 0,
             "ticks": ""
            },
            "type": "choropleth"
           }
          ],
          "contour": [
           {
            "colorbar": {
             "outlinewidth": 0,
             "ticks": ""
            },
            "colorscale": [
             [
              0,
              "#0d0887"
             ],
             [
              0.1111111111111111,
              "#46039f"
             ],
             [
              0.2222222222222222,
              "#7201a8"
             ],
             [
              0.3333333333333333,
              "#9c179e"
             ],
             [
              0.4444444444444444,
              "#bd3786"
             ],
             [
              0.5555555555555556,
              "#d8576b"
             ],
             [
              0.6666666666666666,
              "#ed7953"
             ],
             [
              0.7777777777777778,
              "#fb9f3a"
             ],
             [
              0.8888888888888888,
              "#fdca26"
             ],
             [
              1,
              "#f0f921"
             ]
            ],
            "type": "contour"
           }
          ],
          "contourcarpet": [
           {
            "colorbar": {
             "outlinewidth": 0,
             "ticks": ""
            },
            "type": "contourcarpet"
           }
          ],
          "heatmap": [
           {
            "colorbar": {
             "outlinewidth": 0,
             "ticks": ""
            },
            "colorscale": [
             [
              0,
              "#0d0887"
             ],
             [
              0.1111111111111111,
              "#46039f"
             ],
             [
              0.2222222222222222,
              "#7201a8"
             ],
             [
              0.3333333333333333,
              "#9c179e"
             ],
             [
              0.4444444444444444,
              "#bd3786"
             ],
             [
              0.5555555555555556,
              "#d8576b"
             ],
             [
              0.6666666666666666,
              "#ed7953"
             ],
             [
              0.7777777777777778,
              "#fb9f3a"
             ],
             [
              0.8888888888888888,
              "#fdca26"
             ],
             [
              1,
              "#f0f921"
             ]
            ],
            "type": "heatmap"
           }
          ],
          "heatmapgl": [
           {
            "colorbar": {
             "outlinewidth": 0,
             "ticks": ""
            },
            "colorscale": [
             [
              0,
              "#0d0887"
             ],
             [
              0.1111111111111111,
              "#46039f"
             ],
             [
              0.2222222222222222,
              "#7201a8"
             ],
             [
              0.3333333333333333,
              "#9c179e"
             ],
             [
              0.4444444444444444,
              "#bd3786"
             ],
             [
              0.5555555555555556,
              "#d8576b"
             ],
             [
              0.6666666666666666,
              "#ed7953"
             ],
             [
              0.7777777777777778,
              "#fb9f3a"
             ],
             [
              0.8888888888888888,
              "#fdca26"
             ],
             [
              1,
              "#f0f921"
             ]
            ],
            "type": "heatmapgl"
           }
          ],
          "histogram": [
           {
            "marker": {
             "pattern": {
              "fillmode": "overlay",
              "size": 10,
              "solidity": 0.2
             }
            },
            "type": "histogram"
           }
          ],
          "histogram2d": [
           {
            "colorbar": {
             "outlinewidth": 0,
             "ticks": ""
            },
            "colorscale": [
             [
              0,
              "#0d0887"
             ],
             [
              0.1111111111111111,
              "#46039f"
             ],
             [
              0.2222222222222222,
              "#7201a8"
             ],
             [
              0.3333333333333333,
              "#9c179e"
             ],
             [
              0.4444444444444444,
              "#bd3786"
             ],
             [
              0.5555555555555556,
              "#d8576b"
             ],
             [
              0.6666666666666666,
              "#ed7953"
             ],
             [
              0.7777777777777778,
              "#fb9f3a"
             ],
             [
              0.8888888888888888,
              "#fdca26"
             ],
             [
              1,
              "#f0f921"
             ]
            ],
            "type": "histogram2d"
           }
          ],
          "histogram2dcontour": [
           {
            "colorbar": {
             "outlinewidth": 0,
             "ticks": ""
            },
            "colorscale": [
             [
              0,
              "#0d0887"
             ],
             [
              0.1111111111111111,
              "#46039f"
             ],
             [
              0.2222222222222222,
              "#7201a8"
             ],
             [
              0.3333333333333333,
              "#9c179e"
             ],
             [
              0.4444444444444444,
              "#bd3786"
             ],
             [
              0.5555555555555556,
              "#d8576b"
             ],
             [
              0.6666666666666666,
              "#ed7953"
             ],
             [
              0.7777777777777778,
              "#fb9f3a"
             ],
             [
              0.8888888888888888,
              "#fdca26"
             ],
             [
              1,
              "#f0f921"
             ]
            ],
            "type": "histogram2dcontour"
           }
          ],
          "mesh3d": [
           {
            "colorbar": {
             "outlinewidth": 0,
             "ticks": ""
            },
            "type": "mesh3d"
           }
          ],
          "parcoords": [
           {
            "line": {
             "colorbar": {
              "outlinewidth": 0,
              "ticks": ""
             }
            },
            "type": "parcoords"
           }
          ],
          "pie": [
           {
            "automargin": true,
            "type": "pie"
           }
          ],
          "scatter": [
           {
            "fillpattern": {
             "fillmode": "overlay",
             "size": 10,
             "solidity": 0.2
            },
            "type": "scatter"
           }
          ],
          "scatter3d": [
           {
            "line": {
             "colorbar": {
              "outlinewidth": 0,
              "ticks": ""
             }
            },
            "marker": {
             "colorbar": {
              "outlinewidth": 0,
              "ticks": ""
             }
            },
            "type": "scatter3d"
           }
          ],
          "scattercarpet": [
           {
            "marker": {
             "colorbar": {
              "outlinewidth": 0,
              "ticks": ""
             }
            },
            "type": "scattercarpet"
           }
          ],
          "scattergeo": [
           {
            "marker": {
             "colorbar": {
              "outlinewidth": 0,
              "ticks": ""
             }
            },
            "type": "scattergeo"
           }
          ],
          "scattergl": [
           {
            "marker": {
             "colorbar": {
              "outlinewidth": 0,
              "ticks": ""
             }
            },
            "type": "scattergl"
           }
          ],
          "scattermapbox": [
           {
            "marker": {
             "colorbar": {
              "outlinewidth": 0,
              "ticks": ""
             }
            },
            "type": "scattermapbox"
           }
          ],
          "scatterpolar": [
           {
            "marker": {
             "colorbar": {
              "outlinewidth": 0,
              "ticks": ""
             }
            },
            "type": "scatterpolar"
           }
          ],
          "scatterpolargl": [
           {
            "marker": {
             "colorbar": {
              "outlinewidth": 0,
              "ticks": ""
             }
            },
            "type": "scatterpolargl"
           }
          ],
          "scatterternary": [
           {
            "marker": {
             "colorbar": {
              "outlinewidth": 0,
              "ticks": ""
             }
            },
            "type": "scatterternary"
           }
          ],
          "surface": [
           {
            "colorbar": {
             "outlinewidth": 0,
             "ticks": ""
            },
            "colorscale": [
             [
              0,
              "#0d0887"
             ],
             [
              0.1111111111111111,
              "#46039f"
             ],
             [
              0.2222222222222222,
              "#7201a8"
             ],
             [
              0.3333333333333333,
              "#9c179e"
             ],
             [
              0.4444444444444444,
              "#bd3786"
             ],
             [
              0.5555555555555556,
              "#d8576b"
             ],
             [
              0.6666666666666666,
              "#ed7953"
             ],
             [
              0.7777777777777778,
              "#fb9f3a"
             ],
             [
              0.8888888888888888,
              "#fdca26"
             ],
             [
              1,
              "#f0f921"
             ]
            ],
            "type": "surface"
           }
          ],
          "table": [
           {
            "cells": {
             "fill": {
              "color": "#EBF0F8"
             },
             "line": {
              "color": "white"
             }
            },
            "header": {
             "fill": {
              "color": "#C8D4E3"
             },
             "line": {
              "color": "white"
             }
            },
            "type": "table"
           }
          ]
         },
         "layout": {
          "annotationdefaults": {
           "arrowcolor": "#2a3f5f",
           "arrowhead": 0,
           "arrowwidth": 1
          },
          "autotypenumbers": "strict",
          "coloraxis": {
           "colorbar": {
            "outlinewidth": 0,
            "ticks": ""
           }
          },
          "colorscale": {
           "diverging": [
            [
             0,
             "#8e0152"
            ],
            [
             0.1,
             "#c51b7d"
            ],
            [
             0.2,
             "#de77ae"
            ],
            [
             0.3,
             "#f1b6da"
            ],
            [
             0.4,
             "#fde0ef"
            ],
            [
             0.5,
             "#f7f7f7"
            ],
            [
             0.6,
             "#e6f5d0"
            ],
            [
             0.7,
             "#b8e186"
            ],
            [
             0.8,
             "#7fbc41"
            ],
            [
             0.9,
             "#4d9221"
            ],
            [
             1,
             "#276419"
            ]
           ],
           "sequential": [
            [
             0,
             "#0d0887"
            ],
            [
             0.1111111111111111,
             "#46039f"
            ],
            [
             0.2222222222222222,
             "#7201a8"
            ],
            [
             0.3333333333333333,
             "#9c179e"
            ],
            [
             0.4444444444444444,
             "#bd3786"
            ],
            [
             0.5555555555555556,
             "#d8576b"
            ],
            [
             0.6666666666666666,
             "#ed7953"
            ],
            [
             0.7777777777777778,
             "#fb9f3a"
            ],
            [
             0.8888888888888888,
             "#fdca26"
            ],
            [
             1,
             "#f0f921"
            ]
           ],
           "sequentialminus": [
            [
             0,
             "#0d0887"
            ],
            [
             0.1111111111111111,
             "#46039f"
            ],
            [
             0.2222222222222222,
             "#7201a8"
            ],
            [
             0.3333333333333333,
             "#9c179e"
            ],
            [
             0.4444444444444444,
             "#bd3786"
            ],
            [
             0.5555555555555556,
             "#d8576b"
            ],
            [
             0.6666666666666666,
             "#ed7953"
            ],
            [
             0.7777777777777778,
             "#fb9f3a"
            ],
            [
             0.8888888888888888,
             "#fdca26"
            ],
            [
             1,
             "#f0f921"
            ]
           ]
          },
          "colorway": [
           "#636efa",
           "#EF553B",
           "#00cc96",
           "#ab63fa",
           "#FFA15A",
           "#19d3f3",
           "#FF6692",
           "#B6E880",
           "#FF97FF",
           "#FECB52"
          ],
          "font": {
           "color": "#2a3f5f"
          },
          "geo": {
           "bgcolor": "white",
           "lakecolor": "white",
           "landcolor": "#E5ECF6",
           "showlakes": true,
           "showland": true,
           "subunitcolor": "white"
          },
          "hoverlabel": {
           "align": "left"
          },
          "hovermode": "closest",
          "mapbox": {
           "style": "light"
          },
          "paper_bgcolor": "white",
          "plot_bgcolor": "#E5ECF6",
          "polar": {
           "angularaxis": {
            "gridcolor": "white",
            "linecolor": "white",
            "ticks": ""
           },
           "bgcolor": "#E5ECF6",
           "radialaxis": {
            "gridcolor": "white",
            "linecolor": "white",
            "ticks": ""
           }
          },
          "scene": {
           "xaxis": {
            "backgroundcolor": "#E5ECF6",
            "gridcolor": "white",
            "gridwidth": 2,
            "linecolor": "white",
            "showbackground": true,
            "ticks": "",
            "zerolinecolor": "white"
           },
           "yaxis": {
            "backgroundcolor": "#E5ECF6",
            "gridcolor": "white",
            "gridwidth": 2,
            "linecolor": "white",
            "showbackground": true,
            "ticks": "",
            "zerolinecolor": "white"
           },
           "zaxis": {
            "backgroundcolor": "#E5ECF6",
            "gridcolor": "white",
            "gridwidth": 2,
            "linecolor": "white",
            "showbackground": true,
            "ticks": "",
            "zerolinecolor": "white"
           }
          },
          "shapedefaults": {
           "line": {
            "color": "#2a3f5f"
           }
          },
          "ternary": {
           "aaxis": {
            "gridcolor": "white",
            "linecolor": "white",
            "ticks": ""
           },
           "baxis": {
            "gridcolor": "white",
            "linecolor": "white",
            "ticks": ""
           },
           "bgcolor": "#E5ECF6",
           "caxis": {
            "gridcolor": "white",
            "linecolor": "white",
            "ticks": ""
           }
          },
          "title": {
           "x": 0.05
          },
          "xaxis": {
           "automargin": true,
           "gridcolor": "white",
           "linecolor": "white",
           "ticks": "",
           "title": {
            "standoff": 15
           },
           "zerolinecolor": "white",
           "zerolinewidth": 2
          },
          "yaxis": {
           "automargin": true,
           "gridcolor": "white",
           "linecolor": "white",
           "ticks": "",
           "title": {
            "standoff": 15
           },
           "zerolinecolor": "white",
           "zerolinewidth": 2
          }
         }
        },
        "title": {
         "font": {
          "color": "#4D5663"
         }
        },
        "xaxis": {
         "gridcolor": "#E1E5ED",
         "showgrid": true,
         "tickfont": {
          "color": "#4D5663"
         },
         "title": {
          "font": {
           "color": "#4D5663"
          },
          "text": ""
         },
         "zerolinecolor": "#E1E5ED"
        },
        "yaxis": {
         "gridcolor": "#E1E5ED",
         "showgrid": true,
         "tickfont": {
          "color": "#4D5663"
         },
         "title": {
          "font": {
           "color": "#4D5663"
          },
          "text": ""
         },
         "zerolinecolor": "#E1E5ED"
        }
       }
      },
      "text/html": [
       "<div>                            <div id=\"6148c8ef-9855-4805-b811-33cd102b38b2\" class=\"plotly-graph-div\" style=\"height:525px; width:100%;\"></div>            <script type=\"text/javascript\">                require([\"plotly\"], function(Plotly) {                    window.PLOTLYENV=window.PLOTLYENV || {};\n",
       "                    window.PLOTLYENV.BASE_URL='https://plot.ly';                                    if (document.getElementById(\"6148c8ef-9855-4805-b811-33cd102b38b2\")) {                    Plotly.newPlot(                        \"6148c8ef-9855-4805-b811-33cd102b38b2\",                        [{\"marker\":{\"color\":\"rgba(255, 153, 51, 0.6)\",\"line\":{\"color\":\"rgba(255, 153, 51, 1.0)\",\"width\":1}},\"name\":\"None\",\"orientation\":\"v\",\"text\":\"\",\"x\":[\"A\",\"B\",\"C\",\"D\"],\"y\":[100,100,100,100],\"type\":\"bar\"}],                        {\"legend\":{\"bgcolor\":\"#F5F6F9\",\"font\":{\"color\":\"#4D5663\"}},\"paper_bgcolor\":\"#F5F6F9\",\"plot_bgcolor\":\"#F5F6F9\",\"template\":{\"data\":{\"barpolar\":[{\"marker\":{\"line\":{\"color\":\"#E5ECF6\",\"width\":0.5},\"pattern\":{\"fillmode\":\"overlay\",\"size\":10,\"solidity\":0.2}},\"type\":\"barpolar\"}],\"bar\":[{\"error_x\":{\"color\":\"#2a3f5f\"},\"error_y\":{\"color\":\"#2a3f5f\"},\"marker\":{\"line\":{\"color\":\"#E5ECF6\",\"width\":0.5},\"pattern\":{\"fillmode\":\"overlay\",\"size\":10,\"solidity\":0.2}},\"type\":\"bar\"}],\"carpet\":[{\"aaxis\":{\"endlinecolor\":\"#2a3f5f\",\"gridcolor\":\"white\",\"linecolor\":\"white\",\"minorgridcolor\":\"white\",\"startlinecolor\":\"#2a3f5f\"},\"baxis\":{\"endlinecolor\":\"#2a3f5f\",\"gridcolor\":\"white\",\"linecolor\":\"white\",\"minorgridcolor\":\"white\",\"startlinecolor\":\"#2a3f5f\"},\"type\":\"carpet\"}],\"choropleth\":[{\"colorbar\":{\"outlinewidth\":0,\"ticks\":\"\"},\"type\":\"choropleth\"}],\"contourcarpet\":[{\"colorbar\":{\"outlinewidth\":0,\"ticks\":\"\"},\"type\":\"contourcarpet\"}],\"contour\":[{\"colorbar\":{\"outlinewidth\":0,\"ticks\":\"\"},\"colorscale\":[[0.0,\"#0d0887\"],[0.1111111111111111,\"#46039f\"],[0.2222222222222222,\"#7201a8\"],[0.3333333333333333,\"#9c179e\"],[0.4444444444444444,\"#bd3786\"],[0.5555555555555556,\"#d8576b\"],[0.6666666666666666,\"#ed7953\"],[0.7777777777777778,\"#fb9f3a\"],[0.8888888888888888,\"#fdca26\"],[1.0,\"#f0f921\"]],\"type\":\"contour\"}],\"heatmapgl\":[{\"colorbar\":{\"outlinewidth\":0,\"ticks\":\"\"},\"colorscale\":[[0.0,\"#0d0887\"],[0.1111111111111111,\"#46039f\"],[0.2222222222222222,\"#7201a8\"],[0.3333333333333333,\"#9c179e\"],[0.4444444444444444,\"#bd3786\"],[0.5555555555555556,\"#d8576b\"],[0.6666666666666666,\"#ed7953\"],[0.7777777777777778,\"#fb9f3a\"],[0.8888888888888888,\"#fdca26\"],[1.0,\"#f0f921\"]],\"type\":\"heatmapgl\"}],\"heatmap\":[{\"colorbar\":{\"outlinewidth\":0,\"ticks\":\"\"},\"colorscale\":[[0.0,\"#0d0887\"],[0.1111111111111111,\"#46039f\"],[0.2222222222222222,\"#7201a8\"],[0.3333333333333333,\"#9c179e\"],[0.4444444444444444,\"#bd3786\"],[0.5555555555555556,\"#d8576b\"],[0.6666666666666666,\"#ed7953\"],[0.7777777777777778,\"#fb9f3a\"],[0.8888888888888888,\"#fdca26\"],[1.0,\"#f0f921\"]],\"type\":\"heatmap\"}],\"histogram2dcontour\":[{\"colorbar\":{\"outlinewidth\":0,\"ticks\":\"\"},\"colorscale\":[[0.0,\"#0d0887\"],[0.1111111111111111,\"#46039f\"],[0.2222222222222222,\"#7201a8\"],[0.3333333333333333,\"#9c179e\"],[0.4444444444444444,\"#bd3786\"],[0.5555555555555556,\"#d8576b\"],[0.6666666666666666,\"#ed7953\"],[0.7777777777777778,\"#fb9f3a\"],[0.8888888888888888,\"#fdca26\"],[1.0,\"#f0f921\"]],\"type\":\"histogram2dcontour\"}],\"histogram2d\":[{\"colorbar\":{\"outlinewidth\":0,\"ticks\":\"\"},\"colorscale\":[[0.0,\"#0d0887\"],[0.1111111111111111,\"#46039f\"],[0.2222222222222222,\"#7201a8\"],[0.3333333333333333,\"#9c179e\"],[0.4444444444444444,\"#bd3786\"],[0.5555555555555556,\"#d8576b\"],[0.6666666666666666,\"#ed7953\"],[0.7777777777777778,\"#fb9f3a\"],[0.8888888888888888,\"#fdca26\"],[1.0,\"#f0f921\"]],\"type\":\"histogram2d\"}],\"histogram\":[{\"marker\":{\"pattern\":{\"fillmode\":\"overlay\",\"size\":10,\"solidity\":0.2}},\"type\":\"histogram\"}],\"mesh3d\":[{\"colorbar\":{\"outlinewidth\":0,\"ticks\":\"\"},\"type\":\"mesh3d\"}],\"parcoords\":[{\"line\":{\"colorbar\":{\"outlinewidth\":0,\"ticks\":\"\"}},\"type\":\"parcoords\"}],\"pie\":[{\"automargin\":true,\"type\":\"pie\"}],\"scatter3d\":[{\"line\":{\"colorbar\":{\"outlinewidth\":0,\"ticks\":\"\"}},\"marker\":{\"colorbar\":{\"outlinewidth\":0,\"ticks\":\"\"}},\"type\":\"scatter3d\"}],\"scattercarpet\":[{\"marker\":{\"colorbar\":{\"outlinewidth\":0,\"ticks\":\"\"}},\"type\":\"scattercarpet\"}],\"scattergeo\":[{\"marker\":{\"colorbar\":{\"outlinewidth\":0,\"ticks\":\"\"}},\"type\":\"scattergeo\"}],\"scattergl\":[{\"marker\":{\"colorbar\":{\"outlinewidth\":0,\"ticks\":\"\"}},\"type\":\"scattergl\"}],\"scattermapbox\":[{\"marker\":{\"colorbar\":{\"outlinewidth\":0,\"ticks\":\"\"}},\"type\":\"scattermapbox\"}],\"scatterpolargl\":[{\"marker\":{\"colorbar\":{\"outlinewidth\":0,\"ticks\":\"\"}},\"type\":\"scatterpolargl\"}],\"scatterpolar\":[{\"marker\":{\"colorbar\":{\"outlinewidth\":0,\"ticks\":\"\"}},\"type\":\"scatterpolar\"}],\"scatter\":[{\"fillpattern\":{\"fillmode\":\"overlay\",\"size\":10,\"solidity\":0.2},\"type\":\"scatter\"}],\"scatterternary\":[{\"marker\":{\"colorbar\":{\"outlinewidth\":0,\"ticks\":\"\"}},\"type\":\"scatterternary\"}],\"surface\":[{\"colorbar\":{\"outlinewidth\":0,\"ticks\":\"\"},\"colorscale\":[[0.0,\"#0d0887\"],[0.1111111111111111,\"#46039f\"],[0.2222222222222222,\"#7201a8\"],[0.3333333333333333,\"#9c179e\"],[0.4444444444444444,\"#bd3786\"],[0.5555555555555556,\"#d8576b\"],[0.6666666666666666,\"#ed7953\"],[0.7777777777777778,\"#fb9f3a\"],[0.8888888888888888,\"#fdca26\"],[1.0,\"#f0f921\"]],\"type\":\"surface\"}],\"table\":[{\"cells\":{\"fill\":{\"color\":\"#EBF0F8\"},\"line\":{\"color\":\"white\"}},\"header\":{\"fill\":{\"color\":\"#C8D4E3\"},\"line\":{\"color\":\"white\"}},\"type\":\"table\"}]},\"layout\":{\"annotationdefaults\":{\"arrowcolor\":\"#2a3f5f\",\"arrowhead\":0,\"arrowwidth\":1},\"autotypenumbers\":\"strict\",\"coloraxis\":{\"colorbar\":{\"outlinewidth\":0,\"ticks\":\"\"}},\"colorscale\":{\"diverging\":[[0,\"#8e0152\"],[0.1,\"#c51b7d\"],[0.2,\"#de77ae\"],[0.3,\"#f1b6da\"],[0.4,\"#fde0ef\"],[0.5,\"#f7f7f7\"],[0.6,\"#e6f5d0\"],[0.7,\"#b8e186\"],[0.8,\"#7fbc41\"],[0.9,\"#4d9221\"],[1,\"#276419\"]],\"sequential\":[[0.0,\"#0d0887\"],[0.1111111111111111,\"#46039f\"],[0.2222222222222222,\"#7201a8\"],[0.3333333333333333,\"#9c179e\"],[0.4444444444444444,\"#bd3786\"],[0.5555555555555556,\"#d8576b\"],[0.6666666666666666,\"#ed7953\"],[0.7777777777777778,\"#fb9f3a\"],[0.8888888888888888,\"#fdca26\"],[1.0,\"#f0f921\"]],\"sequentialminus\":[[0.0,\"#0d0887\"],[0.1111111111111111,\"#46039f\"],[0.2222222222222222,\"#7201a8\"],[0.3333333333333333,\"#9c179e\"],[0.4444444444444444,\"#bd3786\"],[0.5555555555555556,\"#d8576b\"],[0.6666666666666666,\"#ed7953\"],[0.7777777777777778,\"#fb9f3a\"],[0.8888888888888888,\"#fdca26\"],[1.0,\"#f0f921\"]]},\"colorway\":[\"#636efa\",\"#EF553B\",\"#00cc96\",\"#ab63fa\",\"#FFA15A\",\"#19d3f3\",\"#FF6692\",\"#B6E880\",\"#FF97FF\",\"#FECB52\"],\"font\":{\"color\":\"#2a3f5f\"},\"geo\":{\"bgcolor\":\"white\",\"lakecolor\":\"white\",\"landcolor\":\"#E5ECF6\",\"showlakes\":true,\"showland\":true,\"subunitcolor\":\"white\"},\"hoverlabel\":{\"align\":\"left\"},\"hovermode\":\"closest\",\"mapbox\":{\"style\":\"light\"},\"paper_bgcolor\":\"white\",\"plot_bgcolor\":\"#E5ECF6\",\"polar\":{\"angularaxis\":{\"gridcolor\":\"white\",\"linecolor\":\"white\",\"ticks\":\"\"},\"bgcolor\":\"#E5ECF6\",\"radialaxis\":{\"gridcolor\":\"white\",\"linecolor\":\"white\",\"ticks\":\"\"}},\"scene\":{\"xaxis\":{\"backgroundcolor\":\"#E5ECF6\",\"gridcolor\":\"white\",\"gridwidth\":2,\"linecolor\":\"white\",\"showbackground\":true,\"ticks\":\"\",\"zerolinecolor\":\"white\"},\"yaxis\":{\"backgroundcolor\":\"#E5ECF6\",\"gridcolor\":\"white\",\"gridwidth\":2,\"linecolor\":\"white\",\"showbackground\":true,\"ticks\":\"\",\"zerolinecolor\":\"white\"},\"zaxis\":{\"backgroundcolor\":\"#E5ECF6\",\"gridcolor\":\"white\",\"gridwidth\":2,\"linecolor\":\"white\",\"showbackground\":true,\"ticks\":\"\",\"zerolinecolor\":\"white\"}},\"shapedefaults\":{\"line\":{\"color\":\"#2a3f5f\"}},\"ternary\":{\"aaxis\":{\"gridcolor\":\"white\",\"linecolor\":\"white\",\"ticks\":\"\"},\"baxis\":{\"gridcolor\":\"white\",\"linecolor\":\"white\",\"ticks\":\"\"},\"bgcolor\":\"#E5ECF6\",\"caxis\":{\"gridcolor\":\"white\",\"linecolor\":\"white\",\"ticks\":\"\"}},\"title\":{\"x\":0.05},\"xaxis\":{\"automargin\":true,\"gridcolor\":\"white\",\"linecolor\":\"white\",\"ticks\":\"\",\"title\":{\"standoff\":15},\"zerolinecolor\":\"white\",\"zerolinewidth\":2},\"yaxis\":{\"automargin\":true,\"gridcolor\":\"white\",\"linecolor\":\"white\",\"ticks\":\"\",\"title\":{\"standoff\":15},\"zerolinecolor\":\"white\",\"zerolinewidth\":2}}},\"title\":{\"font\":{\"color\":\"#4D5663\"}},\"xaxis\":{\"gridcolor\":\"#E1E5ED\",\"showgrid\":true,\"tickfont\":{\"color\":\"#4D5663\"},\"title\":{\"font\":{\"color\":\"#4D5663\"},\"text\":\"\"},\"zerolinecolor\":\"#E1E5ED\"},\"yaxis\":{\"gridcolor\":\"#E1E5ED\",\"showgrid\":true,\"tickfont\":{\"color\":\"#4D5663\"},\"title\":{\"font\":{\"color\":\"#4D5663\"},\"text\":\"\"},\"zerolinecolor\":\"#E1E5ED\"}},                        {\"showLink\": true, \"linkText\": \"Export to plot.ly\", \"plotlyServerURL\": \"https://plot.ly\", \"responsive\": true}                    ).then(function(){\n",
       "                            \n",
       "var gd = document.getElementById('6148c8ef-9855-4805-b811-33cd102b38b2');\n",
       "var x = new MutationObserver(function (mutations, observer) {{\n",
       "        var display = window.getComputedStyle(gd).display;\n",
       "        if (!display || display === 'none') {{\n",
       "            console.log([gd, 'removed!']);\n",
       "            Plotly.purge(gd);\n",
       "            observer.disconnect();\n",
       "        }}\n",
       "}});\n",
       "\n",
       "// Listen for the removal of the full notebook cells\n",
       "var notebookContainer = gd.closest('#notebook-container');\n",
       "if (notebookContainer) {{\n",
       "    x.observe(notebookContainer, {childList: true});\n",
       "}}\n",
       "\n",
       "// Listen for the clearing of the current output cell\n",
       "var outputEl = gd.closest('.output');\n",
       "if (outputEl) {{\n",
       "    x.observe(outputEl, {childList: true});\n",
       "}}\n",
       "\n",
       "                        })                };                });            </script>        </div>"
      ]
     },
     "metadata": {},
     "output_type": "display_data"
    }
   ],
   "source": [
    "df.count().iplot(kind='bar')"
   ]
  },
  {
   "cell_type": "code",
   "execution_count": 13,
   "metadata": {},
   "outputs": [
    {
     "data": {
      "application/vnd.plotly.v1+json": {
       "config": {
        "linkText": "Export to plot.ly",
        "plotlyServerURL": "https://plot.ly",
        "showLink": true
       },
       "data": [
        {
         "boxpoints": false,
         "line": {
          "width": 1.3
         },
         "marker": {
          "color": "rgba(255, 153, 51, 1.0)"
         },
         "name": "A",
         "orientation": "v",
         "type": "box",
         "y": [
          -0.6107347761616178,
          0.4201614153496461,
          -0.29605152886844865,
          -0.603856601378769,
          -0.34992557814699554,
          0.5068350913538099,
          1.4993263879906027,
          -2.334241991002616,
          -0.756289536182581,
          0.029039928572972565,
          -0.06418705977340332,
          0.9316899277347028,
          0.6315071913942684,
          -0.8448886098897598,
          0.17075138231478665,
          -0.46156067536114953,
          0.7665613566497056,
          -0.4836983678082965,
          0.16642518180746108,
          1.4564782581774924,
          0.9606524678241097,
          0.8542978329522262,
          -0.675314325805229,
          0.195511600271729,
          -1.7488760698587718,
          0.7124539851075085,
          2.0468217852064288,
          1.6248644217502146,
          -0.5286160896870696,
          -1.6561743116422956,
          1.0753782176872302,
          -0.4697669545323898,
          -0.009018585905509479,
          -0.541569847684211,
          1.6913214206556852,
          -1.788246523479366,
          0.522833167186685,
          -0.9934573505043022,
          1.6399751744524727,
          0.3374694500440057,
          -2.193678870035607,
          -1.017633199473239,
          0.3679345306105512,
          -1.3036150063236591,
          0.7462578429627574,
          -0.506156177257477,
          1.7176523623457138,
          1.7793863386202,
          0.07923784823916726,
          1.6723340011782664,
          0.026694156864108736,
          0.4857432640720413,
          -1.4103267776792288,
          -1.1830495094733648,
          -0.1792308752387724,
          -0.22071995812812675,
          -1.3270964256209172,
          -0.43120218142331274,
          -0.6256456712456581,
          -0.29497815162776525,
          1.467718648245481,
          -0.9304178622442733,
          -0.11510147301732727,
          -0.3767284928261818,
          0.478108904510788,
          3.7525358111818345,
          -0.03242175767615414,
          -0.3640156611750831,
          0.018466623262912058,
          -0.2434299789991597,
          -0.11500724514530727,
          -2.0214049601657518,
          0.690130295394509,
          0.2532383016783365,
          1.5331578664393732,
          -0.8853998372881371,
          -1.4352841075731064,
          0.2598125345509629,
          0.5956194819973099,
          0.22788031283148957,
          -0.13797830670137154,
          -1.4183777937548996,
          -0.07232292085057175,
          1.156608410254206,
          0.7622513100528217,
          -1.906380748783229,
          0.7045019662098876,
          3.1287391387449923,
          0.12687249379699703,
          0.10233161108321426,
          -0.793703598152564,
          0.5962107888831366,
          -0.5230777107716984,
          -1.4983543424046748,
          -1.474001813667417,
          1.1806612185186167,
          -0.9268646615012716,
          0.03494592384986443,
          0.936911761668089,
          -1.5336897066452815
         ]
        },
        {
         "boxpoints": false,
         "line": {
          "width": 1.3
         },
         "marker": {
          "color": "rgba(55, 128, 191, 1.0)"
         },
         "name": "B",
         "orientation": "v",
         "type": "box",
         "y": [
          -0.7515845289098267,
          -1.3501185693636415,
          0.16077795108916015,
          1.0972421667024326,
          -1.5551617340524697,
          0.36473435593692705,
          -1.0305068105461639,
          -1.1324253826988833,
          -0.6873504943516671,
          0.1069282354870738,
          -1.695536516849996,
          0.2425816618019362,
          1.2687297380945173,
          0.020225855520632312,
          0.2892120761545208,
          0.1297778773904678,
          -0.7374435068199338,
          -1.4400098572821194,
          0.0032000310074377443,
          2.3156191209106116,
          -2.104552277645811,
          -0.22379452958198373,
          0.9883500188308598,
          1.3851046302259347,
          -1.0928793648108472,
          0.2912452071491476,
          -0.4106886803289102,
          -0.7209245389511091,
          -0.07317020772918818,
          0.2694790571470932,
          1.375091364288301,
          -0.23046375294234592,
          -0.05784828915091585,
          -0.4026832249574582,
          1.3880505778741024,
          1.0770560109162644,
          -1.6785547624603565,
          0.8704258254204967,
          1.2192626939395739,
          -0.11185202419003015,
          -0.763588692976187,
          1.490195261649367,
          2.1775088878872806,
          0.7277948316579071,
          -0.49372189274523937,
          -0.2338324822911922,
          -0.3379344582705307,
          0.4704751985297546,
          -0.7631725910562722,
          -1.305388313612196,
          0.19336190533982603,
          0.7328086527251998,
          0.7706362653881076,
          -1.2925763526257745,
          -0.8104937348956527,
          -0.5563194360896363,
          -1.972197874409348,
          -0.1932211683793346,
          0.24658648621738297,
          -0.27580446480575443,
          -0.04910140696994737,
          0.902700698539591,
          -0.06394334025850491,
          0.044784293824225885,
          0.6038793255782594,
          1.1287050189302426,
          -0.5778578018120689,
          -0.10347513287249659,
          1.5211159073742107,
          -0.9286680897045665,
          -0.24014144423313558,
          2.478875929720434,
          -1.7514335396591265,
          0.19996871943196137,
          0.6321232809455622,
          1.9589895318338868,
          -0.8238855966095642,
          0.12473054236890199,
          1.7645917749679907,
          -0.6231437672773471,
          -1.1610423310897395,
          -1.9156473976700872,
          -1.6126019221487324,
          1.7382721048015093,
          0.05761002640626352,
          3.1060553929808754,
          1.2978766991775879,
          2.379727283652175,
          -0.38706280385902053,
          -0.14276694931792414,
          0.9865472939839993,
          -0.658203460481953,
          -0.6939476238479197,
          0.4663609204522567,
          -0.9611668389082888,
          -0.3286381457693652,
          -0.47002996096212685,
          -0.09953330550484732,
          -0.5157759703517617,
          0.17564907964270188
         ]
        },
        {
         "boxpoints": false,
         "line": {
          "width": 1.3
         },
         "marker": {
          "color": "rgba(50, 171, 96, 1.0)"
         },
         "name": "C",
         "orientation": "v",
         "type": "box",
         "y": [
          1.5101091402276365,
          0.15930592184746883,
          -0.6299520387685452,
          0.3795807867872899,
          -0.19549533178946357,
          1.6939992555492187,
          0.05863713860289682,
          0.031121505849155323,
          1.2145504382687164,
          0.9130385507942945,
          -0.10168848795949312,
          -0.42858764690705176,
          0.8122487801722668,
          -1.7627832646047805,
          -1.2061865423226135,
          0.4017902099314714,
          1.35173144399414,
          2.6774994781814963,
          -0.8109607891562296,
          -1.1152760578728993,
          -1.226851543648753,
          -1.6301692713880749,
          0.07774594059031383,
          0.478072187395388,
          -0.8253604446559677,
          1.1165972830006823,
          0.09770839807695156,
          -0.5630481280324108,
          0.23521091169642136,
          -1.1969858101490503,
          0.6310295007431875,
          0.13190096760114592,
          -0.20839898882731747,
          0.44877637347420823,
          0.4440570972113594,
          -0.6629807611552002,
          -0.3599818408286735,
          -0.6301631782881789,
          -1.4986905657015461,
          1.000787371158141,
          -0.3552390228243466,
          2.661219349367528,
          -1.3177836033556052,
          2.5832762748938864,
          0.5509745061883669,
          0.4529260955824585,
          0.3352218070075668,
          0.08753580770403321,
          -0.6500869447684293,
          -0.6637943908785625,
          0.17198389554492016,
          0.5178145189460188,
          0.08789442169735215,
          -0.9229128851314942,
          0.12538790860771418,
          -0.21751522072824378,
          -0.5276374844060169,
          -1.1480141930377978,
          -0.7139454373412848,
          -1.769402952512191,
          -1.4866672685840105,
          0.549542416188863,
          -1.2006159320776877,
          0.04538127264095669,
          0.9132573376845505,
          1.5507290409973893,
          0.40709486552146207,
          -1.3130947090351033,
          0.01234367165756752,
          -0.6551194330222805,
          -0.5445099357041456,
          -0.5096044224474188,
          -2.073664096466441,
          1.5507004576413281,
          0.13860628599479177,
          0.7187881982441798,
          1.1347831582725276,
          -0.1360791029180377,
          -0.04882205666420648,
          1.5449579618847205,
          0.25061951511628144,
          0.8654922425298819,
          0.510758417490925,
          -1.030924834909416,
          -1.4654292203409918,
          0.5696095366476174,
          1.4810513651346715,
          -0.34499008093872285,
          0.3577009446889585,
          -1.014601618657675,
          -0.7113563708441443,
          -1.1255334203112146,
          1.3268411912846392,
          0.12057782308625307,
          2.6352253664616567,
          0.26784651624134276,
          1.6509851179104613,
          -0.1731164108988731,
          -1.4469851029051934,
          0.355005154872157
         ]
        },
        {
         "boxpoints": false,
         "line": {
          "width": 1.3
         },
         "marker": {
          "color": "rgba(128, 0, 128, 1.0)"
         },
         "name": "D",
         "orientation": "v",
         "type": "box",
         "y": [
          2.3898894927962258,
          -1.346185523310272,
          0.3926995477438022,
          -0.9599794920199762,
          2.145635862755704,
          0.19736932534681206,
          -0.016375879615479184,
          -0.5516553241472079,
          -0.19462394604008174,
          0.22516639879515654,
          -0.6676210246404063,
          0.42788569839835194,
          1.3961280369446534,
          1.2866373916759943,
          -0.07213962520428917,
          -0.224692107540565,
          0.08447571575585101,
          -0.4735521062853545,
          -0.5006714138007546,
          0.09100550312739152,
          0.46523334595572224,
          -1.83597908105119,
          -0.23389175808981608,
          -0.24385510409093322,
          -0.5911582767843231,
          -0.17068709130318022,
          -1.0687134676884893,
          0.038160659311079516,
          -1.4079380545672868,
          -1.815661259368501,
          -1.9886988873045035,
          0.47817133914898086,
          -0.5060345008623578,
          0.018883131631049124,
          -0.47962615890571564,
          0.6543138485575909,
          0.9031758088280951,
          0.547296167700335,
          1.2142993116092677,
          1.3889107281381117,
          -1.598570285757914,
          0.9278025225906082,
          0.5762031316364931,
          0.48363222487107577,
          -0.022749947354769297,
          -0.4658863161523873,
          1.626458234784676,
          -0.6776723699907173,
          0.26817200596668717,
          -0.435498668104195,
          0.7256894610052155,
          0.30887988732519234,
          0.9999726656830086,
          -0.4701219452261383,
          -0.7231044293670219,
          -1.1060357904552007,
          1.1876400307689436,
          1.1415469229047646,
          -0.19179028453130345,
          -0.5952721688987325,
          0.7003471207643943,
          -0.3093578682861099,
          -0.4194885044676614,
          -0.39974442856055636,
          0.07429196791584,
          0.4784857663946633,
          0.17033788804117667,
          -0.12564154107700404,
          0.8542227875313106,
          0.28551744139432644,
          -2.113006522544438,
          -1.1289229189161551,
          1.433883574901709,
          0.49204633008406096,
          -0.2615773401728134,
          0.3678047803139401,
          -0.13816533810562942,
          0.7076093131591633,
          0.060782453714857715,
          -0.16142616048645417,
          -1.2486078250468484,
          1.4672401263478823,
          -0.4374543544409514,
          -1.2380329371712746,
          -0.0516466126595105,
          0.8742873856600251,
          0.8685308786968833,
          -1.952290771484409,
          -0.22574090289942178,
          -1.073072535060036,
          0.04764455556960585,
          -2.27788731185454,
          -0.610745327952362,
          -0.3706943589554563,
          -0.12473087986892124,
          -3.2418750999737975,
          0.04474842511931487,
          -1.3074630796765412,
          0.8236942120155181,
          0.4849622852831096
         ]
        }
       ],
       "layout": {
        "legend": {
         "bgcolor": "#F5F6F9",
         "font": {
          "color": "#4D5663"
         }
        },
        "paper_bgcolor": "#F5F6F9",
        "plot_bgcolor": "#F5F6F9",
        "template": {
         "data": {
          "bar": [
           {
            "error_x": {
             "color": "#2a3f5f"
            },
            "error_y": {
             "color": "#2a3f5f"
            },
            "marker": {
             "line": {
              "color": "#E5ECF6",
              "width": 0.5
             },
             "pattern": {
              "fillmode": "overlay",
              "size": 10,
              "solidity": 0.2
             }
            },
            "type": "bar"
           }
          ],
          "barpolar": [
           {
            "marker": {
             "line": {
              "color": "#E5ECF6",
              "width": 0.5
             },
             "pattern": {
              "fillmode": "overlay",
              "size": 10,
              "solidity": 0.2
             }
            },
            "type": "barpolar"
           }
          ],
          "carpet": [
           {
            "aaxis": {
             "endlinecolor": "#2a3f5f",
             "gridcolor": "white",
             "linecolor": "white",
             "minorgridcolor": "white",
             "startlinecolor": "#2a3f5f"
            },
            "baxis": {
             "endlinecolor": "#2a3f5f",
             "gridcolor": "white",
             "linecolor": "white",
             "minorgridcolor": "white",
             "startlinecolor": "#2a3f5f"
            },
            "type": "carpet"
           }
          ],
          "choropleth": [
           {
            "colorbar": {
             "outlinewidth": 0,
             "ticks": ""
            },
            "type": "choropleth"
           }
          ],
          "contour": [
           {
            "colorbar": {
             "outlinewidth": 0,
             "ticks": ""
            },
            "colorscale": [
             [
              0,
              "#0d0887"
             ],
             [
              0.1111111111111111,
              "#46039f"
             ],
             [
              0.2222222222222222,
              "#7201a8"
             ],
             [
              0.3333333333333333,
              "#9c179e"
             ],
             [
              0.4444444444444444,
              "#bd3786"
             ],
             [
              0.5555555555555556,
              "#d8576b"
             ],
             [
              0.6666666666666666,
              "#ed7953"
             ],
             [
              0.7777777777777778,
              "#fb9f3a"
             ],
             [
              0.8888888888888888,
              "#fdca26"
             ],
             [
              1,
              "#f0f921"
             ]
            ],
            "type": "contour"
           }
          ],
          "contourcarpet": [
           {
            "colorbar": {
             "outlinewidth": 0,
             "ticks": ""
            },
            "type": "contourcarpet"
           }
          ],
          "heatmap": [
           {
            "colorbar": {
             "outlinewidth": 0,
             "ticks": ""
            },
            "colorscale": [
             [
              0,
              "#0d0887"
             ],
             [
              0.1111111111111111,
              "#46039f"
             ],
             [
              0.2222222222222222,
              "#7201a8"
             ],
             [
              0.3333333333333333,
              "#9c179e"
             ],
             [
              0.4444444444444444,
              "#bd3786"
             ],
             [
              0.5555555555555556,
              "#d8576b"
             ],
             [
              0.6666666666666666,
              "#ed7953"
             ],
             [
              0.7777777777777778,
              "#fb9f3a"
             ],
             [
              0.8888888888888888,
              "#fdca26"
             ],
             [
              1,
              "#f0f921"
             ]
            ],
            "type": "heatmap"
           }
          ],
          "heatmapgl": [
           {
            "colorbar": {
             "outlinewidth": 0,
             "ticks": ""
            },
            "colorscale": [
             [
              0,
              "#0d0887"
             ],
             [
              0.1111111111111111,
              "#46039f"
             ],
             [
              0.2222222222222222,
              "#7201a8"
             ],
             [
              0.3333333333333333,
              "#9c179e"
             ],
             [
              0.4444444444444444,
              "#bd3786"
             ],
             [
              0.5555555555555556,
              "#d8576b"
             ],
             [
              0.6666666666666666,
              "#ed7953"
             ],
             [
              0.7777777777777778,
              "#fb9f3a"
             ],
             [
              0.8888888888888888,
              "#fdca26"
             ],
             [
              1,
              "#f0f921"
             ]
            ],
            "type": "heatmapgl"
           }
          ],
          "histogram": [
           {
            "marker": {
             "pattern": {
              "fillmode": "overlay",
              "size": 10,
              "solidity": 0.2
             }
            },
            "type": "histogram"
           }
          ],
          "histogram2d": [
           {
            "colorbar": {
             "outlinewidth": 0,
             "ticks": ""
            },
            "colorscale": [
             [
              0,
              "#0d0887"
             ],
             [
              0.1111111111111111,
              "#46039f"
             ],
             [
              0.2222222222222222,
              "#7201a8"
             ],
             [
              0.3333333333333333,
              "#9c179e"
             ],
             [
              0.4444444444444444,
              "#bd3786"
             ],
             [
              0.5555555555555556,
              "#d8576b"
             ],
             [
              0.6666666666666666,
              "#ed7953"
             ],
             [
              0.7777777777777778,
              "#fb9f3a"
             ],
             [
              0.8888888888888888,
              "#fdca26"
             ],
             [
              1,
              "#f0f921"
             ]
            ],
            "type": "histogram2d"
           }
          ],
          "histogram2dcontour": [
           {
            "colorbar": {
             "outlinewidth": 0,
             "ticks": ""
            },
            "colorscale": [
             [
              0,
              "#0d0887"
             ],
             [
              0.1111111111111111,
              "#46039f"
             ],
             [
              0.2222222222222222,
              "#7201a8"
             ],
             [
              0.3333333333333333,
              "#9c179e"
             ],
             [
              0.4444444444444444,
              "#bd3786"
             ],
             [
              0.5555555555555556,
              "#d8576b"
             ],
             [
              0.6666666666666666,
              "#ed7953"
             ],
             [
              0.7777777777777778,
              "#fb9f3a"
             ],
             [
              0.8888888888888888,
              "#fdca26"
             ],
             [
              1,
              "#f0f921"
             ]
            ],
            "type": "histogram2dcontour"
           }
          ],
          "mesh3d": [
           {
            "colorbar": {
             "outlinewidth": 0,
             "ticks": ""
            },
            "type": "mesh3d"
           }
          ],
          "parcoords": [
           {
            "line": {
             "colorbar": {
              "outlinewidth": 0,
              "ticks": ""
             }
            },
            "type": "parcoords"
           }
          ],
          "pie": [
           {
            "automargin": true,
            "type": "pie"
           }
          ],
          "scatter": [
           {
            "fillpattern": {
             "fillmode": "overlay",
             "size": 10,
             "solidity": 0.2
            },
            "type": "scatter"
           }
          ],
          "scatter3d": [
           {
            "line": {
             "colorbar": {
              "outlinewidth": 0,
              "ticks": ""
             }
            },
            "marker": {
             "colorbar": {
              "outlinewidth": 0,
              "ticks": ""
             }
            },
            "type": "scatter3d"
           }
          ],
          "scattercarpet": [
           {
            "marker": {
             "colorbar": {
              "outlinewidth": 0,
              "ticks": ""
             }
            },
            "type": "scattercarpet"
           }
          ],
          "scattergeo": [
           {
            "marker": {
             "colorbar": {
              "outlinewidth": 0,
              "ticks": ""
             }
            },
            "type": "scattergeo"
           }
          ],
          "scattergl": [
           {
            "marker": {
             "colorbar": {
              "outlinewidth": 0,
              "ticks": ""
             }
            },
            "type": "scattergl"
           }
          ],
          "scattermapbox": [
           {
            "marker": {
             "colorbar": {
              "outlinewidth": 0,
              "ticks": ""
             }
            },
            "type": "scattermapbox"
           }
          ],
          "scatterpolar": [
           {
            "marker": {
             "colorbar": {
              "outlinewidth": 0,
              "ticks": ""
             }
            },
            "type": "scatterpolar"
           }
          ],
          "scatterpolargl": [
           {
            "marker": {
             "colorbar": {
              "outlinewidth": 0,
              "ticks": ""
             }
            },
            "type": "scatterpolargl"
           }
          ],
          "scatterternary": [
           {
            "marker": {
             "colorbar": {
              "outlinewidth": 0,
              "ticks": ""
             }
            },
            "type": "scatterternary"
           }
          ],
          "surface": [
           {
            "colorbar": {
             "outlinewidth": 0,
             "ticks": ""
            },
            "colorscale": [
             [
              0,
              "#0d0887"
             ],
             [
              0.1111111111111111,
              "#46039f"
             ],
             [
              0.2222222222222222,
              "#7201a8"
             ],
             [
              0.3333333333333333,
              "#9c179e"
             ],
             [
              0.4444444444444444,
              "#bd3786"
             ],
             [
              0.5555555555555556,
              "#d8576b"
             ],
             [
              0.6666666666666666,
              "#ed7953"
             ],
             [
              0.7777777777777778,
              "#fb9f3a"
             ],
             [
              0.8888888888888888,
              "#fdca26"
             ],
             [
              1,
              "#f0f921"
             ]
            ],
            "type": "surface"
           }
          ],
          "table": [
           {
            "cells": {
             "fill": {
              "color": "#EBF0F8"
             },
             "line": {
              "color": "white"
             }
            },
            "header": {
             "fill": {
              "color": "#C8D4E3"
             },
             "line": {
              "color": "white"
             }
            },
            "type": "table"
           }
          ]
         },
         "layout": {
          "annotationdefaults": {
           "arrowcolor": "#2a3f5f",
           "arrowhead": 0,
           "arrowwidth": 1
          },
          "autotypenumbers": "strict",
          "coloraxis": {
           "colorbar": {
            "outlinewidth": 0,
            "ticks": ""
           }
          },
          "colorscale": {
           "diverging": [
            [
             0,
             "#8e0152"
            ],
            [
             0.1,
             "#c51b7d"
            ],
            [
             0.2,
             "#de77ae"
            ],
            [
             0.3,
             "#f1b6da"
            ],
            [
             0.4,
             "#fde0ef"
            ],
            [
             0.5,
             "#f7f7f7"
            ],
            [
             0.6,
             "#e6f5d0"
            ],
            [
             0.7,
             "#b8e186"
            ],
            [
             0.8,
             "#7fbc41"
            ],
            [
             0.9,
             "#4d9221"
            ],
            [
             1,
             "#276419"
            ]
           ],
           "sequential": [
            [
             0,
             "#0d0887"
            ],
            [
             0.1111111111111111,
             "#46039f"
            ],
            [
             0.2222222222222222,
             "#7201a8"
            ],
            [
             0.3333333333333333,
             "#9c179e"
            ],
            [
             0.4444444444444444,
             "#bd3786"
            ],
            [
             0.5555555555555556,
             "#d8576b"
            ],
            [
             0.6666666666666666,
             "#ed7953"
            ],
            [
             0.7777777777777778,
             "#fb9f3a"
            ],
            [
             0.8888888888888888,
             "#fdca26"
            ],
            [
             1,
             "#f0f921"
            ]
           ],
           "sequentialminus": [
            [
             0,
             "#0d0887"
            ],
            [
             0.1111111111111111,
             "#46039f"
            ],
            [
             0.2222222222222222,
             "#7201a8"
            ],
            [
             0.3333333333333333,
             "#9c179e"
            ],
            [
             0.4444444444444444,
             "#bd3786"
            ],
            [
             0.5555555555555556,
             "#d8576b"
            ],
            [
             0.6666666666666666,
             "#ed7953"
            ],
            [
             0.7777777777777778,
             "#fb9f3a"
            ],
            [
             0.8888888888888888,
             "#fdca26"
            ],
            [
             1,
             "#f0f921"
            ]
           ]
          },
          "colorway": [
           "#636efa",
           "#EF553B",
           "#00cc96",
           "#ab63fa",
           "#FFA15A",
           "#19d3f3",
           "#FF6692",
           "#B6E880",
           "#FF97FF",
           "#FECB52"
          ],
          "font": {
           "color": "#2a3f5f"
          },
          "geo": {
           "bgcolor": "white",
           "lakecolor": "white",
           "landcolor": "#E5ECF6",
           "showlakes": true,
           "showland": true,
           "subunitcolor": "white"
          },
          "hoverlabel": {
           "align": "left"
          },
          "hovermode": "closest",
          "mapbox": {
           "style": "light"
          },
          "paper_bgcolor": "white",
          "plot_bgcolor": "#E5ECF6",
          "polar": {
           "angularaxis": {
            "gridcolor": "white",
            "linecolor": "white",
            "ticks": ""
           },
           "bgcolor": "#E5ECF6",
           "radialaxis": {
            "gridcolor": "white",
            "linecolor": "white",
            "ticks": ""
           }
          },
          "scene": {
           "xaxis": {
            "backgroundcolor": "#E5ECF6",
            "gridcolor": "white",
            "gridwidth": 2,
            "linecolor": "white",
            "showbackground": true,
            "ticks": "",
            "zerolinecolor": "white"
           },
           "yaxis": {
            "backgroundcolor": "#E5ECF6",
            "gridcolor": "white",
            "gridwidth": 2,
            "linecolor": "white",
            "showbackground": true,
            "ticks": "",
            "zerolinecolor": "white"
           },
           "zaxis": {
            "backgroundcolor": "#E5ECF6",
            "gridcolor": "white",
            "gridwidth": 2,
            "linecolor": "white",
            "showbackground": true,
            "ticks": "",
            "zerolinecolor": "white"
           }
          },
          "shapedefaults": {
           "line": {
            "color": "#2a3f5f"
           }
          },
          "ternary": {
           "aaxis": {
            "gridcolor": "white",
            "linecolor": "white",
            "ticks": ""
           },
           "baxis": {
            "gridcolor": "white",
            "linecolor": "white",
            "ticks": ""
           },
           "bgcolor": "#E5ECF6",
           "caxis": {
            "gridcolor": "white",
            "linecolor": "white",
            "ticks": ""
           }
          },
          "title": {
           "x": 0.05
          },
          "xaxis": {
           "automargin": true,
           "gridcolor": "white",
           "linecolor": "white",
           "ticks": "",
           "title": {
            "standoff": 15
           },
           "zerolinecolor": "white",
           "zerolinewidth": 2
          },
          "yaxis": {
           "automargin": true,
           "gridcolor": "white",
           "linecolor": "white",
           "ticks": "",
           "title": {
            "standoff": 15
           },
           "zerolinecolor": "white",
           "zerolinewidth": 2
          }
         }
        },
        "title": {
         "font": {
          "color": "#4D5663"
         }
        },
        "xaxis": {
         "gridcolor": "#E1E5ED",
         "showgrid": true,
         "tickfont": {
          "color": "#4D5663"
         },
         "title": {
          "font": {
           "color": "#4D5663"
          },
          "text": ""
         },
         "zerolinecolor": "#E1E5ED"
        },
        "yaxis": {
         "gridcolor": "#E1E5ED",
         "showgrid": true,
         "tickfont": {
          "color": "#4D5663"
         },
         "title": {
          "font": {
           "color": "#4D5663"
          },
          "text": ""
         },
         "zerolinecolor": "#E1E5ED"
        }
       }
      },
      "text/html": [
       "<div>                            <div id=\"4162578f-ffcc-4371-87a9-836c444031cb\" class=\"plotly-graph-div\" style=\"height:525px; width:100%;\"></div>            <script type=\"text/javascript\">                require([\"plotly\"], function(Plotly) {                    window.PLOTLYENV=window.PLOTLYENV || {};\n",
       "                    window.PLOTLYENV.BASE_URL='https://plot.ly';                                    if (document.getElementById(\"4162578f-ffcc-4371-87a9-836c444031cb\")) {                    Plotly.newPlot(                        \"4162578f-ffcc-4371-87a9-836c444031cb\",                        [{\"boxpoints\":false,\"line\":{\"width\":1.3},\"marker\":{\"color\":\"rgba(255, 153, 51, 1.0)\"},\"name\":\"A\",\"orientation\":\"v\",\"y\":[-0.6107347761616178,0.4201614153496461,-0.29605152886844865,-0.603856601378769,-0.34992557814699554,0.5068350913538099,1.4993263879906027,-2.334241991002616,-0.756289536182581,0.029039928572972565,-0.06418705977340332,0.9316899277347028,0.6315071913942684,-0.8448886098897598,0.17075138231478665,-0.46156067536114953,0.7665613566497056,-0.4836983678082965,0.16642518180746108,1.4564782581774924,0.9606524678241097,0.8542978329522262,-0.675314325805229,0.195511600271729,-1.7488760698587718,0.7124539851075085,2.0468217852064288,1.6248644217502146,-0.5286160896870696,-1.6561743116422956,1.0753782176872302,-0.4697669545323898,-0.009018585905509479,-0.541569847684211,1.6913214206556852,-1.788246523479366,0.522833167186685,-0.9934573505043022,1.6399751744524727,0.3374694500440057,-2.193678870035607,-1.017633199473239,0.3679345306105512,-1.3036150063236591,0.7462578429627574,-0.506156177257477,1.7176523623457138,1.7793863386202,0.07923784823916726,1.6723340011782664,0.026694156864108736,0.4857432640720413,-1.4103267776792288,-1.1830495094733648,-0.1792308752387724,-0.22071995812812675,-1.3270964256209172,-0.43120218142331274,-0.6256456712456581,-0.29497815162776525,1.467718648245481,-0.9304178622442733,-0.11510147301732727,-0.3767284928261818,0.478108904510788,3.7525358111818345,-0.03242175767615414,-0.3640156611750831,0.018466623262912058,-0.2434299789991597,-0.11500724514530727,-2.0214049601657518,0.690130295394509,0.2532383016783365,1.5331578664393732,-0.8853998372881371,-1.4352841075731064,0.2598125345509629,0.5956194819973099,0.22788031283148957,-0.13797830670137154,-1.4183777937548996,-0.07232292085057175,1.156608410254206,0.7622513100528217,-1.906380748783229,0.7045019662098876,3.1287391387449923,0.12687249379699703,0.10233161108321426,-0.793703598152564,0.5962107888831366,-0.5230777107716984,-1.4983543424046748,-1.474001813667417,1.1806612185186167,-0.9268646615012716,0.03494592384986443,0.936911761668089,-1.5336897066452815],\"type\":\"box\"},{\"boxpoints\":false,\"line\":{\"width\":1.3},\"marker\":{\"color\":\"rgba(55, 128, 191, 1.0)\"},\"name\":\"B\",\"orientation\":\"v\",\"y\":[-0.7515845289098267,-1.3501185693636415,0.16077795108916015,1.0972421667024326,-1.5551617340524697,0.36473435593692705,-1.0305068105461639,-1.1324253826988833,-0.6873504943516671,0.1069282354870738,-1.695536516849996,0.2425816618019362,1.2687297380945173,0.020225855520632312,0.2892120761545208,0.1297778773904678,-0.7374435068199338,-1.4400098572821194,0.0032000310074377443,2.3156191209106116,-2.104552277645811,-0.22379452958198373,0.9883500188308598,1.3851046302259347,-1.0928793648108472,0.2912452071491476,-0.4106886803289102,-0.7209245389511091,-0.07317020772918818,0.2694790571470932,1.375091364288301,-0.23046375294234592,-0.05784828915091585,-0.4026832249574582,1.3880505778741024,1.0770560109162644,-1.6785547624603565,0.8704258254204967,1.2192626939395739,-0.11185202419003015,-0.763588692976187,1.490195261649367,2.1775088878872806,0.7277948316579071,-0.49372189274523937,-0.2338324822911922,-0.3379344582705307,0.4704751985297546,-0.7631725910562722,-1.305388313612196,0.19336190533982603,0.7328086527251998,0.7706362653881076,-1.2925763526257745,-0.8104937348956527,-0.5563194360896363,-1.972197874409348,-0.1932211683793346,0.24658648621738297,-0.27580446480575443,-0.04910140696994737,0.902700698539591,-0.06394334025850491,0.044784293824225885,0.6038793255782594,1.1287050189302426,-0.5778578018120689,-0.10347513287249659,1.5211159073742107,-0.9286680897045665,-0.24014144423313558,2.478875929720434,-1.7514335396591265,0.19996871943196137,0.6321232809455622,1.9589895318338868,-0.8238855966095642,0.12473054236890199,1.7645917749679907,-0.6231437672773471,-1.1610423310897395,-1.9156473976700872,-1.6126019221487324,1.7382721048015093,0.05761002640626352,3.1060553929808754,1.2978766991775879,2.379727283652175,-0.38706280385902053,-0.14276694931792414,0.9865472939839993,-0.658203460481953,-0.6939476238479197,0.4663609204522567,-0.9611668389082888,-0.3286381457693652,-0.47002996096212685,-0.09953330550484732,-0.5157759703517617,0.17564907964270188],\"type\":\"box\"},{\"boxpoints\":false,\"line\":{\"width\":1.3},\"marker\":{\"color\":\"rgba(50, 171, 96, 1.0)\"},\"name\":\"C\",\"orientation\":\"v\",\"y\":[1.5101091402276365,0.15930592184746883,-0.6299520387685452,0.3795807867872899,-0.19549533178946357,1.6939992555492187,0.05863713860289682,0.031121505849155323,1.2145504382687164,0.9130385507942945,-0.10168848795949312,-0.42858764690705176,0.8122487801722668,-1.7627832646047805,-1.2061865423226135,0.4017902099314714,1.35173144399414,2.6774994781814963,-0.8109607891562296,-1.1152760578728993,-1.226851543648753,-1.6301692713880749,0.07774594059031383,0.478072187395388,-0.8253604446559677,1.1165972830006823,0.09770839807695156,-0.5630481280324108,0.23521091169642136,-1.1969858101490503,0.6310295007431875,0.13190096760114592,-0.20839898882731747,0.44877637347420823,0.4440570972113594,-0.6629807611552002,-0.3599818408286735,-0.6301631782881789,-1.4986905657015461,1.000787371158141,-0.3552390228243466,2.661219349367528,-1.3177836033556052,2.5832762748938864,0.5509745061883669,0.4529260955824585,0.3352218070075668,0.08753580770403321,-0.6500869447684293,-0.6637943908785625,0.17198389554492016,0.5178145189460188,0.08789442169735215,-0.9229128851314942,0.12538790860771418,-0.21751522072824378,-0.5276374844060169,-1.1480141930377978,-0.7139454373412848,-1.769402952512191,-1.4866672685840105,0.549542416188863,-1.2006159320776877,0.04538127264095669,0.9132573376845505,1.5507290409973893,0.40709486552146207,-1.3130947090351033,0.01234367165756752,-0.6551194330222805,-0.5445099357041456,-0.5096044224474188,-2.073664096466441,1.5507004576413281,0.13860628599479177,0.7187881982441798,1.1347831582725276,-0.1360791029180377,-0.04882205666420648,1.5449579618847205,0.25061951511628144,0.8654922425298819,0.510758417490925,-1.030924834909416,-1.4654292203409918,0.5696095366476174,1.4810513651346715,-0.34499008093872285,0.3577009446889585,-1.014601618657675,-0.7113563708441443,-1.1255334203112146,1.3268411912846392,0.12057782308625307,2.6352253664616567,0.26784651624134276,1.6509851179104613,-0.1731164108988731,-1.4469851029051934,0.355005154872157],\"type\":\"box\"},{\"boxpoints\":false,\"line\":{\"width\":1.3},\"marker\":{\"color\":\"rgba(128, 0, 128, 1.0)\"},\"name\":\"D\",\"orientation\":\"v\",\"y\":[2.3898894927962258,-1.346185523310272,0.3926995477438022,-0.9599794920199762,2.145635862755704,0.19736932534681206,-0.016375879615479184,-0.5516553241472079,-0.19462394604008174,0.22516639879515654,-0.6676210246404063,0.42788569839835194,1.3961280369446534,1.2866373916759943,-0.07213962520428917,-0.224692107540565,0.08447571575585101,-0.4735521062853545,-0.5006714138007546,0.09100550312739152,0.46523334595572224,-1.83597908105119,-0.23389175808981608,-0.24385510409093322,-0.5911582767843231,-0.17068709130318022,-1.0687134676884893,0.038160659311079516,-1.4079380545672868,-1.815661259368501,-1.9886988873045035,0.47817133914898086,-0.5060345008623578,0.018883131631049124,-0.47962615890571564,0.6543138485575909,0.9031758088280951,0.547296167700335,1.2142993116092677,1.3889107281381117,-1.598570285757914,0.9278025225906082,0.5762031316364931,0.48363222487107577,-0.022749947354769297,-0.4658863161523873,1.626458234784676,-0.6776723699907173,0.26817200596668717,-0.435498668104195,0.7256894610052155,0.30887988732519234,0.9999726656830086,-0.4701219452261383,-0.7231044293670219,-1.1060357904552007,1.1876400307689436,1.1415469229047646,-0.19179028453130345,-0.5952721688987325,0.7003471207643943,-0.3093578682861099,-0.4194885044676614,-0.39974442856055636,0.07429196791584,0.4784857663946633,0.17033788804117667,-0.12564154107700404,0.8542227875313106,0.28551744139432644,-2.113006522544438,-1.1289229189161551,1.433883574901709,0.49204633008406096,-0.2615773401728134,0.3678047803139401,-0.13816533810562942,0.7076093131591633,0.060782453714857715,-0.16142616048645417,-1.2486078250468484,1.4672401263478823,-0.4374543544409514,-1.2380329371712746,-0.0516466126595105,0.8742873856600251,0.8685308786968833,-1.952290771484409,-0.22574090289942178,-1.073072535060036,0.04764455556960585,-2.27788731185454,-0.610745327952362,-0.3706943589554563,-0.12473087986892124,-3.2418750999737975,0.04474842511931487,-1.3074630796765412,0.8236942120155181,0.4849622852831096],\"type\":\"box\"}],                        {\"legend\":{\"bgcolor\":\"#F5F6F9\",\"font\":{\"color\":\"#4D5663\"}},\"paper_bgcolor\":\"#F5F6F9\",\"plot_bgcolor\":\"#F5F6F9\",\"template\":{\"data\":{\"barpolar\":[{\"marker\":{\"line\":{\"color\":\"#E5ECF6\",\"width\":0.5},\"pattern\":{\"fillmode\":\"overlay\",\"size\":10,\"solidity\":0.2}},\"type\":\"barpolar\"}],\"bar\":[{\"error_x\":{\"color\":\"#2a3f5f\"},\"error_y\":{\"color\":\"#2a3f5f\"},\"marker\":{\"line\":{\"color\":\"#E5ECF6\",\"width\":0.5},\"pattern\":{\"fillmode\":\"overlay\",\"size\":10,\"solidity\":0.2}},\"type\":\"bar\"}],\"carpet\":[{\"aaxis\":{\"endlinecolor\":\"#2a3f5f\",\"gridcolor\":\"white\",\"linecolor\":\"white\",\"minorgridcolor\":\"white\",\"startlinecolor\":\"#2a3f5f\"},\"baxis\":{\"endlinecolor\":\"#2a3f5f\",\"gridcolor\":\"white\",\"linecolor\":\"white\",\"minorgridcolor\":\"white\",\"startlinecolor\":\"#2a3f5f\"},\"type\":\"carpet\"}],\"choropleth\":[{\"colorbar\":{\"outlinewidth\":0,\"ticks\":\"\"},\"type\":\"choropleth\"}],\"contourcarpet\":[{\"colorbar\":{\"outlinewidth\":0,\"ticks\":\"\"},\"type\":\"contourcarpet\"}],\"contour\":[{\"colorbar\":{\"outlinewidth\":0,\"ticks\":\"\"},\"colorscale\":[[0.0,\"#0d0887\"],[0.1111111111111111,\"#46039f\"],[0.2222222222222222,\"#7201a8\"],[0.3333333333333333,\"#9c179e\"],[0.4444444444444444,\"#bd3786\"],[0.5555555555555556,\"#d8576b\"],[0.6666666666666666,\"#ed7953\"],[0.7777777777777778,\"#fb9f3a\"],[0.8888888888888888,\"#fdca26\"],[1.0,\"#f0f921\"]],\"type\":\"contour\"}],\"heatmapgl\":[{\"colorbar\":{\"outlinewidth\":0,\"ticks\":\"\"},\"colorscale\":[[0.0,\"#0d0887\"],[0.1111111111111111,\"#46039f\"],[0.2222222222222222,\"#7201a8\"],[0.3333333333333333,\"#9c179e\"],[0.4444444444444444,\"#bd3786\"],[0.5555555555555556,\"#d8576b\"],[0.6666666666666666,\"#ed7953\"],[0.7777777777777778,\"#fb9f3a\"],[0.8888888888888888,\"#fdca26\"],[1.0,\"#f0f921\"]],\"type\":\"heatmapgl\"}],\"heatmap\":[{\"colorbar\":{\"outlinewidth\":0,\"ticks\":\"\"},\"colorscale\":[[0.0,\"#0d0887\"],[0.1111111111111111,\"#46039f\"],[0.2222222222222222,\"#7201a8\"],[0.3333333333333333,\"#9c179e\"],[0.4444444444444444,\"#bd3786\"],[0.5555555555555556,\"#d8576b\"],[0.6666666666666666,\"#ed7953\"],[0.7777777777777778,\"#fb9f3a\"],[0.8888888888888888,\"#fdca26\"],[1.0,\"#f0f921\"]],\"type\":\"heatmap\"}],\"histogram2dcontour\":[{\"colorbar\":{\"outlinewidth\":0,\"ticks\":\"\"},\"colorscale\":[[0.0,\"#0d0887\"],[0.1111111111111111,\"#46039f\"],[0.2222222222222222,\"#7201a8\"],[0.3333333333333333,\"#9c179e\"],[0.4444444444444444,\"#bd3786\"],[0.5555555555555556,\"#d8576b\"],[0.6666666666666666,\"#ed7953\"],[0.7777777777777778,\"#fb9f3a\"],[0.8888888888888888,\"#fdca26\"],[1.0,\"#f0f921\"]],\"type\":\"histogram2dcontour\"}],\"histogram2d\":[{\"colorbar\":{\"outlinewidth\":0,\"ticks\":\"\"},\"colorscale\":[[0.0,\"#0d0887\"],[0.1111111111111111,\"#46039f\"],[0.2222222222222222,\"#7201a8\"],[0.3333333333333333,\"#9c179e\"],[0.4444444444444444,\"#bd3786\"],[0.5555555555555556,\"#d8576b\"],[0.6666666666666666,\"#ed7953\"],[0.7777777777777778,\"#fb9f3a\"],[0.8888888888888888,\"#fdca26\"],[1.0,\"#f0f921\"]],\"type\":\"histogram2d\"}],\"histogram\":[{\"marker\":{\"pattern\":{\"fillmode\":\"overlay\",\"size\":10,\"solidity\":0.2}},\"type\":\"histogram\"}],\"mesh3d\":[{\"colorbar\":{\"outlinewidth\":0,\"ticks\":\"\"},\"type\":\"mesh3d\"}],\"parcoords\":[{\"line\":{\"colorbar\":{\"outlinewidth\":0,\"ticks\":\"\"}},\"type\":\"parcoords\"}],\"pie\":[{\"automargin\":true,\"type\":\"pie\"}],\"scatter3d\":[{\"line\":{\"colorbar\":{\"outlinewidth\":0,\"ticks\":\"\"}},\"marker\":{\"colorbar\":{\"outlinewidth\":0,\"ticks\":\"\"}},\"type\":\"scatter3d\"}],\"scattercarpet\":[{\"marker\":{\"colorbar\":{\"outlinewidth\":0,\"ticks\":\"\"}},\"type\":\"scattercarpet\"}],\"scattergeo\":[{\"marker\":{\"colorbar\":{\"outlinewidth\":0,\"ticks\":\"\"}},\"type\":\"scattergeo\"}],\"scattergl\":[{\"marker\":{\"colorbar\":{\"outlinewidth\":0,\"ticks\":\"\"}},\"type\":\"scattergl\"}],\"scattermapbox\":[{\"marker\":{\"colorbar\":{\"outlinewidth\":0,\"ticks\":\"\"}},\"type\":\"scattermapbox\"}],\"scatterpolargl\":[{\"marker\":{\"colorbar\":{\"outlinewidth\":0,\"ticks\":\"\"}},\"type\":\"scatterpolargl\"}],\"scatterpolar\":[{\"marker\":{\"colorbar\":{\"outlinewidth\":0,\"ticks\":\"\"}},\"type\":\"scatterpolar\"}],\"scatter\":[{\"fillpattern\":{\"fillmode\":\"overlay\",\"size\":10,\"solidity\":0.2},\"type\":\"scatter\"}],\"scatterternary\":[{\"marker\":{\"colorbar\":{\"outlinewidth\":0,\"ticks\":\"\"}},\"type\":\"scatterternary\"}],\"surface\":[{\"colorbar\":{\"outlinewidth\":0,\"ticks\":\"\"},\"colorscale\":[[0.0,\"#0d0887\"],[0.1111111111111111,\"#46039f\"],[0.2222222222222222,\"#7201a8\"],[0.3333333333333333,\"#9c179e\"],[0.4444444444444444,\"#bd3786\"],[0.5555555555555556,\"#d8576b\"],[0.6666666666666666,\"#ed7953\"],[0.7777777777777778,\"#fb9f3a\"],[0.8888888888888888,\"#fdca26\"],[1.0,\"#f0f921\"]],\"type\":\"surface\"}],\"table\":[{\"cells\":{\"fill\":{\"color\":\"#EBF0F8\"},\"line\":{\"color\":\"white\"}},\"header\":{\"fill\":{\"color\":\"#C8D4E3\"},\"line\":{\"color\":\"white\"}},\"type\":\"table\"}]},\"layout\":{\"annotationdefaults\":{\"arrowcolor\":\"#2a3f5f\",\"arrowhead\":0,\"arrowwidth\":1},\"autotypenumbers\":\"strict\",\"coloraxis\":{\"colorbar\":{\"outlinewidth\":0,\"ticks\":\"\"}},\"colorscale\":{\"diverging\":[[0,\"#8e0152\"],[0.1,\"#c51b7d\"],[0.2,\"#de77ae\"],[0.3,\"#f1b6da\"],[0.4,\"#fde0ef\"],[0.5,\"#f7f7f7\"],[0.6,\"#e6f5d0\"],[0.7,\"#b8e186\"],[0.8,\"#7fbc41\"],[0.9,\"#4d9221\"],[1,\"#276419\"]],\"sequential\":[[0.0,\"#0d0887\"],[0.1111111111111111,\"#46039f\"],[0.2222222222222222,\"#7201a8\"],[0.3333333333333333,\"#9c179e\"],[0.4444444444444444,\"#bd3786\"],[0.5555555555555556,\"#d8576b\"],[0.6666666666666666,\"#ed7953\"],[0.7777777777777778,\"#fb9f3a\"],[0.8888888888888888,\"#fdca26\"],[1.0,\"#f0f921\"]],\"sequentialminus\":[[0.0,\"#0d0887\"],[0.1111111111111111,\"#46039f\"],[0.2222222222222222,\"#7201a8\"],[0.3333333333333333,\"#9c179e\"],[0.4444444444444444,\"#bd3786\"],[0.5555555555555556,\"#d8576b\"],[0.6666666666666666,\"#ed7953\"],[0.7777777777777778,\"#fb9f3a\"],[0.8888888888888888,\"#fdca26\"],[1.0,\"#f0f921\"]]},\"colorway\":[\"#636efa\",\"#EF553B\",\"#00cc96\",\"#ab63fa\",\"#FFA15A\",\"#19d3f3\",\"#FF6692\",\"#B6E880\",\"#FF97FF\",\"#FECB52\"],\"font\":{\"color\":\"#2a3f5f\"},\"geo\":{\"bgcolor\":\"white\",\"lakecolor\":\"white\",\"landcolor\":\"#E5ECF6\",\"showlakes\":true,\"showland\":true,\"subunitcolor\":\"white\"},\"hoverlabel\":{\"align\":\"left\"},\"hovermode\":\"closest\",\"mapbox\":{\"style\":\"light\"},\"paper_bgcolor\":\"white\",\"plot_bgcolor\":\"#E5ECF6\",\"polar\":{\"angularaxis\":{\"gridcolor\":\"white\",\"linecolor\":\"white\",\"ticks\":\"\"},\"bgcolor\":\"#E5ECF6\",\"radialaxis\":{\"gridcolor\":\"white\",\"linecolor\":\"white\",\"ticks\":\"\"}},\"scene\":{\"xaxis\":{\"backgroundcolor\":\"#E5ECF6\",\"gridcolor\":\"white\",\"gridwidth\":2,\"linecolor\":\"white\",\"showbackground\":true,\"ticks\":\"\",\"zerolinecolor\":\"white\"},\"yaxis\":{\"backgroundcolor\":\"#E5ECF6\",\"gridcolor\":\"white\",\"gridwidth\":2,\"linecolor\":\"white\",\"showbackground\":true,\"ticks\":\"\",\"zerolinecolor\":\"white\"},\"zaxis\":{\"backgroundcolor\":\"#E5ECF6\",\"gridcolor\":\"white\",\"gridwidth\":2,\"linecolor\":\"white\",\"showbackground\":true,\"ticks\":\"\",\"zerolinecolor\":\"white\"}},\"shapedefaults\":{\"line\":{\"color\":\"#2a3f5f\"}},\"ternary\":{\"aaxis\":{\"gridcolor\":\"white\",\"linecolor\":\"white\",\"ticks\":\"\"},\"baxis\":{\"gridcolor\":\"white\",\"linecolor\":\"white\",\"ticks\":\"\"},\"bgcolor\":\"#E5ECF6\",\"caxis\":{\"gridcolor\":\"white\",\"linecolor\":\"white\",\"ticks\":\"\"}},\"title\":{\"x\":0.05},\"xaxis\":{\"automargin\":true,\"gridcolor\":\"white\",\"linecolor\":\"white\",\"ticks\":\"\",\"title\":{\"standoff\":15},\"zerolinecolor\":\"white\",\"zerolinewidth\":2},\"yaxis\":{\"automargin\":true,\"gridcolor\":\"white\",\"linecolor\":\"white\",\"ticks\":\"\",\"title\":{\"standoff\":15},\"zerolinecolor\":\"white\",\"zerolinewidth\":2}}},\"title\":{\"font\":{\"color\":\"#4D5663\"}},\"xaxis\":{\"gridcolor\":\"#E1E5ED\",\"showgrid\":true,\"tickfont\":{\"color\":\"#4D5663\"},\"title\":{\"font\":{\"color\":\"#4D5663\"},\"text\":\"\"},\"zerolinecolor\":\"#E1E5ED\"},\"yaxis\":{\"gridcolor\":\"#E1E5ED\",\"showgrid\":true,\"tickfont\":{\"color\":\"#4D5663\"},\"title\":{\"font\":{\"color\":\"#4D5663\"},\"text\":\"\"},\"zerolinecolor\":\"#E1E5ED\"}},                        {\"showLink\": true, \"linkText\": \"Export to plot.ly\", \"plotlyServerURL\": \"https://plot.ly\", \"responsive\": true}                    ).then(function(){\n",
       "                            \n",
       "var gd = document.getElementById('4162578f-ffcc-4371-87a9-836c444031cb');\n",
       "var x = new MutationObserver(function (mutations, observer) {{\n",
       "        var display = window.getComputedStyle(gd).display;\n",
       "        if (!display || display === 'none') {{\n",
       "            console.log([gd, 'removed!']);\n",
       "            Plotly.purge(gd);\n",
       "            observer.disconnect();\n",
       "        }}\n",
       "}});\n",
       "\n",
       "// Listen for the removal of the full notebook cells\n",
       "var notebookContainer = gd.closest('#notebook-container');\n",
       "if (notebookContainer) {{\n",
       "    x.observe(notebookContainer, {childList: true});\n",
       "}}\n",
       "\n",
       "// Listen for the clearing of the current output cell\n",
       "var outputEl = gd.closest('.output');\n",
       "if (outputEl) {{\n",
       "    x.observe(outputEl, {childList: true});\n",
       "}}\n",
       "\n",
       "                        })                };                });            </script>        </div>"
      ]
     },
     "metadata": {},
     "output_type": "display_data"
    }
   ],
   "source": [
    "df.iplot(kind='box')"
   ]
  },
  {
   "cell_type": "code",
   "execution_count": 14,
   "metadata": {},
   "outputs": [
    {
     "data": {
      "application/vnd.plotly.v1+json": {
       "config": {
        "linkText": "Export to plot.ly",
        "plotlyServerURL": "https://plot.ly",
        "showLink": true
       },
       "data": [
        {
         "colorscale": [
          [
           0,
           "rgb(165,0,38)"
          ],
          [
           0.1,
           "rgb(215,48,39)"
          ],
          [
           0.2,
           "rgb(244,109,67)"
          ],
          [
           0.3,
           "rgb(253,174,97)"
          ],
          [
           0.4,
           "rgb(254,224,144)"
          ],
          [
           0.5,
           "rgb(255,255,191)"
          ],
          [
           0.6,
           "rgb(224,243,248)"
          ],
          [
           0.7,
           "rgb(171,217,233)"
          ],
          [
           0.8,
           "rgb(116,173,209)"
          ],
          [
           0.9,
           "rgb(69,117,180)"
          ],
          [
           1,
           "rgb(49,54,149)"
          ]
         ],
         "type": "surface",
         "x": [
          0,
          1,
          2,
          3,
          4
         ],
         "y": [
          "x",
          "y",
          "z"
         ],
         "z": [
          [
           1,
           2,
           3,
           4,
           5
          ],
          [
           10,
           20,
           30,
           20,
           10
          ],
          [
           5,
           4,
           3,
           2,
           1
          ]
         ]
        }
       ],
       "layout": {
        "legend": {
         "bgcolor": "#F5F6F9",
         "font": {
          "color": "#4D5663"
         }
        },
        "paper_bgcolor": "#F5F6F9",
        "plot_bgcolor": "#F5F6F9",
        "template": {
         "data": {
          "bar": [
           {
            "error_x": {
             "color": "#2a3f5f"
            },
            "error_y": {
             "color": "#2a3f5f"
            },
            "marker": {
             "line": {
              "color": "#E5ECF6",
              "width": 0.5
             },
             "pattern": {
              "fillmode": "overlay",
              "size": 10,
              "solidity": 0.2
             }
            },
            "type": "bar"
           }
          ],
          "barpolar": [
           {
            "marker": {
             "line": {
              "color": "#E5ECF6",
              "width": 0.5
             },
             "pattern": {
              "fillmode": "overlay",
              "size": 10,
              "solidity": 0.2
             }
            },
            "type": "barpolar"
           }
          ],
          "carpet": [
           {
            "aaxis": {
             "endlinecolor": "#2a3f5f",
             "gridcolor": "white",
             "linecolor": "white",
             "minorgridcolor": "white",
             "startlinecolor": "#2a3f5f"
            },
            "baxis": {
             "endlinecolor": "#2a3f5f",
             "gridcolor": "white",
             "linecolor": "white",
             "minorgridcolor": "white",
             "startlinecolor": "#2a3f5f"
            },
            "type": "carpet"
           }
          ],
          "choropleth": [
           {
            "colorbar": {
             "outlinewidth": 0,
             "ticks": ""
            },
            "type": "choropleth"
           }
          ],
          "contour": [
           {
            "colorbar": {
             "outlinewidth": 0,
             "ticks": ""
            },
            "colorscale": [
             [
              0,
              "#0d0887"
             ],
             [
              0.1111111111111111,
              "#46039f"
             ],
             [
              0.2222222222222222,
              "#7201a8"
             ],
             [
              0.3333333333333333,
              "#9c179e"
             ],
             [
              0.4444444444444444,
              "#bd3786"
             ],
             [
              0.5555555555555556,
              "#d8576b"
             ],
             [
              0.6666666666666666,
              "#ed7953"
             ],
             [
              0.7777777777777778,
              "#fb9f3a"
             ],
             [
              0.8888888888888888,
              "#fdca26"
             ],
             [
              1,
              "#f0f921"
             ]
            ],
            "type": "contour"
           }
          ],
          "contourcarpet": [
           {
            "colorbar": {
             "outlinewidth": 0,
             "ticks": ""
            },
            "type": "contourcarpet"
           }
          ],
          "heatmap": [
           {
            "colorbar": {
             "outlinewidth": 0,
             "ticks": ""
            },
            "colorscale": [
             [
              0,
              "#0d0887"
             ],
             [
              0.1111111111111111,
              "#46039f"
             ],
             [
              0.2222222222222222,
              "#7201a8"
             ],
             [
              0.3333333333333333,
              "#9c179e"
             ],
             [
              0.4444444444444444,
              "#bd3786"
             ],
             [
              0.5555555555555556,
              "#d8576b"
             ],
             [
              0.6666666666666666,
              "#ed7953"
             ],
             [
              0.7777777777777778,
              "#fb9f3a"
             ],
             [
              0.8888888888888888,
              "#fdca26"
             ],
             [
              1,
              "#f0f921"
             ]
            ],
            "type": "heatmap"
           }
          ],
          "heatmapgl": [
           {
            "colorbar": {
             "outlinewidth": 0,
             "ticks": ""
            },
            "colorscale": [
             [
              0,
              "#0d0887"
             ],
             [
              0.1111111111111111,
              "#46039f"
             ],
             [
              0.2222222222222222,
              "#7201a8"
             ],
             [
              0.3333333333333333,
              "#9c179e"
             ],
             [
              0.4444444444444444,
              "#bd3786"
             ],
             [
              0.5555555555555556,
              "#d8576b"
             ],
             [
              0.6666666666666666,
              "#ed7953"
             ],
             [
              0.7777777777777778,
              "#fb9f3a"
             ],
             [
              0.8888888888888888,
              "#fdca26"
             ],
             [
              1,
              "#f0f921"
             ]
            ],
            "type": "heatmapgl"
           }
          ],
          "histogram": [
           {
            "marker": {
             "pattern": {
              "fillmode": "overlay",
              "size": 10,
              "solidity": 0.2
             }
            },
            "type": "histogram"
           }
          ],
          "histogram2d": [
           {
            "colorbar": {
             "outlinewidth": 0,
             "ticks": ""
            },
            "colorscale": [
             [
              0,
              "#0d0887"
             ],
             [
              0.1111111111111111,
              "#46039f"
             ],
             [
              0.2222222222222222,
              "#7201a8"
             ],
             [
              0.3333333333333333,
              "#9c179e"
             ],
             [
              0.4444444444444444,
              "#bd3786"
             ],
             [
              0.5555555555555556,
              "#d8576b"
             ],
             [
              0.6666666666666666,
              "#ed7953"
             ],
             [
              0.7777777777777778,
              "#fb9f3a"
             ],
             [
              0.8888888888888888,
              "#fdca26"
             ],
             [
              1,
              "#f0f921"
             ]
            ],
            "type": "histogram2d"
           }
          ],
          "histogram2dcontour": [
           {
            "colorbar": {
             "outlinewidth": 0,
             "ticks": ""
            },
            "colorscale": [
             [
              0,
              "#0d0887"
             ],
             [
              0.1111111111111111,
              "#46039f"
             ],
             [
              0.2222222222222222,
              "#7201a8"
             ],
             [
              0.3333333333333333,
              "#9c179e"
             ],
             [
              0.4444444444444444,
              "#bd3786"
             ],
             [
              0.5555555555555556,
              "#d8576b"
             ],
             [
              0.6666666666666666,
              "#ed7953"
             ],
             [
              0.7777777777777778,
              "#fb9f3a"
             ],
             [
              0.8888888888888888,
              "#fdca26"
             ],
             [
              1,
              "#f0f921"
             ]
            ],
            "type": "histogram2dcontour"
           }
          ],
          "mesh3d": [
           {
            "colorbar": {
             "outlinewidth": 0,
             "ticks": ""
            },
            "type": "mesh3d"
           }
          ],
          "parcoords": [
           {
            "line": {
             "colorbar": {
              "outlinewidth": 0,
              "ticks": ""
             }
            },
            "type": "parcoords"
           }
          ],
          "pie": [
           {
            "automargin": true,
            "type": "pie"
           }
          ],
          "scatter": [
           {
            "fillpattern": {
             "fillmode": "overlay",
             "size": 10,
             "solidity": 0.2
            },
            "type": "scatter"
           }
          ],
          "scatter3d": [
           {
            "line": {
             "colorbar": {
              "outlinewidth": 0,
              "ticks": ""
             }
            },
            "marker": {
             "colorbar": {
              "outlinewidth": 0,
              "ticks": ""
             }
            },
            "type": "scatter3d"
           }
          ],
          "scattercarpet": [
           {
            "marker": {
             "colorbar": {
              "outlinewidth": 0,
              "ticks": ""
             }
            },
            "type": "scattercarpet"
           }
          ],
          "scattergeo": [
           {
            "marker": {
             "colorbar": {
              "outlinewidth": 0,
              "ticks": ""
             }
            },
            "type": "scattergeo"
           }
          ],
          "scattergl": [
           {
            "marker": {
             "colorbar": {
              "outlinewidth": 0,
              "ticks": ""
             }
            },
            "type": "scattergl"
           }
          ],
          "scattermapbox": [
           {
            "marker": {
             "colorbar": {
              "outlinewidth": 0,
              "ticks": ""
             }
            },
            "type": "scattermapbox"
           }
          ],
          "scatterpolar": [
           {
            "marker": {
             "colorbar": {
              "outlinewidth": 0,
              "ticks": ""
             }
            },
            "type": "scatterpolar"
           }
          ],
          "scatterpolargl": [
           {
            "marker": {
             "colorbar": {
              "outlinewidth": 0,
              "ticks": ""
             }
            },
            "type": "scatterpolargl"
           }
          ],
          "scatterternary": [
           {
            "marker": {
             "colorbar": {
              "outlinewidth": 0,
              "ticks": ""
             }
            },
            "type": "scatterternary"
           }
          ],
          "surface": [
           {
            "colorbar": {
             "outlinewidth": 0,
             "ticks": ""
            },
            "colorscale": [
             [
              0,
              "#0d0887"
             ],
             [
              0.1111111111111111,
              "#46039f"
             ],
             [
              0.2222222222222222,
              "#7201a8"
             ],
             [
              0.3333333333333333,
              "#9c179e"
             ],
             [
              0.4444444444444444,
              "#bd3786"
             ],
             [
              0.5555555555555556,
              "#d8576b"
             ],
             [
              0.6666666666666666,
              "#ed7953"
             ],
             [
              0.7777777777777778,
              "#fb9f3a"
             ],
             [
              0.8888888888888888,
              "#fdca26"
             ],
             [
              1,
              "#f0f921"
             ]
            ],
            "type": "surface"
           }
          ],
          "table": [
           {
            "cells": {
             "fill": {
              "color": "#EBF0F8"
             },
             "line": {
              "color": "white"
             }
            },
            "header": {
             "fill": {
              "color": "#C8D4E3"
             },
             "line": {
              "color": "white"
             }
            },
            "type": "table"
           }
          ]
         },
         "layout": {
          "annotationdefaults": {
           "arrowcolor": "#2a3f5f",
           "arrowhead": 0,
           "arrowwidth": 1
          },
          "autotypenumbers": "strict",
          "coloraxis": {
           "colorbar": {
            "outlinewidth": 0,
            "ticks": ""
           }
          },
          "colorscale": {
           "diverging": [
            [
             0,
             "#8e0152"
            ],
            [
             0.1,
             "#c51b7d"
            ],
            [
             0.2,
             "#de77ae"
            ],
            [
             0.3,
             "#f1b6da"
            ],
            [
             0.4,
             "#fde0ef"
            ],
            [
             0.5,
             "#f7f7f7"
            ],
            [
             0.6,
             "#e6f5d0"
            ],
            [
             0.7,
             "#b8e186"
            ],
            [
             0.8,
             "#7fbc41"
            ],
            [
             0.9,
             "#4d9221"
            ],
            [
             1,
             "#276419"
            ]
           ],
           "sequential": [
            [
             0,
             "#0d0887"
            ],
            [
             0.1111111111111111,
             "#46039f"
            ],
            [
             0.2222222222222222,
             "#7201a8"
            ],
            [
             0.3333333333333333,
             "#9c179e"
            ],
            [
             0.4444444444444444,
             "#bd3786"
            ],
            [
             0.5555555555555556,
             "#d8576b"
            ],
            [
             0.6666666666666666,
             "#ed7953"
            ],
            [
             0.7777777777777778,
             "#fb9f3a"
            ],
            [
             0.8888888888888888,
             "#fdca26"
            ],
            [
             1,
             "#f0f921"
            ]
           ],
           "sequentialminus": [
            [
             0,
             "#0d0887"
            ],
            [
             0.1111111111111111,
             "#46039f"
            ],
            [
             0.2222222222222222,
             "#7201a8"
            ],
            [
             0.3333333333333333,
             "#9c179e"
            ],
            [
             0.4444444444444444,
             "#bd3786"
            ],
            [
             0.5555555555555556,
             "#d8576b"
            ],
            [
             0.6666666666666666,
             "#ed7953"
            ],
            [
             0.7777777777777778,
             "#fb9f3a"
            ],
            [
             0.8888888888888888,
             "#fdca26"
            ],
            [
             1,
             "#f0f921"
            ]
           ]
          },
          "colorway": [
           "#636efa",
           "#EF553B",
           "#00cc96",
           "#ab63fa",
           "#FFA15A",
           "#19d3f3",
           "#FF6692",
           "#B6E880",
           "#FF97FF",
           "#FECB52"
          ],
          "font": {
           "color": "#2a3f5f"
          },
          "geo": {
           "bgcolor": "white",
           "lakecolor": "white",
           "landcolor": "#E5ECF6",
           "showlakes": true,
           "showland": true,
           "subunitcolor": "white"
          },
          "hoverlabel": {
           "align": "left"
          },
          "hovermode": "closest",
          "mapbox": {
           "style": "light"
          },
          "paper_bgcolor": "white",
          "plot_bgcolor": "#E5ECF6",
          "polar": {
           "angularaxis": {
            "gridcolor": "white",
            "linecolor": "white",
            "ticks": ""
           },
           "bgcolor": "#E5ECF6",
           "radialaxis": {
            "gridcolor": "white",
            "linecolor": "white",
            "ticks": ""
           }
          },
          "scene": {
           "xaxis": {
            "backgroundcolor": "#E5ECF6",
            "gridcolor": "white",
            "gridwidth": 2,
            "linecolor": "white",
            "showbackground": true,
            "ticks": "",
            "zerolinecolor": "white"
           },
           "yaxis": {
            "backgroundcolor": "#E5ECF6",
            "gridcolor": "white",
            "gridwidth": 2,
            "linecolor": "white",
            "showbackground": true,
            "ticks": "",
            "zerolinecolor": "white"
           },
           "zaxis": {
            "backgroundcolor": "#E5ECF6",
            "gridcolor": "white",
            "gridwidth": 2,
            "linecolor": "white",
            "showbackground": true,
            "ticks": "",
            "zerolinecolor": "white"
           }
          },
          "shapedefaults": {
           "line": {
            "color": "#2a3f5f"
           }
          },
          "ternary": {
           "aaxis": {
            "gridcolor": "white",
            "linecolor": "white",
            "ticks": ""
           },
           "baxis": {
            "gridcolor": "white",
            "linecolor": "white",
            "ticks": ""
           },
           "bgcolor": "#E5ECF6",
           "caxis": {
            "gridcolor": "white",
            "linecolor": "white",
            "ticks": ""
           }
          },
          "title": {
           "x": 0.05
          },
          "xaxis": {
           "automargin": true,
           "gridcolor": "white",
           "linecolor": "white",
           "ticks": "",
           "title": {
            "standoff": 15
           },
           "zerolinecolor": "white",
           "zerolinewidth": 2
          },
          "yaxis": {
           "automargin": true,
           "gridcolor": "white",
           "linecolor": "white",
           "ticks": "",
           "title": {
            "standoff": 15
           },
           "zerolinecolor": "white",
           "zerolinewidth": 2
          }
         }
        },
        "title": {
         "font": {
          "color": "#4D5663"
         }
        },
        "xaxis": {
         "gridcolor": "#E1E5ED",
         "showgrid": true,
         "tickfont": {
          "color": "#4D5663"
         },
         "title": {
          "font": {
           "color": "#4D5663"
          },
          "text": ""
         },
         "zerolinecolor": "#E1E5ED"
        },
        "yaxis": {
         "gridcolor": "#E1E5ED",
         "showgrid": true,
         "tickfont": {
          "color": "#4D5663"
         },
         "title": {
          "font": {
           "color": "#4D5663"
          },
          "text": ""
         },
         "zerolinecolor": "#E1E5ED"
        }
       }
      },
      "text/html": [
       "<div>                            <div id=\"2f523546-8942-474f-ae0c-3cafa22dd3c1\" class=\"plotly-graph-div\" style=\"height:525px; width:100%;\"></div>            <script type=\"text/javascript\">                require([\"plotly\"], function(Plotly) {                    window.PLOTLYENV=window.PLOTLYENV || {};\n",
       "                    window.PLOTLYENV.BASE_URL='https://plot.ly';                                    if (document.getElementById(\"2f523546-8942-474f-ae0c-3cafa22dd3c1\")) {                    Plotly.newPlot(                        \"2f523546-8942-474f-ae0c-3cafa22dd3c1\",                        [{\"colorscale\":[[0.0,\"rgb(165,0,38)\"],[0.1,\"rgb(215,48,39)\"],[0.2,\"rgb(244,109,67)\"],[0.3,\"rgb(253,174,97)\"],[0.4,\"rgb(254,224,144)\"],[0.5,\"rgb(255,255,191)\"],[0.6,\"rgb(224,243,248)\"],[0.7,\"rgb(171,217,233)\"],[0.8,\"rgb(116,173,209)\"],[0.9,\"rgb(69,117,180)\"],[1.0,\"rgb(49,54,149)\"]],\"x\":[0,1,2,3,4],\"y\":[\"x\",\"y\",\"z\"],\"z\":[[1,2,3,4,5],[10,20,30,20,10],[5,4,3,2,1]],\"type\":\"surface\"}],                        {\"legend\":{\"bgcolor\":\"#F5F6F9\",\"font\":{\"color\":\"#4D5663\"}},\"paper_bgcolor\":\"#F5F6F9\",\"plot_bgcolor\":\"#F5F6F9\",\"template\":{\"data\":{\"barpolar\":[{\"marker\":{\"line\":{\"color\":\"#E5ECF6\",\"width\":0.5},\"pattern\":{\"fillmode\":\"overlay\",\"size\":10,\"solidity\":0.2}},\"type\":\"barpolar\"}],\"bar\":[{\"error_x\":{\"color\":\"#2a3f5f\"},\"error_y\":{\"color\":\"#2a3f5f\"},\"marker\":{\"line\":{\"color\":\"#E5ECF6\",\"width\":0.5},\"pattern\":{\"fillmode\":\"overlay\",\"size\":10,\"solidity\":0.2}},\"type\":\"bar\"}],\"carpet\":[{\"aaxis\":{\"endlinecolor\":\"#2a3f5f\",\"gridcolor\":\"white\",\"linecolor\":\"white\",\"minorgridcolor\":\"white\",\"startlinecolor\":\"#2a3f5f\"},\"baxis\":{\"endlinecolor\":\"#2a3f5f\",\"gridcolor\":\"white\",\"linecolor\":\"white\",\"minorgridcolor\":\"white\",\"startlinecolor\":\"#2a3f5f\"},\"type\":\"carpet\"}],\"choropleth\":[{\"colorbar\":{\"outlinewidth\":0,\"ticks\":\"\"},\"type\":\"choropleth\"}],\"contourcarpet\":[{\"colorbar\":{\"outlinewidth\":0,\"ticks\":\"\"},\"type\":\"contourcarpet\"}],\"contour\":[{\"colorbar\":{\"outlinewidth\":0,\"ticks\":\"\"},\"colorscale\":[[0.0,\"#0d0887\"],[0.1111111111111111,\"#46039f\"],[0.2222222222222222,\"#7201a8\"],[0.3333333333333333,\"#9c179e\"],[0.4444444444444444,\"#bd3786\"],[0.5555555555555556,\"#d8576b\"],[0.6666666666666666,\"#ed7953\"],[0.7777777777777778,\"#fb9f3a\"],[0.8888888888888888,\"#fdca26\"],[1.0,\"#f0f921\"]],\"type\":\"contour\"}],\"heatmapgl\":[{\"colorbar\":{\"outlinewidth\":0,\"ticks\":\"\"},\"colorscale\":[[0.0,\"#0d0887\"],[0.1111111111111111,\"#46039f\"],[0.2222222222222222,\"#7201a8\"],[0.3333333333333333,\"#9c179e\"],[0.4444444444444444,\"#bd3786\"],[0.5555555555555556,\"#d8576b\"],[0.6666666666666666,\"#ed7953\"],[0.7777777777777778,\"#fb9f3a\"],[0.8888888888888888,\"#fdca26\"],[1.0,\"#f0f921\"]],\"type\":\"heatmapgl\"}],\"heatmap\":[{\"colorbar\":{\"outlinewidth\":0,\"ticks\":\"\"},\"colorscale\":[[0.0,\"#0d0887\"],[0.1111111111111111,\"#46039f\"],[0.2222222222222222,\"#7201a8\"],[0.3333333333333333,\"#9c179e\"],[0.4444444444444444,\"#bd3786\"],[0.5555555555555556,\"#d8576b\"],[0.6666666666666666,\"#ed7953\"],[0.7777777777777778,\"#fb9f3a\"],[0.8888888888888888,\"#fdca26\"],[1.0,\"#f0f921\"]],\"type\":\"heatmap\"}],\"histogram2dcontour\":[{\"colorbar\":{\"outlinewidth\":0,\"ticks\":\"\"},\"colorscale\":[[0.0,\"#0d0887\"],[0.1111111111111111,\"#46039f\"],[0.2222222222222222,\"#7201a8\"],[0.3333333333333333,\"#9c179e\"],[0.4444444444444444,\"#bd3786\"],[0.5555555555555556,\"#d8576b\"],[0.6666666666666666,\"#ed7953\"],[0.7777777777777778,\"#fb9f3a\"],[0.8888888888888888,\"#fdca26\"],[1.0,\"#f0f921\"]],\"type\":\"histogram2dcontour\"}],\"histogram2d\":[{\"colorbar\":{\"outlinewidth\":0,\"ticks\":\"\"},\"colorscale\":[[0.0,\"#0d0887\"],[0.1111111111111111,\"#46039f\"],[0.2222222222222222,\"#7201a8\"],[0.3333333333333333,\"#9c179e\"],[0.4444444444444444,\"#bd3786\"],[0.5555555555555556,\"#d8576b\"],[0.6666666666666666,\"#ed7953\"],[0.7777777777777778,\"#fb9f3a\"],[0.8888888888888888,\"#fdca26\"],[1.0,\"#f0f921\"]],\"type\":\"histogram2d\"}],\"histogram\":[{\"marker\":{\"pattern\":{\"fillmode\":\"overlay\",\"size\":10,\"solidity\":0.2}},\"type\":\"histogram\"}],\"mesh3d\":[{\"colorbar\":{\"outlinewidth\":0,\"ticks\":\"\"},\"type\":\"mesh3d\"}],\"parcoords\":[{\"line\":{\"colorbar\":{\"outlinewidth\":0,\"ticks\":\"\"}},\"type\":\"parcoords\"}],\"pie\":[{\"automargin\":true,\"type\":\"pie\"}],\"scatter3d\":[{\"line\":{\"colorbar\":{\"outlinewidth\":0,\"ticks\":\"\"}},\"marker\":{\"colorbar\":{\"outlinewidth\":0,\"ticks\":\"\"}},\"type\":\"scatter3d\"}],\"scattercarpet\":[{\"marker\":{\"colorbar\":{\"outlinewidth\":0,\"ticks\":\"\"}},\"type\":\"scattercarpet\"}],\"scattergeo\":[{\"marker\":{\"colorbar\":{\"outlinewidth\":0,\"ticks\":\"\"}},\"type\":\"scattergeo\"}],\"scattergl\":[{\"marker\":{\"colorbar\":{\"outlinewidth\":0,\"ticks\":\"\"}},\"type\":\"scattergl\"}],\"scattermapbox\":[{\"marker\":{\"colorbar\":{\"outlinewidth\":0,\"ticks\":\"\"}},\"type\":\"scattermapbox\"}],\"scatterpolargl\":[{\"marker\":{\"colorbar\":{\"outlinewidth\":0,\"ticks\":\"\"}},\"type\":\"scatterpolargl\"}],\"scatterpolar\":[{\"marker\":{\"colorbar\":{\"outlinewidth\":0,\"ticks\":\"\"}},\"type\":\"scatterpolar\"}],\"scatter\":[{\"fillpattern\":{\"fillmode\":\"overlay\",\"size\":10,\"solidity\":0.2},\"type\":\"scatter\"}],\"scatterternary\":[{\"marker\":{\"colorbar\":{\"outlinewidth\":0,\"ticks\":\"\"}},\"type\":\"scatterternary\"}],\"surface\":[{\"colorbar\":{\"outlinewidth\":0,\"ticks\":\"\"},\"colorscale\":[[0.0,\"#0d0887\"],[0.1111111111111111,\"#46039f\"],[0.2222222222222222,\"#7201a8\"],[0.3333333333333333,\"#9c179e\"],[0.4444444444444444,\"#bd3786\"],[0.5555555555555556,\"#d8576b\"],[0.6666666666666666,\"#ed7953\"],[0.7777777777777778,\"#fb9f3a\"],[0.8888888888888888,\"#fdca26\"],[1.0,\"#f0f921\"]],\"type\":\"surface\"}],\"table\":[{\"cells\":{\"fill\":{\"color\":\"#EBF0F8\"},\"line\":{\"color\":\"white\"}},\"header\":{\"fill\":{\"color\":\"#C8D4E3\"},\"line\":{\"color\":\"white\"}},\"type\":\"table\"}]},\"layout\":{\"annotationdefaults\":{\"arrowcolor\":\"#2a3f5f\",\"arrowhead\":0,\"arrowwidth\":1},\"autotypenumbers\":\"strict\",\"coloraxis\":{\"colorbar\":{\"outlinewidth\":0,\"ticks\":\"\"}},\"colorscale\":{\"diverging\":[[0,\"#8e0152\"],[0.1,\"#c51b7d\"],[0.2,\"#de77ae\"],[0.3,\"#f1b6da\"],[0.4,\"#fde0ef\"],[0.5,\"#f7f7f7\"],[0.6,\"#e6f5d0\"],[0.7,\"#b8e186\"],[0.8,\"#7fbc41\"],[0.9,\"#4d9221\"],[1,\"#276419\"]],\"sequential\":[[0.0,\"#0d0887\"],[0.1111111111111111,\"#46039f\"],[0.2222222222222222,\"#7201a8\"],[0.3333333333333333,\"#9c179e\"],[0.4444444444444444,\"#bd3786\"],[0.5555555555555556,\"#d8576b\"],[0.6666666666666666,\"#ed7953\"],[0.7777777777777778,\"#fb9f3a\"],[0.8888888888888888,\"#fdca26\"],[1.0,\"#f0f921\"]],\"sequentialminus\":[[0.0,\"#0d0887\"],[0.1111111111111111,\"#46039f\"],[0.2222222222222222,\"#7201a8\"],[0.3333333333333333,\"#9c179e\"],[0.4444444444444444,\"#bd3786\"],[0.5555555555555556,\"#d8576b\"],[0.6666666666666666,\"#ed7953\"],[0.7777777777777778,\"#fb9f3a\"],[0.8888888888888888,\"#fdca26\"],[1.0,\"#f0f921\"]]},\"colorway\":[\"#636efa\",\"#EF553B\",\"#00cc96\",\"#ab63fa\",\"#FFA15A\",\"#19d3f3\",\"#FF6692\",\"#B6E880\",\"#FF97FF\",\"#FECB52\"],\"font\":{\"color\":\"#2a3f5f\"},\"geo\":{\"bgcolor\":\"white\",\"lakecolor\":\"white\",\"landcolor\":\"#E5ECF6\",\"showlakes\":true,\"showland\":true,\"subunitcolor\":\"white\"},\"hoverlabel\":{\"align\":\"left\"},\"hovermode\":\"closest\",\"mapbox\":{\"style\":\"light\"},\"paper_bgcolor\":\"white\",\"plot_bgcolor\":\"#E5ECF6\",\"polar\":{\"angularaxis\":{\"gridcolor\":\"white\",\"linecolor\":\"white\",\"ticks\":\"\"},\"bgcolor\":\"#E5ECF6\",\"radialaxis\":{\"gridcolor\":\"white\",\"linecolor\":\"white\",\"ticks\":\"\"}},\"scene\":{\"xaxis\":{\"backgroundcolor\":\"#E5ECF6\",\"gridcolor\":\"white\",\"gridwidth\":2,\"linecolor\":\"white\",\"showbackground\":true,\"ticks\":\"\",\"zerolinecolor\":\"white\"},\"yaxis\":{\"backgroundcolor\":\"#E5ECF6\",\"gridcolor\":\"white\",\"gridwidth\":2,\"linecolor\":\"white\",\"showbackground\":true,\"ticks\":\"\",\"zerolinecolor\":\"white\"},\"zaxis\":{\"backgroundcolor\":\"#E5ECF6\",\"gridcolor\":\"white\",\"gridwidth\":2,\"linecolor\":\"white\",\"showbackground\":true,\"ticks\":\"\",\"zerolinecolor\":\"white\"}},\"shapedefaults\":{\"line\":{\"color\":\"#2a3f5f\"}},\"ternary\":{\"aaxis\":{\"gridcolor\":\"white\",\"linecolor\":\"white\",\"ticks\":\"\"},\"baxis\":{\"gridcolor\":\"white\",\"linecolor\":\"white\",\"ticks\":\"\"},\"bgcolor\":\"#E5ECF6\",\"caxis\":{\"gridcolor\":\"white\",\"linecolor\":\"white\",\"ticks\":\"\"}},\"title\":{\"x\":0.05},\"xaxis\":{\"automargin\":true,\"gridcolor\":\"white\",\"linecolor\":\"white\",\"ticks\":\"\",\"title\":{\"standoff\":15},\"zerolinecolor\":\"white\",\"zerolinewidth\":2},\"yaxis\":{\"automargin\":true,\"gridcolor\":\"white\",\"linecolor\":\"white\",\"ticks\":\"\",\"title\":{\"standoff\":15},\"zerolinecolor\":\"white\",\"zerolinewidth\":2}}},\"title\":{\"font\":{\"color\":\"#4D5663\"}},\"xaxis\":{\"gridcolor\":\"#E1E5ED\",\"showgrid\":true,\"tickfont\":{\"color\":\"#4D5663\"},\"title\":{\"font\":{\"color\":\"#4D5663\"},\"text\":\"\"},\"zerolinecolor\":\"#E1E5ED\"},\"yaxis\":{\"gridcolor\":\"#E1E5ED\",\"showgrid\":true,\"tickfont\":{\"color\":\"#4D5663\"},\"title\":{\"font\":{\"color\":\"#4D5663\"},\"text\":\"\"},\"zerolinecolor\":\"#E1E5ED\"}},                        {\"showLink\": true, \"linkText\": \"Export to plot.ly\", \"plotlyServerURL\": \"https://plot.ly\", \"responsive\": true}                    ).then(function(){\n",
       "                            \n",
       "var gd = document.getElementById('2f523546-8942-474f-ae0c-3cafa22dd3c1');\n",
       "var x = new MutationObserver(function (mutations, observer) {{\n",
       "        var display = window.getComputedStyle(gd).display;\n",
       "        if (!display || display === 'none') {{\n",
       "            console.log([gd, 'removed!']);\n",
       "            Plotly.purge(gd);\n",
       "            observer.disconnect();\n",
       "        }}\n",
       "}});\n",
       "\n",
       "// Listen for the removal of the full notebook cells\n",
       "var notebookContainer = gd.closest('#notebook-container');\n",
       "if (notebookContainer) {{\n",
       "    x.observe(notebookContainer, {childList: true});\n",
       "}}\n",
       "\n",
       "// Listen for the clearing of the current output cell\n",
       "var outputEl = gd.closest('.output');\n",
       "if (outputEl) {{\n",
       "    x.observe(outputEl, {childList: true});\n",
       "}}\n",
       "\n",
       "                        })                };                });            </script>        </div>"
      ]
     },
     "metadata": {},
     "output_type": "display_data"
    }
   ],
   "source": [
    "df3 = pd.DataFrame({'x':[1,2,3,4,5],'y':[10,20,30,20,10],'z':[5,4,3,2,1]})\n",
    "df3.iplot(kind='surface',colorscale='rdylbu')"
   ]
  },
  {
   "cell_type": "code",
   "execution_count": 15,
   "metadata": {},
   "outputs": [
    {
     "data": {
      "application/vnd.plotly.v1+json": {
       "config": {
        "linkText": "Export to plot.ly",
        "plotlyServerURL": "https://plot.ly",
        "showLink": true
       },
       "data": [
        {
         "histfunc": "count",
         "histnorm": "",
         "marker": {
          "color": "rgba(255, 153, 51, 1.0)",
          "line": {
           "color": "#4D5663",
           "width": 1.3
          }
         },
         "name": "A",
         "nbinsx": 25,
         "opacity": 0.8,
         "orientation": "v",
         "type": "histogram",
         "x": [
          -0.6107347761616178,
          0.4201614153496461,
          -0.29605152886844865,
          -0.603856601378769,
          -0.34992557814699554,
          0.5068350913538099,
          1.4993263879906027,
          -2.334241991002616,
          -0.756289536182581,
          0.029039928572972565,
          -0.06418705977340332,
          0.9316899277347028,
          0.6315071913942684,
          -0.8448886098897598,
          0.17075138231478665,
          -0.46156067536114953,
          0.7665613566497056,
          -0.4836983678082965,
          0.16642518180746108,
          1.4564782581774924,
          0.9606524678241097,
          0.8542978329522262,
          -0.675314325805229,
          0.195511600271729,
          -1.7488760698587718,
          0.7124539851075085,
          2.0468217852064288,
          1.6248644217502146,
          -0.5286160896870696,
          -1.6561743116422956,
          1.0753782176872302,
          -0.4697669545323898,
          -0.009018585905509479,
          -0.541569847684211,
          1.6913214206556852,
          -1.788246523479366,
          0.522833167186685,
          -0.9934573505043022,
          1.6399751744524727,
          0.3374694500440057,
          -2.193678870035607,
          -1.017633199473239,
          0.3679345306105512,
          -1.3036150063236591,
          0.7462578429627574,
          -0.506156177257477,
          1.7176523623457138,
          1.7793863386202,
          0.07923784823916726,
          1.6723340011782664,
          0.026694156864108736,
          0.4857432640720413,
          -1.4103267776792288,
          -1.1830495094733648,
          -0.1792308752387724,
          -0.22071995812812675,
          -1.3270964256209172,
          -0.43120218142331274,
          -0.6256456712456581,
          -0.29497815162776525,
          1.467718648245481,
          -0.9304178622442733,
          -0.11510147301732727,
          -0.3767284928261818,
          0.478108904510788,
          3.7525358111818345,
          -0.03242175767615414,
          -0.3640156611750831,
          0.018466623262912058,
          -0.2434299789991597,
          -0.11500724514530727,
          -2.0214049601657518,
          0.690130295394509,
          0.2532383016783365,
          1.5331578664393732,
          -0.8853998372881371,
          -1.4352841075731064,
          0.2598125345509629,
          0.5956194819973099,
          0.22788031283148957,
          -0.13797830670137154,
          -1.4183777937548996,
          -0.07232292085057175,
          1.156608410254206,
          0.7622513100528217,
          -1.906380748783229,
          0.7045019662098876,
          3.1287391387449923,
          0.12687249379699703,
          0.10233161108321426,
          -0.793703598152564,
          0.5962107888831366,
          -0.5230777107716984,
          -1.4983543424046748,
          -1.474001813667417,
          1.1806612185186167,
          -0.9268646615012716,
          0.03494592384986443,
          0.936911761668089,
          -1.5336897066452815
         ]
        }
       ],
       "layout": {
        "barmode": "overlay",
        "legend": {
         "bgcolor": "#F5F6F9",
         "font": {
          "color": "#4D5663"
         }
        },
        "paper_bgcolor": "#F5F6F9",
        "plot_bgcolor": "#F5F6F9",
        "template": {
         "data": {
          "bar": [
           {
            "error_x": {
             "color": "#2a3f5f"
            },
            "error_y": {
             "color": "#2a3f5f"
            },
            "marker": {
             "line": {
              "color": "#E5ECF6",
              "width": 0.5
             },
             "pattern": {
              "fillmode": "overlay",
              "size": 10,
              "solidity": 0.2
             }
            },
            "type": "bar"
           }
          ],
          "barpolar": [
           {
            "marker": {
             "line": {
              "color": "#E5ECF6",
              "width": 0.5
             },
             "pattern": {
              "fillmode": "overlay",
              "size": 10,
              "solidity": 0.2
             }
            },
            "type": "barpolar"
           }
          ],
          "carpet": [
           {
            "aaxis": {
             "endlinecolor": "#2a3f5f",
             "gridcolor": "white",
             "linecolor": "white",
             "minorgridcolor": "white",
             "startlinecolor": "#2a3f5f"
            },
            "baxis": {
             "endlinecolor": "#2a3f5f",
             "gridcolor": "white",
             "linecolor": "white",
             "minorgridcolor": "white",
             "startlinecolor": "#2a3f5f"
            },
            "type": "carpet"
           }
          ],
          "choropleth": [
           {
            "colorbar": {
             "outlinewidth": 0,
             "ticks": ""
            },
            "type": "choropleth"
           }
          ],
          "contour": [
           {
            "colorbar": {
             "outlinewidth": 0,
             "ticks": ""
            },
            "colorscale": [
             [
              0,
              "#0d0887"
             ],
             [
              0.1111111111111111,
              "#46039f"
             ],
             [
              0.2222222222222222,
              "#7201a8"
             ],
             [
              0.3333333333333333,
              "#9c179e"
             ],
             [
              0.4444444444444444,
              "#bd3786"
             ],
             [
              0.5555555555555556,
              "#d8576b"
             ],
             [
              0.6666666666666666,
              "#ed7953"
             ],
             [
              0.7777777777777778,
              "#fb9f3a"
             ],
             [
              0.8888888888888888,
              "#fdca26"
             ],
             [
              1,
              "#f0f921"
             ]
            ],
            "type": "contour"
           }
          ],
          "contourcarpet": [
           {
            "colorbar": {
             "outlinewidth": 0,
             "ticks": ""
            },
            "type": "contourcarpet"
           }
          ],
          "heatmap": [
           {
            "colorbar": {
             "outlinewidth": 0,
             "ticks": ""
            },
            "colorscale": [
             [
              0,
              "#0d0887"
             ],
             [
              0.1111111111111111,
              "#46039f"
             ],
             [
              0.2222222222222222,
              "#7201a8"
             ],
             [
              0.3333333333333333,
              "#9c179e"
             ],
             [
              0.4444444444444444,
              "#bd3786"
             ],
             [
              0.5555555555555556,
              "#d8576b"
             ],
             [
              0.6666666666666666,
              "#ed7953"
             ],
             [
              0.7777777777777778,
              "#fb9f3a"
             ],
             [
              0.8888888888888888,
              "#fdca26"
             ],
             [
              1,
              "#f0f921"
             ]
            ],
            "type": "heatmap"
           }
          ],
          "heatmapgl": [
           {
            "colorbar": {
             "outlinewidth": 0,
             "ticks": ""
            },
            "colorscale": [
             [
              0,
              "#0d0887"
             ],
             [
              0.1111111111111111,
              "#46039f"
             ],
             [
              0.2222222222222222,
              "#7201a8"
             ],
             [
              0.3333333333333333,
              "#9c179e"
             ],
             [
              0.4444444444444444,
              "#bd3786"
             ],
             [
              0.5555555555555556,
              "#d8576b"
             ],
             [
              0.6666666666666666,
              "#ed7953"
             ],
             [
              0.7777777777777778,
              "#fb9f3a"
             ],
             [
              0.8888888888888888,
              "#fdca26"
             ],
             [
              1,
              "#f0f921"
             ]
            ],
            "type": "heatmapgl"
           }
          ],
          "histogram": [
           {
            "marker": {
             "pattern": {
              "fillmode": "overlay",
              "size": 10,
              "solidity": 0.2
             }
            },
            "type": "histogram"
           }
          ],
          "histogram2d": [
           {
            "colorbar": {
             "outlinewidth": 0,
             "ticks": ""
            },
            "colorscale": [
             [
              0,
              "#0d0887"
             ],
             [
              0.1111111111111111,
              "#46039f"
             ],
             [
              0.2222222222222222,
              "#7201a8"
             ],
             [
              0.3333333333333333,
              "#9c179e"
             ],
             [
              0.4444444444444444,
              "#bd3786"
             ],
             [
              0.5555555555555556,
              "#d8576b"
             ],
             [
              0.6666666666666666,
              "#ed7953"
             ],
             [
              0.7777777777777778,
              "#fb9f3a"
             ],
             [
              0.8888888888888888,
              "#fdca26"
             ],
             [
              1,
              "#f0f921"
             ]
            ],
            "type": "histogram2d"
           }
          ],
          "histogram2dcontour": [
           {
            "colorbar": {
             "outlinewidth": 0,
             "ticks": ""
            },
            "colorscale": [
             [
              0,
              "#0d0887"
             ],
             [
              0.1111111111111111,
              "#46039f"
             ],
             [
              0.2222222222222222,
              "#7201a8"
             ],
             [
              0.3333333333333333,
              "#9c179e"
             ],
             [
              0.4444444444444444,
              "#bd3786"
             ],
             [
              0.5555555555555556,
              "#d8576b"
             ],
             [
              0.6666666666666666,
              "#ed7953"
             ],
             [
              0.7777777777777778,
              "#fb9f3a"
             ],
             [
              0.8888888888888888,
              "#fdca26"
             ],
             [
              1,
              "#f0f921"
             ]
            ],
            "type": "histogram2dcontour"
           }
          ],
          "mesh3d": [
           {
            "colorbar": {
             "outlinewidth": 0,
             "ticks": ""
            },
            "type": "mesh3d"
           }
          ],
          "parcoords": [
           {
            "line": {
             "colorbar": {
              "outlinewidth": 0,
              "ticks": ""
             }
            },
            "type": "parcoords"
           }
          ],
          "pie": [
           {
            "automargin": true,
            "type": "pie"
           }
          ],
          "scatter": [
           {
            "fillpattern": {
             "fillmode": "overlay",
             "size": 10,
             "solidity": 0.2
            },
            "type": "scatter"
           }
          ],
          "scatter3d": [
           {
            "line": {
             "colorbar": {
              "outlinewidth": 0,
              "ticks": ""
             }
            },
            "marker": {
             "colorbar": {
              "outlinewidth": 0,
              "ticks": ""
             }
            },
            "type": "scatter3d"
           }
          ],
          "scattercarpet": [
           {
            "marker": {
             "colorbar": {
              "outlinewidth": 0,
              "ticks": ""
             }
            },
            "type": "scattercarpet"
           }
          ],
          "scattergeo": [
           {
            "marker": {
             "colorbar": {
              "outlinewidth": 0,
              "ticks": ""
             }
            },
            "type": "scattergeo"
           }
          ],
          "scattergl": [
           {
            "marker": {
             "colorbar": {
              "outlinewidth": 0,
              "ticks": ""
             }
            },
            "type": "scattergl"
           }
          ],
          "scattermapbox": [
           {
            "marker": {
             "colorbar": {
              "outlinewidth": 0,
              "ticks": ""
             }
            },
            "type": "scattermapbox"
           }
          ],
          "scatterpolar": [
           {
            "marker": {
             "colorbar": {
              "outlinewidth": 0,
              "ticks": ""
             }
            },
            "type": "scatterpolar"
           }
          ],
          "scatterpolargl": [
           {
            "marker": {
             "colorbar": {
              "outlinewidth": 0,
              "ticks": ""
             }
            },
            "type": "scatterpolargl"
           }
          ],
          "scatterternary": [
           {
            "marker": {
             "colorbar": {
              "outlinewidth": 0,
              "ticks": ""
             }
            },
            "type": "scatterternary"
           }
          ],
          "surface": [
           {
            "colorbar": {
             "outlinewidth": 0,
             "ticks": ""
            },
            "colorscale": [
             [
              0,
              "#0d0887"
             ],
             [
              0.1111111111111111,
              "#46039f"
             ],
             [
              0.2222222222222222,
              "#7201a8"
             ],
             [
              0.3333333333333333,
              "#9c179e"
             ],
             [
              0.4444444444444444,
              "#bd3786"
             ],
             [
              0.5555555555555556,
              "#d8576b"
             ],
             [
              0.6666666666666666,
              "#ed7953"
             ],
             [
              0.7777777777777778,
              "#fb9f3a"
             ],
             [
              0.8888888888888888,
              "#fdca26"
             ],
             [
              1,
              "#f0f921"
             ]
            ],
            "type": "surface"
           }
          ],
          "table": [
           {
            "cells": {
             "fill": {
              "color": "#EBF0F8"
             },
             "line": {
              "color": "white"
             }
            },
            "header": {
             "fill": {
              "color": "#C8D4E3"
             },
             "line": {
              "color": "white"
             }
            },
            "type": "table"
           }
          ]
         },
         "layout": {
          "annotationdefaults": {
           "arrowcolor": "#2a3f5f",
           "arrowhead": 0,
           "arrowwidth": 1
          },
          "autotypenumbers": "strict",
          "coloraxis": {
           "colorbar": {
            "outlinewidth": 0,
            "ticks": ""
           }
          },
          "colorscale": {
           "diverging": [
            [
             0,
             "#8e0152"
            ],
            [
             0.1,
             "#c51b7d"
            ],
            [
             0.2,
             "#de77ae"
            ],
            [
             0.3,
             "#f1b6da"
            ],
            [
             0.4,
             "#fde0ef"
            ],
            [
             0.5,
             "#f7f7f7"
            ],
            [
             0.6,
             "#e6f5d0"
            ],
            [
             0.7,
             "#b8e186"
            ],
            [
             0.8,
             "#7fbc41"
            ],
            [
             0.9,
             "#4d9221"
            ],
            [
             1,
             "#276419"
            ]
           ],
           "sequential": [
            [
             0,
             "#0d0887"
            ],
            [
             0.1111111111111111,
             "#46039f"
            ],
            [
             0.2222222222222222,
             "#7201a8"
            ],
            [
             0.3333333333333333,
             "#9c179e"
            ],
            [
             0.4444444444444444,
             "#bd3786"
            ],
            [
             0.5555555555555556,
             "#d8576b"
            ],
            [
             0.6666666666666666,
             "#ed7953"
            ],
            [
             0.7777777777777778,
             "#fb9f3a"
            ],
            [
             0.8888888888888888,
             "#fdca26"
            ],
            [
             1,
             "#f0f921"
            ]
           ],
           "sequentialminus": [
            [
             0,
             "#0d0887"
            ],
            [
             0.1111111111111111,
             "#46039f"
            ],
            [
             0.2222222222222222,
             "#7201a8"
            ],
            [
             0.3333333333333333,
             "#9c179e"
            ],
            [
             0.4444444444444444,
             "#bd3786"
            ],
            [
             0.5555555555555556,
             "#d8576b"
            ],
            [
             0.6666666666666666,
             "#ed7953"
            ],
            [
             0.7777777777777778,
             "#fb9f3a"
            ],
            [
             0.8888888888888888,
             "#fdca26"
            ],
            [
             1,
             "#f0f921"
            ]
           ]
          },
          "colorway": [
           "#636efa",
           "#EF553B",
           "#00cc96",
           "#ab63fa",
           "#FFA15A",
           "#19d3f3",
           "#FF6692",
           "#B6E880",
           "#FF97FF",
           "#FECB52"
          ],
          "font": {
           "color": "#2a3f5f"
          },
          "geo": {
           "bgcolor": "white",
           "lakecolor": "white",
           "landcolor": "#E5ECF6",
           "showlakes": true,
           "showland": true,
           "subunitcolor": "white"
          },
          "hoverlabel": {
           "align": "left"
          },
          "hovermode": "closest",
          "mapbox": {
           "style": "light"
          },
          "paper_bgcolor": "white",
          "plot_bgcolor": "#E5ECF6",
          "polar": {
           "angularaxis": {
            "gridcolor": "white",
            "linecolor": "white",
            "ticks": ""
           },
           "bgcolor": "#E5ECF6",
           "radialaxis": {
            "gridcolor": "white",
            "linecolor": "white",
            "ticks": ""
           }
          },
          "scene": {
           "xaxis": {
            "backgroundcolor": "#E5ECF6",
            "gridcolor": "white",
            "gridwidth": 2,
            "linecolor": "white",
            "showbackground": true,
            "ticks": "",
            "zerolinecolor": "white"
           },
           "yaxis": {
            "backgroundcolor": "#E5ECF6",
            "gridcolor": "white",
            "gridwidth": 2,
            "linecolor": "white",
            "showbackground": true,
            "ticks": "",
            "zerolinecolor": "white"
           },
           "zaxis": {
            "backgroundcolor": "#E5ECF6",
            "gridcolor": "white",
            "gridwidth": 2,
            "linecolor": "white",
            "showbackground": true,
            "ticks": "",
            "zerolinecolor": "white"
           }
          },
          "shapedefaults": {
           "line": {
            "color": "#2a3f5f"
           }
          },
          "ternary": {
           "aaxis": {
            "gridcolor": "white",
            "linecolor": "white",
            "ticks": ""
           },
           "baxis": {
            "gridcolor": "white",
            "linecolor": "white",
            "ticks": ""
           },
           "bgcolor": "#E5ECF6",
           "caxis": {
            "gridcolor": "white",
            "linecolor": "white",
            "ticks": ""
           }
          },
          "title": {
           "x": 0.05
          },
          "xaxis": {
           "automargin": true,
           "gridcolor": "white",
           "linecolor": "white",
           "ticks": "",
           "title": {
            "standoff": 15
           },
           "zerolinecolor": "white",
           "zerolinewidth": 2
          },
          "yaxis": {
           "automargin": true,
           "gridcolor": "white",
           "linecolor": "white",
           "ticks": "",
           "title": {
            "standoff": 15
           },
           "zerolinecolor": "white",
           "zerolinewidth": 2
          }
         }
        },
        "title": {
         "font": {
          "color": "#4D5663"
         }
        },
        "xaxis": {
         "gridcolor": "#E1E5ED",
         "showgrid": true,
         "tickfont": {
          "color": "#4D5663"
         },
         "title": {
          "font": {
           "color": "#4D5663"
          },
          "text": ""
         },
         "zerolinecolor": "#E1E5ED"
        },
        "yaxis": {
         "gridcolor": "#E1E5ED",
         "showgrid": true,
         "tickfont": {
          "color": "#4D5663"
         },
         "title": {
          "font": {
           "color": "#4D5663"
          },
          "text": ""
         },
         "zerolinecolor": "#E1E5ED"
        }
       }
      },
      "text/html": [
       "<div>                            <div id=\"bd1927bd-9296-4500-90cd-77a018289303\" class=\"plotly-graph-div\" style=\"height:525px; width:100%;\"></div>            <script type=\"text/javascript\">                require([\"plotly\"], function(Plotly) {                    window.PLOTLYENV=window.PLOTLYENV || {};\n",
       "                    window.PLOTLYENV.BASE_URL='https://plot.ly';                                    if (document.getElementById(\"bd1927bd-9296-4500-90cd-77a018289303\")) {                    Plotly.newPlot(                        \"bd1927bd-9296-4500-90cd-77a018289303\",                        [{\"histfunc\":\"count\",\"histnorm\":\"\",\"marker\":{\"color\":\"rgba(255, 153, 51, 1.0)\",\"line\":{\"color\":\"#4D5663\",\"width\":1.3}},\"name\":\"A\",\"nbinsx\":25,\"opacity\":0.8,\"orientation\":\"v\",\"x\":[-0.6107347761616178,0.4201614153496461,-0.29605152886844865,-0.603856601378769,-0.34992557814699554,0.5068350913538099,1.4993263879906027,-2.334241991002616,-0.756289536182581,0.029039928572972565,-0.06418705977340332,0.9316899277347028,0.6315071913942684,-0.8448886098897598,0.17075138231478665,-0.46156067536114953,0.7665613566497056,-0.4836983678082965,0.16642518180746108,1.4564782581774924,0.9606524678241097,0.8542978329522262,-0.675314325805229,0.195511600271729,-1.7488760698587718,0.7124539851075085,2.0468217852064288,1.6248644217502146,-0.5286160896870696,-1.6561743116422956,1.0753782176872302,-0.4697669545323898,-0.009018585905509479,-0.541569847684211,1.6913214206556852,-1.788246523479366,0.522833167186685,-0.9934573505043022,1.6399751744524727,0.3374694500440057,-2.193678870035607,-1.017633199473239,0.3679345306105512,-1.3036150063236591,0.7462578429627574,-0.506156177257477,1.7176523623457138,1.7793863386202,0.07923784823916726,1.6723340011782664,0.026694156864108736,0.4857432640720413,-1.4103267776792288,-1.1830495094733648,-0.1792308752387724,-0.22071995812812675,-1.3270964256209172,-0.43120218142331274,-0.6256456712456581,-0.29497815162776525,1.467718648245481,-0.9304178622442733,-0.11510147301732727,-0.3767284928261818,0.478108904510788,3.7525358111818345,-0.03242175767615414,-0.3640156611750831,0.018466623262912058,-0.2434299789991597,-0.11500724514530727,-2.0214049601657518,0.690130295394509,0.2532383016783365,1.5331578664393732,-0.8853998372881371,-1.4352841075731064,0.2598125345509629,0.5956194819973099,0.22788031283148957,-0.13797830670137154,-1.4183777937548996,-0.07232292085057175,1.156608410254206,0.7622513100528217,-1.906380748783229,0.7045019662098876,3.1287391387449923,0.12687249379699703,0.10233161108321426,-0.793703598152564,0.5962107888831366,-0.5230777107716984,-1.4983543424046748,-1.474001813667417,1.1806612185186167,-0.9268646615012716,0.03494592384986443,0.936911761668089,-1.5336897066452815],\"type\":\"histogram\"}],                        {\"barmode\":\"overlay\",\"legend\":{\"bgcolor\":\"#F5F6F9\",\"font\":{\"color\":\"#4D5663\"}},\"paper_bgcolor\":\"#F5F6F9\",\"plot_bgcolor\":\"#F5F6F9\",\"template\":{\"data\":{\"barpolar\":[{\"marker\":{\"line\":{\"color\":\"#E5ECF6\",\"width\":0.5},\"pattern\":{\"fillmode\":\"overlay\",\"size\":10,\"solidity\":0.2}},\"type\":\"barpolar\"}],\"bar\":[{\"error_x\":{\"color\":\"#2a3f5f\"},\"error_y\":{\"color\":\"#2a3f5f\"},\"marker\":{\"line\":{\"color\":\"#E5ECF6\",\"width\":0.5},\"pattern\":{\"fillmode\":\"overlay\",\"size\":10,\"solidity\":0.2}},\"type\":\"bar\"}],\"carpet\":[{\"aaxis\":{\"endlinecolor\":\"#2a3f5f\",\"gridcolor\":\"white\",\"linecolor\":\"white\",\"minorgridcolor\":\"white\",\"startlinecolor\":\"#2a3f5f\"},\"baxis\":{\"endlinecolor\":\"#2a3f5f\",\"gridcolor\":\"white\",\"linecolor\":\"white\",\"minorgridcolor\":\"white\",\"startlinecolor\":\"#2a3f5f\"},\"type\":\"carpet\"}],\"choropleth\":[{\"colorbar\":{\"outlinewidth\":0,\"ticks\":\"\"},\"type\":\"choropleth\"}],\"contourcarpet\":[{\"colorbar\":{\"outlinewidth\":0,\"ticks\":\"\"},\"type\":\"contourcarpet\"}],\"contour\":[{\"colorbar\":{\"outlinewidth\":0,\"ticks\":\"\"},\"colorscale\":[[0.0,\"#0d0887\"],[0.1111111111111111,\"#46039f\"],[0.2222222222222222,\"#7201a8\"],[0.3333333333333333,\"#9c179e\"],[0.4444444444444444,\"#bd3786\"],[0.5555555555555556,\"#d8576b\"],[0.6666666666666666,\"#ed7953\"],[0.7777777777777778,\"#fb9f3a\"],[0.8888888888888888,\"#fdca26\"],[1.0,\"#f0f921\"]],\"type\":\"contour\"}],\"heatmapgl\":[{\"colorbar\":{\"outlinewidth\":0,\"ticks\":\"\"},\"colorscale\":[[0.0,\"#0d0887\"],[0.1111111111111111,\"#46039f\"],[0.2222222222222222,\"#7201a8\"],[0.3333333333333333,\"#9c179e\"],[0.4444444444444444,\"#bd3786\"],[0.5555555555555556,\"#d8576b\"],[0.6666666666666666,\"#ed7953\"],[0.7777777777777778,\"#fb9f3a\"],[0.8888888888888888,\"#fdca26\"],[1.0,\"#f0f921\"]],\"type\":\"heatmapgl\"}],\"heatmap\":[{\"colorbar\":{\"outlinewidth\":0,\"ticks\":\"\"},\"colorscale\":[[0.0,\"#0d0887\"],[0.1111111111111111,\"#46039f\"],[0.2222222222222222,\"#7201a8\"],[0.3333333333333333,\"#9c179e\"],[0.4444444444444444,\"#bd3786\"],[0.5555555555555556,\"#d8576b\"],[0.6666666666666666,\"#ed7953\"],[0.7777777777777778,\"#fb9f3a\"],[0.8888888888888888,\"#fdca26\"],[1.0,\"#f0f921\"]],\"type\":\"heatmap\"}],\"histogram2dcontour\":[{\"colorbar\":{\"outlinewidth\":0,\"ticks\":\"\"},\"colorscale\":[[0.0,\"#0d0887\"],[0.1111111111111111,\"#46039f\"],[0.2222222222222222,\"#7201a8\"],[0.3333333333333333,\"#9c179e\"],[0.4444444444444444,\"#bd3786\"],[0.5555555555555556,\"#d8576b\"],[0.6666666666666666,\"#ed7953\"],[0.7777777777777778,\"#fb9f3a\"],[0.8888888888888888,\"#fdca26\"],[1.0,\"#f0f921\"]],\"type\":\"histogram2dcontour\"}],\"histogram2d\":[{\"colorbar\":{\"outlinewidth\":0,\"ticks\":\"\"},\"colorscale\":[[0.0,\"#0d0887\"],[0.1111111111111111,\"#46039f\"],[0.2222222222222222,\"#7201a8\"],[0.3333333333333333,\"#9c179e\"],[0.4444444444444444,\"#bd3786\"],[0.5555555555555556,\"#d8576b\"],[0.6666666666666666,\"#ed7953\"],[0.7777777777777778,\"#fb9f3a\"],[0.8888888888888888,\"#fdca26\"],[1.0,\"#f0f921\"]],\"type\":\"histogram2d\"}],\"histogram\":[{\"marker\":{\"pattern\":{\"fillmode\":\"overlay\",\"size\":10,\"solidity\":0.2}},\"type\":\"histogram\"}],\"mesh3d\":[{\"colorbar\":{\"outlinewidth\":0,\"ticks\":\"\"},\"type\":\"mesh3d\"}],\"parcoords\":[{\"line\":{\"colorbar\":{\"outlinewidth\":0,\"ticks\":\"\"}},\"type\":\"parcoords\"}],\"pie\":[{\"automargin\":true,\"type\":\"pie\"}],\"scatter3d\":[{\"line\":{\"colorbar\":{\"outlinewidth\":0,\"ticks\":\"\"}},\"marker\":{\"colorbar\":{\"outlinewidth\":0,\"ticks\":\"\"}},\"type\":\"scatter3d\"}],\"scattercarpet\":[{\"marker\":{\"colorbar\":{\"outlinewidth\":0,\"ticks\":\"\"}},\"type\":\"scattercarpet\"}],\"scattergeo\":[{\"marker\":{\"colorbar\":{\"outlinewidth\":0,\"ticks\":\"\"}},\"type\":\"scattergeo\"}],\"scattergl\":[{\"marker\":{\"colorbar\":{\"outlinewidth\":0,\"ticks\":\"\"}},\"type\":\"scattergl\"}],\"scattermapbox\":[{\"marker\":{\"colorbar\":{\"outlinewidth\":0,\"ticks\":\"\"}},\"type\":\"scattermapbox\"}],\"scatterpolargl\":[{\"marker\":{\"colorbar\":{\"outlinewidth\":0,\"ticks\":\"\"}},\"type\":\"scatterpolargl\"}],\"scatterpolar\":[{\"marker\":{\"colorbar\":{\"outlinewidth\":0,\"ticks\":\"\"}},\"type\":\"scatterpolar\"}],\"scatter\":[{\"fillpattern\":{\"fillmode\":\"overlay\",\"size\":10,\"solidity\":0.2},\"type\":\"scatter\"}],\"scatterternary\":[{\"marker\":{\"colorbar\":{\"outlinewidth\":0,\"ticks\":\"\"}},\"type\":\"scatterternary\"}],\"surface\":[{\"colorbar\":{\"outlinewidth\":0,\"ticks\":\"\"},\"colorscale\":[[0.0,\"#0d0887\"],[0.1111111111111111,\"#46039f\"],[0.2222222222222222,\"#7201a8\"],[0.3333333333333333,\"#9c179e\"],[0.4444444444444444,\"#bd3786\"],[0.5555555555555556,\"#d8576b\"],[0.6666666666666666,\"#ed7953\"],[0.7777777777777778,\"#fb9f3a\"],[0.8888888888888888,\"#fdca26\"],[1.0,\"#f0f921\"]],\"type\":\"surface\"}],\"table\":[{\"cells\":{\"fill\":{\"color\":\"#EBF0F8\"},\"line\":{\"color\":\"white\"}},\"header\":{\"fill\":{\"color\":\"#C8D4E3\"},\"line\":{\"color\":\"white\"}},\"type\":\"table\"}]},\"layout\":{\"annotationdefaults\":{\"arrowcolor\":\"#2a3f5f\",\"arrowhead\":0,\"arrowwidth\":1},\"autotypenumbers\":\"strict\",\"coloraxis\":{\"colorbar\":{\"outlinewidth\":0,\"ticks\":\"\"}},\"colorscale\":{\"diverging\":[[0,\"#8e0152\"],[0.1,\"#c51b7d\"],[0.2,\"#de77ae\"],[0.3,\"#f1b6da\"],[0.4,\"#fde0ef\"],[0.5,\"#f7f7f7\"],[0.6,\"#e6f5d0\"],[0.7,\"#b8e186\"],[0.8,\"#7fbc41\"],[0.9,\"#4d9221\"],[1,\"#276419\"]],\"sequential\":[[0.0,\"#0d0887\"],[0.1111111111111111,\"#46039f\"],[0.2222222222222222,\"#7201a8\"],[0.3333333333333333,\"#9c179e\"],[0.4444444444444444,\"#bd3786\"],[0.5555555555555556,\"#d8576b\"],[0.6666666666666666,\"#ed7953\"],[0.7777777777777778,\"#fb9f3a\"],[0.8888888888888888,\"#fdca26\"],[1.0,\"#f0f921\"]],\"sequentialminus\":[[0.0,\"#0d0887\"],[0.1111111111111111,\"#46039f\"],[0.2222222222222222,\"#7201a8\"],[0.3333333333333333,\"#9c179e\"],[0.4444444444444444,\"#bd3786\"],[0.5555555555555556,\"#d8576b\"],[0.6666666666666666,\"#ed7953\"],[0.7777777777777778,\"#fb9f3a\"],[0.8888888888888888,\"#fdca26\"],[1.0,\"#f0f921\"]]},\"colorway\":[\"#636efa\",\"#EF553B\",\"#00cc96\",\"#ab63fa\",\"#FFA15A\",\"#19d3f3\",\"#FF6692\",\"#B6E880\",\"#FF97FF\",\"#FECB52\"],\"font\":{\"color\":\"#2a3f5f\"},\"geo\":{\"bgcolor\":\"white\",\"lakecolor\":\"white\",\"landcolor\":\"#E5ECF6\",\"showlakes\":true,\"showland\":true,\"subunitcolor\":\"white\"},\"hoverlabel\":{\"align\":\"left\"},\"hovermode\":\"closest\",\"mapbox\":{\"style\":\"light\"},\"paper_bgcolor\":\"white\",\"plot_bgcolor\":\"#E5ECF6\",\"polar\":{\"angularaxis\":{\"gridcolor\":\"white\",\"linecolor\":\"white\",\"ticks\":\"\"},\"bgcolor\":\"#E5ECF6\",\"radialaxis\":{\"gridcolor\":\"white\",\"linecolor\":\"white\",\"ticks\":\"\"}},\"scene\":{\"xaxis\":{\"backgroundcolor\":\"#E5ECF6\",\"gridcolor\":\"white\",\"gridwidth\":2,\"linecolor\":\"white\",\"showbackground\":true,\"ticks\":\"\",\"zerolinecolor\":\"white\"},\"yaxis\":{\"backgroundcolor\":\"#E5ECF6\",\"gridcolor\":\"white\",\"gridwidth\":2,\"linecolor\":\"white\",\"showbackground\":true,\"ticks\":\"\",\"zerolinecolor\":\"white\"},\"zaxis\":{\"backgroundcolor\":\"#E5ECF6\",\"gridcolor\":\"white\",\"gridwidth\":2,\"linecolor\":\"white\",\"showbackground\":true,\"ticks\":\"\",\"zerolinecolor\":\"white\"}},\"shapedefaults\":{\"line\":{\"color\":\"#2a3f5f\"}},\"ternary\":{\"aaxis\":{\"gridcolor\":\"white\",\"linecolor\":\"white\",\"ticks\":\"\"},\"baxis\":{\"gridcolor\":\"white\",\"linecolor\":\"white\",\"ticks\":\"\"},\"bgcolor\":\"#E5ECF6\",\"caxis\":{\"gridcolor\":\"white\",\"linecolor\":\"white\",\"ticks\":\"\"}},\"title\":{\"x\":0.05},\"xaxis\":{\"automargin\":true,\"gridcolor\":\"white\",\"linecolor\":\"white\",\"ticks\":\"\",\"title\":{\"standoff\":15},\"zerolinecolor\":\"white\",\"zerolinewidth\":2},\"yaxis\":{\"automargin\":true,\"gridcolor\":\"white\",\"linecolor\":\"white\",\"ticks\":\"\",\"title\":{\"standoff\":15},\"zerolinecolor\":\"white\",\"zerolinewidth\":2}}},\"title\":{\"font\":{\"color\":\"#4D5663\"}},\"xaxis\":{\"gridcolor\":\"#E1E5ED\",\"showgrid\":true,\"tickfont\":{\"color\":\"#4D5663\"},\"title\":{\"font\":{\"color\":\"#4D5663\"},\"text\":\"\"},\"zerolinecolor\":\"#E1E5ED\"},\"yaxis\":{\"gridcolor\":\"#E1E5ED\",\"showgrid\":true,\"tickfont\":{\"color\":\"#4D5663\"},\"title\":{\"font\":{\"color\":\"#4D5663\"},\"text\":\"\"},\"zerolinecolor\":\"#E1E5ED\"}},                        {\"showLink\": true, \"linkText\": \"Export to plot.ly\", \"plotlyServerURL\": \"https://plot.ly\", \"responsive\": true}                    ).then(function(){\n",
       "                            \n",
       "var gd = document.getElementById('bd1927bd-9296-4500-90cd-77a018289303');\n",
       "var x = new MutationObserver(function (mutations, observer) {{\n",
       "        var display = window.getComputedStyle(gd).display;\n",
       "        if (!display || display === 'none') {{\n",
       "            console.log([gd, 'removed!']);\n",
       "            Plotly.purge(gd);\n",
       "            observer.disconnect();\n",
       "        }}\n",
       "}});\n",
       "\n",
       "// Listen for the removal of the full notebook cells\n",
       "var notebookContainer = gd.closest('#notebook-container');\n",
       "if (notebookContainer) {{\n",
       "    x.observe(notebookContainer, {childList: true});\n",
       "}}\n",
       "\n",
       "// Listen for the clearing of the current output cell\n",
       "var outputEl = gd.closest('.output');\n",
       "if (outputEl) {{\n",
       "    x.observe(outputEl, {childList: true});\n",
       "}}\n",
       "\n",
       "                        })                };                });            </script>        </div>"
      ]
     },
     "metadata": {},
     "output_type": "display_data"
    }
   ],
   "source": [
    "df['A'].iplot(kind='hist',bins=25)"
   ]
  },
  {
   "cell_type": "code",
   "execution_count": 16,
   "metadata": {},
   "outputs": [
    {
     "data": {
      "application/vnd.plotly.v1+json": {
       "config": {
        "linkText": "Export to plot.ly",
        "plotlyServerURL": "https://plot.ly",
        "showLink": true
       },
       "data": [
        {
         "marker": {
          "color": [
           "red",
           "red",
           "red",
           "red",
           "red",
           "red",
           "red",
           "red",
           "red",
           "red",
           "red",
           "red",
           "red",
           "red",
           "red",
           "red",
           "red",
           "red",
           "red",
           "red",
           "red",
           "red",
           "red",
           "red",
           "red",
           "red",
           "red",
           "red",
           "red",
           "red",
           "red",
           "red",
           "red",
           "red",
           "red",
           "red",
           "red",
           "red",
           "red",
           "red",
           "red",
           "red",
           "red",
           "red",
           "red",
           "red",
           "red",
           "red",
           "red",
           "red",
           "red",
           "red",
           "red",
           "red",
           "red",
           "red",
           "red",
           "red",
           "red",
           "red",
           "red",
           "red",
           "red",
           "red",
           "red",
           "red",
           "red",
           "red",
           "red",
           "red",
           "red",
           "red",
           "red",
           "red",
           "red",
           "red",
           "red",
           "red",
           "red",
           "red",
           "red",
           "red",
           "red",
           "red",
           "red",
           "red",
           "red",
           "red",
           "red",
           "red",
           "red",
           "red",
           "red",
           "red",
           "red",
           "red",
           "red",
           "red",
           "red",
           "red"
          ],
          "line": {
           "width": 1.3
          },
          "size": [
           87,
           58,
           42,
           63,
           51,
           91,
           56,
           56,
           81,
           74,
           53,
           46,
           72,
           18,
           30,
           64,
           84,
           112,
           38,
           32,
           29,
           21,
           57,
           65,
           38,
           79,
           57,
           43,
           60,
           30,
           68,
           58,
           51,
           65,
           64,
           41,
           48,
           42,
           24,
           76,
           48,
           111,
           27,
           110,
           67,
           65,
           62,
           57,
           41,
           41,
           59,
           66,
           57,
           36,
           58,
           51,
           44,
           31,
           40,
           18,
           24,
           67,
           30,
           56,
           74,
           88,
           64,
           28,
           55,
           41,
           44,
           44,
           12,
           88,
           58,
           70,
           79,
           52,
           54,
           88,
           60,
           73,
           66,
           33,
           24,
           67,
           86,
           48,
           63,
           34,
           40,
           31,
           83,
           58,
           111,
           61,
           90,
           52,
           25,
           63
          ],
          "symbol": "circle"
         },
         "mode": "markers",
         "text": "",
         "type": "scatter",
         "x": [
          -0.6107347761616178,
          0.4201614153496461,
          -0.29605152886844865,
          -0.603856601378769,
          -0.34992557814699554,
          0.5068350913538099,
          1.4993263879906027,
          -2.334241991002616,
          -0.756289536182581,
          0.029039928572972565,
          -0.06418705977340332,
          0.9316899277347028,
          0.6315071913942684,
          -0.8448886098897598,
          0.17075138231478665,
          -0.46156067536114953,
          0.7665613566497056,
          -0.4836983678082965,
          0.16642518180746108,
          1.4564782581774924,
          0.9606524678241097,
          0.8542978329522262,
          -0.675314325805229,
          0.195511600271729,
          -1.7488760698587718,
          0.7124539851075085,
          2.0468217852064288,
          1.6248644217502146,
          -0.5286160896870696,
          -1.6561743116422956,
          1.0753782176872302,
          -0.4697669545323898,
          -0.009018585905509479,
          -0.541569847684211,
          1.6913214206556852,
          -1.788246523479366,
          0.522833167186685,
          -0.9934573505043022,
          1.6399751744524727,
          0.3374694500440057,
          -2.193678870035607,
          -1.017633199473239,
          0.3679345306105512,
          -1.3036150063236591,
          0.7462578429627574,
          -0.506156177257477,
          1.7176523623457138,
          1.7793863386202,
          0.07923784823916726,
          1.6723340011782664,
          0.026694156864108736,
          0.4857432640720413,
          -1.4103267776792288,
          -1.1830495094733648,
          -0.1792308752387724,
          -0.22071995812812675,
          -1.3270964256209172,
          -0.43120218142331274,
          -0.6256456712456581,
          -0.29497815162776525,
          1.467718648245481,
          -0.9304178622442733,
          -0.11510147301732727,
          -0.3767284928261818,
          0.478108904510788,
          3.7525358111818345,
          -0.03242175767615414,
          -0.3640156611750831,
          0.018466623262912058,
          -0.2434299789991597,
          -0.11500724514530727,
          -2.0214049601657518,
          0.690130295394509,
          0.2532383016783365,
          1.5331578664393732,
          -0.8853998372881371,
          -1.4352841075731064,
          0.2598125345509629,
          0.5956194819973099,
          0.22788031283148957,
          -0.13797830670137154,
          -1.4183777937548996,
          -0.07232292085057175,
          1.156608410254206,
          0.7622513100528217,
          -1.906380748783229,
          0.7045019662098876,
          3.1287391387449923,
          0.12687249379699703,
          0.10233161108321426,
          -0.793703598152564,
          0.5962107888831366,
          -0.5230777107716984,
          -1.4983543424046748,
          -1.474001813667417,
          1.1806612185186167,
          -0.9268646615012716,
          0.03494592384986443,
          0.936911761668089,
          -1.5336897066452815
         ],
         "y": [
          -0.7515845289098267,
          -1.3501185693636415,
          0.16077795108916015,
          1.0972421667024326,
          -1.5551617340524697,
          0.36473435593692705,
          -1.0305068105461639,
          -1.1324253826988833,
          -0.6873504943516671,
          0.1069282354870738,
          -1.695536516849996,
          0.2425816618019362,
          1.2687297380945173,
          0.020225855520632312,
          0.2892120761545208,
          0.1297778773904678,
          -0.7374435068199338,
          -1.4400098572821194,
          0.0032000310074377443,
          2.3156191209106116,
          -2.104552277645811,
          -0.22379452958198373,
          0.9883500188308598,
          1.3851046302259347,
          -1.0928793648108472,
          0.2912452071491476,
          -0.4106886803289102,
          -0.7209245389511091,
          -0.07317020772918818,
          0.2694790571470932,
          1.375091364288301,
          -0.23046375294234592,
          -0.05784828915091585,
          -0.4026832249574582,
          1.3880505778741024,
          1.0770560109162644,
          -1.6785547624603565,
          0.8704258254204967,
          1.2192626939395739,
          -0.11185202419003015,
          -0.763588692976187,
          1.490195261649367,
          2.1775088878872806,
          0.7277948316579071,
          -0.49372189274523937,
          -0.2338324822911922,
          -0.3379344582705307,
          0.4704751985297546,
          -0.7631725910562722,
          -1.305388313612196,
          0.19336190533982603,
          0.7328086527251998,
          0.7706362653881076,
          -1.2925763526257745,
          -0.8104937348956527,
          -0.5563194360896363,
          -1.972197874409348,
          -0.1932211683793346,
          0.24658648621738297,
          -0.27580446480575443,
          -0.04910140696994737,
          0.902700698539591,
          -0.06394334025850491,
          0.044784293824225885,
          0.6038793255782594,
          1.1287050189302426,
          -0.5778578018120689,
          -0.10347513287249659,
          1.5211159073742107,
          -0.9286680897045665,
          -0.24014144423313558,
          2.478875929720434,
          -1.7514335396591265,
          0.19996871943196137,
          0.6321232809455622,
          1.9589895318338868,
          -0.8238855966095642,
          0.12473054236890199,
          1.7645917749679907,
          -0.6231437672773471,
          -1.1610423310897395,
          -1.9156473976700872,
          -1.6126019221487324,
          1.7382721048015093,
          0.05761002640626352,
          3.1060553929808754,
          1.2978766991775879,
          2.379727283652175,
          -0.38706280385902053,
          -0.14276694931792414,
          0.9865472939839993,
          -0.658203460481953,
          -0.6939476238479197,
          0.4663609204522567,
          -0.9611668389082888,
          -0.3286381457693652,
          -0.47002996096212685,
          -0.09953330550484732,
          -0.5157759703517617,
          0.17564907964270188
         ]
        }
       ],
       "layout": {
        "legend": {
         "bgcolor": "#F5F6F9",
         "font": {
          "color": "#4D5663"
         }
        },
        "paper_bgcolor": "#F5F6F9",
        "plot_bgcolor": "#F5F6F9",
        "template": {
         "data": {
          "bar": [
           {
            "error_x": {
             "color": "#2a3f5f"
            },
            "error_y": {
             "color": "#2a3f5f"
            },
            "marker": {
             "line": {
              "color": "#E5ECF6",
              "width": 0.5
             },
             "pattern": {
              "fillmode": "overlay",
              "size": 10,
              "solidity": 0.2
             }
            },
            "type": "bar"
           }
          ],
          "barpolar": [
           {
            "marker": {
             "line": {
              "color": "#E5ECF6",
              "width": 0.5
             },
             "pattern": {
              "fillmode": "overlay",
              "size": 10,
              "solidity": 0.2
             }
            },
            "type": "barpolar"
           }
          ],
          "carpet": [
           {
            "aaxis": {
             "endlinecolor": "#2a3f5f",
             "gridcolor": "white",
             "linecolor": "white",
             "minorgridcolor": "white",
             "startlinecolor": "#2a3f5f"
            },
            "baxis": {
             "endlinecolor": "#2a3f5f",
             "gridcolor": "white",
             "linecolor": "white",
             "minorgridcolor": "white",
             "startlinecolor": "#2a3f5f"
            },
            "type": "carpet"
           }
          ],
          "choropleth": [
           {
            "colorbar": {
             "outlinewidth": 0,
             "ticks": ""
            },
            "type": "choropleth"
           }
          ],
          "contour": [
           {
            "colorbar": {
             "outlinewidth": 0,
             "ticks": ""
            },
            "colorscale": [
             [
              0,
              "#0d0887"
             ],
             [
              0.1111111111111111,
              "#46039f"
             ],
             [
              0.2222222222222222,
              "#7201a8"
             ],
             [
              0.3333333333333333,
              "#9c179e"
             ],
             [
              0.4444444444444444,
              "#bd3786"
             ],
             [
              0.5555555555555556,
              "#d8576b"
             ],
             [
              0.6666666666666666,
              "#ed7953"
             ],
             [
              0.7777777777777778,
              "#fb9f3a"
             ],
             [
              0.8888888888888888,
              "#fdca26"
             ],
             [
              1,
              "#f0f921"
             ]
            ],
            "type": "contour"
           }
          ],
          "contourcarpet": [
           {
            "colorbar": {
             "outlinewidth": 0,
             "ticks": ""
            },
            "type": "contourcarpet"
           }
          ],
          "heatmap": [
           {
            "colorbar": {
             "outlinewidth": 0,
             "ticks": ""
            },
            "colorscale": [
             [
              0,
              "#0d0887"
             ],
             [
              0.1111111111111111,
              "#46039f"
             ],
             [
              0.2222222222222222,
              "#7201a8"
             ],
             [
              0.3333333333333333,
              "#9c179e"
             ],
             [
              0.4444444444444444,
              "#bd3786"
             ],
             [
              0.5555555555555556,
              "#d8576b"
             ],
             [
              0.6666666666666666,
              "#ed7953"
             ],
             [
              0.7777777777777778,
              "#fb9f3a"
             ],
             [
              0.8888888888888888,
              "#fdca26"
             ],
             [
              1,
              "#f0f921"
             ]
            ],
            "type": "heatmap"
           }
          ],
          "heatmapgl": [
           {
            "colorbar": {
             "outlinewidth": 0,
             "ticks": ""
            },
            "colorscale": [
             [
              0,
              "#0d0887"
             ],
             [
              0.1111111111111111,
              "#46039f"
             ],
             [
              0.2222222222222222,
              "#7201a8"
             ],
             [
              0.3333333333333333,
              "#9c179e"
             ],
             [
              0.4444444444444444,
              "#bd3786"
             ],
             [
              0.5555555555555556,
              "#d8576b"
             ],
             [
              0.6666666666666666,
              "#ed7953"
             ],
             [
              0.7777777777777778,
              "#fb9f3a"
             ],
             [
              0.8888888888888888,
              "#fdca26"
             ],
             [
              1,
              "#f0f921"
             ]
            ],
            "type": "heatmapgl"
           }
          ],
          "histogram": [
           {
            "marker": {
             "pattern": {
              "fillmode": "overlay",
              "size": 10,
              "solidity": 0.2
             }
            },
            "type": "histogram"
           }
          ],
          "histogram2d": [
           {
            "colorbar": {
             "outlinewidth": 0,
             "ticks": ""
            },
            "colorscale": [
             [
              0,
              "#0d0887"
             ],
             [
              0.1111111111111111,
              "#46039f"
             ],
             [
              0.2222222222222222,
              "#7201a8"
             ],
             [
              0.3333333333333333,
              "#9c179e"
             ],
             [
              0.4444444444444444,
              "#bd3786"
             ],
             [
              0.5555555555555556,
              "#d8576b"
             ],
             [
              0.6666666666666666,
              "#ed7953"
             ],
             [
              0.7777777777777778,
              "#fb9f3a"
             ],
             [
              0.8888888888888888,
              "#fdca26"
             ],
             [
              1,
              "#f0f921"
             ]
            ],
            "type": "histogram2d"
           }
          ],
          "histogram2dcontour": [
           {
            "colorbar": {
             "outlinewidth": 0,
             "ticks": ""
            },
            "colorscale": [
             [
              0,
              "#0d0887"
             ],
             [
              0.1111111111111111,
              "#46039f"
             ],
             [
              0.2222222222222222,
              "#7201a8"
             ],
             [
              0.3333333333333333,
              "#9c179e"
             ],
             [
              0.4444444444444444,
              "#bd3786"
             ],
             [
              0.5555555555555556,
              "#d8576b"
             ],
             [
              0.6666666666666666,
              "#ed7953"
             ],
             [
              0.7777777777777778,
              "#fb9f3a"
             ],
             [
              0.8888888888888888,
              "#fdca26"
             ],
             [
              1,
              "#f0f921"
             ]
            ],
            "type": "histogram2dcontour"
           }
          ],
          "mesh3d": [
           {
            "colorbar": {
             "outlinewidth": 0,
             "ticks": ""
            },
            "type": "mesh3d"
           }
          ],
          "parcoords": [
           {
            "line": {
             "colorbar": {
              "outlinewidth": 0,
              "ticks": ""
             }
            },
            "type": "parcoords"
           }
          ],
          "pie": [
           {
            "automargin": true,
            "type": "pie"
           }
          ],
          "scatter": [
           {
            "fillpattern": {
             "fillmode": "overlay",
             "size": 10,
             "solidity": 0.2
            },
            "type": "scatter"
           }
          ],
          "scatter3d": [
           {
            "line": {
             "colorbar": {
              "outlinewidth": 0,
              "ticks": ""
             }
            },
            "marker": {
             "colorbar": {
              "outlinewidth": 0,
              "ticks": ""
             }
            },
            "type": "scatter3d"
           }
          ],
          "scattercarpet": [
           {
            "marker": {
             "colorbar": {
              "outlinewidth": 0,
              "ticks": ""
             }
            },
            "type": "scattercarpet"
           }
          ],
          "scattergeo": [
           {
            "marker": {
             "colorbar": {
              "outlinewidth": 0,
              "ticks": ""
             }
            },
            "type": "scattergeo"
           }
          ],
          "scattergl": [
           {
            "marker": {
             "colorbar": {
              "outlinewidth": 0,
              "ticks": ""
             }
            },
            "type": "scattergl"
           }
          ],
          "scattermapbox": [
           {
            "marker": {
             "colorbar": {
              "outlinewidth": 0,
              "ticks": ""
             }
            },
            "type": "scattermapbox"
           }
          ],
          "scatterpolar": [
           {
            "marker": {
             "colorbar": {
              "outlinewidth": 0,
              "ticks": ""
             }
            },
            "type": "scatterpolar"
           }
          ],
          "scatterpolargl": [
           {
            "marker": {
             "colorbar": {
              "outlinewidth": 0,
              "ticks": ""
             }
            },
            "type": "scatterpolargl"
           }
          ],
          "scatterternary": [
           {
            "marker": {
             "colorbar": {
              "outlinewidth": 0,
              "ticks": ""
             }
            },
            "type": "scatterternary"
           }
          ],
          "surface": [
           {
            "colorbar": {
             "outlinewidth": 0,
             "ticks": ""
            },
            "colorscale": [
             [
              0,
              "#0d0887"
             ],
             [
              0.1111111111111111,
              "#46039f"
             ],
             [
              0.2222222222222222,
              "#7201a8"
             ],
             [
              0.3333333333333333,
              "#9c179e"
             ],
             [
              0.4444444444444444,
              "#bd3786"
             ],
             [
              0.5555555555555556,
              "#d8576b"
             ],
             [
              0.6666666666666666,
              "#ed7953"
             ],
             [
              0.7777777777777778,
              "#fb9f3a"
             ],
             [
              0.8888888888888888,
              "#fdca26"
             ],
             [
              1,
              "#f0f921"
             ]
            ],
            "type": "surface"
           }
          ],
          "table": [
           {
            "cells": {
             "fill": {
              "color": "#EBF0F8"
             },
             "line": {
              "color": "white"
             }
            },
            "header": {
             "fill": {
              "color": "#C8D4E3"
             },
             "line": {
              "color": "white"
             }
            },
            "type": "table"
           }
          ]
         },
         "layout": {
          "annotationdefaults": {
           "arrowcolor": "#2a3f5f",
           "arrowhead": 0,
           "arrowwidth": 1
          },
          "autotypenumbers": "strict",
          "coloraxis": {
           "colorbar": {
            "outlinewidth": 0,
            "ticks": ""
           }
          },
          "colorscale": {
           "diverging": [
            [
             0,
             "#8e0152"
            ],
            [
             0.1,
             "#c51b7d"
            ],
            [
             0.2,
             "#de77ae"
            ],
            [
             0.3,
             "#f1b6da"
            ],
            [
             0.4,
             "#fde0ef"
            ],
            [
             0.5,
             "#f7f7f7"
            ],
            [
             0.6,
             "#e6f5d0"
            ],
            [
             0.7,
             "#b8e186"
            ],
            [
             0.8,
             "#7fbc41"
            ],
            [
             0.9,
             "#4d9221"
            ],
            [
             1,
             "#276419"
            ]
           ],
           "sequential": [
            [
             0,
             "#0d0887"
            ],
            [
             0.1111111111111111,
             "#46039f"
            ],
            [
             0.2222222222222222,
             "#7201a8"
            ],
            [
             0.3333333333333333,
             "#9c179e"
            ],
            [
             0.4444444444444444,
             "#bd3786"
            ],
            [
             0.5555555555555556,
             "#d8576b"
            ],
            [
             0.6666666666666666,
             "#ed7953"
            ],
            [
             0.7777777777777778,
             "#fb9f3a"
            ],
            [
             0.8888888888888888,
             "#fdca26"
            ],
            [
             1,
             "#f0f921"
            ]
           ],
           "sequentialminus": [
            [
             0,
             "#0d0887"
            ],
            [
             0.1111111111111111,
             "#46039f"
            ],
            [
             0.2222222222222222,
             "#7201a8"
            ],
            [
             0.3333333333333333,
             "#9c179e"
            ],
            [
             0.4444444444444444,
             "#bd3786"
            ],
            [
             0.5555555555555556,
             "#d8576b"
            ],
            [
             0.6666666666666666,
             "#ed7953"
            ],
            [
             0.7777777777777778,
             "#fb9f3a"
            ],
            [
             0.8888888888888888,
             "#fdca26"
            ],
            [
             1,
             "#f0f921"
            ]
           ]
          },
          "colorway": [
           "#636efa",
           "#EF553B",
           "#00cc96",
           "#ab63fa",
           "#FFA15A",
           "#19d3f3",
           "#FF6692",
           "#B6E880",
           "#FF97FF",
           "#FECB52"
          ],
          "font": {
           "color": "#2a3f5f"
          },
          "geo": {
           "bgcolor": "white",
           "lakecolor": "white",
           "landcolor": "#E5ECF6",
           "showlakes": true,
           "showland": true,
           "subunitcolor": "white"
          },
          "hoverlabel": {
           "align": "left"
          },
          "hovermode": "closest",
          "mapbox": {
           "style": "light"
          },
          "paper_bgcolor": "white",
          "plot_bgcolor": "#E5ECF6",
          "polar": {
           "angularaxis": {
            "gridcolor": "white",
            "linecolor": "white",
            "ticks": ""
           },
           "bgcolor": "#E5ECF6",
           "radialaxis": {
            "gridcolor": "white",
            "linecolor": "white",
            "ticks": ""
           }
          },
          "scene": {
           "xaxis": {
            "backgroundcolor": "#E5ECF6",
            "gridcolor": "white",
            "gridwidth": 2,
            "linecolor": "white",
            "showbackground": true,
            "ticks": "",
            "zerolinecolor": "white"
           },
           "yaxis": {
            "backgroundcolor": "#E5ECF6",
            "gridcolor": "white",
            "gridwidth": 2,
            "linecolor": "white",
            "showbackground": true,
            "ticks": "",
            "zerolinecolor": "white"
           },
           "zaxis": {
            "backgroundcolor": "#E5ECF6",
            "gridcolor": "white",
            "gridwidth": 2,
            "linecolor": "white",
            "showbackground": true,
            "ticks": "",
            "zerolinecolor": "white"
           }
          },
          "shapedefaults": {
           "line": {
            "color": "#2a3f5f"
           }
          },
          "ternary": {
           "aaxis": {
            "gridcolor": "white",
            "linecolor": "white",
            "ticks": ""
           },
           "baxis": {
            "gridcolor": "white",
            "linecolor": "white",
            "ticks": ""
           },
           "bgcolor": "#E5ECF6",
           "caxis": {
            "gridcolor": "white",
            "linecolor": "white",
            "ticks": ""
           }
          },
          "title": {
           "x": 0.05
          },
          "xaxis": {
           "automargin": true,
           "gridcolor": "white",
           "linecolor": "white",
           "ticks": "",
           "title": {
            "standoff": 15
           },
           "zerolinecolor": "white",
           "zerolinewidth": 2
          },
          "yaxis": {
           "automargin": true,
           "gridcolor": "white",
           "linecolor": "white",
           "ticks": "",
           "title": {
            "standoff": 15
           },
           "zerolinecolor": "white",
           "zerolinewidth": 2
          }
         }
        },
        "title": {
         "font": {
          "color": "#4D5663"
         }
        },
        "xaxis": {
         "gridcolor": "#E1E5ED",
         "showgrid": true,
         "tickfont": {
          "color": "#4D5663"
         },
         "title": {
          "font": {
           "color": "#4D5663"
          },
          "text": ""
         },
         "zerolinecolor": "#E1E5ED"
        },
        "yaxis": {
         "gridcolor": "#E1E5ED",
         "showgrid": true,
         "tickfont": {
          "color": "#4D5663"
         },
         "title": {
          "font": {
           "color": "#4D5663"
          },
          "text": ""
         },
         "zerolinecolor": "#E1E5ED"
        }
       }
      },
      "text/html": [
       "<div>                            <div id=\"b0247f6f-58c2-4223-ac20-061f892bdbc1\" class=\"plotly-graph-div\" style=\"height:525px; width:100%;\"></div>            <script type=\"text/javascript\">                require([\"plotly\"], function(Plotly) {                    window.PLOTLYENV=window.PLOTLYENV || {};\n",
       "                    window.PLOTLYENV.BASE_URL='https://plot.ly';                                    if (document.getElementById(\"b0247f6f-58c2-4223-ac20-061f892bdbc1\")) {                    Plotly.newPlot(                        \"b0247f6f-58c2-4223-ac20-061f892bdbc1\",                        [{\"marker\":{\"color\":[\"red\",\"red\",\"red\",\"red\",\"red\",\"red\",\"red\",\"red\",\"red\",\"red\",\"red\",\"red\",\"red\",\"red\",\"red\",\"red\",\"red\",\"red\",\"red\",\"red\",\"red\",\"red\",\"red\",\"red\",\"red\",\"red\",\"red\",\"red\",\"red\",\"red\",\"red\",\"red\",\"red\",\"red\",\"red\",\"red\",\"red\",\"red\",\"red\",\"red\",\"red\",\"red\",\"red\",\"red\",\"red\",\"red\",\"red\",\"red\",\"red\",\"red\",\"red\",\"red\",\"red\",\"red\",\"red\",\"red\",\"red\",\"red\",\"red\",\"red\",\"red\",\"red\",\"red\",\"red\",\"red\",\"red\",\"red\",\"red\",\"red\",\"red\",\"red\",\"red\",\"red\",\"red\",\"red\",\"red\",\"red\",\"red\",\"red\",\"red\",\"red\",\"red\",\"red\",\"red\",\"red\",\"red\",\"red\",\"red\",\"red\",\"red\",\"red\",\"red\",\"red\",\"red\",\"red\",\"red\",\"red\",\"red\",\"red\",\"red\"],\"line\":{\"width\":1.3},\"size\":[87,58,42,63,51,91,56,56,81,74,53,46,72,18,30,64,84,112,38,32,29,21,57,65,38,79,57,43,60,30,68,58,51,65,64,41,48,42,24,76,48,111,27,110,67,65,62,57,41,41,59,66,57,36,58,51,44,31,40,18,24,67,30,56,74,88,64,28,55,41,44,44,12,88,58,70,79,52,54,88,60,73,66,33,24,67,86,48,63,34,40,31,83,58,111,61,90,52,25,63],\"symbol\":\"circle\"},\"mode\":\"markers\",\"text\":\"\",\"x\":[-0.6107347761616178,0.4201614153496461,-0.29605152886844865,-0.603856601378769,-0.34992557814699554,0.5068350913538099,1.4993263879906027,-2.334241991002616,-0.756289536182581,0.029039928572972565,-0.06418705977340332,0.9316899277347028,0.6315071913942684,-0.8448886098897598,0.17075138231478665,-0.46156067536114953,0.7665613566497056,-0.4836983678082965,0.16642518180746108,1.4564782581774924,0.9606524678241097,0.8542978329522262,-0.675314325805229,0.195511600271729,-1.7488760698587718,0.7124539851075085,2.0468217852064288,1.6248644217502146,-0.5286160896870696,-1.6561743116422956,1.0753782176872302,-0.4697669545323898,-0.009018585905509479,-0.541569847684211,1.6913214206556852,-1.788246523479366,0.522833167186685,-0.9934573505043022,1.6399751744524727,0.3374694500440057,-2.193678870035607,-1.017633199473239,0.3679345306105512,-1.3036150063236591,0.7462578429627574,-0.506156177257477,1.7176523623457138,1.7793863386202,0.07923784823916726,1.6723340011782664,0.026694156864108736,0.4857432640720413,-1.4103267776792288,-1.1830495094733648,-0.1792308752387724,-0.22071995812812675,-1.3270964256209172,-0.43120218142331274,-0.6256456712456581,-0.29497815162776525,1.467718648245481,-0.9304178622442733,-0.11510147301732727,-0.3767284928261818,0.478108904510788,3.7525358111818345,-0.03242175767615414,-0.3640156611750831,0.018466623262912058,-0.2434299789991597,-0.11500724514530727,-2.0214049601657518,0.690130295394509,0.2532383016783365,1.5331578664393732,-0.8853998372881371,-1.4352841075731064,0.2598125345509629,0.5956194819973099,0.22788031283148957,-0.13797830670137154,-1.4183777937548996,-0.07232292085057175,1.156608410254206,0.7622513100528217,-1.906380748783229,0.7045019662098876,3.1287391387449923,0.12687249379699703,0.10233161108321426,-0.793703598152564,0.5962107888831366,-0.5230777107716984,-1.4983543424046748,-1.474001813667417,1.1806612185186167,-0.9268646615012716,0.03494592384986443,0.936911761668089,-1.5336897066452815],\"y\":[-0.7515845289098267,-1.3501185693636415,0.16077795108916015,1.0972421667024326,-1.5551617340524697,0.36473435593692705,-1.0305068105461639,-1.1324253826988833,-0.6873504943516671,0.1069282354870738,-1.695536516849996,0.2425816618019362,1.2687297380945173,0.020225855520632312,0.2892120761545208,0.1297778773904678,-0.7374435068199338,-1.4400098572821194,0.0032000310074377443,2.3156191209106116,-2.104552277645811,-0.22379452958198373,0.9883500188308598,1.3851046302259347,-1.0928793648108472,0.2912452071491476,-0.4106886803289102,-0.7209245389511091,-0.07317020772918818,0.2694790571470932,1.375091364288301,-0.23046375294234592,-0.05784828915091585,-0.4026832249574582,1.3880505778741024,1.0770560109162644,-1.6785547624603565,0.8704258254204967,1.2192626939395739,-0.11185202419003015,-0.763588692976187,1.490195261649367,2.1775088878872806,0.7277948316579071,-0.49372189274523937,-0.2338324822911922,-0.3379344582705307,0.4704751985297546,-0.7631725910562722,-1.305388313612196,0.19336190533982603,0.7328086527251998,0.7706362653881076,-1.2925763526257745,-0.8104937348956527,-0.5563194360896363,-1.972197874409348,-0.1932211683793346,0.24658648621738297,-0.27580446480575443,-0.04910140696994737,0.902700698539591,-0.06394334025850491,0.044784293824225885,0.6038793255782594,1.1287050189302426,-0.5778578018120689,-0.10347513287249659,1.5211159073742107,-0.9286680897045665,-0.24014144423313558,2.478875929720434,-1.7514335396591265,0.19996871943196137,0.6321232809455622,1.9589895318338868,-0.8238855966095642,0.12473054236890199,1.7645917749679907,-0.6231437672773471,-1.1610423310897395,-1.9156473976700872,-1.6126019221487324,1.7382721048015093,0.05761002640626352,3.1060553929808754,1.2978766991775879,2.379727283652175,-0.38706280385902053,-0.14276694931792414,0.9865472939839993,-0.658203460481953,-0.6939476238479197,0.4663609204522567,-0.9611668389082888,-0.3286381457693652,-0.47002996096212685,-0.09953330550484732,-0.5157759703517617,0.17564907964270188],\"type\":\"scatter\"}],                        {\"legend\":{\"bgcolor\":\"#F5F6F9\",\"font\":{\"color\":\"#4D5663\"}},\"paper_bgcolor\":\"#F5F6F9\",\"plot_bgcolor\":\"#F5F6F9\",\"template\":{\"data\":{\"barpolar\":[{\"marker\":{\"line\":{\"color\":\"#E5ECF6\",\"width\":0.5},\"pattern\":{\"fillmode\":\"overlay\",\"size\":10,\"solidity\":0.2}},\"type\":\"barpolar\"}],\"bar\":[{\"error_x\":{\"color\":\"#2a3f5f\"},\"error_y\":{\"color\":\"#2a3f5f\"},\"marker\":{\"line\":{\"color\":\"#E5ECF6\",\"width\":0.5},\"pattern\":{\"fillmode\":\"overlay\",\"size\":10,\"solidity\":0.2}},\"type\":\"bar\"}],\"carpet\":[{\"aaxis\":{\"endlinecolor\":\"#2a3f5f\",\"gridcolor\":\"white\",\"linecolor\":\"white\",\"minorgridcolor\":\"white\",\"startlinecolor\":\"#2a3f5f\"},\"baxis\":{\"endlinecolor\":\"#2a3f5f\",\"gridcolor\":\"white\",\"linecolor\":\"white\",\"minorgridcolor\":\"white\",\"startlinecolor\":\"#2a3f5f\"},\"type\":\"carpet\"}],\"choropleth\":[{\"colorbar\":{\"outlinewidth\":0,\"ticks\":\"\"},\"type\":\"choropleth\"}],\"contourcarpet\":[{\"colorbar\":{\"outlinewidth\":0,\"ticks\":\"\"},\"type\":\"contourcarpet\"}],\"contour\":[{\"colorbar\":{\"outlinewidth\":0,\"ticks\":\"\"},\"colorscale\":[[0.0,\"#0d0887\"],[0.1111111111111111,\"#46039f\"],[0.2222222222222222,\"#7201a8\"],[0.3333333333333333,\"#9c179e\"],[0.4444444444444444,\"#bd3786\"],[0.5555555555555556,\"#d8576b\"],[0.6666666666666666,\"#ed7953\"],[0.7777777777777778,\"#fb9f3a\"],[0.8888888888888888,\"#fdca26\"],[1.0,\"#f0f921\"]],\"type\":\"contour\"}],\"heatmapgl\":[{\"colorbar\":{\"outlinewidth\":0,\"ticks\":\"\"},\"colorscale\":[[0.0,\"#0d0887\"],[0.1111111111111111,\"#46039f\"],[0.2222222222222222,\"#7201a8\"],[0.3333333333333333,\"#9c179e\"],[0.4444444444444444,\"#bd3786\"],[0.5555555555555556,\"#d8576b\"],[0.6666666666666666,\"#ed7953\"],[0.7777777777777778,\"#fb9f3a\"],[0.8888888888888888,\"#fdca26\"],[1.0,\"#f0f921\"]],\"type\":\"heatmapgl\"}],\"heatmap\":[{\"colorbar\":{\"outlinewidth\":0,\"ticks\":\"\"},\"colorscale\":[[0.0,\"#0d0887\"],[0.1111111111111111,\"#46039f\"],[0.2222222222222222,\"#7201a8\"],[0.3333333333333333,\"#9c179e\"],[0.4444444444444444,\"#bd3786\"],[0.5555555555555556,\"#d8576b\"],[0.6666666666666666,\"#ed7953\"],[0.7777777777777778,\"#fb9f3a\"],[0.8888888888888888,\"#fdca26\"],[1.0,\"#f0f921\"]],\"type\":\"heatmap\"}],\"histogram2dcontour\":[{\"colorbar\":{\"outlinewidth\":0,\"ticks\":\"\"},\"colorscale\":[[0.0,\"#0d0887\"],[0.1111111111111111,\"#46039f\"],[0.2222222222222222,\"#7201a8\"],[0.3333333333333333,\"#9c179e\"],[0.4444444444444444,\"#bd3786\"],[0.5555555555555556,\"#d8576b\"],[0.6666666666666666,\"#ed7953\"],[0.7777777777777778,\"#fb9f3a\"],[0.8888888888888888,\"#fdca26\"],[1.0,\"#f0f921\"]],\"type\":\"histogram2dcontour\"}],\"histogram2d\":[{\"colorbar\":{\"outlinewidth\":0,\"ticks\":\"\"},\"colorscale\":[[0.0,\"#0d0887\"],[0.1111111111111111,\"#46039f\"],[0.2222222222222222,\"#7201a8\"],[0.3333333333333333,\"#9c179e\"],[0.4444444444444444,\"#bd3786\"],[0.5555555555555556,\"#d8576b\"],[0.6666666666666666,\"#ed7953\"],[0.7777777777777778,\"#fb9f3a\"],[0.8888888888888888,\"#fdca26\"],[1.0,\"#f0f921\"]],\"type\":\"histogram2d\"}],\"histogram\":[{\"marker\":{\"pattern\":{\"fillmode\":\"overlay\",\"size\":10,\"solidity\":0.2}},\"type\":\"histogram\"}],\"mesh3d\":[{\"colorbar\":{\"outlinewidth\":0,\"ticks\":\"\"},\"type\":\"mesh3d\"}],\"parcoords\":[{\"line\":{\"colorbar\":{\"outlinewidth\":0,\"ticks\":\"\"}},\"type\":\"parcoords\"}],\"pie\":[{\"automargin\":true,\"type\":\"pie\"}],\"scatter3d\":[{\"line\":{\"colorbar\":{\"outlinewidth\":0,\"ticks\":\"\"}},\"marker\":{\"colorbar\":{\"outlinewidth\":0,\"ticks\":\"\"}},\"type\":\"scatter3d\"}],\"scattercarpet\":[{\"marker\":{\"colorbar\":{\"outlinewidth\":0,\"ticks\":\"\"}},\"type\":\"scattercarpet\"}],\"scattergeo\":[{\"marker\":{\"colorbar\":{\"outlinewidth\":0,\"ticks\":\"\"}},\"type\":\"scattergeo\"}],\"scattergl\":[{\"marker\":{\"colorbar\":{\"outlinewidth\":0,\"ticks\":\"\"}},\"type\":\"scattergl\"}],\"scattermapbox\":[{\"marker\":{\"colorbar\":{\"outlinewidth\":0,\"ticks\":\"\"}},\"type\":\"scattermapbox\"}],\"scatterpolargl\":[{\"marker\":{\"colorbar\":{\"outlinewidth\":0,\"ticks\":\"\"}},\"type\":\"scatterpolargl\"}],\"scatterpolar\":[{\"marker\":{\"colorbar\":{\"outlinewidth\":0,\"ticks\":\"\"}},\"type\":\"scatterpolar\"}],\"scatter\":[{\"fillpattern\":{\"fillmode\":\"overlay\",\"size\":10,\"solidity\":0.2},\"type\":\"scatter\"}],\"scatterternary\":[{\"marker\":{\"colorbar\":{\"outlinewidth\":0,\"ticks\":\"\"}},\"type\":\"scatterternary\"}],\"surface\":[{\"colorbar\":{\"outlinewidth\":0,\"ticks\":\"\"},\"colorscale\":[[0.0,\"#0d0887\"],[0.1111111111111111,\"#46039f\"],[0.2222222222222222,\"#7201a8\"],[0.3333333333333333,\"#9c179e\"],[0.4444444444444444,\"#bd3786\"],[0.5555555555555556,\"#d8576b\"],[0.6666666666666666,\"#ed7953\"],[0.7777777777777778,\"#fb9f3a\"],[0.8888888888888888,\"#fdca26\"],[1.0,\"#f0f921\"]],\"type\":\"surface\"}],\"table\":[{\"cells\":{\"fill\":{\"color\":\"#EBF0F8\"},\"line\":{\"color\":\"white\"}},\"header\":{\"fill\":{\"color\":\"#C8D4E3\"},\"line\":{\"color\":\"white\"}},\"type\":\"table\"}]},\"layout\":{\"annotationdefaults\":{\"arrowcolor\":\"#2a3f5f\",\"arrowhead\":0,\"arrowwidth\":1},\"autotypenumbers\":\"strict\",\"coloraxis\":{\"colorbar\":{\"outlinewidth\":0,\"ticks\":\"\"}},\"colorscale\":{\"diverging\":[[0,\"#8e0152\"],[0.1,\"#c51b7d\"],[0.2,\"#de77ae\"],[0.3,\"#f1b6da\"],[0.4,\"#fde0ef\"],[0.5,\"#f7f7f7\"],[0.6,\"#e6f5d0\"],[0.7,\"#b8e186\"],[0.8,\"#7fbc41\"],[0.9,\"#4d9221\"],[1,\"#276419\"]],\"sequential\":[[0.0,\"#0d0887\"],[0.1111111111111111,\"#46039f\"],[0.2222222222222222,\"#7201a8\"],[0.3333333333333333,\"#9c179e\"],[0.4444444444444444,\"#bd3786\"],[0.5555555555555556,\"#d8576b\"],[0.6666666666666666,\"#ed7953\"],[0.7777777777777778,\"#fb9f3a\"],[0.8888888888888888,\"#fdca26\"],[1.0,\"#f0f921\"]],\"sequentialminus\":[[0.0,\"#0d0887\"],[0.1111111111111111,\"#46039f\"],[0.2222222222222222,\"#7201a8\"],[0.3333333333333333,\"#9c179e\"],[0.4444444444444444,\"#bd3786\"],[0.5555555555555556,\"#d8576b\"],[0.6666666666666666,\"#ed7953\"],[0.7777777777777778,\"#fb9f3a\"],[0.8888888888888888,\"#fdca26\"],[1.0,\"#f0f921\"]]},\"colorway\":[\"#636efa\",\"#EF553B\",\"#00cc96\",\"#ab63fa\",\"#FFA15A\",\"#19d3f3\",\"#FF6692\",\"#B6E880\",\"#FF97FF\",\"#FECB52\"],\"font\":{\"color\":\"#2a3f5f\"},\"geo\":{\"bgcolor\":\"white\",\"lakecolor\":\"white\",\"landcolor\":\"#E5ECF6\",\"showlakes\":true,\"showland\":true,\"subunitcolor\":\"white\"},\"hoverlabel\":{\"align\":\"left\"},\"hovermode\":\"closest\",\"mapbox\":{\"style\":\"light\"},\"paper_bgcolor\":\"white\",\"plot_bgcolor\":\"#E5ECF6\",\"polar\":{\"angularaxis\":{\"gridcolor\":\"white\",\"linecolor\":\"white\",\"ticks\":\"\"},\"bgcolor\":\"#E5ECF6\",\"radialaxis\":{\"gridcolor\":\"white\",\"linecolor\":\"white\",\"ticks\":\"\"}},\"scene\":{\"xaxis\":{\"backgroundcolor\":\"#E5ECF6\",\"gridcolor\":\"white\",\"gridwidth\":2,\"linecolor\":\"white\",\"showbackground\":true,\"ticks\":\"\",\"zerolinecolor\":\"white\"},\"yaxis\":{\"backgroundcolor\":\"#E5ECF6\",\"gridcolor\":\"white\",\"gridwidth\":2,\"linecolor\":\"white\",\"showbackground\":true,\"ticks\":\"\",\"zerolinecolor\":\"white\"},\"zaxis\":{\"backgroundcolor\":\"#E5ECF6\",\"gridcolor\":\"white\",\"gridwidth\":2,\"linecolor\":\"white\",\"showbackground\":true,\"ticks\":\"\",\"zerolinecolor\":\"white\"}},\"shapedefaults\":{\"line\":{\"color\":\"#2a3f5f\"}},\"ternary\":{\"aaxis\":{\"gridcolor\":\"white\",\"linecolor\":\"white\",\"ticks\":\"\"},\"baxis\":{\"gridcolor\":\"white\",\"linecolor\":\"white\",\"ticks\":\"\"},\"bgcolor\":\"#E5ECF6\",\"caxis\":{\"gridcolor\":\"white\",\"linecolor\":\"white\",\"ticks\":\"\"}},\"title\":{\"x\":0.05},\"xaxis\":{\"automargin\":true,\"gridcolor\":\"white\",\"linecolor\":\"white\",\"ticks\":\"\",\"title\":{\"standoff\":15},\"zerolinecolor\":\"white\",\"zerolinewidth\":2},\"yaxis\":{\"automargin\":true,\"gridcolor\":\"white\",\"linecolor\":\"white\",\"ticks\":\"\",\"title\":{\"standoff\":15},\"zerolinecolor\":\"white\",\"zerolinewidth\":2}}},\"title\":{\"font\":{\"color\":\"#4D5663\"}},\"xaxis\":{\"gridcolor\":\"#E1E5ED\",\"showgrid\":true,\"tickfont\":{\"color\":\"#4D5663\"},\"title\":{\"font\":{\"color\":\"#4D5663\"},\"text\":\"\"},\"zerolinecolor\":\"#E1E5ED\"},\"yaxis\":{\"gridcolor\":\"#E1E5ED\",\"showgrid\":true,\"tickfont\":{\"color\":\"#4D5663\"},\"title\":{\"font\":{\"color\":\"#4D5663\"},\"text\":\"\"},\"zerolinecolor\":\"#E1E5ED\"}},                        {\"showLink\": true, \"linkText\": \"Export to plot.ly\", \"plotlyServerURL\": \"https://plot.ly\", \"responsive\": true}                    ).then(function(){\n",
       "                            \n",
       "var gd = document.getElementById('b0247f6f-58c2-4223-ac20-061f892bdbc1');\n",
       "var x = new MutationObserver(function (mutations, observer) {{\n",
       "        var display = window.getComputedStyle(gd).display;\n",
       "        if (!display || display === 'none') {{\n",
       "            console.log([gd, 'removed!']);\n",
       "            Plotly.purge(gd);\n",
       "            observer.disconnect();\n",
       "        }}\n",
       "}});\n",
       "\n",
       "// Listen for the removal of the full notebook cells\n",
       "var notebookContainer = gd.closest('#notebook-container');\n",
       "if (notebookContainer) {{\n",
       "    x.observe(notebookContainer, {childList: true});\n",
       "}}\n",
       "\n",
       "// Listen for the clearing of the current output cell\n",
       "var outputEl = gd.closest('.output');\n",
       "if (outputEl) {{\n",
       "    x.observe(outputEl, {childList: true});\n",
       "}}\n",
       "\n",
       "                        })                };                });            </script>        </div>"
      ]
     },
     "metadata": {},
     "output_type": "display_data"
    }
   ],
   "source": [
    "df.iplot(kind='bubble',x='A',y='B',size='C',color=\"red\")"
   ]
  },
  {
   "cell_type": "code",
   "execution_count": 17,
   "metadata": {},
   "outputs": [
    {
     "data": {
      "application/vnd.plotly.v1+json": {
       "config": {
        "linkText": "Export to plot.ly",
        "plotlyServerURL": "https://plot.ly",
        "showLink": true
       },
       "data": [
        {
         "histfunc": "count",
         "histnorm": "",
         "marker": {
          "color": "rgba(255, 153, 51, 1.0)",
          "line": {
           "color": "#4D5663",
           "width": 1.3
          }
         },
         "name": "A",
         "nbinsx": 10,
         "opacity": 0.8,
         "orientation": "v",
         "type": "histogram",
         "x": [
          -0.6107347761616178,
          0.4201614153496461,
          -0.29605152886844865,
          -0.603856601378769,
          -0.34992557814699554,
          0.5068350913538099,
          1.4993263879906027,
          -2.334241991002616,
          -0.756289536182581,
          0.029039928572972565,
          -0.06418705977340332,
          0.9316899277347028,
          0.6315071913942684,
          -0.8448886098897598,
          0.17075138231478665,
          -0.46156067536114953,
          0.7665613566497056,
          -0.4836983678082965,
          0.16642518180746108,
          1.4564782581774924,
          0.9606524678241097,
          0.8542978329522262,
          -0.675314325805229,
          0.195511600271729,
          -1.7488760698587718,
          0.7124539851075085,
          2.0468217852064288,
          1.6248644217502146,
          -0.5286160896870696,
          -1.6561743116422956,
          1.0753782176872302,
          -0.4697669545323898,
          -0.009018585905509479,
          -0.541569847684211,
          1.6913214206556852,
          -1.788246523479366,
          0.522833167186685,
          -0.9934573505043022,
          1.6399751744524727,
          0.3374694500440057,
          -2.193678870035607,
          -1.017633199473239,
          0.3679345306105512,
          -1.3036150063236591,
          0.7462578429627574,
          -0.506156177257477,
          1.7176523623457138,
          1.7793863386202,
          0.07923784823916726,
          1.6723340011782664,
          0.026694156864108736,
          0.4857432640720413,
          -1.4103267776792288,
          -1.1830495094733648,
          -0.1792308752387724,
          -0.22071995812812675,
          -1.3270964256209172,
          -0.43120218142331274,
          -0.6256456712456581,
          -0.29497815162776525,
          1.467718648245481,
          -0.9304178622442733,
          -0.11510147301732727,
          -0.3767284928261818,
          0.478108904510788,
          3.7525358111818345,
          -0.03242175767615414,
          -0.3640156611750831,
          0.018466623262912058,
          -0.2434299789991597,
          -0.11500724514530727,
          -2.0214049601657518,
          0.690130295394509,
          0.2532383016783365,
          1.5331578664393732,
          -0.8853998372881371,
          -1.4352841075731064,
          0.2598125345509629,
          0.5956194819973099,
          0.22788031283148957,
          -0.13797830670137154,
          -1.4183777937548996,
          -0.07232292085057175,
          1.156608410254206,
          0.7622513100528217,
          -1.906380748783229,
          0.7045019662098876,
          3.1287391387449923,
          0.12687249379699703,
          0.10233161108321426,
          -0.793703598152564,
          0.5962107888831366,
          -0.5230777107716984,
          -1.4983543424046748,
          -1.474001813667417,
          1.1806612185186167,
          -0.9268646615012716,
          0.03494592384986443,
          0.936911761668089,
          -1.5336897066452815
         ],
         "xaxis": "x",
         "yaxis": "y"
        },
        {
         "line": {
          "color": "rgba(128, 128, 128, 1.0)",
          "dash": "solid",
          "shape": "linear",
          "width": 1.3
         },
         "marker": {
          "size": 2,
          "symbol": "circle"
         },
         "mode": "markers",
         "name": "A",
         "text": "",
         "type": "scatter",
         "x": [
          -0.7515845289098267,
          -1.3501185693636415,
          0.16077795108916015,
          1.0972421667024326,
          -1.5551617340524697,
          0.36473435593692705,
          -1.0305068105461639,
          -1.1324253826988833,
          -0.6873504943516671,
          0.1069282354870738,
          -1.695536516849996,
          0.2425816618019362,
          1.2687297380945173,
          0.020225855520632312,
          0.2892120761545208,
          0.1297778773904678,
          -0.7374435068199338,
          -1.4400098572821194,
          0.0032000310074377443,
          2.3156191209106116,
          -2.104552277645811,
          -0.22379452958198373,
          0.9883500188308598,
          1.3851046302259347,
          -1.0928793648108472,
          0.2912452071491476,
          -0.4106886803289102,
          -0.7209245389511091,
          -0.07317020772918818,
          0.2694790571470932,
          1.375091364288301,
          -0.23046375294234592,
          -0.05784828915091585,
          -0.4026832249574582,
          1.3880505778741024,
          1.0770560109162644,
          -1.6785547624603565,
          0.8704258254204967,
          1.2192626939395739,
          -0.11185202419003015,
          -0.763588692976187,
          1.490195261649367,
          2.1775088878872806,
          0.7277948316579071,
          -0.49372189274523937,
          -0.2338324822911922,
          -0.3379344582705307,
          0.4704751985297546,
          -0.7631725910562722,
          -1.305388313612196,
          0.19336190533982603,
          0.7328086527251998,
          0.7706362653881076,
          -1.2925763526257745,
          -0.8104937348956527,
          -0.5563194360896363,
          -1.972197874409348,
          -0.1932211683793346,
          0.24658648621738297,
          -0.27580446480575443,
          -0.04910140696994737,
          0.902700698539591,
          -0.06394334025850491,
          0.044784293824225885,
          0.6038793255782594,
          1.1287050189302426,
          -0.5778578018120689,
          -0.10347513287249659,
          1.5211159073742107,
          -0.9286680897045665,
          -0.24014144423313558,
          2.478875929720434,
          -1.7514335396591265,
          0.19996871943196137,
          0.6321232809455622,
          1.9589895318338868,
          -0.8238855966095642,
          0.12473054236890199,
          1.7645917749679907,
          -0.6231437672773471,
          -1.1610423310897395,
          -1.9156473976700872,
          -1.6126019221487324,
          1.7382721048015093,
          0.05761002640626352,
          3.1060553929808754,
          1.2978766991775879,
          2.379727283652175,
          -0.38706280385902053,
          -0.14276694931792414,
          0.9865472939839993,
          -0.658203460481953,
          -0.6939476238479197,
          0.4663609204522567,
          -0.9611668389082888,
          -0.3286381457693652,
          -0.47002996096212685,
          -0.09953330550484732,
          -0.5157759703517617,
          0.17564907964270188
         ],
         "xaxis": "x2",
         "y": [
          -0.6107347761616178,
          0.4201614153496461,
          -0.29605152886844865,
          -0.603856601378769,
          -0.34992557814699554,
          0.5068350913538099,
          1.4993263879906027,
          -2.334241991002616,
          -0.756289536182581,
          0.029039928572972565,
          -0.06418705977340332,
          0.9316899277347028,
          0.6315071913942684,
          -0.8448886098897598,
          0.17075138231478665,
          -0.46156067536114953,
          0.7665613566497056,
          -0.4836983678082965,
          0.16642518180746108,
          1.4564782581774924,
          0.9606524678241097,
          0.8542978329522262,
          -0.675314325805229,
          0.195511600271729,
          -1.7488760698587718,
          0.7124539851075085,
          2.0468217852064288,
          1.6248644217502146,
          -0.5286160896870696,
          -1.6561743116422956,
          1.0753782176872302,
          -0.4697669545323898,
          -0.009018585905509479,
          -0.541569847684211,
          1.6913214206556852,
          -1.788246523479366,
          0.522833167186685,
          -0.9934573505043022,
          1.6399751744524727,
          0.3374694500440057,
          -2.193678870035607,
          -1.017633199473239,
          0.3679345306105512,
          -1.3036150063236591,
          0.7462578429627574,
          -0.506156177257477,
          1.7176523623457138,
          1.7793863386202,
          0.07923784823916726,
          1.6723340011782664,
          0.026694156864108736,
          0.4857432640720413,
          -1.4103267776792288,
          -1.1830495094733648,
          -0.1792308752387724,
          -0.22071995812812675,
          -1.3270964256209172,
          -0.43120218142331274,
          -0.6256456712456581,
          -0.29497815162776525,
          1.467718648245481,
          -0.9304178622442733,
          -0.11510147301732727,
          -0.3767284928261818,
          0.478108904510788,
          3.7525358111818345,
          -0.03242175767615414,
          -0.3640156611750831,
          0.018466623262912058,
          -0.2434299789991597,
          -0.11500724514530727,
          -2.0214049601657518,
          0.690130295394509,
          0.2532383016783365,
          1.5331578664393732,
          -0.8853998372881371,
          -1.4352841075731064,
          0.2598125345509629,
          0.5956194819973099,
          0.22788031283148957,
          -0.13797830670137154,
          -1.4183777937548996,
          -0.07232292085057175,
          1.156608410254206,
          0.7622513100528217,
          -1.906380748783229,
          0.7045019662098876,
          3.1287391387449923,
          0.12687249379699703,
          0.10233161108321426,
          -0.793703598152564,
          0.5962107888831366,
          -0.5230777107716984,
          -1.4983543424046748,
          -1.474001813667417,
          1.1806612185186167,
          -0.9268646615012716,
          0.03494592384986443,
          0.936911761668089,
          -1.5336897066452815
         ],
         "yaxis": "y2"
        },
        {
         "line": {
          "color": "rgba(128, 128, 128, 1.0)",
          "dash": "solid",
          "shape": "linear",
          "width": 1.3
         },
         "marker": {
          "size": 2,
          "symbol": "circle"
         },
         "mode": "markers",
         "name": "A",
         "text": "",
         "type": "scatter",
         "x": [
          1.5101091402276365,
          0.15930592184746883,
          -0.6299520387685452,
          0.3795807867872899,
          -0.19549533178946357,
          1.6939992555492187,
          0.05863713860289682,
          0.031121505849155323,
          1.2145504382687164,
          0.9130385507942945,
          -0.10168848795949312,
          -0.42858764690705176,
          0.8122487801722668,
          -1.7627832646047805,
          -1.2061865423226135,
          0.4017902099314714,
          1.35173144399414,
          2.6774994781814963,
          -0.8109607891562296,
          -1.1152760578728993,
          -1.226851543648753,
          -1.6301692713880749,
          0.07774594059031383,
          0.478072187395388,
          -0.8253604446559677,
          1.1165972830006823,
          0.09770839807695156,
          -0.5630481280324108,
          0.23521091169642136,
          -1.1969858101490503,
          0.6310295007431875,
          0.13190096760114592,
          -0.20839898882731747,
          0.44877637347420823,
          0.4440570972113594,
          -0.6629807611552002,
          -0.3599818408286735,
          -0.6301631782881789,
          -1.4986905657015461,
          1.000787371158141,
          -0.3552390228243466,
          2.661219349367528,
          -1.3177836033556052,
          2.5832762748938864,
          0.5509745061883669,
          0.4529260955824585,
          0.3352218070075668,
          0.08753580770403321,
          -0.6500869447684293,
          -0.6637943908785625,
          0.17198389554492016,
          0.5178145189460188,
          0.08789442169735215,
          -0.9229128851314942,
          0.12538790860771418,
          -0.21751522072824378,
          -0.5276374844060169,
          -1.1480141930377978,
          -0.7139454373412848,
          -1.769402952512191,
          -1.4866672685840105,
          0.549542416188863,
          -1.2006159320776877,
          0.04538127264095669,
          0.9132573376845505,
          1.5507290409973893,
          0.40709486552146207,
          -1.3130947090351033,
          0.01234367165756752,
          -0.6551194330222805,
          -0.5445099357041456,
          -0.5096044224474188,
          -2.073664096466441,
          1.5507004576413281,
          0.13860628599479177,
          0.7187881982441798,
          1.1347831582725276,
          -0.1360791029180377,
          -0.04882205666420648,
          1.5449579618847205,
          0.25061951511628144,
          0.8654922425298819,
          0.510758417490925,
          -1.030924834909416,
          -1.4654292203409918,
          0.5696095366476174,
          1.4810513651346715,
          -0.34499008093872285,
          0.3577009446889585,
          -1.014601618657675,
          -0.7113563708441443,
          -1.1255334203112146,
          1.3268411912846392,
          0.12057782308625307,
          2.6352253664616567,
          0.26784651624134276,
          1.6509851179104613,
          -0.1731164108988731,
          -1.4469851029051934,
          0.355005154872157
         ],
         "xaxis": "x3",
         "y": [
          -0.6107347761616178,
          0.4201614153496461,
          -0.29605152886844865,
          -0.603856601378769,
          -0.34992557814699554,
          0.5068350913538099,
          1.4993263879906027,
          -2.334241991002616,
          -0.756289536182581,
          0.029039928572972565,
          -0.06418705977340332,
          0.9316899277347028,
          0.6315071913942684,
          -0.8448886098897598,
          0.17075138231478665,
          -0.46156067536114953,
          0.7665613566497056,
          -0.4836983678082965,
          0.16642518180746108,
          1.4564782581774924,
          0.9606524678241097,
          0.8542978329522262,
          -0.675314325805229,
          0.195511600271729,
          -1.7488760698587718,
          0.7124539851075085,
          2.0468217852064288,
          1.6248644217502146,
          -0.5286160896870696,
          -1.6561743116422956,
          1.0753782176872302,
          -0.4697669545323898,
          -0.009018585905509479,
          -0.541569847684211,
          1.6913214206556852,
          -1.788246523479366,
          0.522833167186685,
          -0.9934573505043022,
          1.6399751744524727,
          0.3374694500440057,
          -2.193678870035607,
          -1.017633199473239,
          0.3679345306105512,
          -1.3036150063236591,
          0.7462578429627574,
          -0.506156177257477,
          1.7176523623457138,
          1.7793863386202,
          0.07923784823916726,
          1.6723340011782664,
          0.026694156864108736,
          0.4857432640720413,
          -1.4103267776792288,
          -1.1830495094733648,
          -0.1792308752387724,
          -0.22071995812812675,
          -1.3270964256209172,
          -0.43120218142331274,
          -0.6256456712456581,
          -0.29497815162776525,
          1.467718648245481,
          -0.9304178622442733,
          -0.11510147301732727,
          -0.3767284928261818,
          0.478108904510788,
          3.7525358111818345,
          -0.03242175767615414,
          -0.3640156611750831,
          0.018466623262912058,
          -0.2434299789991597,
          -0.11500724514530727,
          -2.0214049601657518,
          0.690130295394509,
          0.2532383016783365,
          1.5331578664393732,
          -0.8853998372881371,
          -1.4352841075731064,
          0.2598125345509629,
          0.5956194819973099,
          0.22788031283148957,
          -0.13797830670137154,
          -1.4183777937548996,
          -0.07232292085057175,
          1.156608410254206,
          0.7622513100528217,
          -1.906380748783229,
          0.7045019662098876,
          3.1287391387449923,
          0.12687249379699703,
          0.10233161108321426,
          -0.793703598152564,
          0.5962107888831366,
          -0.5230777107716984,
          -1.4983543424046748,
          -1.474001813667417,
          1.1806612185186167,
          -0.9268646615012716,
          0.03494592384986443,
          0.936911761668089,
          -1.5336897066452815
         ],
         "yaxis": "y3"
        },
        {
         "line": {
          "color": "rgba(128, 128, 128, 1.0)",
          "dash": "solid",
          "shape": "linear",
          "width": 1.3
         },
         "marker": {
          "size": 2,
          "symbol": "circle"
         },
         "mode": "markers",
         "name": "A",
         "text": "",
         "type": "scatter",
         "x": [
          2.3898894927962258,
          -1.346185523310272,
          0.3926995477438022,
          -0.9599794920199762,
          2.145635862755704,
          0.19736932534681206,
          -0.016375879615479184,
          -0.5516553241472079,
          -0.19462394604008174,
          0.22516639879515654,
          -0.6676210246404063,
          0.42788569839835194,
          1.3961280369446534,
          1.2866373916759943,
          -0.07213962520428917,
          -0.224692107540565,
          0.08447571575585101,
          -0.4735521062853545,
          -0.5006714138007546,
          0.09100550312739152,
          0.46523334595572224,
          -1.83597908105119,
          -0.23389175808981608,
          -0.24385510409093322,
          -0.5911582767843231,
          -0.17068709130318022,
          -1.0687134676884893,
          0.038160659311079516,
          -1.4079380545672868,
          -1.815661259368501,
          -1.9886988873045035,
          0.47817133914898086,
          -0.5060345008623578,
          0.018883131631049124,
          -0.47962615890571564,
          0.6543138485575909,
          0.9031758088280951,
          0.547296167700335,
          1.2142993116092677,
          1.3889107281381117,
          -1.598570285757914,
          0.9278025225906082,
          0.5762031316364931,
          0.48363222487107577,
          -0.022749947354769297,
          -0.4658863161523873,
          1.626458234784676,
          -0.6776723699907173,
          0.26817200596668717,
          -0.435498668104195,
          0.7256894610052155,
          0.30887988732519234,
          0.9999726656830086,
          -0.4701219452261383,
          -0.7231044293670219,
          -1.1060357904552007,
          1.1876400307689436,
          1.1415469229047646,
          -0.19179028453130345,
          -0.5952721688987325,
          0.7003471207643943,
          -0.3093578682861099,
          -0.4194885044676614,
          -0.39974442856055636,
          0.07429196791584,
          0.4784857663946633,
          0.17033788804117667,
          -0.12564154107700404,
          0.8542227875313106,
          0.28551744139432644,
          -2.113006522544438,
          -1.1289229189161551,
          1.433883574901709,
          0.49204633008406096,
          -0.2615773401728134,
          0.3678047803139401,
          -0.13816533810562942,
          0.7076093131591633,
          0.060782453714857715,
          -0.16142616048645417,
          -1.2486078250468484,
          1.4672401263478823,
          -0.4374543544409514,
          -1.2380329371712746,
          -0.0516466126595105,
          0.8742873856600251,
          0.8685308786968833,
          -1.952290771484409,
          -0.22574090289942178,
          -1.073072535060036,
          0.04764455556960585,
          -2.27788731185454,
          -0.610745327952362,
          -0.3706943589554563,
          -0.12473087986892124,
          -3.2418750999737975,
          0.04474842511931487,
          -1.3074630796765412,
          0.8236942120155181,
          0.4849622852831096
         ],
         "xaxis": "x4",
         "y": [
          -0.6107347761616178,
          0.4201614153496461,
          -0.29605152886844865,
          -0.603856601378769,
          -0.34992557814699554,
          0.5068350913538099,
          1.4993263879906027,
          -2.334241991002616,
          -0.756289536182581,
          0.029039928572972565,
          -0.06418705977340332,
          0.9316899277347028,
          0.6315071913942684,
          -0.8448886098897598,
          0.17075138231478665,
          -0.46156067536114953,
          0.7665613566497056,
          -0.4836983678082965,
          0.16642518180746108,
          1.4564782581774924,
          0.9606524678241097,
          0.8542978329522262,
          -0.675314325805229,
          0.195511600271729,
          -1.7488760698587718,
          0.7124539851075085,
          2.0468217852064288,
          1.6248644217502146,
          -0.5286160896870696,
          -1.6561743116422956,
          1.0753782176872302,
          -0.4697669545323898,
          -0.009018585905509479,
          -0.541569847684211,
          1.6913214206556852,
          -1.788246523479366,
          0.522833167186685,
          -0.9934573505043022,
          1.6399751744524727,
          0.3374694500440057,
          -2.193678870035607,
          -1.017633199473239,
          0.3679345306105512,
          -1.3036150063236591,
          0.7462578429627574,
          -0.506156177257477,
          1.7176523623457138,
          1.7793863386202,
          0.07923784823916726,
          1.6723340011782664,
          0.026694156864108736,
          0.4857432640720413,
          -1.4103267776792288,
          -1.1830495094733648,
          -0.1792308752387724,
          -0.22071995812812675,
          -1.3270964256209172,
          -0.43120218142331274,
          -0.6256456712456581,
          -0.29497815162776525,
          1.467718648245481,
          -0.9304178622442733,
          -0.11510147301732727,
          -0.3767284928261818,
          0.478108904510788,
          3.7525358111818345,
          -0.03242175767615414,
          -0.3640156611750831,
          0.018466623262912058,
          -0.2434299789991597,
          -0.11500724514530727,
          -2.0214049601657518,
          0.690130295394509,
          0.2532383016783365,
          1.5331578664393732,
          -0.8853998372881371,
          -1.4352841075731064,
          0.2598125345509629,
          0.5956194819973099,
          0.22788031283148957,
          -0.13797830670137154,
          -1.4183777937548996,
          -0.07232292085057175,
          1.156608410254206,
          0.7622513100528217,
          -1.906380748783229,
          0.7045019662098876,
          3.1287391387449923,
          0.12687249379699703,
          0.10233161108321426,
          -0.793703598152564,
          0.5962107888831366,
          -0.5230777107716984,
          -1.4983543424046748,
          -1.474001813667417,
          1.1806612185186167,
          -0.9268646615012716,
          0.03494592384986443,
          0.936911761668089,
          -1.5336897066452815
         ],
         "yaxis": "y4"
        },
        {
         "line": {
          "color": "rgba(128, 128, 128, 1.0)",
          "dash": "solid",
          "shape": "linear",
          "width": 1.3
         },
         "marker": {
          "size": 2,
          "symbol": "circle"
         },
         "mode": "markers",
         "name": "B",
         "text": "",
         "type": "scatter",
         "x": [
          -0.6107347761616178,
          0.4201614153496461,
          -0.29605152886844865,
          -0.603856601378769,
          -0.34992557814699554,
          0.5068350913538099,
          1.4993263879906027,
          -2.334241991002616,
          -0.756289536182581,
          0.029039928572972565,
          -0.06418705977340332,
          0.9316899277347028,
          0.6315071913942684,
          -0.8448886098897598,
          0.17075138231478665,
          -0.46156067536114953,
          0.7665613566497056,
          -0.4836983678082965,
          0.16642518180746108,
          1.4564782581774924,
          0.9606524678241097,
          0.8542978329522262,
          -0.675314325805229,
          0.195511600271729,
          -1.7488760698587718,
          0.7124539851075085,
          2.0468217852064288,
          1.6248644217502146,
          -0.5286160896870696,
          -1.6561743116422956,
          1.0753782176872302,
          -0.4697669545323898,
          -0.009018585905509479,
          -0.541569847684211,
          1.6913214206556852,
          -1.788246523479366,
          0.522833167186685,
          -0.9934573505043022,
          1.6399751744524727,
          0.3374694500440057,
          -2.193678870035607,
          -1.017633199473239,
          0.3679345306105512,
          -1.3036150063236591,
          0.7462578429627574,
          -0.506156177257477,
          1.7176523623457138,
          1.7793863386202,
          0.07923784823916726,
          1.6723340011782664,
          0.026694156864108736,
          0.4857432640720413,
          -1.4103267776792288,
          -1.1830495094733648,
          -0.1792308752387724,
          -0.22071995812812675,
          -1.3270964256209172,
          -0.43120218142331274,
          -0.6256456712456581,
          -0.29497815162776525,
          1.467718648245481,
          -0.9304178622442733,
          -0.11510147301732727,
          -0.3767284928261818,
          0.478108904510788,
          3.7525358111818345,
          -0.03242175767615414,
          -0.3640156611750831,
          0.018466623262912058,
          -0.2434299789991597,
          -0.11500724514530727,
          -2.0214049601657518,
          0.690130295394509,
          0.2532383016783365,
          1.5331578664393732,
          -0.8853998372881371,
          -1.4352841075731064,
          0.2598125345509629,
          0.5956194819973099,
          0.22788031283148957,
          -0.13797830670137154,
          -1.4183777937548996,
          -0.07232292085057175,
          1.156608410254206,
          0.7622513100528217,
          -1.906380748783229,
          0.7045019662098876,
          3.1287391387449923,
          0.12687249379699703,
          0.10233161108321426,
          -0.793703598152564,
          0.5962107888831366,
          -0.5230777107716984,
          -1.4983543424046748,
          -1.474001813667417,
          1.1806612185186167,
          -0.9268646615012716,
          0.03494592384986443,
          0.936911761668089,
          -1.5336897066452815
         ],
         "xaxis": "x5",
         "y": [
          -0.7515845289098267,
          -1.3501185693636415,
          0.16077795108916015,
          1.0972421667024326,
          -1.5551617340524697,
          0.36473435593692705,
          -1.0305068105461639,
          -1.1324253826988833,
          -0.6873504943516671,
          0.1069282354870738,
          -1.695536516849996,
          0.2425816618019362,
          1.2687297380945173,
          0.020225855520632312,
          0.2892120761545208,
          0.1297778773904678,
          -0.7374435068199338,
          -1.4400098572821194,
          0.0032000310074377443,
          2.3156191209106116,
          -2.104552277645811,
          -0.22379452958198373,
          0.9883500188308598,
          1.3851046302259347,
          -1.0928793648108472,
          0.2912452071491476,
          -0.4106886803289102,
          -0.7209245389511091,
          -0.07317020772918818,
          0.2694790571470932,
          1.375091364288301,
          -0.23046375294234592,
          -0.05784828915091585,
          -0.4026832249574582,
          1.3880505778741024,
          1.0770560109162644,
          -1.6785547624603565,
          0.8704258254204967,
          1.2192626939395739,
          -0.11185202419003015,
          -0.763588692976187,
          1.490195261649367,
          2.1775088878872806,
          0.7277948316579071,
          -0.49372189274523937,
          -0.2338324822911922,
          -0.3379344582705307,
          0.4704751985297546,
          -0.7631725910562722,
          -1.305388313612196,
          0.19336190533982603,
          0.7328086527251998,
          0.7706362653881076,
          -1.2925763526257745,
          -0.8104937348956527,
          -0.5563194360896363,
          -1.972197874409348,
          -0.1932211683793346,
          0.24658648621738297,
          -0.27580446480575443,
          -0.04910140696994737,
          0.902700698539591,
          -0.06394334025850491,
          0.044784293824225885,
          0.6038793255782594,
          1.1287050189302426,
          -0.5778578018120689,
          -0.10347513287249659,
          1.5211159073742107,
          -0.9286680897045665,
          -0.24014144423313558,
          2.478875929720434,
          -1.7514335396591265,
          0.19996871943196137,
          0.6321232809455622,
          1.9589895318338868,
          -0.8238855966095642,
          0.12473054236890199,
          1.7645917749679907,
          -0.6231437672773471,
          -1.1610423310897395,
          -1.9156473976700872,
          -1.6126019221487324,
          1.7382721048015093,
          0.05761002640626352,
          3.1060553929808754,
          1.2978766991775879,
          2.379727283652175,
          -0.38706280385902053,
          -0.14276694931792414,
          0.9865472939839993,
          -0.658203460481953,
          -0.6939476238479197,
          0.4663609204522567,
          -0.9611668389082888,
          -0.3286381457693652,
          -0.47002996096212685,
          -0.09953330550484732,
          -0.5157759703517617,
          0.17564907964270188
         ],
         "yaxis": "y5"
        },
        {
         "histfunc": "count",
         "histnorm": "",
         "marker": {
          "color": "rgba(55, 128, 191, 1.0)",
          "line": {
           "color": "#4D5663",
           "width": 1.3
          }
         },
         "name": "B",
         "nbinsx": 10,
         "opacity": 0.8,
         "orientation": "v",
         "type": "histogram",
         "x": [
          -0.7515845289098267,
          -1.3501185693636415,
          0.16077795108916015,
          1.0972421667024326,
          -1.5551617340524697,
          0.36473435593692705,
          -1.0305068105461639,
          -1.1324253826988833,
          -0.6873504943516671,
          0.1069282354870738,
          -1.695536516849996,
          0.2425816618019362,
          1.2687297380945173,
          0.020225855520632312,
          0.2892120761545208,
          0.1297778773904678,
          -0.7374435068199338,
          -1.4400098572821194,
          0.0032000310074377443,
          2.3156191209106116,
          -2.104552277645811,
          -0.22379452958198373,
          0.9883500188308598,
          1.3851046302259347,
          -1.0928793648108472,
          0.2912452071491476,
          -0.4106886803289102,
          -0.7209245389511091,
          -0.07317020772918818,
          0.2694790571470932,
          1.375091364288301,
          -0.23046375294234592,
          -0.05784828915091585,
          -0.4026832249574582,
          1.3880505778741024,
          1.0770560109162644,
          -1.6785547624603565,
          0.8704258254204967,
          1.2192626939395739,
          -0.11185202419003015,
          -0.763588692976187,
          1.490195261649367,
          2.1775088878872806,
          0.7277948316579071,
          -0.49372189274523937,
          -0.2338324822911922,
          -0.3379344582705307,
          0.4704751985297546,
          -0.7631725910562722,
          -1.305388313612196,
          0.19336190533982603,
          0.7328086527251998,
          0.7706362653881076,
          -1.2925763526257745,
          -0.8104937348956527,
          -0.5563194360896363,
          -1.972197874409348,
          -0.1932211683793346,
          0.24658648621738297,
          -0.27580446480575443,
          -0.04910140696994737,
          0.902700698539591,
          -0.06394334025850491,
          0.044784293824225885,
          0.6038793255782594,
          1.1287050189302426,
          -0.5778578018120689,
          -0.10347513287249659,
          1.5211159073742107,
          -0.9286680897045665,
          -0.24014144423313558,
          2.478875929720434,
          -1.7514335396591265,
          0.19996871943196137,
          0.6321232809455622,
          1.9589895318338868,
          -0.8238855966095642,
          0.12473054236890199,
          1.7645917749679907,
          -0.6231437672773471,
          -1.1610423310897395,
          -1.9156473976700872,
          -1.6126019221487324,
          1.7382721048015093,
          0.05761002640626352,
          3.1060553929808754,
          1.2978766991775879,
          2.379727283652175,
          -0.38706280385902053,
          -0.14276694931792414,
          0.9865472939839993,
          -0.658203460481953,
          -0.6939476238479197,
          0.4663609204522567,
          -0.9611668389082888,
          -0.3286381457693652,
          -0.47002996096212685,
          -0.09953330550484732,
          -0.5157759703517617,
          0.17564907964270188
         ],
         "xaxis": "x6",
         "yaxis": "y6"
        },
        {
         "line": {
          "color": "rgba(128, 128, 128, 1.0)",
          "dash": "solid",
          "shape": "linear",
          "width": 1.3
         },
         "marker": {
          "size": 2,
          "symbol": "circle"
         },
         "mode": "markers",
         "name": "B",
         "text": "",
         "type": "scatter",
         "x": [
          1.5101091402276365,
          0.15930592184746883,
          -0.6299520387685452,
          0.3795807867872899,
          -0.19549533178946357,
          1.6939992555492187,
          0.05863713860289682,
          0.031121505849155323,
          1.2145504382687164,
          0.9130385507942945,
          -0.10168848795949312,
          -0.42858764690705176,
          0.8122487801722668,
          -1.7627832646047805,
          -1.2061865423226135,
          0.4017902099314714,
          1.35173144399414,
          2.6774994781814963,
          -0.8109607891562296,
          -1.1152760578728993,
          -1.226851543648753,
          -1.6301692713880749,
          0.07774594059031383,
          0.478072187395388,
          -0.8253604446559677,
          1.1165972830006823,
          0.09770839807695156,
          -0.5630481280324108,
          0.23521091169642136,
          -1.1969858101490503,
          0.6310295007431875,
          0.13190096760114592,
          -0.20839898882731747,
          0.44877637347420823,
          0.4440570972113594,
          -0.6629807611552002,
          -0.3599818408286735,
          -0.6301631782881789,
          -1.4986905657015461,
          1.000787371158141,
          -0.3552390228243466,
          2.661219349367528,
          -1.3177836033556052,
          2.5832762748938864,
          0.5509745061883669,
          0.4529260955824585,
          0.3352218070075668,
          0.08753580770403321,
          -0.6500869447684293,
          -0.6637943908785625,
          0.17198389554492016,
          0.5178145189460188,
          0.08789442169735215,
          -0.9229128851314942,
          0.12538790860771418,
          -0.21751522072824378,
          -0.5276374844060169,
          -1.1480141930377978,
          -0.7139454373412848,
          -1.769402952512191,
          -1.4866672685840105,
          0.549542416188863,
          -1.2006159320776877,
          0.04538127264095669,
          0.9132573376845505,
          1.5507290409973893,
          0.40709486552146207,
          -1.3130947090351033,
          0.01234367165756752,
          -0.6551194330222805,
          -0.5445099357041456,
          -0.5096044224474188,
          -2.073664096466441,
          1.5507004576413281,
          0.13860628599479177,
          0.7187881982441798,
          1.1347831582725276,
          -0.1360791029180377,
          -0.04882205666420648,
          1.5449579618847205,
          0.25061951511628144,
          0.8654922425298819,
          0.510758417490925,
          -1.030924834909416,
          -1.4654292203409918,
          0.5696095366476174,
          1.4810513651346715,
          -0.34499008093872285,
          0.3577009446889585,
          -1.014601618657675,
          -0.7113563708441443,
          -1.1255334203112146,
          1.3268411912846392,
          0.12057782308625307,
          2.6352253664616567,
          0.26784651624134276,
          1.6509851179104613,
          -0.1731164108988731,
          -1.4469851029051934,
          0.355005154872157
         ],
         "xaxis": "x7",
         "y": [
          -0.7515845289098267,
          -1.3501185693636415,
          0.16077795108916015,
          1.0972421667024326,
          -1.5551617340524697,
          0.36473435593692705,
          -1.0305068105461639,
          -1.1324253826988833,
          -0.6873504943516671,
          0.1069282354870738,
          -1.695536516849996,
          0.2425816618019362,
          1.2687297380945173,
          0.020225855520632312,
          0.2892120761545208,
          0.1297778773904678,
          -0.7374435068199338,
          -1.4400098572821194,
          0.0032000310074377443,
          2.3156191209106116,
          -2.104552277645811,
          -0.22379452958198373,
          0.9883500188308598,
          1.3851046302259347,
          -1.0928793648108472,
          0.2912452071491476,
          -0.4106886803289102,
          -0.7209245389511091,
          -0.07317020772918818,
          0.2694790571470932,
          1.375091364288301,
          -0.23046375294234592,
          -0.05784828915091585,
          -0.4026832249574582,
          1.3880505778741024,
          1.0770560109162644,
          -1.6785547624603565,
          0.8704258254204967,
          1.2192626939395739,
          -0.11185202419003015,
          -0.763588692976187,
          1.490195261649367,
          2.1775088878872806,
          0.7277948316579071,
          -0.49372189274523937,
          -0.2338324822911922,
          -0.3379344582705307,
          0.4704751985297546,
          -0.7631725910562722,
          -1.305388313612196,
          0.19336190533982603,
          0.7328086527251998,
          0.7706362653881076,
          -1.2925763526257745,
          -0.8104937348956527,
          -0.5563194360896363,
          -1.972197874409348,
          -0.1932211683793346,
          0.24658648621738297,
          -0.27580446480575443,
          -0.04910140696994737,
          0.902700698539591,
          -0.06394334025850491,
          0.044784293824225885,
          0.6038793255782594,
          1.1287050189302426,
          -0.5778578018120689,
          -0.10347513287249659,
          1.5211159073742107,
          -0.9286680897045665,
          -0.24014144423313558,
          2.478875929720434,
          -1.7514335396591265,
          0.19996871943196137,
          0.6321232809455622,
          1.9589895318338868,
          -0.8238855966095642,
          0.12473054236890199,
          1.7645917749679907,
          -0.6231437672773471,
          -1.1610423310897395,
          -1.9156473976700872,
          -1.6126019221487324,
          1.7382721048015093,
          0.05761002640626352,
          3.1060553929808754,
          1.2978766991775879,
          2.379727283652175,
          -0.38706280385902053,
          -0.14276694931792414,
          0.9865472939839993,
          -0.658203460481953,
          -0.6939476238479197,
          0.4663609204522567,
          -0.9611668389082888,
          -0.3286381457693652,
          -0.47002996096212685,
          -0.09953330550484732,
          -0.5157759703517617,
          0.17564907964270188
         ],
         "yaxis": "y7"
        },
        {
         "line": {
          "color": "rgba(128, 128, 128, 1.0)",
          "dash": "solid",
          "shape": "linear",
          "width": 1.3
         },
         "marker": {
          "size": 2,
          "symbol": "circle"
         },
         "mode": "markers",
         "name": "B",
         "text": "",
         "type": "scatter",
         "x": [
          2.3898894927962258,
          -1.346185523310272,
          0.3926995477438022,
          -0.9599794920199762,
          2.145635862755704,
          0.19736932534681206,
          -0.016375879615479184,
          -0.5516553241472079,
          -0.19462394604008174,
          0.22516639879515654,
          -0.6676210246404063,
          0.42788569839835194,
          1.3961280369446534,
          1.2866373916759943,
          -0.07213962520428917,
          -0.224692107540565,
          0.08447571575585101,
          -0.4735521062853545,
          -0.5006714138007546,
          0.09100550312739152,
          0.46523334595572224,
          -1.83597908105119,
          -0.23389175808981608,
          -0.24385510409093322,
          -0.5911582767843231,
          -0.17068709130318022,
          -1.0687134676884893,
          0.038160659311079516,
          -1.4079380545672868,
          -1.815661259368501,
          -1.9886988873045035,
          0.47817133914898086,
          -0.5060345008623578,
          0.018883131631049124,
          -0.47962615890571564,
          0.6543138485575909,
          0.9031758088280951,
          0.547296167700335,
          1.2142993116092677,
          1.3889107281381117,
          -1.598570285757914,
          0.9278025225906082,
          0.5762031316364931,
          0.48363222487107577,
          -0.022749947354769297,
          -0.4658863161523873,
          1.626458234784676,
          -0.6776723699907173,
          0.26817200596668717,
          -0.435498668104195,
          0.7256894610052155,
          0.30887988732519234,
          0.9999726656830086,
          -0.4701219452261383,
          -0.7231044293670219,
          -1.1060357904552007,
          1.1876400307689436,
          1.1415469229047646,
          -0.19179028453130345,
          -0.5952721688987325,
          0.7003471207643943,
          -0.3093578682861099,
          -0.4194885044676614,
          -0.39974442856055636,
          0.07429196791584,
          0.4784857663946633,
          0.17033788804117667,
          -0.12564154107700404,
          0.8542227875313106,
          0.28551744139432644,
          -2.113006522544438,
          -1.1289229189161551,
          1.433883574901709,
          0.49204633008406096,
          -0.2615773401728134,
          0.3678047803139401,
          -0.13816533810562942,
          0.7076093131591633,
          0.060782453714857715,
          -0.16142616048645417,
          -1.2486078250468484,
          1.4672401263478823,
          -0.4374543544409514,
          -1.2380329371712746,
          -0.0516466126595105,
          0.8742873856600251,
          0.8685308786968833,
          -1.952290771484409,
          -0.22574090289942178,
          -1.073072535060036,
          0.04764455556960585,
          -2.27788731185454,
          -0.610745327952362,
          -0.3706943589554563,
          -0.12473087986892124,
          -3.2418750999737975,
          0.04474842511931487,
          -1.3074630796765412,
          0.8236942120155181,
          0.4849622852831096
         ],
         "xaxis": "x8",
         "y": [
          -0.7515845289098267,
          -1.3501185693636415,
          0.16077795108916015,
          1.0972421667024326,
          -1.5551617340524697,
          0.36473435593692705,
          -1.0305068105461639,
          -1.1324253826988833,
          -0.6873504943516671,
          0.1069282354870738,
          -1.695536516849996,
          0.2425816618019362,
          1.2687297380945173,
          0.020225855520632312,
          0.2892120761545208,
          0.1297778773904678,
          -0.7374435068199338,
          -1.4400098572821194,
          0.0032000310074377443,
          2.3156191209106116,
          -2.104552277645811,
          -0.22379452958198373,
          0.9883500188308598,
          1.3851046302259347,
          -1.0928793648108472,
          0.2912452071491476,
          -0.4106886803289102,
          -0.7209245389511091,
          -0.07317020772918818,
          0.2694790571470932,
          1.375091364288301,
          -0.23046375294234592,
          -0.05784828915091585,
          -0.4026832249574582,
          1.3880505778741024,
          1.0770560109162644,
          -1.6785547624603565,
          0.8704258254204967,
          1.2192626939395739,
          -0.11185202419003015,
          -0.763588692976187,
          1.490195261649367,
          2.1775088878872806,
          0.7277948316579071,
          -0.49372189274523937,
          -0.2338324822911922,
          -0.3379344582705307,
          0.4704751985297546,
          -0.7631725910562722,
          -1.305388313612196,
          0.19336190533982603,
          0.7328086527251998,
          0.7706362653881076,
          -1.2925763526257745,
          -0.8104937348956527,
          -0.5563194360896363,
          -1.972197874409348,
          -0.1932211683793346,
          0.24658648621738297,
          -0.27580446480575443,
          -0.04910140696994737,
          0.902700698539591,
          -0.06394334025850491,
          0.044784293824225885,
          0.6038793255782594,
          1.1287050189302426,
          -0.5778578018120689,
          -0.10347513287249659,
          1.5211159073742107,
          -0.9286680897045665,
          -0.24014144423313558,
          2.478875929720434,
          -1.7514335396591265,
          0.19996871943196137,
          0.6321232809455622,
          1.9589895318338868,
          -0.8238855966095642,
          0.12473054236890199,
          1.7645917749679907,
          -0.6231437672773471,
          -1.1610423310897395,
          -1.9156473976700872,
          -1.6126019221487324,
          1.7382721048015093,
          0.05761002640626352,
          3.1060553929808754,
          1.2978766991775879,
          2.379727283652175,
          -0.38706280385902053,
          -0.14276694931792414,
          0.9865472939839993,
          -0.658203460481953,
          -0.6939476238479197,
          0.4663609204522567,
          -0.9611668389082888,
          -0.3286381457693652,
          -0.47002996096212685,
          -0.09953330550484732,
          -0.5157759703517617,
          0.17564907964270188
         ],
         "yaxis": "y8"
        },
        {
         "line": {
          "color": "rgba(128, 128, 128, 1.0)",
          "dash": "solid",
          "shape": "linear",
          "width": 1.3
         },
         "marker": {
          "size": 2,
          "symbol": "circle"
         },
         "mode": "markers",
         "name": "C",
         "text": "",
         "type": "scatter",
         "x": [
          -0.6107347761616178,
          0.4201614153496461,
          -0.29605152886844865,
          -0.603856601378769,
          -0.34992557814699554,
          0.5068350913538099,
          1.4993263879906027,
          -2.334241991002616,
          -0.756289536182581,
          0.029039928572972565,
          -0.06418705977340332,
          0.9316899277347028,
          0.6315071913942684,
          -0.8448886098897598,
          0.17075138231478665,
          -0.46156067536114953,
          0.7665613566497056,
          -0.4836983678082965,
          0.16642518180746108,
          1.4564782581774924,
          0.9606524678241097,
          0.8542978329522262,
          -0.675314325805229,
          0.195511600271729,
          -1.7488760698587718,
          0.7124539851075085,
          2.0468217852064288,
          1.6248644217502146,
          -0.5286160896870696,
          -1.6561743116422956,
          1.0753782176872302,
          -0.4697669545323898,
          -0.009018585905509479,
          -0.541569847684211,
          1.6913214206556852,
          -1.788246523479366,
          0.522833167186685,
          -0.9934573505043022,
          1.6399751744524727,
          0.3374694500440057,
          -2.193678870035607,
          -1.017633199473239,
          0.3679345306105512,
          -1.3036150063236591,
          0.7462578429627574,
          -0.506156177257477,
          1.7176523623457138,
          1.7793863386202,
          0.07923784823916726,
          1.6723340011782664,
          0.026694156864108736,
          0.4857432640720413,
          -1.4103267776792288,
          -1.1830495094733648,
          -0.1792308752387724,
          -0.22071995812812675,
          -1.3270964256209172,
          -0.43120218142331274,
          -0.6256456712456581,
          -0.29497815162776525,
          1.467718648245481,
          -0.9304178622442733,
          -0.11510147301732727,
          -0.3767284928261818,
          0.478108904510788,
          3.7525358111818345,
          -0.03242175767615414,
          -0.3640156611750831,
          0.018466623262912058,
          -0.2434299789991597,
          -0.11500724514530727,
          -2.0214049601657518,
          0.690130295394509,
          0.2532383016783365,
          1.5331578664393732,
          -0.8853998372881371,
          -1.4352841075731064,
          0.2598125345509629,
          0.5956194819973099,
          0.22788031283148957,
          -0.13797830670137154,
          -1.4183777937548996,
          -0.07232292085057175,
          1.156608410254206,
          0.7622513100528217,
          -1.906380748783229,
          0.7045019662098876,
          3.1287391387449923,
          0.12687249379699703,
          0.10233161108321426,
          -0.793703598152564,
          0.5962107888831366,
          -0.5230777107716984,
          -1.4983543424046748,
          -1.474001813667417,
          1.1806612185186167,
          -0.9268646615012716,
          0.03494592384986443,
          0.936911761668089,
          -1.5336897066452815
         ],
         "xaxis": "x9",
         "y": [
          1.5101091402276365,
          0.15930592184746883,
          -0.6299520387685452,
          0.3795807867872899,
          -0.19549533178946357,
          1.6939992555492187,
          0.05863713860289682,
          0.031121505849155323,
          1.2145504382687164,
          0.9130385507942945,
          -0.10168848795949312,
          -0.42858764690705176,
          0.8122487801722668,
          -1.7627832646047805,
          -1.2061865423226135,
          0.4017902099314714,
          1.35173144399414,
          2.6774994781814963,
          -0.8109607891562296,
          -1.1152760578728993,
          -1.226851543648753,
          -1.6301692713880749,
          0.07774594059031383,
          0.478072187395388,
          -0.8253604446559677,
          1.1165972830006823,
          0.09770839807695156,
          -0.5630481280324108,
          0.23521091169642136,
          -1.1969858101490503,
          0.6310295007431875,
          0.13190096760114592,
          -0.20839898882731747,
          0.44877637347420823,
          0.4440570972113594,
          -0.6629807611552002,
          -0.3599818408286735,
          -0.6301631782881789,
          -1.4986905657015461,
          1.000787371158141,
          -0.3552390228243466,
          2.661219349367528,
          -1.3177836033556052,
          2.5832762748938864,
          0.5509745061883669,
          0.4529260955824585,
          0.3352218070075668,
          0.08753580770403321,
          -0.6500869447684293,
          -0.6637943908785625,
          0.17198389554492016,
          0.5178145189460188,
          0.08789442169735215,
          -0.9229128851314942,
          0.12538790860771418,
          -0.21751522072824378,
          -0.5276374844060169,
          -1.1480141930377978,
          -0.7139454373412848,
          -1.769402952512191,
          -1.4866672685840105,
          0.549542416188863,
          -1.2006159320776877,
          0.04538127264095669,
          0.9132573376845505,
          1.5507290409973893,
          0.40709486552146207,
          -1.3130947090351033,
          0.01234367165756752,
          -0.6551194330222805,
          -0.5445099357041456,
          -0.5096044224474188,
          -2.073664096466441,
          1.5507004576413281,
          0.13860628599479177,
          0.7187881982441798,
          1.1347831582725276,
          -0.1360791029180377,
          -0.04882205666420648,
          1.5449579618847205,
          0.25061951511628144,
          0.8654922425298819,
          0.510758417490925,
          -1.030924834909416,
          -1.4654292203409918,
          0.5696095366476174,
          1.4810513651346715,
          -0.34499008093872285,
          0.3577009446889585,
          -1.014601618657675,
          -0.7113563708441443,
          -1.1255334203112146,
          1.3268411912846392,
          0.12057782308625307,
          2.6352253664616567,
          0.26784651624134276,
          1.6509851179104613,
          -0.1731164108988731,
          -1.4469851029051934,
          0.355005154872157
         ],
         "yaxis": "y9"
        },
        {
         "line": {
          "color": "rgba(128, 128, 128, 1.0)",
          "dash": "solid",
          "shape": "linear",
          "width": 1.3
         },
         "marker": {
          "size": 2,
          "symbol": "circle"
         },
         "mode": "markers",
         "name": "C",
         "text": "",
         "type": "scatter",
         "x": [
          -0.7515845289098267,
          -1.3501185693636415,
          0.16077795108916015,
          1.0972421667024326,
          -1.5551617340524697,
          0.36473435593692705,
          -1.0305068105461639,
          -1.1324253826988833,
          -0.6873504943516671,
          0.1069282354870738,
          -1.695536516849996,
          0.2425816618019362,
          1.2687297380945173,
          0.020225855520632312,
          0.2892120761545208,
          0.1297778773904678,
          -0.7374435068199338,
          -1.4400098572821194,
          0.0032000310074377443,
          2.3156191209106116,
          -2.104552277645811,
          -0.22379452958198373,
          0.9883500188308598,
          1.3851046302259347,
          -1.0928793648108472,
          0.2912452071491476,
          -0.4106886803289102,
          -0.7209245389511091,
          -0.07317020772918818,
          0.2694790571470932,
          1.375091364288301,
          -0.23046375294234592,
          -0.05784828915091585,
          -0.4026832249574582,
          1.3880505778741024,
          1.0770560109162644,
          -1.6785547624603565,
          0.8704258254204967,
          1.2192626939395739,
          -0.11185202419003015,
          -0.763588692976187,
          1.490195261649367,
          2.1775088878872806,
          0.7277948316579071,
          -0.49372189274523937,
          -0.2338324822911922,
          -0.3379344582705307,
          0.4704751985297546,
          -0.7631725910562722,
          -1.305388313612196,
          0.19336190533982603,
          0.7328086527251998,
          0.7706362653881076,
          -1.2925763526257745,
          -0.8104937348956527,
          -0.5563194360896363,
          -1.972197874409348,
          -0.1932211683793346,
          0.24658648621738297,
          -0.27580446480575443,
          -0.04910140696994737,
          0.902700698539591,
          -0.06394334025850491,
          0.044784293824225885,
          0.6038793255782594,
          1.1287050189302426,
          -0.5778578018120689,
          -0.10347513287249659,
          1.5211159073742107,
          -0.9286680897045665,
          -0.24014144423313558,
          2.478875929720434,
          -1.7514335396591265,
          0.19996871943196137,
          0.6321232809455622,
          1.9589895318338868,
          -0.8238855966095642,
          0.12473054236890199,
          1.7645917749679907,
          -0.6231437672773471,
          -1.1610423310897395,
          -1.9156473976700872,
          -1.6126019221487324,
          1.7382721048015093,
          0.05761002640626352,
          3.1060553929808754,
          1.2978766991775879,
          2.379727283652175,
          -0.38706280385902053,
          -0.14276694931792414,
          0.9865472939839993,
          -0.658203460481953,
          -0.6939476238479197,
          0.4663609204522567,
          -0.9611668389082888,
          -0.3286381457693652,
          -0.47002996096212685,
          -0.09953330550484732,
          -0.5157759703517617,
          0.17564907964270188
         ],
         "xaxis": "x10",
         "y": [
          1.5101091402276365,
          0.15930592184746883,
          -0.6299520387685452,
          0.3795807867872899,
          -0.19549533178946357,
          1.6939992555492187,
          0.05863713860289682,
          0.031121505849155323,
          1.2145504382687164,
          0.9130385507942945,
          -0.10168848795949312,
          -0.42858764690705176,
          0.8122487801722668,
          -1.7627832646047805,
          -1.2061865423226135,
          0.4017902099314714,
          1.35173144399414,
          2.6774994781814963,
          -0.8109607891562296,
          -1.1152760578728993,
          -1.226851543648753,
          -1.6301692713880749,
          0.07774594059031383,
          0.478072187395388,
          -0.8253604446559677,
          1.1165972830006823,
          0.09770839807695156,
          -0.5630481280324108,
          0.23521091169642136,
          -1.1969858101490503,
          0.6310295007431875,
          0.13190096760114592,
          -0.20839898882731747,
          0.44877637347420823,
          0.4440570972113594,
          -0.6629807611552002,
          -0.3599818408286735,
          -0.6301631782881789,
          -1.4986905657015461,
          1.000787371158141,
          -0.3552390228243466,
          2.661219349367528,
          -1.3177836033556052,
          2.5832762748938864,
          0.5509745061883669,
          0.4529260955824585,
          0.3352218070075668,
          0.08753580770403321,
          -0.6500869447684293,
          -0.6637943908785625,
          0.17198389554492016,
          0.5178145189460188,
          0.08789442169735215,
          -0.9229128851314942,
          0.12538790860771418,
          -0.21751522072824378,
          -0.5276374844060169,
          -1.1480141930377978,
          -0.7139454373412848,
          -1.769402952512191,
          -1.4866672685840105,
          0.549542416188863,
          -1.2006159320776877,
          0.04538127264095669,
          0.9132573376845505,
          1.5507290409973893,
          0.40709486552146207,
          -1.3130947090351033,
          0.01234367165756752,
          -0.6551194330222805,
          -0.5445099357041456,
          -0.5096044224474188,
          -2.073664096466441,
          1.5507004576413281,
          0.13860628599479177,
          0.7187881982441798,
          1.1347831582725276,
          -0.1360791029180377,
          -0.04882205666420648,
          1.5449579618847205,
          0.25061951511628144,
          0.8654922425298819,
          0.510758417490925,
          -1.030924834909416,
          -1.4654292203409918,
          0.5696095366476174,
          1.4810513651346715,
          -0.34499008093872285,
          0.3577009446889585,
          -1.014601618657675,
          -0.7113563708441443,
          -1.1255334203112146,
          1.3268411912846392,
          0.12057782308625307,
          2.6352253664616567,
          0.26784651624134276,
          1.6509851179104613,
          -0.1731164108988731,
          -1.4469851029051934,
          0.355005154872157
         ],
         "yaxis": "y10"
        },
        {
         "histfunc": "count",
         "histnorm": "",
         "marker": {
          "color": "rgba(50, 171, 96, 1.0)",
          "line": {
           "color": "#4D5663",
           "width": 1.3
          }
         },
         "name": "C",
         "nbinsx": 10,
         "opacity": 0.8,
         "orientation": "v",
         "type": "histogram",
         "x": [
          1.5101091402276365,
          0.15930592184746883,
          -0.6299520387685452,
          0.3795807867872899,
          -0.19549533178946357,
          1.6939992555492187,
          0.05863713860289682,
          0.031121505849155323,
          1.2145504382687164,
          0.9130385507942945,
          -0.10168848795949312,
          -0.42858764690705176,
          0.8122487801722668,
          -1.7627832646047805,
          -1.2061865423226135,
          0.4017902099314714,
          1.35173144399414,
          2.6774994781814963,
          -0.8109607891562296,
          -1.1152760578728993,
          -1.226851543648753,
          -1.6301692713880749,
          0.07774594059031383,
          0.478072187395388,
          -0.8253604446559677,
          1.1165972830006823,
          0.09770839807695156,
          -0.5630481280324108,
          0.23521091169642136,
          -1.1969858101490503,
          0.6310295007431875,
          0.13190096760114592,
          -0.20839898882731747,
          0.44877637347420823,
          0.4440570972113594,
          -0.6629807611552002,
          -0.3599818408286735,
          -0.6301631782881789,
          -1.4986905657015461,
          1.000787371158141,
          -0.3552390228243466,
          2.661219349367528,
          -1.3177836033556052,
          2.5832762748938864,
          0.5509745061883669,
          0.4529260955824585,
          0.3352218070075668,
          0.08753580770403321,
          -0.6500869447684293,
          -0.6637943908785625,
          0.17198389554492016,
          0.5178145189460188,
          0.08789442169735215,
          -0.9229128851314942,
          0.12538790860771418,
          -0.21751522072824378,
          -0.5276374844060169,
          -1.1480141930377978,
          -0.7139454373412848,
          -1.769402952512191,
          -1.4866672685840105,
          0.549542416188863,
          -1.2006159320776877,
          0.04538127264095669,
          0.9132573376845505,
          1.5507290409973893,
          0.40709486552146207,
          -1.3130947090351033,
          0.01234367165756752,
          -0.6551194330222805,
          -0.5445099357041456,
          -0.5096044224474188,
          -2.073664096466441,
          1.5507004576413281,
          0.13860628599479177,
          0.7187881982441798,
          1.1347831582725276,
          -0.1360791029180377,
          -0.04882205666420648,
          1.5449579618847205,
          0.25061951511628144,
          0.8654922425298819,
          0.510758417490925,
          -1.030924834909416,
          -1.4654292203409918,
          0.5696095366476174,
          1.4810513651346715,
          -0.34499008093872285,
          0.3577009446889585,
          -1.014601618657675,
          -0.7113563708441443,
          -1.1255334203112146,
          1.3268411912846392,
          0.12057782308625307,
          2.6352253664616567,
          0.26784651624134276,
          1.6509851179104613,
          -0.1731164108988731,
          -1.4469851029051934,
          0.355005154872157
         ],
         "xaxis": "x11",
         "yaxis": "y11"
        },
        {
         "line": {
          "color": "rgba(128, 128, 128, 1.0)",
          "dash": "solid",
          "shape": "linear",
          "width": 1.3
         },
         "marker": {
          "size": 2,
          "symbol": "circle"
         },
         "mode": "markers",
         "name": "C",
         "text": "",
         "type": "scatter",
         "x": [
          2.3898894927962258,
          -1.346185523310272,
          0.3926995477438022,
          -0.9599794920199762,
          2.145635862755704,
          0.19736932534681206,
          -0.016375879615479184,
          -0.5516553241472079,
          -0.19462394604008174,
          0.22516639879515654,
          -0.6676210246404063,
          0.42788569839835194,
          1.3961280369446534,
          1.2866373916759943,
          -0.07213962520428917,
          -0.224692107540565,
          0.08447571575585101,
          -0.4735521062853545,
          -0.5006714138007546,
          0.09100550312739152,
          0.46523334595572224,
          -1.83597908105119,
          -0.23389175808981608,
          -0.24385510409093322,
          -0.5911582767843231,
          -0.17068709130318022,
          -1.0687134676884893,
          0.038160659311079516,
          -1.4079380545672868,
          -1.815661259368501,
          -1.9886988873045035,
          0.47817133914898086,
          -0.5060345008623578,
          0.018883131631049124,
          -0.47962615890571564,
          0.6543138485575909,
          0.9031758088280951,
          0.547296167700335,
          1.2142993116092677,
          1.3889107281381117,
          -1.598570285757914,
          0.9278025225906082,
          0.5762031316364931,
          0.48363222487107577,
          -0.022749947354769297,
          -0.4658863161523873,
          1.626458234784676,
          -0.6776723699907173,
          0.26817200596668717,
          -0.435498668104195,
          0.7256894610052155,
          0.30887988732519234,
          0.9999726656830086,
          -0.4701219452261383,
          -0.7231044293670219,
          -1.1060357904552007,
          1.1876400307689436,
          1.1415469229047646,
          -0.19179028453130345,
          -0.5952721688987325,
          0.7003471207643943,
          -0.3093578682861099,
          -0.4194885044676614,
          -0.39974442856055636,
          0.07429196791584,
          0.4784857663946633,
          0.17033788804117667,
          -0.12564154107700404,
          0.8542227875313106,
          0.28551744139432644,
          -2.113006522544438,
          -1.1289229189161551,
          1.433883574901709,
          0.49204633008406096,
          -0.2615773401728134,
          0.3678047803139401,
          -0.13816533810562942,
          0.7076093131591633,
          0.060782453714857715,
          -0.16142616048645417,
          -1.2486078250468484,
          1.4672401263478823,
          -0.4374543544409514,
          -1.2380329371712746,
          -0.0516466126595105,
          0.8742873856600251,
          0.8685308786968833,
          -1.952290771484409,
          -0.22574090289942178,
          -1.073072535060036,
          0.04764455556960585,
          -2.27788731185454,
          -0.610745327952362,
          -0.3706943589554563,
          -0.12473087986892124,
          -3.2418750999737975,
          0.04474842511931487,
          -1.3074630796765412,
          0.8236942120155181,
          0.4849622852831096
         ],
         "xaxis": "x12",
         "y": [
          1.5101091402276365,
          0.15930592184746883,
          -0.6299520387685452,
          0.3795807867872899,
          -0.19549533178946357,
          1.6939992555492187,
          0.05863713860289682,
          0.031121505849155323,
          1.2145504382687164,
          0.9130385507942945,
          -0.10168848795949312,
          -0.42858764690705176,
          0.8122487801722668,
          -1.7627832646047805,
          -1.2061865423226135,
          0.4017902099314714,
          1.35173144399414,
          2.6774994781814963,
          -0.8109607891562296,
          -1.1152760578728993,
          -1.226851543648753,
          -1.6301692713880749,
          0.07774594059031383,
          0.478072187395388,
          -0.8253604446559677,
          1.1165972830006823,
          0.09770839807695156,
          -0.5630481280324108,
          0.23521091169642136,
          -1.1969858101490503,
          0.6310295007431875,
          0.13190096760114592,
          -0.20839898882731747,
          0.44877637347420823,
          0.4440570972113594,
          -0.6629807611552002,
          -0.3599818408286735,
          -0.6301631782881789,
          -1.4986905657015461,
          1.000787371158141,
          -0.3552390228243466,
          2.661219349367528,
          -1.3177836033556052,
          2.5832762748938864,
          0.5509745061883669,
          0.4529260955824585,
          0.3352218070075668,
          0.08753580770403321,
          -0.6500869447684293,
          -0.6637943908785625,
          0.17198389554492016,
          0.5178145189460188,
          0.08789442169735215,
          -0.9229128851314942,
          0.12538790860771418,
          -0.21751522072824378,
          -0.5276374844060169,
          -1.1480141930377978,
          -0.7139454373412848,
          -1.769402952512191,
          -1.4866672685840105,
          0.549542416188863,
          -1.2006159320776877,
          0.04538127264095669,
          0.9132573376845505,
          1.5507290409973893,
          0.40709486552146207,
          -1.3130947090351033,
          0.01234367165756752,
          -0.6551194330222805,
          -0.5445099357041456,
          -0.5096044224474188,
          -2.073664096466441,
          1.5507004576413281,
          0.13860628599479177,
          0.7187881982441798,
          1.1347831582725276,
          -0.1360791029180377,
          -0.04882205666420648,
          1.5449579618847205,
          0.25061951511628144,
          0.8654922425298819,
          0.510758417490925,
          -1.030924834909416,
          -1.4654292203409918,
          0.5696095366476174,
          1.4810513651346715,
          -0.34499008093872285,
          0.3577009446889585,
          -1.014601618657675,
          -0.7113563708441443,
          -1.1255334203112146,
          1.3268411912846392,
          0.12057782308625307,
          2.6352253664616567,
          0.26784651624134276,
          1.6509851179104613,
          -0.1731164108988731,
          -1.4469851029051934,
          0.355005154872157
         ],
         "yaxis": "y12"
        },
        {
         "line": {
          "color": "rgba(128, 128, 128, 1.0)",
          "dash": "solid",
          "shape": "linear",
          "width": 1.3
         },
         "marker": {
          "size": 2,
          "symbol": "circle"
         },
         "mode": "markers",
         "name": "D",
         "text": "",
         "type": "scatter",
         "x": [
          -0.6107347761616178,
          0.4201614153496461,
          -0.29605152886844865,
          -0.603856601378769,
          -0.34992557814699554,
          0.5068350913538099,
          1.4993263879906027,
          -2.334241991002616,
          -0.756289536182581,
          0.029039928572972565,
          -0.06418705977340332,
          0.9316899277347028,
          0.6315071913942684,
          -0.8448886098897598,
          0.17075138231478665,
          -0.46156067536114953,
          0.7665613566497056,
          -0.4836983678082965,
          0.16642518180746108,
          1.4564782581774924,
          0.9606524678241097,
          0.8542978329522262,
          -0.675314325805229,
          0.195511600271729,
          -1.7488760698587718,
          0.7124539851075085,
          2.0468217852064288,
          1.6248644217502146,
          -0.5286160896870696,
          -1.6561743116422956,
          1.0753782176872302,
          -0.4697669545323898,
          -0.009018585905509479,
          -0.541569847684211,
          1.6913214206556852,
          -1.788246523479366,
          0.522833167186685,
          -0.9934573505043022,
          1.6399751744524727,
          0.3374694500440057,
          -2.193678870035607,
          -1.017633199473239,
          0.3679345306105512,
          -1.3036150063236591,
          0.7462578429627574,
          -0.506156177257477,
          1.7176523623457138,
          1.7793863386202,
          0.07923784823916726,
          1.6723340011782664,
          0.026694156864108736,
          0.4857432640720413,
          -1.4103267776792288,
          -1.1830495094733648,
          -0.1792308752387724,
          -0.22071995812812675,
          -1.3270964256209172,
          -0.43120218142331274,
          -0.6256456712456581,
          -0.29497815162776525,
          1.467718648245481,
          -0.9304178622442733,
          -0.11510147301732727,
          -0.3767284928261818,
          0.478108904510788,
          3.7525358111818345,
          -0.03242175767615414,
          -0.3640156611750831,
          0.018466623262912058,
          -0.2434299789991597,
          -0.11500724514530727,
          -2.0214049601657518,
          0.690130295394509,
          0.2532383016783365,
          1.5331578664393732,
          -0.8853998372881371,
          -1.4352841075731064,
          0.2598125345509629,
          0.5956194819973099,
          0.22788031283148957,
          -0.13797830670137154,
          -1.4183777937548996,
          -0.07232292085057175,
          1.156608410254206,
          0.7622513100528217,
          -1.906380748783229,
          0.7045019662098876,
          3.1287391387449923,
          0.12687249379699703,
          0.10233161108321426,
          -0.793703598152564,
          0.5962107888831366,
          -0.5230777107716984,
          -1.4983543424046748,
          -1.474001813667417,
          1.1806612185186167,
          -0.9268646615012716,
          0.03494592384986443,
          0.936911761668089,
          -1.5336897066452815
         ],
         "xaxis": "x13",
         "y": [
          2.3898894927962258,
          -1.346185523310272,
          0.3926995477438022,
          -0.9599794920199762,
          2.145635862755704,
          0.19736932534681206,
          -0.016375879615479184,
          -0.5516553241472079,
          -0.19462394604008174,
          0.22516639879515654,
          -0.6676210246404063,
          0.42788569839835194,
          1.3961280369446534,
          1.2866373916759943,
          -0.07213962520428917,
          -0.224692107540565,
          0.08447571575585101,
          -0.4735521062853545,
          -0.5006714138007546,
          0.09100550312739152,
          0.46523334595572224,
          -1.83597908105119,
          -0.23389175808981608,
          -0.24385510409093322,
          -0.5911582767843231,
          -0.17068709130318022,
          -1.0687134676884893,
          0.038160659311079516,
          -1.4079380545672868,
          -1.815661259368501,
          -1.9886988873045035,
          0.47817133914898086,
          -0.5060345008623578,
          0.018883131631049124,
          -0.47962615890571564,
          0.6543138485575909,
          0.9031758088280951,
          0.547296167700335,
          1.2142993116092677,
          1.3889107281381117,
          -1.598570285757914,
          0.9278025225906082,
          0.5762031316364931,
          0.48363222487107577,
          -0.022749947354769297,
          -0.4658863161523873,
          1.626458234784676,
          -0.6776723699907173,
          0.26817200596668717,
          -0.435498668104195,
          0.7256894610052155,
          0.30887988732519234,
          0.9999726656830086,
          -0.4701219452261383,
          -0.7231044293670219,
          -1.1060357904552007,
          1.1876400307689436,
          1.1415469229047646,
          -0.19179028453130345,
          -0.5952721688987325,
          0.7003471207643943,
          -0.3093578682861099,
          -0.4194885044676614,
          -0.39974442856055636,
          0.07429196791584,
          0.4784857663946633,
          0.17033788804117667,
          -0.12564154107700404,
          0.8542227875313106,
          0.28551744139432644,
          -2.113006522544438,
          -1.1289229189161551,
          1.433883574901709,
          0.49204633008406096,
          -0.2615773401728134,
          0.3678047803139401,
          -0.13816533810562942,
          0.7076093131591633,
          0.060782453714857715,
          -0.16142616048645417,
          -1.2486078250468484,
          1.4672401263478823,
          -0.4374543544409514,
          -1.2380329371712746,
          -0.0516466126595105,
          0.8742873856600251,
          0.8685308786968833,
          -1.952290771484409,
          -0.22574090289942178,
          -1.073072535060036,
          0.04764455556960585,
          -2.27788731185454,
          -0.610745327952362,
          -0.3706943589554563,
          -0.12473087986892124,
          -3.2418750999737975,
          0.04474842511931487,
          -1.3074630796765412,
          0.8236942120155181,
          0.4849622852831096
         ],
         "yaxis": "y13"
        },
        {
         "line": {
          "color": "rgba(128, 128, 128, 1.0)",
          "dash": "solid",
          "shape": "linear",
          "width": 1.3
         },
         "marker": {
          "size": 2,
          "symbol": "circle"
         },
         "mode": "markers",
         "name": "D",
         "text": "",
         "type": "scatter",
         "x": [
          -0.7515845289098267,
          -1.3501185693636415,
          0.16077795108916015,
          1.0972421667024326,
          -1.5551617340524697,
          0.36473435593692705,
          -1.0305068105461639,
          -1.1324253826988833,
          -0.6873504943516671,
          0.1069282354870738,
          -1.695536516849996,
          0.2425816618019362,
          1.2687297380945173,
          0.020225855520632312,
          0.2892120761545208,
          0.1297778773904678,
          -0.7374435068199338,
          -1.4400098572821194,
          0.0032000310074377443,
          2.3156191209106116,
          -2.104552277645811,
          -0.22379452958198373,
          0.9883500188308598,
          1.3851046302259347,
          -1.0928793648108472,
          0.2912452071491476,
          -0.4106886803289102,
          -0.7209245389511091,
          -0.07317020772918818,
          0.2694790571470932,
          1.375091364288301,
          -0.23046375294234592,
          -0.05784828915091585,
          -0.4026832249574582,
          1.3880505778741024,
          1.0770560109162644,
          -1.6785547624603565,
          0.8704258254204967,
          1.2192626939395739,
          -0.11185202419003015,
          -0.763588692976187,
          1.490195261649367,
          2.1775088878872806,
          0.7277948316579071,
          -0.49372189274523937,
          -0.2338324822911922,
          -0.3379344582705307,
          0.4704751985297546,
          -0.7631725910562722,
          -1.305388313612196,
          0.19336190533982603,
          0.7328086527251998,
          0.7706362653881076,
          -1.2925763526257745,
          -0.8104937348956527,
          -0.5563194360896363,
          -1.972197874409348,
          -0.1932211683793346,
          0.24658648621738297,
          -0.27580446480575443,
          -0.04910140696994737,
          0.902700698539591,
          -0.06394334025850491,
          0.044784293824225885,
          0.6038793255782594,
          1.1287050189302426,
          -0.5778578018120689,
          -0.10347513287249659,
          1.5211159073742107,
          -0.9286680897045665,
          -0.24014144423313558,
          2.478875929720434,
          -1.7514335396591265,
          0.19996871943196137,
          0.6321232809455622,
          1.9589895318338868,
          -0.8238855966095642,
          0.12473054236890199,
          1.7645917749679907,
          -0.6231437672773471,
          -1.1610423310897395,
          -1.9156473976700872,
          -1.6126019221487324,
          1.7382721048015093,
          0.05761002640626352,
          3.1060553929808754,
          1.2978766991775879,
          2.379727283652175,
          -0.38706280385902053,
          -0.14276694931792414,
          0.9865472939839993,
          -0.658203460481953,
          -0.6939476238479197,
          0.4663609204522567,
          -0.9611668389082888,
          -0.3286381457693652,
          -0.47002996096212685,
          -0.09953330550484732,
          -0.5157759703517617,
          0.17564907964270188
         ],
         "xaxis": "x14",
         "y": [
          2.3898894927962258,
          -1.346185523310272,
          0.3926995477438022,
          -0.9599794920199762,
          2.145635862755704,
          0.19736932534681206,
          -0.016375879615479184,
          -0.5516553241472079,
          -0.19462394604008174,
          0.22516639879515654,
          -0.6676210246404063,
          0.42788569839835194,
          1.3961280369446534,
          1.2866373916759943,
          -0.07213962520428917,
          -0.224692107540565,
          0.08447571575585101,
          -0.4735521062853545,
          -0.5006714138007546,
          0.09100550312739152,
          0.46523334595572224,
          -1.83597908105119,
          -0.23389175808981608,
          -0.24385510409093322,
          -0.5911582767843231,
          -0.17068709130318022,
          -1.0687134676884893,
          0.038160659311079516,
          -1.4079380545672868,
          -1.815661259368501,
          -1.9886988873045035,
          0.47817133914898086,
          -0.5060345008623578,
          0.018883131631049124,
          -0.47962615890571564,
          0.6543138485575909,
          0.9031758088280951,
          0.547296167700335,
          1.2142993116092677,
          1.3889107281381117,
          -1.598570285757914,
          0.9278025225906082,
          0.5762031316364931,
          0.48363222487107577,
          -0.022749947354769297,
          -0.4658863161523873,
          1.626458234784676,
          -0.6776723699907173,
          0.26817200596668717,
          -0.435498668104195,
          0.7256894610052155,
          0.30887988732519234,
          0.9999726656830086,
          -0.4701219452261383,
          -0.7231044293670219,
          -1.1060357904552007,
          1.1876400307689436,
          1.1415469229047646,
          -0.19179028453130345,
          -0.5952721688987325,
          0.7003471207643943,
          -0.3093578682861099,
          -0.4194885044676614,
          -0.39974442856055636,
          0.07429196791584,
          0.4784857663946633,
          0.17033788804117667,
          -0.12564154107700404,
          0.8542227875313106,
          0.28551744139432644,
          -2.113006522544438,
          -1.1289229189161551,
          1.433883574901709,
          0.49204633008406096,
          -0.2615773401728134,
          0.3678047803139401,
          -0.13816533810562942,
          0.7076093131591633,
          0.060782453714857715,
          -0.16142616048645417,
          -1.2486078250468484,
          1.4672401263478823,
          -0.4374543544409514,
          -1.2380329371712746,
          -0.0516466126595105,
          0.8742873856600251,
          0.8685308786968833,
          -1.952290771484409,
          -0.22574090289942178,
          -1.073072535060036,
          0.04764455556960585,
          -2.27788731185454,
          -0.610745327952362,
          -0.3706943589554563,
          -0.12473087986892124,
          -3.2418750999737975,
          0.04474842511931487,
          -1.3074630796765412,
          0.8236942120155181,
          0.4849622852831096
         ],
         "yaxis": "y14"
        },
        {
         "line": {
          "color": "rgba(128, 128, 128, 1.0)",
          "dash": "solid",
          "shape": "linear",
          "width": 1.3
         },
         "marker": {
          "size": 2,
          "symbol": "circle"
         },
         "mode": "markers",
         "name": "D",
         "text": "",
         "type": "scatter",
         "x": [
          1.5101091402276365,
          0.15930592184746883,
          -0.6299520387685452,
          0.3795807867872899,
          -0.19549533178946357,
          1.6939992555492187,
          0.05863713860289682,
          0.031121505849155323,
          1.2145504382687164,
          0.9130385507942945,
          -0.10168848795949312,
          -0.42858764690705176,
          0.8122487801722668,
          -1.7627832646047805,
          -1.2061865423226135,
          0.4017902099314714,
          1.35173144399414,
          2.6774994781814963,
          -0.8109607891562296,
          -1.1152760578728993,
          -1.226851543648753,
          -1.6301692713880749,
          0.07774594059031383,
          0.478072187395388,
          -0.8253604446559677,
          1.1165972830006823,
          0.09770839807695156,
          -0.5630481280324108,
          0.23521091169642136,
          -1.1969858101490503,
          0.6310295007431875,
          0.13190096760114592,
          -0.20839898882731747,
          0.44877637347420823,
          0.4440570972113594,
          -0.6629807611552002,
          -0.3599818408286735,
          -0.6301631782881789,
          -1.4986905657015461,
          1.000787371158141,
          -0.3552390228243466,
          2.661219349367528,
          -1.3177836033556052,
          2.5832762748938864,
          0.5509745061883669,
          0.4529260955824585,
          0.3352218070075668,
          0.08753580770403321,
          -0.6500869447684293,
          -0.6637943908785625,
          0.17198389554492016,
          0.5178145189460188,
          0.08789442169735215,
          -0.9229128851314942,
          0.12538790860771418,
          -0.21751522072824378,
          -0.5276374844060169,
          -1.1480141930377978,
          -0.7139454373412848,
          -1.769402952512191,
          -1.4866672685840105,
          0.549542416188863,
          -1.2006159320776877,
          0.04538127264095669,
          0.9132573376845505,
          1.5507290409973893,
          0.40709486552146207,
          -1.3130947090351033,
          0.01234367165756752,
          -0.6551194330222805,
          -0.5445099357041456,
          -0.5096044224474188,
          -2.073664096466441,
          1.5507004576413281,
          0.13860628599479177,
          0.7187881982441798,
          1.1347831582725276,
          -0.1360791029180377,
          -0.04882205666420648,
          1.5449579618847205,
          0.25061951511628144,
          0.8654922425298819,
          0.510758417490925,
          -1.030924834909416,
          -1.4654292203409918,
          0.5696095366476174,
          1.4810513651346715,
          -0.34499008093872285,
          0.3577009446889585,
          -1.014601618657675,
          -0.7113563708441443,
          -1.1255334203112146,
          1.3268411912846392,
          0.12057782308625307,
          2.6352253664616567,
          0.26784651624134276,
          1.6509851179104613,
          -0.1731164108988731,
          -1.4469851029051934,
          0.355005154872157
         ],
         "xaxis": "x15",
         "y": [
          2.3898894927962258,
          -1.346185523310272,
          0.3926995477438022,
          -0.9599794920199762,
          2.145635862755704,
          0.19736932534681206,
          -0.016375879615479184,
          -0.5516553241472079,
          -0.19462394604008174,
          0.22516639879515654,
          -0.6676210246404063,
          0.42788569839835194,
          1.3961280369446534,
          1.2866373916759943,
          -0.07213962520428917,
          -0.224692107540565,
          0.08447571575585101,
          -0.4735521062853545,
          -0.5006714138007546,
          0.09100550312739152,
          0.46523334595572224,
          -1.83597908105119,
          -0.23389175808981608,
          -0.24385510409093322,
          -0.5911582767843231,
          -0.17068709130318022,
          -1.0687134676884893,
          0.038160659311079516,
          -1.4079380545672868,
          -1.815661259368501,
          -1.9886988873045035,
          0.47817133914898086,
          -0.5060345008623578,
          0.018883131631049124,
          -0.47962615890571564,
          0.6543138485575909,
          0.9031758088280951,
          0.547296167700335,
          1.2142993116092677,
          1.3889107281381117,
          -1.598570285757914,
          0.9278025225906082,
          0.5762031316364931,
          0.48363222487107577,
          -0.022749947354769297,
          -0.4658863161523873,
          1.626458234784676,
          -0.6776723699907173,
          0.26817200596668717,
          -0.435498668104195,
          0.7256894610052155,
          0.30887988732519234,
          0.9999726656830086,
          -0.4701219452261383,
          -0.7231044293670219,
          -1.1060357904552007,
          1.1876400307689436,
          1.1415469229047646,
          -0.19179028453130345,
          -0.5952721688987325,
          0.7003471207643943,
          -0.3093578682861099,
          -0.4194885044676614,
          -0.39974442856055636,
          0.07429196791584,
          0.4784857663946633,
          0.17033788804117667,
          -0.12564154107700404,
          0.8542227875313106,
          0.28551744139432644,
          -2.113006522544438,
          -1.1289229189161551,
          1.433883574901709,
          0.49204633008406096,
          -0.2615773401728134,
          0.3678047803139401,
          -0.13816533810562942,
          0.7076093131591633,
          0.060782453714857715,
          -0.16142616048645417,
          -1.2486078250468484,
          1.4672401263478823,
          -0.4374543544409514,
          -1.2380329371712746,
          -0.0516466126595105,
          0.8742873856600251,
          0.8685308786968833,
          -1.952290771484409,
          -0.22574090289942178,
          -1.073072535060036,
          0.04764455556960585,
          -2.27788731185454,
          -0.610745327952362,
          -0.3706943589554563,
          -0.12473087986892124,
          -3.2418750999737975,
          0.04474842511931487,
          -1.3074630796765412,
          0.8236942120155181,
          0.4849622852831096
         ],
         "yaxis": "y15"
        },
        {
         "histfunc": "count",
         "histnorm": "",
         "marker": {
          "color": "rgba(128, 0, 128, 1.0)",
          "line": {
           "color": "#4D5663",
           "width": 1.3
          }
         },
         "name": "D",
         "nbinsx": 10,
         "opacity": 0.8,
         "orientation": "v",
         "type": "histogram",
         "x": [
          2.3898894927962258,
          -1.346185523310272,
          0.3926995477438022,
          -0.9599794920199762,
          2.145635862755704,
          0.19736932534681206,
          -0.016375879615479184,
          -0.5516553241472079,
          -0.19462394604008174,
          0.22516639879515654,
          -0.6676210246404063,
          0.42788569839835194,
          1.3961280369446534,
          1.2866373916759943,
          -0.07213962520428917,
          -0.224692107540565,
          0.08447571575585101,
          -0.4735521062853545,
          -0.5006714138007546,
          0.09100550312739152,
          0.46523334595572224,
          -1.83597908105119,
          -0.23389175808981608,
          -0.24385510409093322,
          -0.5911582767843231,
          -0.17068709130318022,
          -1.0687134676884893,
          0.038160659311079516,
          -1.4079380545672868,
          -1.815661259368501,
          -1.9886988873045035,
          0.47817133914898086,
          -0.5060345008623578,
          0.018883131631049124,
          -0.47962615890571564,
          0.6543138485575909,
          0.9031758088280951,
          0.547296167700335,
          1.2142993116092677,
          1.3889107281381117,
          -1.598570285757914,
          0.9278025225906082,
          0.5762031316364931,
          0.48363222487107577,
          -0.022749947354769297,
          -0.4658863161523873,
          1.626458234784676,
          -0.6776723699907173,
          0.26817200596668717,
          -0.435498668104195,
          0.7256894610052155,
          0.30887988732519234,
          0.9999726656830086,
          -0.4701219452261383,
          -0.7231044293670219,
          -1.1060357904552007,
          1.1876400307689436,
          1.1415469229047646,
          -0.19179028453130345,
          -0.5952721688987325,
          0.7003471207643943,
          -0.3093578682861099,
          -0.4194885044676614,
          -0.39974442856055636,
          0.07429196791584,
          0.4784857663946633,
          0.17033788804117667,
          -0.12564154107700404,
          0.8542227875313106,
          0.28551744139432644,
          -2.113006522544438,
          -1.1289229189161551,
          1.433883574901709,
          0.49204633008406096,
          -0.2615773401728134,
          0.3678047803139401,
          -0.13816533810562942,
          0.7076093131591633,
          0.060782453714857715,
          -0.16142616048645417,
          -1.2486078250468484,
          1.4672401263478823,
          -0.4374543544409514,
          -1.2380329371712746,
          -0.0516466126595105,
          0.8742873856600251,
          0.8685308786968833,
          -1.952290771484409,
          -0.22574090289942178,
          -1.073072535060036,
          0.04764455556960585,
          -2.27788731185454,
          -0.610745327952362,
          -0.3706943589554563,
          -0.12473087986892124,
          -3.2418750999737975,
          0.04474842511931487,
          -1.3074630796765412,
          0.8236942120155181,
          0.4849622852831096
         ],
         "xaxis": "x16",
         "yaxis": "y16"
        }
       ],
       "layout": {
        "bargap": 0.02,
        "legend": {
         "bgcolor": "#F5F6F9",
         "font": {
          "color": "#4D5663"
         }
        },
        "paper_bgcolor": "#F5F6F9",
        "plot_bgcolor": "#F5F6F9",
        "showlegend": false,
        "template": {
         "data": {
          "bar": [
           {
            "error_x": {
             "color": "#2a3f5f"
            },
            "error_y": {
             "color": "#2a3f5f"
            },
            "marker": {
             "line": {
              "color": "#E5ECF6",
              "width": 0.5
             },
             "pattern": {
              "fillmode": "overlay",
              "size": 10,
              "solidity": 0.2
             }
            },
            "type": "bar"
           }
          ],
          "barpolar": [
           {
            "marker": {
             "line": {
              "color": "#E5ECF6",
              "width": 0.5
             },
             "pattern": {
              "fillmode": "overlay",
              "size": 10,
              "solidity": 0.2
             }
            },
            "type": "barpolar"
           }
          ],
          "carpet": [
           {
            "aaxis": {
             "endlinecolor": "#2a3f5f",
             "gridcolor": "white",
             "linecolor": "white",
             "minorgridcolor": "white",
             "startlinecolor": "#2a3f5f"
            },
            "baxis": {
             "endlinecolor": "#2a3f5f",
             "gridcolor": "white",
             "linecolor": "white",
             "minorgridcolor": "white",
             "startlinecolor": "#2a3f5f"
            },
            "type": "carpet"
           }
          ],
          "choropleth": [
           {
            "colorbar": {
             "outlinewidth": 0,
             "ticks": ""
            },
            "type": "choropleth"
           }
          ],
          "contour": [
           {
            "colorbar": {
             "outlinewidth": 0,
             "ticks": ""
            },
            "colorscale": [
             [
              0,
              "#0d0887"
             ],
             [
              0.1111111111111111,
              "#46039f"
             ],
             [
              0.2222222222222222,
              "#7201a8"
             ],
             [
              0.3333333333333333,
              "#9c179e"
             ],
             [
              0.4444444444444444,
              "#bd3786"
             ],
             [
              0.5555555555555556,
              "#d8576b"
             ],
             [
              0.6666666666666666,
              "#ed7953"
             ],
             [
              0.7777777777777778,
              "#fb9f3a"
             ],
             [
              0.8888888888888888,
              "#fdca26"
             ],
             [
              1,
              "#f0f921"
             ]
            ],
            "type": "contour"
           }
          ],
          "contourcarpet": [
           {
            "colorbar": {
             "outlinewidth": 0,
             "ticks": ""
            },
            "type": "contourcarpet"
           }
          ],
          "heatmap": [
           {
            "colorbar": {
             "outlinewidth": 0,
             "ticks": ""
            },
            "colorscale": [
             [
              0,
              "#0d0887"
             ],
             [
              0.1111111111111111,
              "#46039f"
             ],
             [
              0.2222222222222222,
              "#7201a8"
             ],
             [
              0.3333333333333333,
              "#9c179e"
             ],
             [
              0.4444444444444444,
              "#bd3786"
             ],
             [
              0.5555555555555556,
              "#d8576b"
             ],
             [
              0.6666666666666666,
              "#ed7953"
             ],
             [
              0.7777777777777778,
              "#fb9f3a"
             ],
             [
              0.8888888888888888,
              "#fdca26"
             ],
             [
              1,
              "#f0f921"
             ]
            ],
            "type": "heatmap"
           }
          ],
          "heatmapgl": [
           {
            "colorbar": {
             "outlinewidth": 0,
             "ticks": ""
            },
            "colorscale": [
             [
              0,
              "#0d0887"
             ],
             [
              0.1111111111111111,
              "#46039f"
             ],
             [
              0.2222222222222222,
              "#7201a8"
             ],
             [
              0.3333333333333333,
              "#9c179e"
             ],
             [
              0.4444444444444444,
              "#bd3786"
             ],
             [
              0.5555555555555556,
              "#d8576b"
             ],
             [
              0.6666666666666666,
              "#ed7953"
             ],
             [
              0.7777777777777778,
              "#fb9f3a"
             ],
             [
              0.8888888888888888,
              "#fdca26"
             ],
             [
              1,
              "#f0f921"
             ]
            ],
            "type": "heatmapgl"
           }
          ],
          "histogram": [
           {
            "marker": {
             "pattern": {
              "fillmode": "overlay",
              "size": 10,
              "solidity": 0.2
             }
            },
            "type": "histogram"
           }
          ],
          "histogram2d": [
           {
            "colorbar": {
             "outlinewidth": 0,
             "ticks": ""
            },
            "colorscale": [
             [
              0,
              "#0d0887"
             ],
             [
              0.1111111111111111,
              "#46039f"
             ],
             [
              0.2222222222222222,
              "#7201a8"
             ],
             [
              0.3333333333333333,
              "#9c179e"
             ],
             [
              0.4444444444444444,
              "#bd3786"
             ],
             [
              0.5555555555555556,
              "#d8576b"
             ],
             [
              0.6666666666666666,
              "#ed7953"
             ],
             [
              0.7777777777777778,
              "#fb9f3a"
             ],
             [
              0.8888888888888888,
              "#fdca26"
             ],
             [
              1,
              "#f0f921"
             ]
            ],
            "type": "histogram2d"
           }
          ],
          "histogram2dcontour": [
           {
            "colorbar": {
             "outlinewidth": 0,
             "ticks": ""
            },
            "colorscale": [
             [
              0,
              "#0d0887"
             ],
             [
              0.1111111111111111,
              "#46039f"
             ],
             [
              0.2222222222222222,
              "#7201a8"
             ],
             [
              0.3333333333333333,
              "#9c179e"
             ],
             [
              0.4444444444444444,
              "#bd3786"
             ],
             [
              0.5555555555555556,
              "#d8576b"
             ],
             [
              0.6666666666666666,
              "#ed7953"
             ],
             [
              0.7777777777777778,
              "#fb9f3a"
             ],
             [
              0.8888888888888888,
              "#fdca26"
             ],
             [
              1,
              "#f0f921"
             ]
            ],
            "type": "histogram2dcontour"
           }
          ],
          "mesh3d": [
           {
            "colorbar": {
             "outlinewidth": 0,
             "ticks": ""
            },
            "type": "mesh3d"
           }
          ],
          "parcoords": [
           {
            "line": {
             "colorbar": {
              "outlinewidth": 0,
              "ticks": ""
             }
            },
            "type": "parcoords"
           }
          ],
          "pie": [
           {
            "automargin": true,
            "type": "pie"
           }
          ],
          "scatter": [
           {
            "fillpattern": {
             "fillmode": "overlay",
             "size": 10,
             "solidity": 0.2
            },
            "type": "scatter"
           }
          ],
          "scatter3d": [
           {
            "line": {
             "colorbar": {
              "outlinewidth": 0,
              "ticks": ""
             }
            },
            "marker": {
             "colorbar": {
              "outlinewidth": 0,
              "ticks": ""
             }
            },
            "type": "scatter3d"
           }
          ],
          "scattercarpet": [
           {
            "marker": {
             "colorbar": {
              "outlinewidth": 0,
              "ticks": ""
             }
            },
            "type": "scattercarpet"
           }
          ],
          "scattergeo": [
           {
            "marker": {
             "colorbar": {
              "outlinewidth": 0,
              "ticks": ""
             }
            },
            "type": "scattergeo"
           }
          ],
          "scattergl": [
           {
            "marker": {
             "colorbar": {
              "outlinewidth": 0,
              "ticks": ""
             }
            },
            "type": "scattergl"
           }
          ],
          "scattermapbox": [
           {
            "marker": {
             "colorbar": {
              "outlinewidth": 0,
              "ticks": ""
             }
            },
            "type": "scattermapbox"
           }
          ],
          "scatterpolar": [
           {
            "marker": {
             "colorbar": {
              "outlinewidth": 0,
              "ticks": ""
             }
            },
            "type": "scatterpolar"
           }
          ],
          "scatterpolargl": [
           {
            "marker": {
             "colorbar": {
              "outlinewidth": 0,
              "ticks": ""
             }
            },
            "type": "scatterpolargl"
           }
          ],
          "scatterternary": [
           {
            "marker": {
             "colorbar": {
              "outlinewidth": 0,
              "ticks": ""
             }
            },
            "type": "scatterternary"
           }
          ],
          "surface": [
           {
            "colorbar": {
             "outlinewidth": 0,
             "ticks": ""
            },
            "colorscale": [
             [
              0,
              "#0d0887"
             ],
             [
              0.1111111111111111,
              "#46039f"
             ],
             [
              0.2222222222222222,
              "#7201a8"
             ],
             [
              0.3333333333333333,
              "#9c179e"
             ],
             [
              0.4444444444444444,
              "#bd3786"
             ],
             [
              0.5555555555555556,
              "#d8576b"
             ],
             [
              0.6666666666666666,
              "#ed7953"
             ],
             [
              0.7777777777777778,
              "#fb9f3a"
             ],
             [
              0.8888888888888888,
              "#fdca26"
             ],
             [
              1,
              "#f0f921"
             ]
            ],
            "type": "surface"
           }
          ],
          "table": [
           {
            "cells": {
             "fill": {
              "color": "#EBF0F8"
             },
             "line": {
              "color": "white"
             }
            },
            "header": {
             "fill": {
              "color": "#C8D4E3"
             },
             "line": {
              "color": "white"
             }
            },
            "type": "table"
           }
          ]
         },
         "layout": {
          "annotationdefaults": {
           "arrowcolor": "#2a3f5f",
           "arrowhead": 0,
           "arrowwidth": 1
          },
          "autotypenumbers": "strict",
          "coloraxis": {
           "colorbar": {
            "outlinewidth": 0,
            "ticks": ""
           }
          },
          "colorscale": {
           "diverging": [
            [
             0,
             "#8e0152"
            ],
            [
             0.1,
             "#c51b7d"
            ],
            [
             0.2,
             "#de77ae"
            ],
            [
             0.3,
             "#f1b6da"
            ],
            [
             0.4,
             "#fde0ef"
            ],
            [
             0.5,
             "#f7f7f7"
            ],
            [
             0.6,
             "#e6f5d0"
            ],
            [
             0.7,
             "#b8e186"
            ],
            [
             0.8,
             "#7fbc41"
            ],
            [
             0.9,
             "#4d9221"
            ],
            [
             1,
             "#276419"
            ]
           ],
           "sequential": [
            [
             0,
             "#0d0887"
            ],
            [
             0.1111111111111111,
             "#46039f"
            ],
            [
             0.2222222222222222,
             "#7201a8"
            ],
            [
             0.3333333333333333,
             "#9c179e"
            ],
            [
             0.4444444444444444,
             "#bd3786"
            ],
            [
             0.5555555555555556,
             "#d8576b"
            ],
            [
             0.6666666666666666,
             "#ed7953"
            ],
            [
             0.7777777777777778,
             "#fb9f3a"
            ],
            [
             0.8888888888888888,
             "#fdca26"
            ],
            [
             1,
             "#f0f921"
            ]
           ],
           "sequentialminus": [
            [
             0,
             "#0d0887"
            ],
            [
             0.1111111111111111,
             "#46039f"
            ],
            [
             0.2222222222222222,
             "#7201a8"
            ],
            [
             0.3333333333333333,
             "#9c179e"
            ],
            [
             0.4444444444444444,
             "#bd3786"
            ],
            [
             0.5555555555555556,
             "#d8576b"
            ],
            [
             0.6666666666666666,
             "#ed7953"
            ],
            [
             0.7777777777777778,
             "#fb9f3a"
            ],
            [
             0.8888888888888888,
             "#fdca26"
            ],
            [
             1,
             "#f0f921"
            ]
           ]
          },
          "colorway": [
           "#636efa",
           "#EF553B",
           "#00cc96",
           "#ab63fa",
           "#FFA15A",
           "#19d3f3",
           "#FF6692",
           "#B6E880",
           "#FF97FF",
           "#FECB52"
          ],
          "font": {
           "color": "#2a3f5f"
          },
          "geo": {
           "bgcolor": "white",
           "lakecolor": "white",
           "landcolor": "#E5ECF6",
           "showlakes": true,
           "showland": true,
           "subunitcolor": "white"
          },
          "hoverlabel": {
           "align": "left"
          },
          "hovermode": "closest",
          "mapbox": {
           "style": "light"
          },
          "paper_bgcolor": "white",
          "plot_bgcolor": "#E5ECF6",
          "polar": {
           "angularaxis": {
            "gridcolor": "white",
            "linecolor": "white",
            "ticks": ""
           },
           "bgcolor": "#E5ECF6",
           "radialaxis": {
            "gridcolor": "white",
            "linecolor": "white",
            "ticks": ""
           }
          },
          "scene": {
           "xaxis": {
            "backgroundcolor": "#E5ECF6",
            "gridcolor": "white",
            "gridwidth": 2,
            "linecolor": "white",
            "showbackground": true,
            "ticks": "",
            "zerolinecolor": "white"
           },
           "yaxis": {
            "backgroundcolor": "#E5ECF6",
            "gridcolor": "white",
            "gridwidth": 2,
            "linecolor": "white",
            "showbackground": true,
            "ticks": "",
            "zerolinecolor": "white"
           },
           "zaxis": {
            "backgroundcolor": "#E5ECF6",
            "gridcolor": "white",
            "gridwidth": 2,
            "linecolor": "white",
            "showbackground": true,
            "ticks": "",
            "zerolinecolor": "white"
           }
          },
          "shapedefaults": {
           "line": {
            "color": "#2a3f5f"
           }
          },
          "ternary": {
           "aaxis": {
            "gridcolor": "white",
            "linecolor": "white",
            "ticks": ""
           },
           "baxis": {
            "gridcolor": "white",
            "linecolor": "white",
            "ticks": ""
           },
           "bgcolor": "#E5ECF6",
           "caxis": {
            "gridcolor": "white",
            "linecolor": "white",
            "ticks": ""
           }
          },
          "title": {
           "x": 0.05
          },
          "xaxis": {
           "automargin": true,
           "gridcolor": "white",
           "linecolor": "white",
           "ticks": "",
           "title": {
            "standoff": 15
           },
           "zerolinecolor": "white",
           "zerolinewidth": 2
          },
          "yaxis": {
           "automargin": true,
           "gridcolor": "white",
           "linecolor": "white",
           "ticks": "",
           "title": {
            "standoff": 15
           },
           "zerolinecolor": "white",
           "zerolinewidth": 2
          }
         }
        },
        "title": {
         "font": {
          "color": "#4D5663"
         }
        },
        "xaxis": {
         "anchor": "y",
         "domain": [
          0,
          0.2125
         ],
         "gridcolor": "#E1E5ED",
         "showgrid": false,
         "tickfont": {
          "color": "#4D5663"
         },
         "title": {
          "font": {
           "color": "#4D5663"
          },
          "text": ""
         },
         "zerolinecolor": "#E1E5ED"
        },
        "xaxis10": {
         "anchor": "y10",
         "domain": [
          0.2625,
          0.475
         ],
         "gridcolor": "#E1E5ED",
         "showgrid": false,
         "tickfont": {
          "color": "#4D5663"
         },
         "title": {
          "font": {
           "color": "#4D5663"
          },
          "text": ""
         },
         "zerolinecolor": "#E1E5ED"
        },
        "xaxis11": {
         "anchor": "y11",
         "domain": [
          0.525,
          0.7375
         ],
         "gridcolor": "#E1E5ED",
         "showgrid": false,
         "tickfont": {
          "color": "#4D5663"
         },
         "title": {
          "font": {
           "color": "#4D5663"
          },
          "text": ""
         },
         "zerolinecolor": "#E1E5ED"
        },
        "xaxis12": {
         "anchor": "y12",
         "domain": [
          0.7875,
          1
         ],
         "gridcolor": "#E1E5ED",
         "showgrid": false,
         "tickfont": {
          "color": "#4D5663"
         },
         "title": {
          "font": {
           "color": "#4D5663"
          },
          "text": ""
         },
         "zerolinecolor": "#E1E5ED"
        },
        "xaxis13": {
         "anchor": "y13",
         "domain": [
          0,
          0.2125
         ],
         "gridcolor": "#E1E5ED",
         "showgrid": false,
         "tickfont": {
          "color": "#4D5663"
         },
         "title": {
          "font": {
           "color": "#4D5663"
          },
          "text": ""
         },
         "zerolinecolor": "#E1E5ED"
        },
        "xaxis14": {
         "anchor": "y14",
         "domain": [
          0.2625,
          0.475
         ],
         "gridcolor": "#E1E5ED",
         "showgrid": false,
         "tickfont": {
          "color": "#4D5663"
         },
         "title": {
          "font": {
           "color": "#4D5663"
          },
          "text": ""
         },
         "zerolinecolor": "#E1E5ED"
        },
        "xaxis15": {
         "anchor": "y15",
         "domain": [
          0.525,
          0.7375
         ],
         "gridcolor": "#E1E5ED",
         "showgrid": false,
         "tickfont": {
          "color": "#4D5663"
         },
         "title": {
          "font": {
           "color": "#4D5663"
          },
          "text": ""
         },
         "zerolinecolor": "#E1E5ED"
        },
        "xaxis16": {
         "anchor": "y16",
         "domain": [
          0.7875,
          1
         ],
         "gridcolor": "#E1E5ED",
         "showgrid": false,
         "tickfont": {
          "color": "#4D5663"
         },
         "title": {
          "font": {
           "color": "#4D5663"
          },
          "text": ""
         },
         "zerolinecolor": "#E1E5ED"
        },
        "xaxis2": {
         "anchor": "y2",
         "domain": [
          0.2625,
          0.475
         ],
         "gridcolor": "#E1E5ED",
         "showgrid": false,
         "tickfont": {
          "color": "#4D5663"
         },
         "title": {
          "font": {
           "color": "#4D5663"
          },
          "text": ""
         },
         "zerolinecolor": "#E1E5ED"
        },
        "xaxis3": {
         "anchor": "y3",
         "domain": [
          0.525,
          0.7375
         ],
         "gridcolor": "#E1E5ED",
         "showgrid": false,
         "tickfont": {
          "color": "#4D5663"
         },
         "title": {
          "font": {
           "color": "#4D5663"
          },
          "text": ""
         },
         "zerolinecolor": "#E1E5ED"
        },
        "xaxis4": {
         "anchor": "y4",
         "domain": [
          0.7875,
          1
         ],
         "gridcolor": "#E1E5ED",
         "showgrid": false,
         "tickfont": {
          "color": "#4D5663"
         },
         "title": {
          "font": {
           "color": "#4D5663"
          },
          "text": ""
         },
         "zerolinecolor": "#E1E5ED"
        },
        "xaxis5": {
         "anchor": "y5",
         "domain": [
          0,
          0.2125
         ],
         "gridcolor": "#E1E5ED",
         "showgrid": false,
         "tickfont": {
          "color": "#4D5663"
         },
         "title": {
          "font": {
           "color": "#4D5663"
          },
          "text": ""
         },
         "zerolinecolor": "#E1E5ED"
        },
        "xaxis6": {
         "anchor": "y6",
         "domain": [
          0.2625,
          0.475
         ],
         "gridcolor": "#E1E5ED",
         "showgrid": false,
         "tickfont": {
          "color": "#4D5663"
         },
         "title": {
          "font": {
           "color": "#4D5663"
          },
          "text": ""
         },
         "zerolinecolor": "#E1E5ED"
        },
        "xaxis7": {
         "anchor": "y7",
         "domain": [
          0.525,
          0.7375
         ],
         "gridcolor": "#E1E5ED",
         "showgrid": false,
         "tickfont": {
          "color": "#4D5663"
         },
         "title": {
          "font": {
           "color": "#4D5663"
          },
          "text": ""
         },
         "zerolinecolor": "#E1E5ED"
        },
        "xaxis8": {
         "anchor": "y8",
         "domain": [
          0.7875,
          1
         ],
         "gridcolor": "#E1E5ED",
         "showgrid": false,
         "tickfont": {
          "color": "#4D5663"
         },
         "title": {
          "font": {
           "color": "#4D5663"
          },
          "text": ""
         },
         "zerolinecolor": "#E1E5ED"
        },
        "xaxis9": {
         "anchor": "y9",
         "domain": [
          0,
          0.2125
         ],
         "gridcolor": "#E1E5ED",
         "showgrid": false,
         "tickfont": {
          "color": "#4D5663"
         },
         "title": {
          "font": {
           "color": "#4D5663"
          },
          "text": ""
         },
         "zerolinecolor": "#E1E5ED"
        },
        "yaxis": {
         "anchor": "x",
         "domain": [
          0.8025,
          1
         ],
         "gridcolor": "#E1E5ED",
         "showgrid": false,
         "tickfont": {
          "color": "#4D5663"
         },
         "title": {
          "font": {
           "color": "#4D5663"
          },
          "text": ""
         },
         "zerolinecolor": "#E1E5ED"
        },
        "yaxis10": {
         "anchor": "x10",
         "domain": [
          0.2675,
          0.465
         ],
         "gridcolor": "#E1E5ED",
         "showgrid": false,
         "tickfont": {
          "color": "#4D5663"
         },
         "title": {
          "font": {
           "color": "#4D5663"
          },
          "text": ""
         },
         "zerolinecolor": "#E1E5ED"
        },
        "yaxis11": {
         "anchor": "x11",
         "domain": [
          0.2675,
          0.465
         ],
         "gridcolor": "#E1E5ED",
         "showgrid": false,
         "tickfont": {
          "color": "#4D5663"
         },
         "title": {
          "font": {
           "color": "#4D5663"
          },
          "text": ""
         },
         "zerolinecolor": "#E1E5ED"
        },
        "yaxis12": {
         "anchor": "x12",
         "domain": [
          0.2675,
          0.465
         ],
         "gridcolor": "#E1E5ED",
         "showgrid": false,
         "tickfont": {
          "color": "#4D5663"
         },
         "title": {
          "font": {
           "color": "#4D5663"
          },
          "text": ""
         },
         "zerolinecolor": "#E1E5ED"
        },
        "yaxis13": {
         "anchor": "x13",
         "domain": [
          0,
          0.1975
         ],
         "gridcolor": "#E1E5ED",
         "showgrid": false,
         "tickfont": {
          "color": "#4D5663"
         },
         "title": {
          "font": {
           "color": "#4D5663"
          },
          "text": ""
         },
         "zerolinecolor": "#E1E5ED"
        },
        "yaxis14": {
         "anchor": "x14",
         "domain": [
          0,
          0.1975
         ],
         "gridcolor": "#E1E5ED",
         "showgrid": false,
         "tickfont": {
          "color": "#4D5663"
         },
         "title": {
          "font": {
           "color": "#4D5663"
          },
          "text": ""
         },
         "zerolinecolor": "#E1E5ED"
        },
        "yaxis15": {
         "anchor": "x15",
         "domain": [
          0,
          0.1975
         ],
         "gridcolor": "#E1E5ED",
         "showgrid": false,
         "tickfont": {
          "color": "#4D5663"
         },
         "title": {
          "font": {
           "color": "#4D5663"
          },
          "text": ""
         },
         "zerolinecolor": "#E1E5ED"
        },
        "yaxis16": {
         "anchor": "x16",
         "domain": [
          0,
          0.1975
         ],
         "gridcolor": "#E1E5ED",
         "showgrid": false,
         "tickfont": {
          "color": "#4D5663"
         },
         "title": {
          "font": {
           "color": "#4D5663"
          },
          "text": ""
         },
         "zerolinecolor": "#E1E5ED"
        },
        "yaxis2": {
         "anchor": "x2",
         "domain": [
          0.8025,
          1
         ],
         "gridcolor": "#E1E5ED",
         "showgrid": false,
         "tickfont": {
          "color": "#4D5663"
         },
         "title": {
          "font": {
           "color": "#4D5663"
          },
          "text": ""
         },
         "zerolinecolor": "#E1E5ED"
        },
        "yaxis3": {
         "anchor": "x3",
         "domain": [
          0.8025,
          1
         ],
         "gridcolor": "#E1E5ED",
         "showgrid": false,
         "tickfont": {
          "color": "#4D5663"
         },
         "title": {
          "font": {
           "color": "#4D5663"
          },
          "text": ""
         },
         "zerolinecolor": "#E1E5ED"
        },
        "yaxis4": {
         "anchor": "x4",
         "domain": [
          0.8025,
          1
         ],
         "gridcolor": "#E1E5ED",
         "showgrid": false,
         "tickfont": {
          "color": "#4D5663"
         },
         "title": {
          "font": {
           "color": "#4D5663"
          },
          "text": ""
         },
         "zerolinecolor": "#E1E5ED"
        },
        "yaxis5": {
         "anchor": "x5",
         "domain": [
          0.535,
          0.7325
         ],
         "gridcolor": "#E1E5ED",
         "showgrid": false,
         "tickfont": {
          "color": "#4D5663"
         },
         "title": {
          "font": {
           "color": "#4D5663"
          },
          "text": ""
         },
         "zerolinecolor": "#E1E5ED"
        },
        "yaxis6": {
         "anchor": "x6",
         "domain": [
          0.535,
          0.7325
         ],
         "gridcolor": "#E1E5ED",
         "showgrid": false,
         "tickfont": {
          "color": "#4D5663"
         },
         "title": {
          "font": {
           "color": "#4D5663"
          },
          "text": ""
         },
         "zerolinecolor": "#E1E5ED"
        },
        "yaxis7": {
         "anchor": "x7",
         "domain": [
          0.535,
          0.7325
         ],
         "gridcolor": "#E1E5ED",
         "showgrid": false,
         "tickfont": {
          "color": "#4D5663"
         },
         "title": {
          "font": {
           "color": "#4D5663"
          },
          "text": ""
         },
         "zerolinecolor": "#E1E5ED"
        },
        "yaxis8": {
         "anchor": "x8",
         "domain": [
          0.535,
          0.7325
         ],
         "gridcolor": "#E1E5ED",
         "showgrid": false,
         "tickfont": {
          "color": "#4D5663"
         },
         "title": {
          "font": {
           "color": "#4D5663"
          },
          "text": ""
         },
         "zerolinecolor": "#E1E5ED"
        },
        "yaxis9": {
         "anchor": "x9",
         "domain": [
          0.2675,
          0.465
         ],
         "gridcolor": "#E1E5ED",
         "showgrid": false,
         "tickfont": {
          "color": "#4D5663"
         },
         "title": {
          "font": {
           "color": "#4D5663"
          },
          "text": ""
         },
         "zerolinecolor": "#E1E5ED"
        }
       }
      },
      "text/html": [
       "<div>                            <div id=\"da501f00-84e3-41b6-8ef9-7cdf0d47c92f\" class=\"plotly-graph-div\" style=\"height:525px; width:100%;\"></div>            <script type=\"text/javascript\">                require([\"plotly\"], function(Plotly) {                    window.PLOTLYENV=window.PLOTLYENV || {};\n",
       "                    window.PLOTLYENV.BASE_URL='https://plot.ly';                                    if (document.getElementById(\"da501f00-84e3-41b6-8ef9-7cdf0d47c92f\")) {                    Plotly.newPlot(                        \"da501f00-84e3-41b6-8ef9-7cdf0d47c92f\",                        [{\"histfunc\":\"count\",\"histnorm\":\"\",\"marker\":{\"color\":\"rgba(255, 153, 51, 1.0)\",\"line\":{\"color\":\"#4D5663\",\"width\":1.3}},\"name\":\"A\",\"nbinsx\":10,\"opacity\":0.8,\"orientation\":\"v\",\"x\":[-0.6107347761616178,0.4201614153496461,-0.29605152886844865,-0.603856601378769,-0.34992557814699554,0.5068350913538099,1.4993263879906027,-2.334241991002616,-0.756289536182581,0.029039928572972565,-0.06418705977340332,0.9316899277347028,0.6315071913942684,-0.8448886098897598,0.17075138231478665,-0.46156067536114953,0.7665613566497056,-0.4836983678082965,0.16642518180746108,1.4564782581774924,0.9606524678241097,0.8542978329522262,-0.675314325805229,0.195511600271729,-1.7488760698587718,0.7124539851075085,2.0468217852064288,1.6248644217502146,-0.5286160896870696,-1.6561743116422956,1.0753782176872302,-0.4697669545323898,-0.009018585905509479,-0.541569847684211,1.6913214206556852,-1.788246523479366,0.522833167186685,-0.9934573505043022,1.6399751744524727,0.3374694500440057,-2.193678870035607,-1.017633199473239,0.3679345306105512,-1.3036150063236591,0.7462578429627574,-0.506156177257477,1.7176523623457138,1.7793863386202,0.07923784823916726,1.6723340011782664,0.026694156864108736,0.4857432640720413,-1.4103267776792288,-1.1830495094733648,-0.1792308752387724,-0.22071995812812675,-1.3270964256209172,-0.43120218142331274,-0.6256456712456581,-0.29497815162776525,1.467718648245481,-0.9304178622442733,-0.11510147301732727,-0.3767284928261818,0.478108904510788,3.7525358111818345,-0.03242175767615414,-0.3640156611750831,0.018466623262912058,-0.2434299789991597,-0.11500724514530727,-2.0214049601657518,0.690130295394509,0.2532383016783365,1.5331578664393732,-0.8853998372881371,-1.4352841075731064,0.2598125345509629,0.5956194819973099,0.22788031283148957,-0.13797830670137154,-1.4183777937548996,-0.07232292085057175,1.156608410254206,0.7622513100528217,-1.906380748783229,0.7045019662098876,3.1287391387449923,0.12687249379699703,0.10233161108321426,-0.793703598152564,0.5962107888831366,-0.5230777107716984,-1.4983543424046748,-1.474001813667417,1.1806612185186167,-0.9268646615012716,0.03494592384986443,0.936911761668089,-1.5336897066452815],\"xaxis\":\"x\",\"yaxis\":\"y\",\"type\":\"histogram\"},{\"line\":{\"color\":\"rgba(128, 128, 128, 1.0)\",\"dash\":\"solid\",\"shape\":\"linear\",\"width\":1.3},\"marker\":{\"size\":2,\"symbol\":\"circle\"},\"mode\":\"markers\",\"name\":\"A\",\"text\":\"\",\"x\":[-0.7515845289098267,-1.3501185693636415,0.16077795108916015,1.0972421667024326,-1.5551617340524697,0.36473435593692705,-1.0305068105461639,-1.1324253826988833,-0.6873504943516671,0.1069282354870738,-1.695536516849996,0.2425816618019362,1.2687297380945173,0.020225855520632312,0.2892120761545208,0.1297778773904678,-0.7374435068199338,-1.4400098572821194,0.0032000310074377443,2.3156191209106116,-2.104552277645811,-0.22379452958198373,0.9883500188308598,1.3851046302259347,-1.0928793648108472,0.2912452071491476,-0.4106886803289102,-0.7209245389511091,-0.07317020772918818,0.2694790571470932,1.375091364288301,-0.23046375294234592,-0.05784828915091585,-0.4026832249574582,1.3880505778741024,1.0770560109162644,-1.6785547624603565,0.8704258254204967,1.2192626939395739,-0.11185202419003015,-0.763588692976187,1.490195261649367,2.1775088878872806,0.7277948316579071,-0.49372189274523937,-0.2338324822911922,-0.3379344582705307,0.4704751985297546,-0.7631725910562722,-1.305388313612196,0.19336190533982603,0.7328086527251998,0.7706362653881076,-1.2925763526257745,-0.8104937348956527,-0.5563194360896363,-1.972197874409348,-0.1932211683793346,0.24658648621738297,-0.27580446480575443,-0.04910140696994737,0.902700698539591,-0.06394334025850491,0.044784293824225885,0.6038793255782594,1.1287050189302426,-0.5778578018120689,-0.10347513287249659,1.5211159073742107,-0.9286680897045665,-0.24014144423313558,2.478875929720434,-1.7514335396591265,0.19996871943196137,0.6321232809455622,1.9589895318338868,-0.8238855966095642,0.12473054236890199,1.7645917749679907,-0.6231437672773471,-1.1610423310897395,-1.9156473976700872,-1.6126019221487324,1.7382721048015093,0.05761002640626352,3.1060553929808754,1.2978766991775879,2.379727283652175,-0.38706280385902053,-0.14276694931792414,0.9865472939839993,-0.658203460481953,-0.6939476238479197,0.4663609204522567,-0.9611668389082888,-0.3286381457693652,-0.47002996096212685,-0.09953330550484732,-0.5157759703517617,0.17564907964270188],\"xaxis\":\"x2\",\"y\":[-0.6107347761616178,0.4201614153496461,-0.29605152886844865,-0.603856601378769,-0.34992557814699554,0.5068350913538099,1.4993263879906027,-2.334241991002616,-0.756289536182581,0.029039928572972565,-0.06418705977340332,0.9316899277347028,0.6315071913942684,-0.8448886098897598,0.17075138231478665,-0.46156067536114953,0.7665613566497056,-0.4836983678082965,0.16642518180746108,1.4564782581774924,0.9606524678241097,0.8542978329522262,-0.675314325805229,0.195511600271729,-1.7488760698587718,0.7124539851075085,2.0468217852064288,1.6248644217502146,-0.5286160896870696,-1.6561743116422956,1.0753782176872302,-0.4697669545323898,-0.009018585905509479,-0.541569847684211,1.6913214206556852,-1.788246523479366,0.522833167186685,-0.9934573505043022,1.6399751744524727,0.3374694500440057,-2.193678870035607,-1.017633199473239,0.3679345306105512,-1.3036150063236591,0.7462578429627574,-0.506156177257477,1.7176523623457138,1.7793863386202,0.07923784823916726,1.6723340011782664,0.026694156864108736,0.4857432640720413,-1.4103267776792288,-1.1830495094733648,-0.1792308752387724,-0.22071995812812675,-1.3270964256209172,-0.43120218142331274,-0.6256456712456581,-0.29497815162776525,1.467718648245481,-0.9304178622442733,-0.11510147301732727,-0.3767284928261818,0.478108904510788,3.7525358111818345,-0.03242175767615414,-0.3640156611750831,0.018466623262912058,-0.2434299789991597,-0.11500724514530727,-2.0214049601657518,0.690130295394509,0.2532383016783365,1.5331578664393732,-0.8853998372881371,-1.4352841075731064,0.2598125345509629,0.5956194819973099,0.22788031283148957,-0.13797830670137154,-1.4183777937548996,-0.07232292085057175,1.156608410254206,0.7622513100528217,-1.906380748783229,0.7045019662098876,3.1287391387449923,0.12687249379699703,0.10233161108321426,-0.793703598152564,0.5962107888831366,-0.5230777107716984,-1.4983543424046748,-1.474001813667417,1.1806612185186167,-0.9268646615012716,0.03494592384986443,0.936911761668089,-1.5336897066452815],\"yaxis\":\"y2\",\"type\":\"scatter\"},{\"line\":{\"color\":\"rgba(128, 128, 128, 1.0)\",\"dash\":\"solid\",\"shape\":\"linear\",\"width\":1.3},\"marker\":{\"size\":2,\"symbol\":\"circle\"},\"mode\":\"markers\",\"name\":\"A\",\"text\":\"\",\"x\":[1.5101091402276365,0.15930592184746883,-0.6299520387685452,0.3795807867872899,-0.19549533178946357,1.6939992555492187,0.05863713860289682,0.031121505849155323,1.2145504382687164,0.9130385507942945,-0.10168848795949312,-0.42858764690705176,0.8122487801722668,-1.7627832646047805,-1.2061865423226135,0.4017902099314714,1.35173144399414,2.6774994781814963,-0.8109607891562296,-1.1152760578728993,-1.226851543648753,-1.6301692713880749,0.07774594059031383,0.478072187395388,-0.8253604446559677,1.1165972830006823,0.09770839807695156,-0.5630481280324108,0.23521091169642136,-1.1969858101490503,0.6310295007431875,0.13190096760114592,-0.20839898882731747,0.44877637347420823,0.4440570972113594,-0.6629807611552002,-0.3599818408286735,-0.6301631782881789,-1.4986905657015461,1.000787371158141,-0.3552390228243466,2.661219349367528,-1.3177836033556052,2.5832762748938864,0.5509745061883669,0.4529260955824585,0.3352218070075668,0.08753580770403321,-0.6500869447684293,-0.6637943908785625,0.17198389554492016,0.5178145189460188,0.08789442169735215,-0.9229128851314942,0.12538790860771418,-0.21751522072824378,-0.5276374844060169,-1.1480141930377978,-0.7139454373412848,-1.769402952512191,-1.4866672685840105,0.549542416188863,-1.2006159320776877,0.04538127264095669,0.9132573376845505,1.5507290409973893,0.40709486552146207,-1.3130947090351033,0.01234367165756752,-0.6551194330222805,-0.5445099357041456,-0.5096044224474188,-2.073664096466441,1.5507004576413281,0.13860628599479177,0.7187881982441798,1.1347831582725276,-0.1360791029180377,-0.04882205666420648,1.5449579618847205,0.25061951511628144,0.8654922425298819,0.510758417490925,-1.030924834909416,-1.4654292203409918,0.5696095366476174,1.4810513651346715,-0.34499008093872285,0.3577009446889585,-1.014601618657675,-0.7113563708441443,-1.1255334203112146,1.3268411912846392,0.12057782308625307,2.6352253664616567,0.26784651624134276,1.6509851179104613,-0.1731164108988731,-1.4469851029051934,0.355005154872157],\"xaxis\":\"x3\",\"y\":[-0.6107347761616178,0.4201614153496461,-0.29605152886844865,-0.603856601378769,-0.34992557814699554,0.5068350913538099,1.4993263879906027,-2.334241991002616,-0.756289536182581,0.029039928572972565,-0.06418705977340332,0.9316899277347028,0.6315071913942684,-0.8448886098897598,0.17075138231478665,-0.46156067536114953,0.7665613566497056,-0.4836983678082965,0.16642518180746108,1.4564782581774924,0.9606524678241097,0.8542978329522262,-0.675314325805229,0.195511600271729,-1.7488760698587718,0.7124539851075085,2.0468217852064288,1.6248644217502146,-0.5286160896870696,-1.6561743116422956,1.0753782176872302,-0.4697669545323898,-0.009018585905509479,-0.541569847684211,1.6913214206556852,-1.788246523479366,0.522833167186685,-0.9934573505043022,1.6399751744524727,0.3374694500440057,-2.193678870035607,-1.017633199473239,0.3679345306105512,-1.3036150063236591,0.7462578429627574,-0.506156177257477,1.7176523623457138,1.7793863386202,0.07923784823916726,1.6723340011782664,0.026694156864108736,0.4857432640720413,-1.4103267776792288,-1.1830495094733648,-0.1792308752387724,-0.22071995812812675,-1.3270964256209172,-0.43120218142331274,-0.6256456712456581,-0.29497815162776525,1.467718648245481,-0.9304178622442733,-0.11510147301732727,-0.3767284928261818,0.478108904510788,3.7525358111818345,-0.03242175767615414,-0.3640156611750831,0.018466623262912058,-0.2434299789991597,-0.11500724514530727,-2.0214049601657518,0.690130295394509,0.2532383016783365,1.5331578664393732,-0.8853998372881371,-1.4352841075731064,0.2598125345509629,0.5956194819973099,0.22788031283148957,-0.13797830670137154,-1.4183777937548996,-0.07232292085057175,1.156608410254206,0.7622513100528217,-1.906380748783229,0.7045019662098876,3.1287391387449923,0.12687249379699703,0.10233161108321426,-0.793703598152564,0.5962107888831366,-0.5230777107716984,-1.4983543424046748,-1.474001813667417,1.1806612185186167,-0.9268646615012716,0.03494592384986443,0.936911761668089,-1.5336897066452815],\"yaxis\":\"y3\",\"type\":\"scatter\"},{\"line\":{\"color\":\"rgba(128, 128, 128, 1.0)\",\"dash\":\"solid\",\"shape\":\"linear\",\"width\":1.3},\"marker\":{\"size\":2,\"symbol\":\"circle\"},\"mode\":\"markers\",\"name\":\"A\",\"text\":\"\",\"x\":[2.3898894927962258,-1.346185523310272,0.3926995477438022,-0.9599794920199762,2.145635862755704,0.19736932534681206,-0.016375879615479184,-0.5516553241472079,-0.19462394604008174,0.22516639879515654,-0.6676210246404063,0.42788569839835194,1.3961280369446534,1.2866373916759943,-0.07213962520428917,-0.224692107540565,0.08447571575585101,-0.4735521062853545,-0.5006714138007546,0.09100550312739152,0.46523334595572224,-1.83597908105119,-0.23389175808981608,-0.24385510409093322,-0.5911582767843231,-0.17068709130318022,-1.0687134676884893,0.038160659311079516,-1.4079380545672868,-1.815661259368501,-1.9886988873045035,0.47817133914898086,-0.5060345008623578,0.018883131631049124,-0.47962615890571564,0.6543138485575909,0.9031758088280951,0.547296167700335,1.2142993116092677,1.3889107281381117,-1.598570285757914,0.9278025225906082,0.5762031316364931,0.48363222487107577,-0.022749947354769297,-0.4658863161523873,1.626458234784676,-0.6776723699907173,0.26817200596668717,-0.435498668104195,0.7256894610052155,0.30887988732519234,0.9999726656830086,-0.4701219452261383,-0.7231044293670219,-1.1060357904552007,1.1876400307689436,1.1415469229047646,-0.19179028453130345,-0.5952721688987325,0.7003471207643943,-0.3093578682861099,-0.4194885044676614,-0.39974442856055636,0.07429196791584,0.4784857663946633,0.17033788804117667,-0.12564154107700404,0.8542227875313106,0.28551744139432644,-2.113006522544438,-1.1289229189161551,1.433883574901709,0.49204633008406096,-0.2615773401728134,0.3678047803139401,-0.13816533810562942,0.7076093131591633,0.060782453714857715,-0.16142616048645417,-1.2486078250468484,1.4672401263478823,-0.4374543544409514,-1.2380329371712746,-0.0516466126595105,0.8742873856600251,0.8685308786968833,-1.952290771484409,-0.22574090289942178,-1.073072535060036,0.04764455556960585,-2.27788731185454,-0.610745327952362,-0.3706943589554563,-0.12473087986892124,-3.2418750999737975,0.04474842511931487,-1.3074630796765412,0.8236942120155181,0.4849622852831096],\"xaxis\":\"x4\",\"y\":[-0.6107347761616178,0.4201614153496461,-0.29605152886844865,-0.603856601378769,-0.34992557814699554,0.5068350913538099,1.4993263879906027,-2.334241991002616,-0.756289536182581,0.029039928572972565,-0.06418705977340332,0.9316899277347028,0.6315071913942684,-0.8448886098897598,0.17075138231478665,-0.46156067536114953,0.7665613566497056,-0.4836983678082965,0.16642518180746108,1.4564782581774924,0.9606524678241097,0.8542978329522262,-0.675314325805229,0.195511600271729,-1.7488760698587718,0.7124539851075085,2.0468217852064288,1.6248644217502146,-0.5286160896870696,-1.6561743116422956,1.0753782176872302,-0.4697669545323898,-0.009018585905509479,-0.541569847684211,1.6913214206556852,-1.788246523479366,0.522833167186685,-0.9934573505043022,1.6399751744524727,0.3374694500440057,-2.193678870035607,-1.017633199473239,0.3679345306105512,-1.3036150063236591,0.7462578429627574,-0.506156177257477,1.7176523623457138,1.7793863386202,0.07923784823916726,1.6723340011782664,0.026694156864108736,0.4857432640720413,-1.4103267776792288,-1.1830495094733648,-0.1792308752387724,-0.22071995812812675,-1.3270964256209172,-0.43120218142331274,-0.6256456712456581,-0.29497815162776525,1.467718648245481,-0.9304178622442733,-0.11510147301732727,-0.3767284928261818,0.478108904510788,3.7525358111818345,-0.03242175767615414,-0.3640156611750831,0.018466623262912058,-0.2434299789991597,-0.11500724514530727,-2.0214049601657518,0.690130295394509,0.2532383016783365,1.5331578664393732,-0.8853998372881371,-1.4352841075731064,0.2598125345509629,0.5956194819973099,0.22788031283148957,-0.13797830670137154,-1.4183777937548996,-0.07232292085057175,1.156608410254206,0.7622513100528217,-1.906380748783229,0.7045019662098876,3.1287391387449923,0.12687249379699703,0.10233161108321426,-0.793703598152564,0.5962107888831366,-0.5230777107716984,-1.4983543424046748,-1.474001813667417,1.1806612185186167,-0.9268646615012716,0.03494592384986443,0.936911761668089,-1.5336897066452815],\"yaxis\":\"y4\",\"type\":\"scatter\"},{\"line\":{\"color\":\"rgba(128, 128, 128, 1.0)\",\"dash\":\"solid\",\"shape\":\"linear\",\"width\":1.3},\"marker\":{\"size\":2,\"symbol\":\"circle\"},\"mode\":\"markers\",\"name\":\"B\",\"text\":\"\",\"x\":[-0.6107347761616178,0.4201614153496461,-0.29605152886844865,-0.603856601378769,-0.34992557814699554,0.5068350913538099,1.4993263879906027,-2.334241991002616,-0.756289536182581,0.029039928572972565,-0.06418705977340332,0.9316899277347028,0.6315071913942684,-0.8448886098897598,0.17075138231478665,-0.46156067536114953,0.7665613566497056,-0.4836983678082965,0.16642518180746108,1.4564782581774924,0.9606524678241097,0.8542978329522262,-0.675314325805229,0.195511600271729,-1.7488760698587718,0.7124539851075085,2.0468217852064288,1.6248644217502146,-0.5286160896870696,-1.6561743116422956,1.0753782176872302,-0.4697669545323898,-0.009018585905509479,-0.541569847684211,1.6913214206556852,-1.788246523479366,0.522833167186685,-0.9934573505043022,1.6399751744524727,0.3374694500440057,-2.193678870035607,-1.017633199473239,0.3679345306105512,-1.3036150063236591,0.7462578429627574,-0.506156177257477,1.7176523623457138,1.7793863386202,0.07923784823916726,1.6723340011782664,0.026694156864108736,0.4857432640720413,-1.4103267776792288,-1.1830495094733648,-0.1792308752387724,-0.22071995812812675,-1.3270964256209172,-0.43120218142331274,-0.6256456712456581,-0.29497815162776525,1.467718648245481,-0.9304178622442733,-0.11510147301732727,-0.3767284928261818,0.478108904510788,3.7525358111818345,-0.03242175767615414,-0.3640156611750831,0.018466623262912058,-0.2434299789991597,-0.11500724514530727,-2.0214049601657518,0.690130295394509,0.2532383016783365,1.5331578664393732,-0.8853998372881371,-1.4352841075731064,0.2598125345509629,0.5956194819973099,0.22788031283148957,-0.13797830670137154,-1.4183777937548996,-0.07232292085057175,1.156608410254206,0.7622513100528217,-1.906380748783229,0.7045019662098876,3.1287391387449923,0.12687249379699703,0.10233161108321426,-0.793703598152564,0.5962107888831366,-0.5230777107716984,-1.4983543424046748,-1.474001813667417,1.1806612185186167,-0.9268646615012716,0.03494592384986443,0.936911761668089,-1.5336897066452815],\"xaxis\":\"x5\",\"y\":[-0.7515845289098267,-1.3501185693636415,0.16077795108916015,1.0972421667024326,-1.5551617340524697,0.36473435593692705,-1.0305068105461639,-1.1324253826988833,-0.6873504943516671,0.1069282354870738,-1.695536516849996,0.2425816618019362,1.2687297380945173,0.020225855520632312,0.2892120761545208,0.1297778773904678,-0.7374435068199338,-1.4400098572821194,0.0032000310074377443,2.3156191209106116,-2.104552277645811,-0.22379452958198373,0.9883500188308598,1.3851046302259347,-1.0928793648108472,0.2912452071491476,-0.4106886803289102,-0.7209245389511091,-0.07317020772918818,0.2694790571470932,1.375091364288301,-0.23046375294234592,-0.05784828915091585,-0.4026832249574582,1.3880505778741024,1.0770560109162644,-1.6785547624603565,0.8704258254204967,1.2192626939395739,-0.11185202419003015,-0.763588692976187,1.490195261649367,2.1775088878872806,0.7277948316579071,-0.49372189274523937,-0.2338324822911922,-0.3379344582705307,0.4704751985297546,-0.7631725910562722,-1.305388313612196,0.19336190533982603,0.7328086527251998,0.7706362653881076,-1.2925763526257745,-0.8104937348956527,-0.5563194360896363,-1.972197874409348,-0.1932211683793346,0.24658648621738297,-0.27580446480575443,-0.04910140696994737,0.902700698539591,-0.06394334025850491,0.044784293824225885,0.6038793255782594,1.1287050189302426,-0.5778578018120689,-0.10347513287249659,1.5211159073742107,-0.9286680897045665,-0.24014144423313558,2.478875929720434,-1.7514335396591265,0.19996871943196137,0.6321232809455622,1.9589895318338868,-0.8238855966095642,0.12473054236890199,1.7645917749679907,-0.6231437672773471,-1.1610423310897395,-1.9156473976700872,-1.6126019221487324,1.7382721048015093,0.05761002640626352,3.1060553929808754,1.2978766991775879,2.379727283652175,-0.38706280385902053,-0.14276694931792414,0.9865472939839993,-0.658203460481953,-0.6939476238479197,0.4663609204522567,-0.9611668389082888,-0.3286381457693652,-0.47002996096212685,-0.09953330550484732,-0.5157759703517617,0.17564907964270188],\"yaxis\":\"y5\",\"type\":\"scatter\"},{\"histfunc\":\"count\",\"histnorm\":\"\",\"marker\":{\"color\":\"rgba(55, 128, 191, 1.0)\",\"line\":{\"color\":\"#4D5663\",\"width\":1.3}},\"name\":\"B\",\"nbinsx\":10,\"opacity\":0.8,\"orientation\":\"v\",\"x\":[-0.7515845289098267,-1.3501185693636415,0.16077795108916015,1.0972421667024326,-1.5551617340524697,0.36473435593692705,-1.0305068105461639,-1.1324253826988833,-0.6873504943516671,0.1069282354870738,-1.695536516849996,0.2425816618019362,1.2687297380945173,0.020225855520632312,0.2892120761545208,0.1297778773904678,-0.7374435068199338,-1.4400098572821194,0.0032000310074377443,2.3156191209106116,-2.104552277645811,-0.22379452958198373,0.9883500188308598,1.3851046302259347,-1.0928793648108472,0.2912452071491476,-0.4106886803289102,-0.7209245389511091,-0.07317020772918818,0.2694790571470932,1.375091364288301,-0.23046375294234592,-0.05784828915091585,-0.4026832249574582,1.3880505778741024,1.0770560109162644,-1.6785547624603565,0.8704258254204967,1.2192626939395739,-0.11185202419003015,-0.763588692976187,1.490195261649367,2.1775088878872806,0.7277948316579071,-0.49372189274523937,-0.2338324822911922,-0.3379344582705307,0.4704751985297546,-0.7631725910562722,-1.305388313612196,0.19336190533982603,0.7328086527251998,0.7706362653881076,-1.2925763526257745,-0.8104937348956527,-0.5563194360896363,-1.972197874409348,-0.1932211683793346,0.24658648621738297,-0.27580446480575443,-0.04910140696994737,0.902700698539591,-0.06394334025850491,0.044784293824225885,0.6038793255782594,1.1287050189302426,-0.5778578018120689,-0.10347513287249659,1.5211159073742107,-0.9286680897045665,-0.24014144423313558,2.478875929720434,-1.7514335396591265,0.19996871943196137,0.6321232809455622,1.9589895318338868,-0.8238855966095642,0.12473054236890199,1.7645917749679907,-0.6231437672773471,-1.1610423310897395,-1.9156473976700872,-1.6126019221487324,1.7382721048015093,0.05761002640626352,3.1060553929808754,1.2978766991775879,2.379727283652175,-0.38706280385902053,-0.14276694931792414,0.9865472939839993,-0.658203460481953,-0.6939476238479197,0.4663609204522567,-0.9611668389082888,-0.3286381457693652,-0.47002996096212685,-0.09953330550484732,-0.5157759703517617,0.17564907964270188],\"xaxis\":\"x6\",\"yaxis\":\"y6\",\"type\":\"histogram\"},{\"line\":{\"color\":\"rgba(128, 128, 128, 1.0)\",\"dash\":\"solid\",\"shape\":\"linear\",\"width\":1.3},\"marker\":{\"size\":2,\"symbol\":\"circle\"},\"mode\":\"markers\",\"name\":\"B\",\"text\":\"\",\"x\":[1.5101091402276365,0.15930592184746883,-0.6299520387685452,0.3795807867872899,-0.19549533178946357,1.6939992555492187,0.05863713860289682,0.031121505849155323,1.2145504382687164,0.9130385507942945,-0.10168848795949312,-0.42858764690705176,0.8122487801722668,-1.7627832646047805,-1.2061865423226135,0.4017902099314714,1.35173144399414,2.6774994781814963,-0.8109607891562296,-1.1152760578728993,-1.226851543648753,-1.6301692713880749,0.07774594059031383,0.478072187395388,-0.8253604446559677,1.1165972830006823,0.09770839807695156,-0.5630481280324108,0.23521091169642136,-1.1969858101490503,0.6310295007431875,0.13190096760114592,-0.20839898882731747,0.44877637347420823,0.4440570972113594,-0.6629807611552002,-0.3599818408286735,-0.6301631782881789,-1.4986905657015461,1.000787371158141,-0.3552390228243466,2.661219349367528,-1.3177836033556052,2.5832762748938864,0.5509745061883669,0.4529260955824585,0.3352218070075668,0.08753580770403321,-0.6500869447684293,-0.6637943908785625,0.17198389554492016,0.5178145189460188,0.08789442169735215,-0.9229128851314942,0.12538790860771418,-0.21751522072824378,-0.5276374844060169,-1.1480141930377978,-0.7139454373412848,-1.769402952512191,-1.4866672685840105,0.549542416188863,-1.2006159320776877,0.04538127264095669,0.9132573376845505,1.5507290409973893,0.40709486552146207,-1.3130947090351033,0.01234367165756752,-0.6551194330222805,-0.5445099357041456,-0.5096044224474188,-2.073664096466441,1.5507004576413281,0.13860628599479177,0.7187881982441798,1.1347831582725276,-0.1360791029180377,-0.04882205666420648,1.5449579618847205,0.25061951511628144,0.8654922425298819,0.510758417490925,-1.030924834909416,-1.4654292203409918,0.5696095366476174,1.4810513651346715,-0.34499008093872285,0.3577009446889585,-1.014601618657675,-0.7113563708441443,-1.1255334203112146,1.3268411912846392,0.12057782308625307,2.6352253664616567,0.26784651624134276,1.6509851179104613,-0.1731164108988731,-1.4469851029051934,0.355005154872157],\"xaxis\":\"x7\",\"y\":[-0.7515845289098267,-1.3501185693636415,0.16077795108916015,1.0972421667024326,-1.5551617340524697,0.36473435593692705,-1.0305068105461639,-1.1324253826988833,-0.6873504943516671,0.1069282354870738,-1.695536516849996,0.2425816618019362,1.2687297380945173,0.020225855520632312,0.2892120761545208,0.1297778773904678,-0.7374435068199338,-1.4400098572821194,0.0032000310074377443,2.3156191209106116,-2.104552277645811,-0.22379452958198373,0.9883500188308598,1.3851046302259347,-1.0928793648108472,0.2912452071491476,-0.4106886803289102,-0.7209245389511091,-0.07317020772918818,0.2694790571470932,1.375091364288301,-0.23046375294234592,-0.05784828915091585,-0.4026832249574582,1.3880505778741024,1.0770560109162644,-1.6785547624603565,0.8704258254204967,1.2192626939395739,-0.11185202419003015,-0.763588692976187,1.490195261649367,2.1775088878872806,0.7277948316579071,-0.49372189274523937,-0.2338324822911922,-0.3379344582705307,0.4704751985297546,-0.7631725910562722,-1.305388313612196,0.19336190533982603,0.7328086527251998,0.7706362653881076,-1.2925763526257745,-0.8104937348956527,-0.5563194360896363,-1.972197874409348,-0.1932211683793346,0.24658648621738297,-0.27580446480575443,-0.04910140696994737,0.902700698539591,-0.06394334025850491,0.044784293824225885,0.6038793255782594,1.1287050189302426,-0.5778578018120689,-0.10347513287249659,1.5211159073742107,-0.9286680897045665,-0.24014144423313558,2.478875929720434,-1.7514335396591265,0.19996871943196137,0.6321232809455622,1.9589895318338868,-0.8238855966095642,0.12473054236890199,1.7645917749679907,-0.6231437672773471,-1.1610423310897395,-1.9156473976700872,-1.6126019221487324,1.7382721048015093,0.05761002640626352,3.1060553929808754,1.2978766991775879,2.379727283652175,-0.38706280385902053,-0.14276694931792414,0.9865472939839993,-0.658203460481953,-0.6939476238479197,0.4663609204522567,-0.9611668389082888,-0.3286381457693652,-0.47002996096212685,-0.09953330550484732,-0.5157759703517617,0.17564907964270188],\"yaxis\":\"y7\",\"type\":\"scatter\"},{\"line\":{\"color\":\"rgba(128, 128, 128, 1.0)\",\"dash\":\"solid\",\"shape\":\"linear\",\"width\":1.3},\"marker\":{\"size\":2,\"symbol\":\"circle\"},\"mode\":\"markers\",\"name\":\"B\",\"text\":\"\",\"x\":[2.3898894927962258,-1.346185523310272,0.3926995477438022,-0.9599794920199762,2.145635862755704,0.19736932534681206,-0.016375879615479184,-0.5516553241472079,-0.19462394604008174,0.22516639879515654,-0.6676210246404063,0.42788569839835194,1.3961280369446534,1.2866373916759943,-0.07213962520428917,-0.224692107540565,0.08447571575585101,-0.4735521062853545,-0.5006714138007546,0.09100550312739152,0.46523334595572224,-1.83597908105119,-0.23389175808981608,-0.24385510409093322,-0.5911582767843231,-0.17068709130318022,-1.0687134676884893,0.038160659311079516,-1.4079380545672868,-1.815661259368501,-1.9886988873045035,0.47817133914898086,-0.5060345008623578,0.018883131631049124,-0.47962615890571564,0.6543138485575909,0.9031758088280951,0.547296167700335,1.2142993116092677,1.3889107281381117,-1.598570285757914,0.9278025225906082,0.5762031316364931,0.48363222487107577,-0.022749947354769297,-0.4658863161523873,1.626458234784676,-0.6776723699907173,0.26817200596668717,-0.435498668104195,0.7256894610052155,0.30887988732519234,0.9999726656830086,-0.4701219452261383,-0.7231044293670219,-1.1060357904552007,1.1876400307689436,1.1415469229047646,-0.19179028453130345,-0.5952721688987325,0.7003471207643943,-0.3093578682861099,-0.4194885044676614,-0.39974442856055636,0.07429196791584,0.4784857663946633,0.17033788804117667,-0.12564154107700404,0.8542227875313106,0.28551744139432644,-2.113006522544438,-1.1289229189161551,1.433883574901709,0.49204633008406096,-0.2615773401728134,0.3678047803139401,-0.13816533810562942,0.7076093131591633,0.060782453714857715,-0.16142616048645417,-1.2486078250468484,1.4672401263478823,-0.4374543544409514,-1.2380329371712746,-0.0516466126595105,0.8742873856600251,0.8685308786968833,-1.952290771484409,-0.22574090289942178,-1.073072535060036,0.04764455556960585,-2.27788731185454,-0.610745327952362,-0.3706943589554563,-0.12473087986892124,-3.2418750999737975,0.04474842511931487,-1.3074630796765412,0.8236942120155181,0.4849622852831096],\"xaxis\":\"x8\",\"y\":[-0.7515845289098267,-1.3501185693636415,0.16077795108916015,1.0972421667024326,-1.5551617340524697,0.36473435593692705,-1.0305068105461639,-1.1324253826988833,-0.6873504943516671,0.1069282354870738,-1.695536516849996,0.2425816618019362,1.2687297380945173,0.020225855520632312,0.2892120761545208,0.1297778773904678,-0.7374435068199338,-1.4400098572821194,0.0032000310074377443,2.3156191209106116,-2.104552277645811,-0.22379452958198373,0.9883500188308598,1.3851046302259347,-1.0928793648108472,0.2912452071491476,-0.4106886803289102,-0.7209245389511091,-0.07317020772918818,0.2694790571470932,1.375091364288301,-0.23046375294234592,-0.05784828915091585,-0.4026832249574582,1.3880505778741024,1.0770560109162644,-1.6785547624603565,0.8704258254204967,1.2192626939395739,-0.11185202419003015,-0.763588692976187,1.490195261649367,2.1775088878872806,0.7277948316579071,-0.49372189274523937,-0.2338324822911922,-0.3379344582705307,0.4704751985297546,-0.7631725910562722,-1.305388313612196,0.19336190533982603,0.7328086527251998,0.7706362653881076,-1.2925763526257745,-0.8104937348956527,-0.5563194360896363,-1.972197874409348,-0.1932211683793346,0.24658648621738297,-0.27580446480575443,-0.04910140696994737,0.902700698539591,-0.06394334025850491,0.044784293824225885,0.6038793255782594,1.1287050189302426,-0.5778578018120689,-0.10347513287249659,1.5211159073742107,-0.9286680897045665,-0.24014144423313558,2.478875929720434,-1.7514335396591265,0.19996871943196137,0.6321232809455622,1.9589895318338868,-0.8238855966095642,0.12473054236890199,1.7645917749679907,-0.6231437672773471,-1.1610423310897395,-1.9156473976700872,-1.6126019221487324,1.7382721048015093,0.05761002640626352,3.1060553929808754,1.2978766991775879,2.379727283652175,-0.38706280385902053,-0.14276694931792414,0.9865472939839993,-0.658203460481953,-0.6939476238479197,0.4663609204522567,-0.9611668389082888,-0.3286381457693652,-0.47002996096212685,-0.09953330550484732,-0.5157759703517617,0.17564907964270188],\"yaxis\":\"y8\",\"type\":\"scatter\"},{\"line\":{\"color\":\"rgba(128, 128, 128, 1.0)\",\"dash\":\"solid\",\"shape\":\"linear\",\"width\":1.3},\"marker\":{\"size\":2,\"symbol\":\"circle\"},\"mode\":\"markers\",\"name\":\"C\",\"text\":\"\",\"x\":[-0.6107347761616178,0.4201614153496461,-0.29605152886844865,-0.603856601378769,-0.34992557814699554,0.5068350913538099,1.4993263879906027,-2.334241991002616,-0.756289536182581,0.029039928572972565,-0.06418705977340332,0.9316899277347028,0.6315071913942684,-0.8448886098897598,0.17075138231478665,-0.46156067536114953,0.7665613566497056,-0.4836983678082965,0.16642518180746108,1.4564782581774924,0.9606524678241097,0.8542978329522262,-0.675314325805229,0.195511600271729,-1.7488760698587718,0.7124539851075085,2.0468217852064288,1.6248644217502146,-0.5286160896870696,-1.6561743116422956,1.0753782176872302,-0.4697669545323898,-0.009018585905509479,-0.541569847684211,1.6913214206556852,-1.788246523479366,0.522833167186685,-0.9934573505043022,1.6399751744524727,0.3374694500440057,-2.193678870035607,-1.017633199473239,0.3679345306105512,-1.3036150063236591,0.7462578429627574,-0.506156177257477,1.7176523623457138,1.7793863386202,0.07923784823916726,1.6723340011782664,0.026694156864108736,0.4857432640720413,-1.4103267776792288,-1.1830495094733648,-0.1792308752387724,-0.22071995812812675,-1.3270964256209172,-0.43120218142331274,-0.6256456712456581,-0.29497815162776525,1.467718648245481,-0.9304178622442733,-0.11510147301732727,-0.3767284928261818,0.478108904510788,3.7525358111818345,-0.03242175767615414,-0.3640156611750831,0.018466623262912058,-0.2434299789991597,-0.11500724514530727,-2.0214049601657518,0.690130295394509,0.2532383016783365,1.5331578664393732,-0.8853998372881371,-1.4352841075731064,0.2598125345509629,0.5956194819973099,0.22788031283148957,-0.13797830670137154,-1.4183777937548996,-0.07232292085057175,1.156608410254206,0.7622513100528217,-1.906380748783229,0.7045019662098876,3.1287391387449923,0.12687249379699703,0.10233161108321426,-0.793703598152564,0.5962107888831366,-0.5230777107716984,-1.4983543424046748,-1.474001813667417,1.1806612185186167,-0.9268646615012716,0.03494592384986443,0.936911761668089,-1.5336897066452815],\"xaxis\":\"x9\",\"y\":[1.5101091402276365,0.15930592184746883,-0.6299520387685452,0.3795807867872899,-0.19549533178946357,1.6939992555492187,0.05863713860289682,0.031121505849155323,1.2145504382687164,0.9130385507942945,-0.10168848795949312,-0.42858764690705176,0.8122487801722668,-1.7627832646047805,-1.2061865423226135,0.4017902099314714,1.35173144399414,2.6774994781814963,-0.8109607891562296,-1.1152760578728993,-1.226851543648753,-1.6301692713880749,0.07774594059031383,0.478072187395388,-0.8253604446559677,1.1165972830006823,0.09770839807695156,-0.5630481280324108,0.23521091169642136,-1.1969858101490503,0.6310295007431875,0.13190096760114592,-0.20839898882731747,0.44877637347420823,0.4440570972113594,-0.6629807611552002,-0.3599818408286735,-0.6301631782881789,-1.4986905657015461,1.000787371158141,-0.3552390228243466,2.661219349367528,-1.3177836033556052,2.5832762748938864,0.5509745061883669,0.4529260955824585,0.3352218070075668,0.08753580770403321,-0.6500869447684293,-0.6637943908785625,0.17198389554492016,0.5178145189460188,0.08789442169735215,-0.9229128851314942,0.12538790860771418,-0.21751522072824378,-0.5276374844060169,-1.1480141930377978,-0.7139454373412848,-1.769402952512191,-1.4866672685840105,0.549542416188863,-1.2006159320776877,0.04538127264095669,0.9132573376845505,1.5507290409973893,0.40709486552146207,-1.3130947090351033,0.01234367165756752,-0.6551194330222805,-0.5445099357041456,-0.5096044224474188,-2.073664096466441,1.5507004576413281,0.13860628599479177,0.7187881982441798,1.1347831582725276,-0.1360791029180377,-0.04882205666420648,1.5449579618847205,0.25061951511628144,0.8654922425298819,0.510758417490925,-1.030924834909416,-1.4654292203409918,0.5696095366476174,1.4810513651346715,-0.34499008093872285,0.3577009446889585,-1.014601618657675,-0.7113563708441443,-1.1255334203112146,1.3268411912846392,0.12057782308625307,2.6352253664616567,0.26784651624134276,1.6509851179104613,-0.1731164108988731,-1.4469851029051934,0.355005154872157],\"yaxis\":\"y9\",\"type\":\"scatter\"},{\"line\":{\"color\":\"rgba(128, 128, 128, 1.0)\",\"dash\":\"solid\",\"shape\":\"linear\",\"width\":1.3},\"marker\":{\"size\":2,\"symbol\":\"circle\"},\"mode\":\"markers\",\"name\":\"C\",\"text\":\"\",\"x\":[-0.7515845289098267,-1.3501185693636415,0.16077795108916015,1.0972421667024326,-1.5551617340524697,0.36473435593692705,-1.0305068105461639,-1.1324253826988833,-0.6873504943516671,0.1069282354870738,-1.695536516849996,0.2425816618019362,1.2687297380945173,0.020225855520632312,0.2892120761545208,0.1297778773904678,-0.7374435068199338,-1.4400098572821194,0.0032000310074377443,2.3156191209106116,-2.104552277645811,-0.22379452958198373,0.9883500188308598,1.3851046302259347,-1.0928793648108472,0.2912452071491476,-0.4106886803289102,-0.7209245389511091,-0.07317020772918818,0.2694790571470932,1.375091364288301,-0.23046375294234592,-0.05784828915091585,-0.4026832249574582,1.3880505778741024,1.0770560109162644,-1.6785547624603565,0.8704258254204967,1.2192626939395739,-0.11185202419003015,-0.763588692976187,1.490195261649367,2.1775088878872806,0.7277948316579071,-0.49372189274523937,-0.2338324822911922,-0.3379344582705307,0.4704751985297546,-0.7631725910562722,-1.305388313612196,0.19336190533982603,0.7328086527251998,0.7706362653881076,-1.2925763526257745,-0.8104937348956527,-0.5563194360896363,-1.972197874409348,-0.1932211683793346,0.24658648621738297,-0.27580446480575443,-0.04910140696994737,0.902700698539591,-0.06394334025850491,0.044784293824225885,0.6038793255782594,1.1287050189302426,-0.5778578018120689,-0.10347513287249659,1.5211159073742107,-0.9286680897045665,-0.24014144423313558,2.478875929720434,-1.7514335396591265,0.19996871943196137,0.6321232809455622,1.9589895318338868,-0.8238855966095642,0.12473054236890199,1.7645917749679907,-0.6231437672773471,-1.1610423310897395,-1.9156473976700872,-1.6126019221487324,1.7382721048015093,0.05761002640626352,3.1060553929808754,1.2978766991775879,2.379727283652175,-0.38706280385902053,-0.14276694931792414,0.9865472939839993,-0.658203460481953,-0.6939476238479197,0.4663609204522567,-0.9611668389082888,-0.3286381457693652,-0.47002996096212685,-0.09953330550484732,-0.5157759703517617,0.17564907964270188],\"xaxis\":\"x10\",\"y\":[1.5101091402276365,0.15930592184746883,-0.6299520387685452,0.3795807867872899,-0.19549533178946357,1.6939992555492187,0.05863713860289682,0.031121505849155323,1.2145504382687164,0.9130385507942945,-0.10168848795949312,-0.42858764690705176,0.8122487801722668,-1.7627832646047805,-1.2061865423226135,0.4017902099314714,1.35173144399414,2.6774994781814963,-0.8109607891562296,-1.1152760578728993,-1.226851543648753,-1.6301692713880749,0.07774594059031383,0.478072187395388,-0.8253604446559677,1.1165972830006823,0.09770839807695156,-0.5630481280324108,0.23521091169642136,-1.1969858101490503,0.6310295007431875,0.13190096760114592,-0.20839898882731747,0.44877637347420823,0.4440570972113594,-0.6629807611552002,-0.3599818408286735,-0.6301631782881789,-1.4986905657015461,1.000787371158141,-0.3552390228243466,2.661219349367528,-1.3177836033556052,2.5832762748938864,0.5509745061883669,0.4529260955824585,0.3352218070075668,0.08753580770403321,-0.6500869447684293,-0.6637943908785625,0.17198389554492016,0.5178145189460188,0.08789442169735215,-0.9229128851314942,0.12538790860771418,-0.21751522072824378,-0.5276374844060169,-1.1480141930377978,-0.7139454373412848,-1.769402952512191,-1.4866672685840105,0.549542416188863,-1.2006159320776877,0.04538127264095669,0.9132573376845505,1.5507290409973893,0.40709486552146207,-1.3130947090351033,0.01234367165756752,-0.6551194330222805,-0.5445099357041456,-0.5096044224474188,-2.073664096466441,1.5507004576413281,0.13860628599479177,0.7187881982441798,1.1347831582725276,-0.1360791029180377,-0.04882205666420648,1.5449579618847205,0.25061951511628144,0.8654922425298819,0.510758417490925,-1.030924834909416,-1.4654292203409918,0.5696095366476174,1.4810513651346715,-0.34499008093872285,0.3577009446889585,-1.014601618657675,-0.7113563708441443,-1.1255334203112146,1.3268411912846392,0.12057782308625307,2.6352253664616567,0.26784651624134276,1.6509851179104613,-0.1731164108988731,-1.4469851029051934,0.355005154872157],\"yaxis\":\"y10\",\"type\":\"scatter\"},{\"histfunc\":\"count\",\"histnorm\":\"\",\"marker\":{\"color\":\"rgba(50, 171, 96, 1.0)\",\"line\":{\"color\":\"#4D5663\",\"width\":1.3}},\"name\":\"C\",\"nbinsx\":10,\"opacity\":0.8,\"orientation\":\"v\",\"x\":[1.5101091402276365,0.15930592184746883,-0.6299520387685452,0.3795807867872899,-0.19549533178946357,1.6939992555492187,0.05863713860289682,0.031121505849155323,1.2145504382687164,0.9130385507942945,-0.10168848795949312,-0.42858764690705176,0.8122487801722668,-1.7627832646047805,-1.2061865423226135,0.4017902099314714,1.35173144399414,2.6774994781814963,-0.8109607891562296,-1.1152760578728993,-1.226851543648753,-1.6301692713880749,0.07774594059031383,0.478072187395388,-0.8253604446559677,1.1165972830006823,0.09770839807695156,-0.5630481280324108,0.23521091169642136,-1.1969858101490503,0.6310295007431875,0.13190096760114592,-0.20839898882731747,0.44877637347420823,0.4440570972113594,-0.6629807611552002,-0.3599818408286735,-0.6301631782881789,-1.4986905657015461,1.000787371158141,-0.3552390228243466,2.661219349367528,-1.3177836033556052,2.5832762748938864,0.5509745061883669,0.4529260955824585,0.3352218070075668,0.08753580770403321,-0.6500869447684293,-0.6637943908785625,0.17198389554492016,0.5178145189460188,0.08789442169735215,-0.9229128851314942,0.12538790860771418,-0.21751522072824378,-0.5276374844060169,-1.1480141930377978,-0.7139454373412848,-1.769402952512191,-1.4866672685840105,0.549542416188863,-1.2006159320776877,0.04538127264095669,0.9132573376845505,1.5507290409973893,0.40709486552146207,-1.3130947090351033,0.01234367165756752,-0.6551194330222805,-0.5445099357041456,-0.5096044224474188,-2.073664096466441,1.5507004576413281,0.13860628599479177,0.7187881982441798,1.1347831582725276,-0.1360791029180377,-0.04882205666420648,1.5449579618847205,0.25061951511628144,0.8654922425298819,0.510758417490925,-1.030924834909416,-1.4654292203409918,0.5696095366476174,1.4810513651346715,-0.34499008093872285,0.3577009446889585,-1.014601618657675,-0.7113563708441443,-1.1255334203112146,1.3268411912846392,0.12057782308625307,2.6352253664616567,0.26784651624134276,1.6509851179104613,-0.1731164108988731,-1.4469851029051934,0.355005154872157],\"xaxis\":\"x11\",\"yaxis\":\"y11\",\"type\":\"histogram\"},{\"line\":{\"color\":\"rgba(128, 128, 128, 1.0)\",\"dash\":\"solid\",\"shape\":\"linear\",\"width\":1.3},\"marker\":{\"size\":2,\"symbol\":\"circle\"},\"mode\":\"markers\",\"name\":\"C\",\"text\":\"\",\"x\":[2.3898894927962258,-1.346185523310272,0.3926995477438022,-0.9599794920199762,2.145635862755704,0.19736932534681206,-0.016375879615479184,-0.5516553241472079,-0.19462394604008174,0.22516639879515654,-0.6676210246404063,0.42788569839835194,1.3961280369446534,1.2866373916759943,-0.07213962520428917,-0.224692107540565,0.08447571575585101,-0.4735521062853545,-0.5006714138007546,0.09100550312739152,0.46523334595572224,-1.83597908105119,-0.23389175808981608,-0.24385510409093322,-0.5911582767843231,-0.17068709130318022,-1.0687134676884893,0.038160659311079516,-1.4079380545672868,-1.815661259368501,-1.9886988873045035,0.47817133914898086,-0.5060345008623578,0.018883131631049124,-0.47962615890571564,0.6543138485575909,0.9031758088280951,0.547296167700335,1.2142993116092677,1.3889107281381117,-1.598570285757914,0.9278025225906082,0.5762031316364931,0.48363222487107577,-0.022749947354769297,-0.4658863161523873,1.626458234784676,-0.6776723699907173,0.26817200596668717,-0.435498668104195,0.7256894610052155,0.30887988732519234,0.9999726656830086,-0.4701219452261383,-0.7231044293670219,-1.1060357904552007,1.1876400307689436,1.1415469229047646,-0.19179028453130345,-0.5952721688987325,0.7003471207643943,-0.3093578682861099,-0.4194885044676614,-0.39974442856055636,0.07429196791584,0.4784857663946633,0.17033788804117667,-0.12564154107700404,0.8542227875313106,0.28551744139432644,-2.113006522544438,-1.1289229189161551,1.433883574901709,0.49204633008406096,-0.2615773401728134,0.3678047803139401,-0.13816533810562942,0.7076093131591633,0.060782453714857715,-0.16142616048645417,-1.2486078250468484,1.4672401263478823,-0.4374543544409514,-1.2380329371712746,-0.0516466126595105,0.8742873856600251,0.8685308786968833,-1.952290771484409,-0.22574090289942178,-1.073072535060036,0.04764455556960585,-2.27788731185454,-0.610745327952362,-0.3706943589554563,-0.12473087986892124,-3.2418750999737975,0.04474842511931487,-1.3074630796765412,0.8236942120155181,0.4849622852831096],\"xaxis\":\"x12\",\"y\":[1.5101091402276365,0.15930592184746883,-0.6299520387685452,0.3795807867872899,-0.19549533178946357,1.6939992555492187,0.05863713860289682,0.031121505849155323,1.2145504382687164,0.9130385507942945,-0.10168848795949312,-0.42858764690705176,0.8122487801722668,-1.7627832646047805,-1.2061865423226135,0.4017902099314714,1.35173144399414,2.6774994781814963,-0.8109607891562296,-1.1152760578728993,-1.226851543648753,-1.6301692713880749,0.07774594059031383,0.478072187395388,-0.8253604446559677,1.1165972830006823,0.09770839807695156,-0.5630481280324108,0.23521091169642136,-1.1969858101490503,0.6310295007431875,0.13190096760114592,-0.20839898882731747,0.44877637347420823,0.4440570972113594,-0.6629807611552002,-0.3599818408286735,-0.6301631782881789,-1.4986905657015461,1.000787371158141,-0.3552390228243466,2.661219349367528,-1.3177836033556052,2.5832762748938864,0.5509745061883669,0.4529260955824585,0.3352218070075668,0.08753580770403321,-0.6500869447684293,-0.6637943908785625,0.17198389554492016,0.5178145189460188,0.08789442169735215,-0.9229128851314942,0.12538790860771418,-0.21751522072824378,-0.5276374844060169,-1.1480141930377978,-0.7139454373412848,-1.769402952512191,-1.4866672685840105,0.549542416188863,-1.2006159320776877,0.04538127264095669,0.9132573376845505,1.5507290409973893,0.40709486552146207,-1.3130947090351033,0.01234367165756752,-0.6551194330222805,-0.5445099357041456,-0.5096044224474188,-2.073664096466441,1.5507004576413281,0.13860628599479177,0.7187881982441798,1.1347831582725276,-0.1360791029180377,-0.04882205666420648,1.5449579618847205,0.25061951511628144,0.8654922425298819,0.510758417490925,-1.030924834909416,-1.4654292203409918,0.5696095366476174,1.4810513651346715,-0.34499008093872285,0.3577009446889585,-1.014601618657675,-0.7113563708441443,-1.1255334203112146,1.3268411912846392,0.12057782308625307,2.6352253664616567,0.26784651624134276,1.6509851179104613,-0.1731164108988731,-1.4469851029051934,0.355005154872157],\"yaxis\":\"y12\",\"type\":\"scatter\"},{\"line\":{\"color\":\"rgba(128, 128, 128, 1.0)\",\"dash\":\"solid\",\"shape\":\"linear\",\"width\":1.3},\"marker\":{\"size\":2,\"symbol\":\"circle\"},\"mode\":\"markers\",\"name\":\"D\",\"text\":\"\",\"x\":[-0.6107347761616178,0.4201614153496461,-0.29605152886844865,-0.603856601378769,-0.34992557814699554,0.5068350913538099,1.4993263879906027,-2.334241991002616,-0.756289536182581,0.029039928572972565,-0.06418705977340332,0.9316899277347028,0.6315071913942684,-0.8448886098897598,0.17075138231478665,-0.46156067536114953,0.7665613566497056,-0.4836983678082965,0.16642518180746108,1.4564782581774924,0.9606524678241097,0.8542978329522262,-0.675314325805229,0.195511600271729,-1.7488760698587718,0.7124539851075085,2.0468217852064288,1.6248644217502146,-0.5286160896870696,-1.6561743116422956,1.0753782176872302,-0.4697669545323898,-0.009018585905509479,-0.541569847684211,1.6913214206556852,-1.788246523479366,0.522833167186685,-0.9934573505043022,1.6399751744524727,0.3374694500440057,-2.193678870035607,-1.017633199473239,0.3679345306105512,-1.3036150063236591,0.7462578429627574,-0.506156177257477,1.7176523623457138,1.7793863386202,0.07923784823916726,1.6723340011782664,0.026694156864108736,0.4857432640720413,-1.4103267776792288,-1.1830495094733648,-0.1792308752387724,-0.22071995812812675,-1.3270964256209172,-0.43120218142331274,-0.6256456712456581,-0.29497815162776525,1.467718648245481,-0.9304178622442733,-0.11510147301732727,-0.3767284928261818,0.478108904510788,3.7525358111818345,-0.03242175767615414,-0.3640156611750831,0.018466623262912058,-0.2434299789991597,-0.11500724514530727,-2.0214049601657518,0.690130295394509,0.2532383016783365,1.5331578664393732,-0.8853998372881371,-1.4352841075731064,0.2598125345509629,0.5956194819973099,0.22788031283148957,-0.13797830670137154,-1.4183777937548996,-0.07232292085057175,1.156608410254206,0.7622513100528217,-1.906380748783229,0.7045019662098876,3.1287391387449923,0.12687249379699703,0.10233161108321426,-0.793703598152564,0.5962107888831366,-0.5230777107716984,-1.4983543424046748,-1.474001813667417,1.1806612185186167,-0.9268646615012716,0.03494592384986443,0.936911761668089,-1.5336897066452815],\"xaxis\":\"x13\",\"y\":[2.3898894927962258,-1.346185523310272,0.3926995477438022,-0.9599794920199762,2.145635862755704,0.19736932534681206,-0.016375879615479184,-0.5516553241472079,-0.19462394604008174,0.22516639879515654,-0.6676210246404063,0.42788569839835194,1.3961280369446534,1.2866373916759943,-0.07213962520428917,-0.224692107540565,0.08447571575585101,-0.4735521062853545,-0.5006714138007546,0.09100550312739152,0.46523334595572224,-1.83597908105119,-0.23389175808981608,-0.24385510409093322,-0.5911582767843231,-0.17068709130318022,-1.0687134676884893,0.038160659311079516,-1.4079380545672868,-1.815661259368501,-1.9886988873045035,0.47817133914898086,-0.5060345008623578,0.018883131631049124,-0.47962615890571564,0.6543138485575909,0.9031758088280951,0.547296167700335,1.2142993116092677,1.3889107281381117,-1.598570285757914,0.9278025225906082,0.5762031316364931,0.48363222487107577,-0.022749947354769297,-0.4658863161523873,1.626458234784676,-0.6776723699907173,0.26817200596668717,-0.435498668104195,0.7256894610052155,0.30887988732519234,0.9999726656830086,-0.4701219452261383,-0.7231044293670219,-1.1060357904552007,1.1876400307689436,1.1415469229047646,-0.19179028453130345,-0.5952721688987325,0.7003471207643943,-0.3093578682861099,-0.4194885044676614,-0.39974442856055636,0.07429196791584,0.4784857663946633,0.17033788804117667,-0.12564154107700404,0.8542227875313106,0.28551744139432644,-2.113006522544438,-1.1289229189161551,1.433883574901709,0.49204633008406096,-0.2615773401728134,0.3678047803139401,-0.13816533810562942,0.7076093131591633,0.060782453714857715,-0.16142616048645417,-1.2486078250468484,1.4672401263478823,-0.4374543544409514,-1.2380329371712746,-0.0516466126595105,0.8742873856600251,0.8685308786968833,-1.952290771484409,-0.22574090289942178,-1.073072535060036,0.04764455556960585,-2.27788731185454,-0.610745327952362,-0.3706943589554563,-0.12473087986892124,-3.2418750999737975,0.04474842511931487,-1.3074630796765412,0.8236942120155181,0.4849622852831096],\"yaxis\":\"y13\",\"type\":\"scatter\"},{\"line\":{\"color\":\"rgba(128, 128, 128, 1.0)\",\"dash\":\"solid\",\"shape\":\"linear\",\"width\":1.3},\"marker\":{\"size\":2,\"symbol\":\"circle\"},\"mode\":\"markers\",\"name\":\"D\",\"text\":\"\",\"x\":[-0.7515845289098267,-1.3501185693636415,0.16077795108916015,1.0972421667024326,-1.5551617340524697,0.36473435593692705,-1.0305068105461639,-1.1324253826988833,-0.6873504943516671,0.1069282354870738,-1.695536516849996,0.2425816618019362,1.2687297380945173,0.020225855520632312,0.2892120761545208,0.1297778773904678,-0.7374435068199338,-1.4400098572821194,0.0032000310074377443,2.3156191209106116,-2.104552277645811,-0.22379452958198373,0.9883500188308598,1.3851046302259347,-1.0928793648108472,0.2912452071491476,-0.4106886803289102,-0.7209245389511091,-0.07317020772918818,0.2694790571470932,1.375091364288301,-0.23046375294234592,-0.05784828915091585,-0.4026832249574582,1.3880505778741024,1.0770560109162644,-1.6785547624603565,0.8704258254204967,1.2192626939395739,-0.11185202419003015,-0.763588692976187,1.490195261649367,2.1775088878872806,0.7277948316579071,-0.49372189274523937,-0.2338324822911922,-0.3379344582705307,0.4704751985297546,-0.7631725910562722,-1.305388313612196,0.19336190533982603,0.7328086527251998,0.7706362653881076,-1.2925763526257745,-0.8104937348956527,-0.5563194360896363,-1.972197874409348,-0.1932211683793346,0.24658648621738297,-0.27580446480575443,-0.04910140696994737,0.902700698539591,-0.06394334025850491,0.044784293824225885,0.6038793255782594,1.1287050189302426,-0.5778578018120689,-0.10347513287249659,1.5211159073742107,-0.9286680897045665,-0.24014144423313558,2.478875929720434,-1.7514335396591265,0.19996871943196137,0.6321232809455622,1.9589895318338868,-0.8238855966095642,0.12473054236890199,1.7645917749679907,-0.6231437672773471,-1.1610423310897395,-1.9156473976700872,-1.6126019221487324,1.7382721048015093,0.05761002640626352,3.1060553929808754,1.2978766991775879,2.379727283652175,-0.38706280385902053,-0.14276694931792414,0.9865472939839993,-0.658203460481953,-0.6939476238479197,0.4663609204522567,-0.9611668389082888,-0.3286381457693652,-0.47002996096212685,-0.09953330550484732,-0.5157759703517617,0.17564907964270188],\"xaxis\":\"x14\",\"y\":[2.3898894927962258,-1.346185523310272,0.3926995477438022,-0.9599794920199762,2.145635862755704,0.19736932534681206,-0.016375879615479184,-0.5516553241472079,-0.19462394604008174,0.22516639879515654,-0.6676210246404063,0.42788569839835194,1.3961280369446534,1.2866373916759943,-0.07213962520428917,-0.224692107540565,0.08447571575585101,-0.4735521062853545,-0.5006714138007546,0.09100550312739152,0.46523334595572224,-1.83597908105119,-0.23389175808981608,-0.24385510409093322,-0.5911582767843231,-0.17068709130318022,-1.0687134676884893,0.038160659311079516,-1.4079380545672868,-1.815661259368501,-1.9886988873045035,0.47817133914898086,-0.5060345008623578,0.018883131631049124,-0.47962615890571564,0.6543138485575909,0.9031758088280951,0.547296167700335,1.2142993116092677,1.3889107281381117,-1.598570285757914,0.9278025225906082,0.5762031316364931,0.48363222487107577,-0.022749947354769297,-0.4658863161523873,1.626458234784676,-0.6776723699907173,0.26817200596668717,-0.435498668104195,0.7256894610052155,0.30887988732519234,0.9999726656830086,-0.4701219452261383,-0.7231044293670219,-1.1060357904552007,1.1876400307689436,1.1415469229047646,-0.19179028453130345,-0.5952721688987325,0.7003471207643943,-0.3093578682861099,-0.4194885044676614,-0.39974442856055636,0.07429196791584,0.4784857663946633,0.17033788804117667,-0.12564154107700404,0.8542227875313106,0.28551744139432644,-2.113006522544438,-1.1289229189161551,1.433883574901709,0.49204633008406096,-0.2615773401728134,0.3678047803139401,-0.13816533810562942,0.7076093131591633,0.060782453714857715,-0.16142616048645417,-1.2486078250468484,1.4672401263478823,-0.4374543544409514,-1.2380329371712746,-0.0516466126595105,0.8742873856600251,0.8685308786968833,-1.952290771484409,-0.22574090289942178,-1.073072535060036,0.04764455556960585,-2.27788731185454,-0.610745327952362,-0.3706943589554563,-0.12473087986892124,-3.2418750999737975,0.04474842511931487,-1.3074630796765412,0.8236942120155181,0.4849622852831096],\"yaxis\":\"y14\",\"type\":\"scatter\"},{\"line\":{\"color\":\"rgba(128, 128, 128, 1.0)\",\"dash\":\"solid\",\"shape\":\"linear\",\"width\":1.3},\"marker\":{\"size\":2,\"symbol\":\"circle\"},\"mode\":\"markers\",\"name\":\"D\",\"text\":\"\",\"x\":[1.5101091402276365,0.15930592184746883,-0.6299520387685452,0.3795807867872899,-0.19549533178946357,1.6939992555492187,0.05863713860289682,0.031121505849155323,1.2145504382687164,0.9130385507942945,-0.10168848795949312,-0.42858764690705176,0.8122487801722668,-1.7627832646047805,-1.2061865423226135,0.4017902099314714,1.35173144399414,2.6774994781814963,-0.8109607891562296,-1.1152760578728993,-1.226851543648753,-1.6301692713880749,0.07774594059031383,0.478072187395388,-0.8253604446559677,1.1165972830006823,0.09770839807695156,-0.5630481280324108,0.23521091169642136,-1.1969858101490503,0.6310295007431875,0.13190096760114592,-0.20839898882731747,0.44877637347420823,0.4440570972113594,-0.6629807611552002,-0.3599818408286735,-0.6301631782881789,-1.4986905657015461,1.000787371158141,-0.3552390228243466,2.661219349367528,-1.3177836033556052,2.5832762748938864,0.5509745061883669,0.4529260955824585,0.3352218070075668,0.08753580770403321,-0.6500869447684293,-0.6637943908785625,0.17198389554492016,0.5178145189460188,0.08789442169735215,-0.9229128851314942,0.12538790860771418,-0.21751522072824378,-0.5276374844060169,-1.1480141930377978,-0.7139454373412848,-1.769402952512191,-1.4866672685840105,0.549542416188863,-1.2006159320776877,0.04538127264095669,0.9132573376845505,1.5507290409973893,0.40709486552146207,-1.3130947090351033,0.01234367165756752,-0.6551194330222805,-0.5445099357041456,-0.5096044224474188,-2.073664096466441,1.5507004576413281,0.13860628599479177,0.7187881982441798,1.1347831582725276,-0.1360791029180377,-0.04882205666420648,1.5449579618847205,0.25061951511628144,0.8654922425298819,0.510758417490925,-1.030924834909416,-1.4654292203409918,0.5696095366476174,1.4810513651346715,-0.34499008093872285,0.3577009446889585,-1.014601618657675,-0.7113563708441443,-1.1255334203112146,1.3268411912846392,0.12057782308625307,2.6352253664616567,0.26784651624134276,1.6509851179104613,-0.1731164108988731,-1.4469851029051934,0.355005154872157],\"xaxis\":\"x15\",\"y\":[2.3898894927962258,-1.346185523310272,0.3926995477438022,-0.9599794920199762,2.145635862755704,0.19736932534681206,-0.016375879615479184,-0.5516553241472079,-0.19462394604008174,0.22516639879515654,-0.6676210246404063,0.42788569839835194,1.3961280369446534,1.2866373916759943,-0.07213962520428917,-0.224692107540565,0.08447571575585101,-0.4735521062853545,-0.5006714138007546,0.09100550312739152,0.46523334595572224,-1.83597908105119,-0.23389175808981608,-0.24385510409093322,-0.5911582767843231,-0.17068709130318022,-1.0687134676884893,0.038160659311079516,-1.4079380545672868,-1.815661259368501,-1.9886988873045035,0.47817133914898086,-0.5060345008623578,0.018883131631049124,-0.47962615890571564,0.6543138485575909,0.9031758088280951,0.547296167700335,1.2142993116092677,1.3889107281381117,-1.598570285757914,0.9278025225906082,0.5762031316364931,0.48363222487107577,-0.022749947354769297,-0.4658863161523873,1.626458234784676,-0.6776723699907173,0.26817200596668717,-0.435498668104195,0.7256894610052155,0.30887988732519234,0.9999726656830086,-0.4701219452261383,-0.7231044293670219,-1.1060357904552007,1.1876400307689436,1.1415469229047646,-0.19179028453130345,-0.5952721688987325,0.7003471207643943,-0.3093578682861099,-0.4194885044676614,-0.39974442856055636,0.07429196791584,0.4784857663946633,0.17033788804117667,-0.12564154107700404,0.8542227875313106,0.28551744139432644,-2.113006522544438,-1.1289229189161551,1.433883574901709,0.49204633008406096,-0.2615773401728134,0.3678047803139401,-0.13816533810562942,0.7076093131591633,0.060782453714857715,-0.16142616048645417,-1.2486078250468484,1.4672401263478823,-0.4374543544409514,-1.2380329371712746,-0.0516466126595105,0.8742873856600251,0.8685308786968833,-1.952290771484409,-0.22574090289942178,-1.073072535060036,0.04764455556960585,-2.27788731185454,-0.610745327952362,-0.3706943589554563,-0.12473087986892124,-3.2418750999737975,0.04474842511931487,-1.3074630796765412,0.8236942120155181,0.4849622852831096],\"yaxis\":\"y15\",\"type\":\"scatter\"},{\"histfunc\":\"count\",\"histnorm\":\"\",\"marker\":{\"color\":\"rgba(128, 0, 128, 1.0)\",\"line\":{\"color\":\"#4D5663\",\"width\":1.3}},\"name\":\"D\",\"nbinsx\":10,\"opacity\":0.8,\"orientation\":\"v\",\"x\":[2.3898894927962258,-1.346185523310272,0.3926995477438022,-0.9599794920199762,2.145635862755704,0.19736932534681206,-0.016375879615479184,-0.5516553241472079,-0.19462394604008174,0.22516639879515654,-0.6676210246404063,0.42788569839835194,1.3961280369446534,1.2866373916759943,-0.07213962520428917,-0.224692107540565,0.08447571575585101,-0.4735521062853545,-0.5006714138007546,0.09100550312739152,0.46523334595572224,-1.83597908105119,-0.23389175808981608,-0.24385510409093322,-0.5911582767843231,-0.17068709130318022,-1.0687134676884893,0.038160659311079516,-1.4079380545672868,-1.815661259368501,-1.9886988873045035,0.47817133914898086,-0.5060345008623578,0.018883131631049124,-0.47962615890571564,0.6543138485575909,0.9031758088280951,0.547296167700335,1.2142993116092677,1.3889107281381117,-1.598570285757914,0.9278025225906082,0.5762031316364931,0.48363222487107577,-0.022749947354769297,-0.4658863161523873,1.626458234784676,-0.6776723699907173,0.26817200596668717,-0.435498668104195,0.7256894610052155,0.30887988732519234,0.9999726656830086,-0.4701219452261383,-0.7231044293670219,-1.1060357904552007,1.1876400307689436,1.1415469229047646,-0.19179028453130345,-0.5952721688987325,0.7003471207643943,-0.3093578682861099,-0.4194885044676614,-0.39974442856055636,0.07429196791584,0.4784857663946633,0.17033788804117667,-0.12564154107700404,0.8542227875313106,0.28551744139432644,-2.113006522544438,-1.1289229189161551,1.433883574901709,0.49204633008406096,-0.2615773401728134,0.3678047803139401,-0.13816533810562942,0.7076093131591633,0.060782453714857715,-0.16142616048645417,-1.2486078250468484,1.4672401263478823,-0.4374543544409514,-1.2380329371712746,-0.0516466126595105,0.8742873856600251,0.8685308786968833,-1.952290771484409,-0.22574090289942178,-1.073072535060036,0.04764455556960585,-2.27788731185454,-0.610745327952362,-0.3706943589554563,-0.12473087986892124,-3.2418750999737975,0.04474842511931487,-1.3074630796765412,0.8236942120155181,0.4849622852831096],\"xaxis\":\"x16\",\"yaxis\":\"y16\",\"type\":\"histogram\"}],                        {\"bargap\":0.02,\"legend\":{\"bgcolor\":\"#F5F6F9\",\"font\":{\"color\":\"#4D5663\"}},\"paper_bgcolor\":\"#F5F6F9\",\"plot_bgcolor\":\"#F5F6F9\",\"showlegend\":false,\"template\":{\"data\":{\"barpolar\":[{\"marker\":{\"line\":{\"color\":\"#E5ECF6\",\"width\":0.5},\"pattern\":{\"fillmode\":\"overlay\",\"size\":10,\"solidity\":0.2}},\"type\":\"barpolar\"}],\"bar\":[{\"error_x\":{\"color\":\"#2a3f5f\"},\"error_y\":{\"color\":\"#2a3f5f\"},\"marker\":{\"line\":{\"color\":\"#E5ECF6\",\"width\":0.5},\"pattern\":{\"fillmode\":\"overlay\",\"size\":10,\"solidity\":0.2}},\"type\":\"bar\"}],\"carpet\":[{\"aaxis\":{\"endlinecolor\":\"#2a3f5f\",\"gridcolor\":\"white\",\"linecolor\":\"white\",\"minorgridcolor\":\"white\",\"startlinecolor\":\"#2a3f5f\"},\"baxis\":{\"endlinecolor\":\"#2a3f5f\",\"gridcolor\":\"white\",\"linecolor\":\"white\",\"minorgridcolor\":\"white\",\"startlinecolor\":\"#2a3f5f\"},\"type\":\"carpet\"}],\"choropleth\":[{\"colorbar\":{\"outlinewidth\":0,\"ticks\":\"\"},\"type\":\"choropleth\"}],\"contourcarpet\":[{\"colorbar\":{\"outlinewidth\":0,\"ticks\":\"\"},\"type\":\"contourcarpet\"}],\"contour\":[{\"colorbar\":{\"outlinewidth\":0,\"ticks\":\"\"},\"colorscale\":[[0.0,\"#0d0887\"],[0.1111111111111111,\"#46039f\"],[0.2222222222222222,\"#7201a8\"],[0.3333333333333333,\"#9c179e\"],[0.4444444444444444,\"#bd3786\"],[0.5555555555555556,\"#d8576b\"],[0.6666666666666666,\"#ed7953\"],[0.7777777777777778,\"#fb9f3a\"],[0.8888888888888888,\"#fdca26\"],[1.0,\"#f0f921\"]],\"type\":\"contour\"}],\"heatmapgl\":[{\"colorbar\":{\"outlinewidth\":0,\"ticks\":\"\"},\"colorscale\":[[0.0,\"#0d0887\"],[0.1111111111111111,\"#46039f\"],[0.2222222222222222,\"#7201a8\"],[0.3333333333333333,\"#9c179e\"],[0.4444444444444444,\"#bd3786\"],[0.5555555555555556,\"#d8576b\"],[0.6666666666666666,\"#ed7953\"],[0.7777777777777778,\"#fb9f3a\"],[0.8888888888888888,\"#fdca26\"],[1.0,\"#f0f921\"]],\"type\":\"heatmapgl\"}],\"heatmap\":[{\"colorbar\":{\"outlinewidth\":0,\"ticks\":\"\"},\"colorscale\":[[0.0,\"#0d0887\"],[0.1111111111111111,\"#46039f\"],[0.2222222222222222,\"#7201a8\"],[0.3333333333333333,\"#9c179e\"],[0.4444444444444444,\"#bd3786\"],[0.5555555555555556,\"#d8576b\"],[0.6666666666666666,\"#ed7953\"],[0.7777777777777778,\"#fb9f3a\"],[0.8888888888888888,\"#fdca26\"],[1.0,\"#f0f921\"]],\"type\":\"heatmap\"}],\"histogram2dcontour\":[{\"colorbar\":{\"outlinewidth\":0,\"ticks\":\"\"},\"colorscale\":[[0.0,\"#0d0887\"],[0.1111111111111111,\"#46039f\"],[0.2222222222222222,\"#7201a8\"],[0.3333333333333333,\"#9c179e\"],[0.4444444444444444,\"#bd3786\"],[0.5555555555555556,\"#d8576b\"],[0.6666666666666666,\"#ed7953\"],[0.7777777777777778,\"#fb9f3a\"],[0.8888888888888888,\"#fdca26\"],[1.0,\"#f0f921\"]],\"type\":\"histogram2dcontour\"}],\"histogram2d\":[{\"colorbar\":{\"outlinewidth\":0,\"ticks\":\"\"},\"colorscale\":[[0.0,\"#0d0887\"],[0.1111111111111111,\"#46039f\"],[0.2222222222222222,\"#7201a8\"],[0.3333333333333333,\"#9c179e\"],[0.4444444444444444,\"#bd3786\"],[0.5555555555555556,\"#d8576b\"],[0.6666666666666666,\"#ed7953\"],[0.7777777777777778,\"#fb9f3a\"],[0.8888888888888888,\"#fdca26\"],[1.0,\"#f0f921\"]],\"type\":\"histogram2d\"}],\"histogram\":[{\"marker\":{\"pattern\":{\"fillmode\":\"overlay\",\"size\":10,\"solidity\":0.2}},\"type\":\"histogram\"}],\"mesh3d\":[{\"colorbar\":{\"outlinewidth\":0,\"ticks\":\"\"},\"type\":\"mesh3d\"}],\"parcoords\":[{\"line\":{\"colorbar\":{\"outlinewidth\":0,\"ticks\":\"\"}},\"type\":\"parcoords\"}],\"pie\":[{\"automargin\":true,\"type\":\"pie\"}],\"scatter3d\":[{\"line\":{\"colorbar\":{\"outlinewidth\":0,\"ticks\":\"\"}},\"marker\":{\"colorbar\":{\"outlinewidth\":0,\"ticks\":\"\"}},\"type\":\"scatter3d\"}],\"scattercarpet\":[{\"marker\":{\"colorbar\":{\"outlinewidth\":0,\"ticks\":\"\"}},\"type\":\"scattercarpet\"}],\"scattergeo\":[{\"marker\":{\"colorbar\":{\"outlinewidth\":0,\"ticks\":\"\"}},\"type\":\"scattergeo\"}],\"scattergl\":[{\"marker\":{\"colorbar\":{\"outlinewidth\":0,\"ticks\":\"\"}},\"type\":\"scattergl\"}],\"scattermapbox\":[{\"marker\":{\"colorbar\":{\"outlinewidth\":0,\"ticks\":\"\"}},\"type\":\"scattermapbox\"}],\"scatterpolargl\":[{\"marker\":{\"colorbar\":{\"outlinewidth\":0,\"ticks\":\"\"}},\"type\":\"scatterpolargl\"}],\"scatterpolar\":[{\"marker\":{\"colorbar\":{\"outlinewidth\":0,\"ticks\":\"\"}},\"type\":\"scatterpolar\"}],\"scatter\":[{\"fillpattern\":{\"fillmode\":\"overlay\",\"size\":10,\"solidity\":0.2},\"type\":\"scatter\"}],\"scatterternary\":[{\"marker\":{\"colorbar\":{\"outlinewidth\":0,\"ticks\":\"\"}},\"type\":\"scatterternary\"}],\"surface\":[{\"colorbar\":{\"outlinewidth\":0,\"ticks\":\"\"},\"colorscale\":[[0.0,\"#0d0887\"],[0.1111111111111111,\"#46039f\"],[0.2222222222222222,\"#7201a8\"],[0.3333333333333333,\"#9c179e\"],[0.4444444444444444,\"#bd3786\"],[0.5555555555555556,\"#d8576b\"],[0.6666666666666666,\"#ed7953\"],[0.7777777777777778,\"#fb9f3a\"],[0.8888888888888888,\"#fdca26\"],[1.0,\"#f0f921\"]],\"type\":\"surface\"}],\"table\":[{\"cells\":{\"fill\":{\"color\":\"#EBF0F8\"},\"line\":{\"color\":\"white\"}},\"header\":{\"fill\":{\"color\":\"#C8D4E3\"},\"line\":{\"color\":\"white\"}},\"type\":\"table\"}]},\"layout\":{\"annotationdefaults\":{\"arrowcolor\":\"#2a3f5f\",\"arrowhead\":0,\"arrowwidth\":1},\"autotypenumbers\":\"strict\",\"coloraxis\":{\"colorbar\":{\"outlinewidth\":0,\"ticks\":\"\"}},\"colorscale\":{\"diverging\":[[0,\"#8e0152\"],[0.1,\"#c51b7d\"],[0.2,\"#de77ae\"],[0.3,\"#f1b6da\"],[0.4,\"#fde0ef\"],[0.5,\"#f7f7f7\"],[0.6,\"#e6f5d0\"],[0.7,\"#b8e186\"],[0.8,\"#7fbc41\"],[0.9,\"#4d9221\"],[1,\"#276419\"]],\"sequential\":[[0.0,\"#0d0887\"],[0.1111111111111111,\"#46039f\"],[0.2222222222222222,\"#7201a8\"],[0.3333333333333333,\"#9c179e\"],[0.4444444444444444,\"#bd3786\"],[0.5555555555555556,\"#d8576b\"],[0.6666666666666666,\"#ed7953\"],[0.7777777777777778,\"#fb9f3a\"],[0.8888888888888888,\"#fdca26\"],[1.0,\"#f0f921\"]],\"sequentialminus\":[[0.0,\"#0d0887\"],[0.1111111111111111,\"#46039f\"],[0.2222222222222222,\"#7201a8\"],[0.3333333333333333,\"#9c179e\"],[0.4444444444444444,\"#bd3786\"],[0.5555555555555556,\"#d8576b\"],[0.6666666666666666,\"#ed7953\"],[0.7777777777777778,\"#fb9f3a\"],[0.8888888888888888,\"#fdca26\"],[1.0,\"#f0f921\"]]},\"colorway\":[\"#636efa\",\"#EF553B\",\"#00cc96\",\"#ab63fa\",\"#FFA15A\",\"#19d3f3\",\"#FF6692\",\"#B6E880\",\"#FF97FF\",\"#FECB52\"],\"font\":{\"color\":\"#2a3f5f\"},\"geo\":{\"bgcolor\":\"white\",\"lakecolor\":\"white\",\"landcolor\":\"#E5ECF6\",\"showlakes\":true,\"showland\":true,\"subunitcolor\":\"white\"},\"hoverlabel\":{\"align\":\"left\"},\"hovermode\":\"closest\",\"mapbox\":{\"style\":\"light\"},\"paper_bgcolor\":\"white\",\"plot_bgcolor\":\"#E5ECF6\",\"polar\":{\"angularaxis\":{\"gridcolor\":\"white\",\"linecolor\":\"white\",\"ticks\":\"\"},\"bgcolor\":\"#E5ECF6\",\"radialaxis\":{\"gridcolor\":\"white\",\"linecolor\":\"white\",\"ticks\":\"\"}},\"scene\":{\"xaxis\":{\"backgroundcolor\":\"#E5ECF6\",\"gridcolor\":\"white\",\"gridwidth\":2,\"linecolor\":\"white\",\"showbackground\":true,\"ticks\":\"\",\"zerolinecolor\":\"white\"},\"yaxis\":{\"backgroundcolor\":\"#E5ECF6\",\"gridcolor\":\"white\",\"gridwidth\":2,\"linecolor\":\"white\",\"showbackground\":true,\"ticks\":\"\",\"zerolinecolor\":\"white\"},\"zaxis\":{\"backgroundcolor\":\"#E5ECF6\",\"gridcolor\":\"white\",\"gridwidth\":2,\"linecolor\":\"white\",\"showbackground\":true,\"ticks\":\"\",\"zerolinecolor\":\"white\"}},\"shapedefaults\":{\"line\":{\"color\":\"#2a3f5f\"}},\"ternary\":{\"aaxis\":{\"gridcolor\":\"white\",\"linecolor\":\"white\",\"ticks\":\"\"},\"baxis\":{\"gridcolor\":\"white\",\"linecolor\":\"white\",\"ticks\":\"\"},\"bgcolor\":\"#E5ECF6\",\"caxis\":{\"gridcolor\":\"white\",\"linecolor\":\"white\",\"ticks\":\"\"}},\"title\":{\"x\":0.05},\"xaxis\":{\"automargin\":true,\"gridcolor\":\"white\",\"linecolor\":\"white\",\"ticks\":\"\",\"title\":{\"standoff\":15},\"zerolinecolor\":\"white\",\"zerolinewidth\":2},\"yaxis\":{\"automargin\":true,\"gridcolor\":\"white\",\"linecolor\":\"white\",\"ticks\":\"\",\"title\":{\"standoff\":15},\"zerolinecolor\":\"white\",\"zerolinewidth\":2}}},\"title\":{\"font\":{\"color\":\"#4D5663\"}},\"xaxis\":{\"anchor\":\"y\",\"domain\":[0.0,0.2125],\"gridcolor\":\"#E1E5ED\",\"showgrid\":false,\"tickfont\":{\"color\":\"#4D5663\"},\"title\":{\"font\":{\"color\":\"#4D5663\"},\"text\":\"\"},\"zerolinecolor\":\"#E1E5ED\"},\"yaxis\":{\"anchor\":\"x\",\"domain\":[0.8025,1.0],\"gridcolor\":\"#E1E5ED\",\"showgrid\":false,\"tickfont\":{\"color\":\"#4D5663\"},\"title\":{\"font\":{\"color\":\"#4D5663\"},\"text\":\"\"},\"zerolinecolor\":\"#E1E5ED\"},\"xaxis2\":{\"anchor\":\"y2\",\"domain\":[0.2625,0.475],\"gridcolor\":\"#E1E5ED\",\"showgrid\":false,\"tickfont\":{\"color\":\"#4D5663\"},\"title\":{\"font\":{\"color\":\"#4D5663\"},\"text\":\"\"},\"zerolinecolor\":\"#E1E5ED\"},\"yaxis2\":{\"anchor\":\"x2\",\"domain\":[0.8025,1.0],\"gridcolor\":\"#E1E5ED\",\"showgrid\":false,\"tickfont\":{\"color\":\"#4D5663\"},\"title\":{\"font\":{\"color\":\"#4D5663\"},\"text\":\"\"},\"zerolinecolor\":\"#E1E5ED\"},\"xaxis3\":{\"anchor\":\"y3\",\"domain\":[0.525,0.7375],\"gridcolor\":\"#E1E5ED\",\"showgrid\":false,\"tickfont\":{\"color\":\"#4D5663\"},\"title\":{\"font\":{\"color\":\"#4D5663\"},\"text\":\"\"},\"zerolinecolor\":\"#E1E5ED\"},\"yaxis3\":{\"anchor\":\"x3\",\"domain\":[0.8025,1.0],\"gridcolor\":\"#E1E5ED\",\"showgrid\":false,\"tickfont\":{\"color\":\"#4D5663\"},\"title\":{\"font\":{\"color\":\"#4D5663\"},\"text\":\"\"},\"zerolinecolor\":\"#E1E5ED\"},\"xaxis4\":{\"anchor\":\"y4\",\"domain\":[0.7875,1.0],\"gridcolor\":\"#E1E5ED\",\"showgrid\":false,\"tickfont\":{\"color\":\"#4D5663\"},\"title\":{\"font\":{\"color\":\"#4D5663\"},\"text\":\"\"},\"zerolinecolor\":\"#E1E5ED\"},\"yaxis4\":{\"anchor\":\"x4\",\"domain\":[0.8025,1.0],\"gridcolor\":\"#E1E5ED\",\"showgrid\":false,\"tickfont\":{\"color\":\"#4D5663\"},\"title\":{\"font\":{\"color\":\"#4D5663\"},\"text\":\"\"},\"zerolinecolor\":\"#E1E5ED\"},\"xaxis5\":{\"anchor\":\"y5\",\"domain\":[0.0,0.2125],\"gridcolor\":\"#E1E5ED\",\"showgrid\":false,\"tickfont\":{\"color\":\"#4D5663\"},\"title\":{\"font\":{\"color\":\"#4D5663\"},\"text\":\"\"},\"zerolinecolor\":\"#E1E5ED\"},\"yaxis5\":{\"anchor\":\"x5\",\"domain\":[0.535,0.7325],\"gridcolor\":\"#E1E5ED\",\"showgrid\":false,\"tickfont\":{\"color\":\"#4D5663\"},\"title\":{\"font\":{\"color\":\"#4D5663\"},\"text\":\"\"},\"zerolinecolor\":\"#E1E5ED\"},\"xaxis6\":{\"anchor\":\"y6\",\"domain\":[0.2625,0.475],\"gridcolor\":\"#E1E5ED\",\"showgrid\":false,\"tickfont\":{\"color\":\"#4D5663\"},\"title\":{\"font\":{\"color\":\"#4D5663\"},\"text\":\"\"},\"zerolinecolor\":\"#E1E5ED\"},\"yaxis6\":{\"anchor\":\"x6\",\"domain\":[0.535,0.7325],\"gridcolor\":\"#E1E5ED\",\"showgrid\":false,\"tickfont\":{\"color\":\"#4D5663\"},\"title\":{\"font\":{\"color\":\"#4D5663\"},\"text\":\"\"},\"zerolinecolor\":\"#E1E5ED\"},\"xaxis7\":{\"anchor\":\"y7\",\"domain\":[0.525,0.7375],\"gridcolor\":\"#E1E5ED\",\"showgrid\":false,\"tickfont\":{\"color\":\"#4D5663\"},\"title\":{\"font\":{\"color\":\"#4D5663\"},\"text\":\"\"},\"zerolinecolor\":\"#E1E5ED\"},\"yaxis7\":{\"anchor\":\"x7\",\"domain\":[0.535,0.7325],\"gridcolor\":\"#E1E5ED\",\"showgrid\":false,\"tickfont\":{\"color\":\"#4D5663\"},\"title\":{\"font\":{\"color\":\"#4D5663\"},\"text\":\"\"},\"zerolinecolor\":\"#E1E5ED\"},\"xaxis8\":{\"anchor\":\"y8\",\"domain\":[0.7875,1.0],\"gridcolor\":\"#E1E5ED\",\"showgrid\":false,\"tickfont\":{\"color\":\"#4D5663\"},\"title\":{\"font\":{\"color\":\"#4D5663\"},\"text\":\"\"},\"zerolinecolor\":\"#E1E5ED\"},\"yaxis8\":{\"anchor\":\"x8\",\"domain\":[0.535,0.7325],\"gridcolor\":\"#E1E5ED\",\"showgrid\":false,\"tickfont\":{\"color\":\"#4D5663\"},\"title\":{\"font\":{\"color\":\"#4D5663\"},\"text\":\"\"},\"zerolinecolor\":\"#E1E5ED\"},\"xaxis9\":{\"anchor\":\"y9\",\"domain\":[0.0,0.2125],\"gridcolor\":\"#E1E5ED\",\"showgrid\":false,\"tickfont\":{\"color\":\"#4D5663\"},\"title\":{\"font\":{\"color\":\"#4D5663\"},\"text\":\"\"},\"zerolinecolor\":\"#E1E5ED\"},\"yaxis9\":{\"anchor\":\"x9\",\"domain\":[0.2675,0.465],\"gridcolor\":\"#E1E5ED\",\"showgrid\":false,\"tickfont\":{\"color\":\"#4D5663\"},\"title\":{\"font\":{\"color\":\"#4D5663\"},\"text\":\"\"},\"zerolinecolor\":\"#E1E5ED\"},\"xaxis10\":{\"anchor\":\"y10\",\"domain\":[0.2625,0.475],\"gridcolor\":\"#E1E5ED\",\"showgrid\":false,\"tickfont\":{\"color\":\"#4D5663\"},\"title\":{\"font\":{\"color\":\"#4D5663\"},\"text\":\"\"},\"zerolinecolor\":\"#E1E5ED\"},\"yaxis10\":{\"anchor\":\"x10\",\"domain\":[0.2675,0.465],\"gridcolor\":\"#E1E5ED\",\"showgrid\":false,\"tickfont\":{\"color\":\"#4D5663\"},\"title\":{\"font\":{\"color\":\"#4D5663\"},\"text\":\"\"},\"zerolinecolor\":\"#E1E5ED\"},\"xaxis11\":{\"anchor\":\"y11\",\"domain\":[0.525,0.7375],\"gridcolor\":\"#E1E5ED\",\"showgrid\":false,\"tickfont\":{\"color\":\"#4D5663\"},\"title\":{\"font\":{\"color\":\"#4D5663\"},\"text\":\"\"},\"zerolinecolor\":\"#E1E5ED\"},\"yaxis11\":{\"anchor\":\"x11\",\"domain\":[0.2675,0.465],\"gridcolor\":\"#E1E5ED\",\"showgrid\":false,\"tickfont\":{\"color\":\"#4D5663\"},\"title\":{\"font\":{\"color\":\"#4D5663\"},\"text\":\"\"},\"zerolinecolor\":\"#E1E5ED\"},\"xaxis12\":{\"anchor\":\"y12\",\"domain\":[0.7875,1.0],\"gridcolor\":\"#E1E5ED\",\"showgrid\":false,\"tickfont\":{\"color\":\"#4D5663\"},\"title\":{\"font\":{\"color\":\"#4D5663\"},\"text\":\"\"},\"zerolinecolor\":\"#E1E5ED\"},\"yaxis12\":{\"anchor\":\"x12\",\"domain\":[0.2675,0.465],\"gridcolor\":\"#E1E5ED\",\"showgrid\":false,\"tickfont\":{\"color\":\"#4D5663\"},\"title\":{\"font\":{\"color\":\"#4D5663\"},\"text\":\"\"},\"zerolinecolor\":\"#E1E5ED\"},\"xaxis13\":{\"anchor\":\"y13\",\"domain\":[0.0,0.2125],\"gridcolor\":\"#E1E5ED\",\"showgrid\":false,\"tickfont\":{\"color\":\"#4D5663\"},\"title\":{\"font\":{\"color\":\"#4D5663\"},\"text\":\"\"},\"zerolinecolor\":\"#E1E5ED\"},\"yaxis13\":{\"anchor\":\"x13\",\"domain\":[0.0,0.1975],\"gridcolor\":\"#E1E5ED\",\"showgrid\":false,\"tickfont\":{\"color\":\"#4D5663\"},\"title\":{\"font\":{\"color\":\"#4D5663\"},\"text\":\"\"},\"zerolinecolor\":\"#E1E5ED\"},\"xaxis14\":{\"anchor\":\"y14\",\"domain\":[0.2625,0.475],\"gridcolor\":\"#E1E5ED\",\"showgrid\":false,\"tickfont\":{\"color\":\"#4D5663\"},\"title\":{\"font\":{\"color\":\"#4D5663\"},\"text\":\"\"},\"zerolinecolor\":\"#E1E5ED\"},\"yaxis14\":{\"anchor\":\"x14\",\"domain\":[0.0,0.1975],\"gridcolor\":\"#E1E5ED\",\"showgrid\":false,\"tickfont\":{\"color\":\"#4D5663\"},\"title\":{\"font\":{\"color\":\"#4D5663\"},\"text\":\"\"},\"zerolinecolor\":\"#E1E5ED\"},\"xaxis15\":{\"anchor\":\"y15\",\"domain\":[0.525,0.7375],\"gridcolor\":\"#E1E5ED\",\"showgrid\":false,\"tickfont\":{\"color\":\"#4D5663\"},\"title\":{\"font\":{\"color\":\"#4D5663\"},\"text\":\"\"},\"zerolinecolor\":\"#E1E5ED\"},\"yaxis15\":{\"anchor\":\"x15\",\"domain\":[0.0,0.1975],\"gridcolor\":\"#E1E5ED\",\"showgrid\":false,\"tickfont\":{\"color\":\"#4D5663\"},\"title\":{\"font\":{\"color\":\"#4D5663\"},\"text\":\"\"},\"zerolinecolor\":\"#E1E5ED\"},\"xaxis16\":{\"anchor\":\"y16\",\"domain\":[0.7875,1.0],\"gridcolor\":\"#E1E5ED\",\"showgrid\":false,\"tickfont\":{\"color\":\"#4D5663\"},\"title\":{\"font\":{\"color\":\"#4D5663\"},\"text\":\"\"},\"zerolinecolor\":\"#E1E5ED\"},\"yaxis16\":{\"anchor\":\"x16\",\"domain\":[0.0,0.1975],\"gridcolor\":\"#E1E5ED\",\"showgrid\":false,\"tickfont\":{\"color\":\"#4D5663\"},\"title\":{\"font\":{\"color\":\"#4D5663\"},\"text\":\"\"},\"zerolinecolor\":\"#E1E5ED\"}},                        {\"showLink\": true, \"linkText\": \"Export to plot.ly\", \"plotlyServerURL\": \"https://plot.ly\", \"responsive\": true}                    ).then(function(){\n",
       "                            \n",
       "var gd = document.getElementById('da501f00-84e3-41b6-8ef9-7cdf0d47c92f');\n",
       "var x = new MutationObserver(function (mutations, observer) {{\n",
       "        var display = window.getComputedStyle(gd).display;\n",
       "        if (!display || display === 'none') {{\n",
       "            console.log([gd, 'removed!']);\n",
       "            Plotly.purge(gd);\n",
       "            observer.disconnect();\n",
       "        }}\n",
       "}});\n",
       "\n",
       "// Listen for the removal of the full notebook cells\n",
       "var notebookContainer = gd.closest('#notebook-container');\n",
       "if (notebookContainer) {{\n",
       "    x.observe(notebookContainer, {childList: true});\n",
       "}}\n",
       "\n",
       "// Listen for the clearing of the current output cell\n",
       "var outputEl = gd.closest('.output');\n",
       "if (outputEl) {{\n",
       "    x.observe(outputEl, {childList: true});\n",
       "}}\n",
       "\n",
       "                        })                };                });            </script>        </div>"
      ]
     },
     "metadata": {},
     "output_type": "display_data"
    }
   ],
   "source": [
    "df.scatter_matrix()"
   ]
  }
 ],
 "metadata": {
  "kernelspec": {
   "display_name": "Python 3 (ipykernel)",
   "language": "python",
   "name": "python3"
  },
  "language_info": {
   "codemirror_mode": {
    "name": "ipython",
    "version": 3
   },
   "file_extension": ".py",
   "mimetype": "text/x-python",
   "name": "python",
   "nbconvert_exporter": "python",
   "pygments_lexer": "ipython3",
   "version": "3.11.5"
  }
 },
 "nbformat": 4,
 "nbformat_minor": 1
}
